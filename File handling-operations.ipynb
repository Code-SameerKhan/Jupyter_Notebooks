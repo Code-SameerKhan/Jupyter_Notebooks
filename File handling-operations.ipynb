{
 "cells": [
  {
   "cell_type": "code",
   "execution_count": null,
   "metadata": {},
   "outputs": [],
   "source": [
    "#opening a text file and reading and editing it\n",
    "f = open(\"C:\\\\functions\\\\tech.txt\",'r')\n",
    "a = f.readlines()\n",
    "a"
   ]
  },
  {
   "cell_type": "code",
   "execution_count": null,
   "metadata": {},
   "outputs": [],
   "source": [
    "f.tell()"
   ]
  },
  {
   "cell_type": "code",
   "execution_count": null,
   "metadata": {},
   "outputs": [],
   "source": [
    "f.seek(12)"
   ]
  },
  {
   "cell_type": "code",
   "execution_count": null,
   "metadata": {},
   "outputs": [],
   "source": [
    "f.tell()"
   ]
  },
  {
   "cell_type": "code",
   "execution_count": null,
   "metadata": {},
   "outputs": [],
   "source": [
    "f.seek(0)"
   ]
  },
  {
   "cell_type": "code",
   "execution_count": null,
   "metadata": {},
   "outputs": [],
   "source": [
    "f.read(12)"
   ]
  },
  {
   "cell_type": "code",
   "execution_count": null,
   "metadata": {},
   "outputs": [],
   "source": [
    "f = open(\"C:\\\\functions\\\\tech.txt\",'w')\n",
    "f.write('This is edited line')"
   ]
  },
  {
   "cell_type": "code",
   "execution_count": null,
   "metadata": {},
   "outputs": [],
   "source": [
    "f.close()"
   ]
  },
  {
   "cell_type": "code",
   "execution_count": null,
   "metadata": {},
   "outputs": [],
   "source": [
    "f = open(\"C:\\\\functions\\\\tech.txt\",'r')\n",
    "f.read()"
   ]
  },
  {
   "cell_type": "code",
   "execution_count": null,
   "metadata": {},
   "outputs": [],
   "source": [
    "f.close()"
   ]
  },
  {
   "cell_type": "code",
   "execution_count": null,
   "metadata": {},
   "outputs": [],
   "source": [
    "f = open(\"C:\\\\functions\\\\tech.txt\",'w')\n",
    "f.write('This is edited line his is edited line his is edited line his is edited line his is edited line his is edited line')\n",
    "f.close()"
   ]
  },
  {
   "cell_type": "code",
   "execution_count": null,
   "metadata": {},
   "outputs": [],
   "source": [
    "f = open(\"C:\\\\functions\\\\tech.txt\",'r')\n",
    "f.read()"
   ]
  },
  {
   "cell_type": "code",
   "execution_count": null,
   "metadata": {},
   "outputs": [],
   "source": [
    "f.close()"
   ]
  },
  {
   "cell_type": "code",
   "execution_count": null,
   "metadata": {},
   "outputs": [],
   "source": [
    "f = open(\"C:\\\\functions\\\\tech.txt\",'r+')\n",
    "f.write('New line incoming')\n",
    "f.close()\n",
    "f = open(\"C:\\\\functions\\\\tech.txt\",'r+')\n",
    "f.read()"
   ]
  },
  {
   "cell_type": "code",
   "execution_count": null,
   "metadata": {},
   "outputs": [],
   "source": [
    "with open(\"C:\\\\functions\\\\tech.txt\",'r') as f:\n",
    "    print(f.read(4))\n",
    "    print(f.read(5))"
   ]
  },
  {
   "cell_type": "code",
   "execution_count": null,
   "metadata": {},
   "outputs": [],
   "source": [
    "with open(\"C:\\\\functions\\\\tech.txt\",'w') as f:\n",
    "    f.write('This is edited line')"
   ]
  },
  {
   "cell_type": "code",
   "execution_count": null,
   "metadata": {},
   "outputs": [],
   "source": [
    "with open(\"C:\\\\functions\\\\tech.txt\",'r') as g:\n",
    "    print(g.readlines())"
   ]
  },
  {
   "cell_type": "code",
   "execution_count": null,
   "metadata": {},
   "outputs": [],
   "source": [
    "with open(\"C:\\\\functions\\\\tech.txt\",'r') as f:\n",
    "    a = f.readlines()\n",
    "a"
   ]
  },
  {
   "cell_type": "code",
   "execution_count": null,
   "metadata": {},
   "outputs": [],
   "source": [
    "for i in a:\n",
    "    print(i.split())"
   ]
  },
  {
   "cell_type": "code",
   "execution_count": null,
   "metadata": {},
   "outputs": [],
   "source": [
    "with open(\"C:\\\\functions\\\\tech.txt\",'a') as f:\n",
    "    f.write('\\nThis is just getting too much')"
   ]
  },
  {
   "cell_type": "code",
   "execution_count": null,
   "metadata": {},
   "outputs": [],
   "source": [
    "with open(\"C:\\\\functions\\\\tech.txt\",'r') as f:\n",
    "    a  = f.readlines()\n",
    "a"
   ]
  },
  {
   "cell_type": "code",
   "execution_count": null,
   "metadata": {},
   "outputs": [],
   "source": [
    "for i in a:\n",
    "    i.split()\n",
    "    print(i)"
   ]
  },
  {
   "cell_type": "code",
   "execution_count": null,
   "metadata": {},
   "outputs": [],
   "source": [
    "#directory structure\n",
    "import os\n",
    "os.getcwd() #gets current working directory\n",
    "os.chdir(\"path\") # changes directories\n",
    "os.listdir() #gets list of all directories\n",
    "os.mkdir(\"test.\") #makes a new directory\n",
    "os.rename(\"test\",\"my_test\") #renames directory\n",
    "os.remove(\"\") #removes empty directory\n",
    "os.rmdir(\"test.\") #removes a directory"
   ]
  },
  {
   "cell_type": "code",
   "execution_count": null,
   "metadata": {},
   "outputs": [],
   "source": [
    "import os\n",
    "os.listdir()"
   ]
  },
  {
   "cell_type": "code",
   "execution_count": null,
   "metadata": {},
   "outputs": [],
   "source": [
    "os.rename(\"tech.txt\",\"my_test.txt\")"
   ]
  },
  {
   "cell_type": "code",
   "execution_count": null,
   "metadata": {},
   "outputs": [],
   "source": [
    "os.listdir()"
   ]
  },
  {
   "cell_type": "code",
   "execution_count": null,
   "metadata": {},
   "outputs": [],
   "source": [
    "os.remove(\"my_test.txt\")"
   ]
  },
  {
   "cell_type": "code",
   "execution_count": null,
   "metadata": {},
   "outputs": [],
   "source": [
    "os.listdir()"
   ]
  },
  {
   "cell_type": "code",
   "execution_count": null,
   "metadata": {},
   "outputs": [],
   "source": [
    "#exceptions and error handling\n",
    "a = int(input(\"\"))\n",
    "b = a/0\n",
    "print(\"I have done it\")"
   ]
  },
  {
   "cell_type": "code",
   "execution_count": null,
   "metadata": {},
   "outputs": [],
   "source": [
    "try:\n",
    "    a = int(input(''))\n",
    "    b = int(input(''))\n",
    "    c =  a/b\n",
    "    print(c)\n",
    "except:\n",
    "    print(\"Please enter number greater than zero\")\n",
    "print(\"End of program\")"
   ]
  },
  {
   "cell_type": "code",
   "execution_count": null,
   "metadata": {},
   "outputs": [],
   "source": [
    "try:\n",
    "    a = int(input(''))\n",
    "    b = int(input(''))\n",
    "    c = a/b\n",
    "    print(c)\n",
    "except Exception as e:\n",
    "    print(e)\n",
    "print('End of program')"
   ]
  },
  {
   "cell_type": "code",
   "execution_count": null,
   "metadata": {},
   "outputs": [],
   "source": [
    "try:\n",
    "    li = [1,2,3]\n",
    "    print(li[4])\n",
    "except Exception as e:\n",
    "    print(type(e).__name__)\n",
    "finally:\n",
    "    print('used for closing files or databases')\n",
    "print('End of program')"
   ]
  },
  {
   "cell_type": "code",
   "execution_count": null,
   "metadata": {},
   "outputs": [],
   "source": [
    "try:\n",
    "    a = int(input(''))\n",
    "    b = int(input(''))\n",
    "except:\n",
    "    b = int(input(''))\n",
    "else:\n",
    "    print('Statement passed from try entered else part now')\n",
    "finally:\n",
    "    print('Conclusion')\n",
    "print('End of program')"
   ]
  },
  {
   "cell_type": "code",
   "execution_count": null,
   "metadata": {},
   "outputs": [],
   "source": [
    "try:\n",
    "    a = int(input(''))\n",
    "    b = int(input(''))\n",
    "except:\n",
    "    print(\"exception occurs\")\n",
    "    b = int(input(''))\n",
    "else:\n",
    "    print('there is no exception occurs')\n",
    "print('End of program')"
   ]
  },
  {
   "cell_type": "code",
   "execution_count": null,
   "metadata": {},
   "outputs": [],
   "source": [
    "#user defined error\n",
    "try:\n",
    "    a = int(input(''))\n",
    "    if a >= 20:\n",
    "        raise ValueError(\"Value too large\")\n",
    "except ValueError as ve:\n",
    "    print(ve)"
   ]
  },
  {
   "cell_type": "code",
   "execution_count": null,
   "metadata": {},
   "outputs": [],
   "source": [
    "def f1():\n",
    "    a = int(input(''))\n",
    "def f2():\n",
    "    f1()\n",
    "    print(a)\n",
    "f2()"
   ]
  },
  {
   "cell_type": "code",
   "execution_count": null,
   "metadata": {},
   "outputs": [],
   "source": [
    "class person:\n",
    "    def about(self):\n",
    "        name = input('Enter your name ')\n",
    "        self.name = name\n",
    "        surname = input('Enter your surname ')\n",
    "        self.surname = surname\n",
    "    def details(self):\n",
    "        job = input('Enter your job ')\n",
    "        print(self.name,self.surname,job)\n",
    "p1 = person()\n",
    "p1.about()\n",
    "p1.details()"
   ]
  },
  {
   "cell_type": "code",
   "execution_count": null,
   "metadata": {},
   "outputs": [],
   "source": [
    "class c():\n",
    "    def f1(self):\n",
    "        b = int(input(''))\n",
    "        self.b = b\n",
    "    def f2(self):\n",
    "        c = int(input(''))\n",
    "        print(self.b+c)\n",
    "p = c()\n",
    "p.f1()\n",
    "p.f2()"
   ]
  },
  {
   "cell_type": "code",
   "execution_count": null,
   "metadata": {},
   "outputs": [],
   "source": [
    "# contructor/ initializer\n",
    "class person():\n",
    "    def __init__(self):\n",
    "        __name = input('')\n",
    "        self.__name = __name # putting '__' infront of variable hides its value outside class but is accessble in \n",
    "                            # another function within a class\n",
    "        gmail = input('')\n",
    "        self.gmail = gmail\n",
    "    def details(self):\n",
    "        print(self.__name)\n",
    "        print(self.gmail)\n",
    "p = person()\n",
    "p.details()\n",
    "print(p.__name)"
   ]
  },
  {
   "cell_type": "code",
   "execution_count": null,
   "metadata": {},
   "outputs": [],
   "source": [
    "p._person__name"
   ]
  },
  {
   "cell_type": "code",
   "execution_count": null,
   "metadata": {},
   "outputs": [],
   "source": [
    "# polymorphism (using 1 function in many forms)\n",
    "class parrot:\n",
    "    def fly(self):\n",
    "        print('Parrots can fly')\n",
    "    def swim(self):\n",
    "        print('Parrots cannot swim')\n",
    "class penguin:\n",
    "    def fly(self):\n",
    "        print('Penguins cannot fly')\n",
    "    def swim(self):\n",
    "        print('Penguins can swim')\n",
    "p1 = parrot()\n",
    "p2 = penguin()\n",
    "def flying_test(bird):\n",
    "    #bird.fly()\n",
    "    bird.swim()\n",
    "flying_test(p1)\n",
    "flying_test(p2)"
   ]
  },
  {
   "cell_type": "code",
   "execution_count": null,
   "metadata": {},
   "outputs": [],
   "source": [
    "def f(a):\n",
    "    print(a)\n",
    "f(3)\n",
    "f(4)"
   ]
  },
  {
   "cell_type": "code",
   "execution_count": null,
   "metadata": {},
   "outputs": [],
   "source": [
    "# Inheritance (Assessing attributes of parent class in child class)\n",
    "# classes-- 1. Multilevel class (a->b->c) 2. Multiple class (a&b->c->d)\n",
    "#object of child class can access attribute of parent class without defining object of parent class"
   ]
  },
  {
   "cell_type": "code",
   "execution_count": null,
   "metadata": {},
   "outputs": [],
   "source": [
    "class animal: # A mutilevel class\n",
    "    def __init__(self):\n",
    "        print(\"All animals\")\n",
    "    def types(self):\n",
    "        print(\"Some animals are herbivores, some carnivores and other omnivores\")\n",
    "class lion(animal):\n",
    "    def __init__(self):\n",
    "        animal.__init__(self) #an argument is given for object to call init function from parent class\n",
    "        print(\"Lions are beautiful\")\n",
    "    def type_of_animal(self):\n",
    "        print(\"Lions are carnivores\")\n",
    "l = lion()\n",
    "l.type_of_animal()\n",
    "l.types()\n",
    "lion.mro() #(,object = is base class predefined in python)"
   ]
  },
  {
   "cell_type": "code",
   "execution_count": null,
   "metadata": {},
   "outputs": [],
   "source": [
    "# Inheritance (Multiple inheritance)\n",
    "class first:\n",
    "    def b(self):\n",
    "        n = int(input(''))\n",
    "        return n\n",
    "class second:\n",
    "    def c(self):\n",
    "        m = int(input(''))\n",
    "        return m\n",
    "class sum1(first,second):\n",
    "    def d(self):\n",
    "        k = first.b(self) + second.c(self)\n",
    "        print(k)\n",
    "s = sum1()\n",
    "s.d()"
   ]
  },
  {
   "cell_type": "code",
   "execution_count": null,
   "metadata": {},
   "outputs": [],
   "source": [
    "# A user defined error\n",
    "try:\n",
    "    a = input('')\n",
    "    if type(a)!= int:\n",
    "        raise Exception('Enter a numeral')\n",
    "except Exception as e:\n",
    "        print(e)"
   ]
  },
  {
   "cell_type": "code",
   "execution_count": 12,
   "metadata": {},
   "outputs": [
    {
     "name": "stdout",
     "output_type": "stream",
     "text": [
      "enter password 9999999999999999999999999\n",
      "password should be less than 8\n"
     ]
    }
   ],
   "source": [
    "class my_own_error_class (Exception):\n",
    "    def __init__(self):\n",
    "        self.msg = \"password should be less than 8\"\n",
    "    \n",
    "    def print_msg(self):\n",
    "        print(self.msg)\n",
    "try:\n",
    "    a = input(\"enter password \")\n",
    "    if len(a)>8:\n",
    "        raise my_own_error_class()\n",
    "        \n",
    "except my_own_error_class as me:\n",
    "    me.print_msg()\n",
    "    \n",
    "else:\n",
    "    print(\"your password updated successfully\")"
   ]
  },
  {
   "cell_type": "code",
   "execution_count": 17,
   "metadata": {},
   "outputs": [
    {
     "name": "stdout",
     "output_type": "stream",
     "text": [
      "<__main__.A object at 0x000001BF83E77B70>\n",
      "10 12\n",
      "11,13\n"
     ]
    }
   ],
   "source": [
    "# object overloading\n",
    "class A:\n",
    "    def __init__(self,a,b):\n",
    "        self.a = a\n",
    "        self.b = b\n",
    "    def print_value(self):\n",
    "        print(self.a,self.b)\n",
    "a = A(10,12)\n",
    "print(a) # prints the address of object not the values\n",
    "a.print_value() #object uses functions in class to print value\n",
    "\n",
    "class B:\n",
    "    def __init__(self,x,y):\n",
    "        self.x = x\n",
    "        self.y = y\n",
    "    def __str__(self): # an inbuilt function (value of which has been overwrite)\n",
    "        return ('{},{}'.format(self.x,self.y)) #just another way to print a formatted string\n",
    "b = B(11,13)\n",
    "print(b) #function not called of class to print value"
   ]
  },
  {
   "cell_type": "code",
   "execution_count": null,
   "metadata": {},
   "outputs": [],
   "source": []
  }
 ],
 "metadata": {
  "kernelspec": {
   "display_name": "Python 3",
   "language": "python",
   "name": "python3"
  },
  "language_info": {
   "codemirror_mode": {
    "name": "ipython",
    "version": 3
   },
   "file_extension": ".py",
   "mimetype": "text/x-python",
   "name": "python",
   "nbconvert_exporter": "python",
   "pygments_lexer": "ipython3",
   "version": "3.7.3"
  }
 },
 "nbformat": 4,
 "nbformat_minor": 2
}

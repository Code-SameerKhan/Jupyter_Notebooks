{
 "cells": [
  {
   "cell_type": "code",
   "execution_count": 1,
   "id": "representative-botswana",
   "metadata": {},
   "outputs": [],
   "source": [
    "import pandas as pd\n",
    "import matplotlib.pyplot as plt\n",
    "import seaborn as sns\n",
    "sns.set_style('whitegrid')\n",
    "%matplotlib inline"
   ]
  },
  {
   "cell_type": "code",
   "execution_count": 2,
   "id": "relative-belfast",
   "metadata": {},
   "outputs": [
    {
     "data": {
      "text/html": [
       "<div>\n",
       "<style scoped>\n",
       "    .dataframe tbody tr th:only-of-type {\n",
       "        vertical-align: middle;\n",
       "    }\n",
       "\n",
       "    .dataframe tbody tr th {\n",
       "        vertical-align: top;\n",
       "    }\n",
       "\n",
       "    .dataframe thead th {\n",
       "        text-align: right;\n",
       "    }\n",
       "</style>\n",
       "<table border=\"1\" class=\"dataframe\">\n",
       "  <thead>\n",
       "    <tr style=\"text-align: right;\">\n",
       "      <th></th>\n",
       "      <th>Date</th>\n",
       "      <th>Open</th>\n",
       "      <th>High</th>\n",
       "      <th>Low</th>\n",
       "      <th>Close</th>\n",
       "      <th>Adj Close</th>\n",
       "      <th>Volume</th>\n",
       "    </tr>\n",
       "  </thead>\n",
       "  <tbody>\n",
       "    <tr>\n",
       "      <th>0</th>\n",
       "      <td>2017-04-17</td>\n",
       "      <td>60.540001</td>\n",
       "      <td>60.799999</td>\n",
       "      <td>59.736000</td>\n",
       "      <td>60.287998</td>\n",
       "      <td>60.287998</td>\n",
       "      <td>20693500</td>\n",
       "    </tr>\n",
       "    <tr>\n",
       "      <th>1</th>\n",
       "      <td>2017-04-18</td>\n",
       "      <td>59.939999</td>\n",
       "      <td>60.167999</td>\n",
       "      <td>59.580002</td>\n",
       "      <td>60.049999</td>\n",
       "      <td>60.049999</td>\n",
       "      <td>15178500</td>\n",
       "    </tr>\n",
       "    <tr>\n",
       "      <th>2</th>\n",
       "      <td>2017-04-19</td>\n",
       "      <td>60.492001</td>\n",
       "      <td>61.324001</td>\n",
       "      <td>60.422001</td>\n",
       "      <td>61.104000</td>\n",
       "      <td>61.104000</td>\n",
       "      <td>19490000</td>\n",
       "    </tr>\n",
       "    <tr>\n",
       "      <th>3</th>\n",
       "      <td>2017-04-20</td>\n",
       "      <td>61.301998</td>\n",
       "      <td>61.830002</td>\n",
       "      <td>60.046001</td>\n",
       "      <td>60.501999</td>\n",
       "      <td>60.501999</td>\n",
       "      <td>30747000</td>\n",
       "    </tr>\n",
       "    <tr>\n",
       "      <th>4</th>\n",
       "      <td>2017-04-21</td>\n",
       "      <td>60.400002</td>\n",
       "      <td>61.279999</td>\n",
       "      <td>60.084000</td>\n",
       "      <td>61.119999</td>\n",
       "      <td>61.119999</td>\n",
       "      <td>22549000</td>\n",
       "    </tr>\n",
       "  </tbody>\n",
       "</table>\n",
       "</div>"
      ],
      "text/plain": [
       "         Date       Open       High        Low      Close  Adj Close    Volume\n",
       "0  2017-04-17  60.540001  60.799999  59.736000  60.287998  60.287998  20693500\n",
       "1  2017-04-18  59.939999  60.167999  59.580002  60.049999  60.049999  15178500\n",
       "2  2017-04-19  60.492001  61.324001  60.422001  61.104000  61.104000  19490000\n",
       "3  2017-04-20  61.301998  61.830002  60.046001  60.501999  60.501999  30747000\n",
       "4  2017-04-21  60.400002  61.279999  60.084000  61.119999  61.119999  22549000"
      ]
     },
     "execution_count": 2,
     "metadata": {},
     "output_type": "execute_result"
    }
   ],
   "source": [
    "dataset = pd.read_csv('C://users//sameer//desktop//datasets//TSLA.csv')\n",
    "dataset.head()"
   ]
  },
  {
   "cell_type": "code",
   "execution_count": 3,
   "id": "infinite-barcelona",
   "metadata": {},
   "outputs": [
    {
     "data": {
      "text/html": [
       "<div>\n",
       "<style scoped>\n",
       "    .dataframe tbody tr th:only-of-type {\n",
       "        vertical-align: middle;\n",
       "    }\n",
       "\n",
       "    .dataframe tbody tr th {\n",
       "        vertical-align: top;\n",
       "    }\n",
       "\n",
       "    .dataframe thead th {\n",
       "        text-align: right;\n",
       "    }\n",
       "</style>\n",
       "<table border=\"1\" class=\"dataframe\">\n",
       "  <thead>\n",
       "    <tr style=\"text-align: right;\">\n",
       "      <th></th>\n",
       "      <th>Open</th>\n",
       "      <th>High</th>\n",
       "      <th>Low</th>\n",
       "      <th>Close</th>\n",
       "      <th>Adj Close</th>\n",
       "      <th>Volume</th>\n",
       "    </tr>\n",
       "  </thead>\n",
       "  <tbody>\n",
       "    <tr>\n",
       "      <th>count</th>\n",
       "      <td>1005.000000</td>\n",
       "      <td>1005.000000</td>\n",
       "      <td>1005.000000</td>\n",
       "      <td>1005.000000</td>\n",
       "      <td>1005.000000</td>\n",
       "      <td>1.005000e+03</td>\n",
       "    </tr>\n",
       "    <tr>\n",
       "      <th>mean</th>\n",
       "      <td>165.685748</td>\n",
       "      <td>169.565471</td>\n",
       "      <td>161.383528</td>\n",
       "      <td>165.827544</td>\n",
       "      <td>165.827544</td>\n",
       "      <td>4.953492e+07</td>\n",
       "    </tr>\n",
       "    <tr>\n",
       "      <th>std</th>\n",
       "      <td>205.333952</td>\n",
       "      <td>210.164042</td>\n",
       "      <td>199.584434</td>\n",
       "      <td>205.500918</td>\n",
       "      <td>205.500918</td>\n",
       "      <td>3.155616e+07</td>\n",
       "    </tr>\n",
       "    <tr>\n",
       "      <th>min</th>\n",
       "      <td>36.220001</td>\n",
       "      <td>37.335999</td>\n",
       "      <td>35.397999</td>\n",
       "      <td>35.793999</td>\n",
       "      <td>35.793999</td>\n",
       "      <td>1.232800e+07</td>\n",
       "    </tr>\n",
       "    <tr>\n",
       "      <th>25%</th>\n",
       "      <td>60.020000</td>\n",
       "      <td>61.062000</td>\n",
       "      <td>58.716000</td>\n",
       "      <td>59.936001</td>\n",
       "      <td>59.936001</td>\n",
       "      <td>2.863700e+07</td>\n",
       "    </tr>\n",
       "    <tr>\n",
       "      <th>50%</th>\n",
       "      <td>67.991997</td>\n",
       "      <td>69.164001</td>\n",
       "      <td>66.830002</td>\n",
       "      <td>67.919998</td>\n",
       "      <td>67.919998</td>\n",
       "      <td>3.909350e+07</td>\n",
       "    </tr>\n",
       "    <tr>\n",
       "      <th>75%</th>\n",
       "      <td>155.442001</td>\n",
       "      <td>159.783997</td>\n",
       "      <td>150.479996</td>\n",
       "      <td>154.255997</td>\n",
       "      <td>154.255997</td>\n",
       "      <td>6.102650e+07</td>\n",
       "    </tr>\n",
       "    <tr>\n",
       "      <th>max</th>\n",
       "      <td>891.380005</td>\n",
       "      <td>900.400024</td>\n",
       "      <td>871.599976</td>\n",
       "      <td>883.090027</td>\n",
       "      <td>883.090027</td>\n",
       "      <td>3.046940e+08</td>\n",
       "    </tr>\n",
       "  </tbody>\n",
       "</table>\n",
       "</div>"
      ],
      "text/plain": [
       "              Open         High          Low        Close    Adj Close  \\\n",
       "count  1005.000000  1005.000000  1005.000000  1005.000000  1005.000000   \n",
       "mean    165.685748   169.565471   161.383528   165.827544   165.827544   \n",
       "std     205.333952   210.164042   199.584434   205.500918   205.500918   \n",
       "min      36.220001    37.335999    35.397999    35.793999    35.793999   \n",
       "25%      60.020000    61.062000    58.716000    59.936001    59.936001   \n",
       "50%      67.991997    69.164001    66.830002    67.919998    67.919998   \n",
       "75%     155.442001   159.783997   150.479996   154.255997   154.255997   \n",
       "max     891.380005   900.400024   871.599976   883.090027   883.090027   \n",
       "\n",
       "             Volume  \n",
       "count  1.005000e+03  \n",
       "mean   4.953492e+07  \n",
       "std    3.155616e+07  \n",
       "min    1.232800e+07  \n",
       "25%    2.863700e+07  \n",
       "50%    3.909350e+07  \n",
       "75%    6.102650e+07  \n",
       "max    3.046940e+08  "
      ]
     },
     "execution_count": 3,
     "metadata": {},
     "output_type": "execute_result"
    }
   ],
   "source": [
    "dataset.describe()"
   ]
  },
  {
   "cell_type": "code",
   "execution_count": 4,
   "id": "alpha-czech",
   "metadata": {},
   "outputs": [
    {
     "data": {
      "text/plain": [
       "(1005, 7)"
      ]
     },
     "execution_count": 4,
     "metadata": {},
     "output_type": "execute_result"
    }
   ],
   "source": [
    "dataset.shape"
   ]
  },
  {
   "cell_type": "code",
   "execution_count": 5,
   "id": "prerequisite-community",
   "metadata": {},
   "outputs": [
    {
     "name": "stdout",
     "output_type": "stream",
     "text": [
      "<class 'pandas.core.frame.DataFrame'>\n",
      "RangeIndex: 1005 entries, 0 to 1004\n",
      "Data columns (total 7 columns):\n",
      " #   Column     Non-Null Count  Dtype  \n",
      "---  ------     --------------  -----  \n",
      " 0   Date       1005 non-null   object \n",
      " 1   Open       1005 non-null   float64\n",
      " 2   High       1005 non-null   float64\n",
      " 3   Low        1005 non-null   float64\n",
      " 4   Close      1005 non-null   float64\n",
      " 5   Adj Close  1005 non-null   float64\n",
      " 6   Volume     1005 non-null   int64  \n",
      "dtypes: float64(5), int64(1), object(1)\n",
      "memory usage: 55.1+ KB\n"
     ]
    }
   ],
   "source": [
    "dataset.info()"
   ]
  },
  {
   "cell_type": "code",
   "execution_count": 6,
   "id": "signal-possession",
   "metadata": {},
   "outputs": [
    {
     "data": {
      "text/html": [
       "<div>\n",
       "<style scoped>\n",
       "    .dataframe tbody tr th:only-of-type {\n",
       "        vertical-align: middle;\n",
       "    }\n",
       "\n",
       "    .dataframe tbody tr th {\n",
       "        vertical-align: top;\n",
       "    }\n",
       "\n",
       "    .dataframe thead th {\n",
       "        text-align: right;\n",
       "    }\n",
       "</style>\n",
       "<table border=\"1\" class=\"dataframe\">\n",
       "  <thead>\n",
       "    <tr style=\"text-align: right;\">\n",
       "      <th></th>\n",
       "      <th>Open</th>\n",
       "      <th>High</th>\n",
       "      <th>Low</th>\n",
       "      <th>Close</th>\n",
       "      <th>Adj Close</th>\n",
       "      <th>Volume</th>\n",
       "    </tr>\n",
       "    <tr>\n",
       "      <th>Date</th>\n",
       "      <th></th>\n",
       "      <th></th>\n",
       "      <th></th>\n",
       "      <th></th>\n",
       "      <th></th>\n",
       "      <th></th>\n",
       "    </tr>\n",
       "  </thead>\n",
       "  <tbody>\n",
       "    <tr>\n",
       "      <th>2017-04-17</th>\n",
       "      <td>60.540001</td>\n",
       "      <td>60.799999</td>\n",
       "      <td>59.736000</td>\n",
       "      <td>60.287998</td>\n",
       "      <td>60.287998</td>\n",
       "      <td>20693500</td>\n",
       "    </tr>\n",
       "    <tr>\n",
       "      <th>2017-04-18</th>\n",
       "      <td>59.939999</td>\n",
       "      <td>60.167999</td>\n",
       "      <td>59.580002</td>\n",
       "      <td>60.049999</td>\n",
       "      <td>60.049999</td>\n",
       "      <td>15178500</td>\n",
       "    </tr>\n",
       "    <tr>\n",
       "      <th>2017-04-19</th>\n",
       "      <td>60.492001</td>\n",
       "      <td>61.324001</td>\n",
       "      <td>60.422001</td>\n",
       "      <td>61.104000</td>\n",
       "      <td>61.104000</td>\n",
       "      <td>19490000</td>\n",
       "    </tr>\n",
       "    <tr>\n",
       "      <th>2017-04-20</th>\n",
       "      <td>61.301998</td>\n",
       "      <td>61.830002</td>\n",
       "      <td>60.046001</td>\n",
       "      <td>60.501999</td>\n",
       "      <td>60.501999</td>\n",
       "      <td>30747000</td>\n",
       "    </tr>\n",
       "    <tr>\n",
       "      <th>2017-04-21</th>\n",
       "      <td>60.400002</td>\n",
       "      <td>61.279999</td>\n",
       "      <td>60.084000</td>\n",
       "      <td>61.119999</td>\n",
       "      <td>61.119999</td>\n",
       "      <td>22549000</td>\n",
       "    </tr>\n",
       "  </tbody>\n",
       "</table>\n",
       "</div>"
      ],
      "text/plain": [
       "                 Open       High        Low      Close  Adj Close    Volume\n",
       "Date                                                                       \n",
       "2017-04-17  60.540001  60.799999  59.736000  60.287998  60.287998  20693500\n",
       "2017-04-18  59.939999  60.167999  59.580002  60.049999  60.049999  15178500\n",
       "2017-04-19  60.492001  61.324001  60.422001  61.104000  61.104000  19490000\n",
       "2017-04-20  61.301998  61.830002  60.046001  60.501999  60.501999  30747000\n",
       "2017-04-21  60.400002  61.279999  60.084000  61.119999  61.119999  22549000"
      ]
     },
     "execution_count": 6,
     "metadata": {},
     "output_type": "execute_result"
    }
   ],
   "source": [
    "data = dataset.copy()\n",
    "data['Date'] = pd.to_datetime(data['Date'])\n",
    "data.set_index('Date',inplace = True)\n",
    "data.head()"
   ]
  },
  {
   "cell_type": "code",
   "execution_count": 7,
   "id": "regional-antigua",
   "metadata": {},
   "outputs": [
    {
     "data": {
      "text/html": [
       "<div>\n",
       "<style scoped>\n",
       "    .dataframe tbody tr th:only-of-type {\n",
       "        vertical-align: middle;\n",
       "    }\n",
       "\n",
       "    .dataframe tbody tr th {\n",
       "        vertical-align: top;\n",
       "    }\n",
       "\n",
       "    .dataframe thead th {\n",
       "        text-align: right;\n",
       "    }\n",
       "</style>\n",
       "<table border=\"1\" class=\"dataframe\">\n",
       "  <thead>\n",
       "    <tr style=\"text-align: right;\">\n",
       "      <th></th>\n",
       "      <th>Close</th>\n",
       "    </tr>\n",
       "    <tr>\n",
       "      <th>Date</th>\n",
       "      <th></th>\n",
       "    </tr>\n",
       "  </thead>\n",
       "  <tbody>\n",
       "    <tr>\n",
       "      <th>2017-04-17</th>\n",
       "      <td>60.287998</td>\n",
       "    </tr>\n",
       "    <tr>\n",
       "      <th>2017-04-18</th>\n",
       "      <td>60.049999</td>\n",
       "    </tr>\n",
       "    <tr>\n",
       "      <th>2017-04-19</th>\n",
       "      <td>61.104000</td>\n",
       "    </tr>\n",
       "    <tr>\n",
       "      <th>2017-04-20</th>\n",
       "      <td>60.501999</td>\n",
       "    </tr>\n",
       "    <tr>\n",
       "      <th>2017-04-21</th>\n",
       "      <td>61.119999</td>\n",
       "    </tr>\n",
       "  </tbody>\n",
       "</table>\n",
       "</div>"
      ],
      "text/plain": [
       "                Close\n",
       "Date                 \n",
       "2017-04-17  60.287998\n",
       "2017-04-18  60.049999\n",
       "2017-04-19  61.104000\n",
       "2017-04-20  60.501999\n",
       "2017-04-21  61.119999"
      ]
     },
     "execution_count": 7,
     "metadata": {},
     "output_type": "execute_result"
    }
   ],
   "source": [
    "final_data = data.drop(columns = ['Open','High','Low','Adj Close','Volume'],axis = 1)\n",
    "final_data.head()"
   ]
  },
  {
   "cell_type": "code",
   "execution_count": 8,
   "id": "primary-headset",
   "metadata": {},
   "outputs": [
    {
     "data": {
      "text/plain": [
       "<AxesSubplot:title={'center':'Tesla Stock Closing Prices in past 2 years'}, xlabel='Date', ylabel='Closing Price'>"
      ]
     },
     "execution_count": 8,
     "metadata": {},
     "output_type": "execute_result"
    },
    {
     "data": {
      "image/png": "[encoded data removed]",
      "text/plain": [
       "<Figure size 720x360 with 1 Axes>"
      ]
     },
     "metadata": {
      "needs_background": "light"
     },
     "output_type": "display_data"
    }
   ],
   "source": [
    "plt.title('Tesla Stock Closing Prices in past 2 years')\n",
    "plt.xlabel('Date')\n",
    "plt.ylabel('Closing Price')\n",
    "final_data.Close.plot(legend = True, figsize = (10,5))"
   ]
  },
  {
   "cell_type": "code",
   "execution_count": 9,
   "id": "modern-postcard",
   "metadata": {},
   "outputs": [
    {
     "data": {
      "image/png": "[encoded data removed]",
      "text/plain": [
       "<Figure size 720x360 with 1 Axes>"
      ]
     },
     "metadata": {
      "needs_background": "light"
     },
     "output_type": "display_data"
    }
   ],
   "source": [
    "# Smoothing the graph\n",
    "# Ploting prices with rolling mean\n",
    "final_data['Close_10'] = final_data['Close'].rolling(10).mean()\n",
    "final_data['Close_50'] = final_data['Close'].rolling(50).mean()\n",
    "\n",
    "ax = final_data.Close.plot(x = 'Date', y = 'Close', title = 'Tesla Close Price', figsize = (10,5))\n",
    "final_data.Close_10.plot(x = 'Date', y = 'Close_10', color = 'r', ax = ax)\n",
    "final_data.Close_50.plot(x = 'Date', y = 'Close_50', color = 'g', ax = ax)\n",
    "plt.ioff()"
   ]
  },
  {
   "cell_type": "code",
   "execution_count": 10,
   "id": "opened-hazard",
   "metadata": {},
   "outputs": [],
   "source": [
    "from statsmodels.tsa.stattools import adfuller"
   ]
  },
  {
   "cell_type": "code",
   "execution_count": 11,
   "id": "aboriginal-perry",
   "metadata": {},
   "outputs": [],
   "source": [
    "test_result=adfuller(final_data.Close)"
   ]
  },
  {
   "cell_type": "code",
   "execution_count": 12,
   "id": "subjective-franchise",
   "metadata": {},
   "outputs": [],
   "source": [
    "#Ho: It is non stationary\n",
    "#H1: It is stationary\n",
    "\n",
    "def adfuller_test(sales):\n",
    "    result=adfuller(sales)\n",
    "    labels = ['ADF Test Statistic','p-value','#Lags Used','Number of Observations Used']\n",
    "    for value,label in zip(result,labels):\n",
    "        print(label+' : '+str(value) )\n",
    "    if result[1] <= 0.05:\n",
    "        print(\"strong evidence against the null hypothesis(Ho), reject the null hypothesis. Data has no unit root and is stationary\")\n",
    "    else:\n",
    "        print(\"weak evidence against null hypothesis, time series has a unit root, indicating it is non-stationary \")"
   ]
  },
  {
   "cell_type": "code",
   "execution_count": 13,
   "id": "fantastic-hepatitis",
   "metadata": {},
   "outputs": [
    {
     "name": "stdout",
     "output_type": "stream",
     "text": [
      "ADF Test Statistic : 1.0570437390055472\n",
      "p-value : 0.9948328079255079\n",
      "#Lags Used : 21\n",
      "Number of Observations Used : 983\n",
      "weak evidence against null hypothesis, time series has a unit root, indicating it is non-stationary \n"
     ]
    }
   ],
   "source": [
    "adfuller_test(final_data.Close)"
   ]
  },
  {
   "cell_type": "code",
   "execution_count": 14,
   "id": "outer-toner",
   "metadata": {},
   "outputs": [
    {
     "data": {
      "text/html": [
       "<div>\n",
       "<style scoped>\n",
       "    .dataframe tbody tr th:only-of-type {\n",
       "        vertical-align: middle;\n",
       "    }\n",
       "\n",
       "    .dataframe tbody tr th {\n",
       "        vertical-align: top;\n",
       "    }\n",
       "\n",
       "    .dataframe thead th {\n",
       "        text-align: right;\n",
       "    }\n",
       "</style>\n",
       "<table border=\"1\" class=\"dataframe\">\n",
       "  <thead>\n",
       "    <tr style=\"text-align: right;\">\n",
       "      <th></th>\n",
       "      <th>Close</th>\n",
       "      <th>Close First Diff.</th>\n",
       "    </tr>\n",
       "    <tr>\n",
       "      <th>Date</th>\n",
       "      <th></th>\n",
       "      <th></th>\n",
       "    </tr>\n",
       "  </thead>\n",
       "  <tbody>\n",
       "    <tr>\n",
       "      <th>2017-04-17</th>\n",
       "      <td>60.287998</td>\n",
       "      <td>NaN</td>\n",
       "    </tr>\n",
       "    <tr>\n",
       "      <th>2017-04-18</th>\n",
       "      <td>60.049999</td>\n",
       "      <td>-0.237999</td>\n",
       "    </tr>\n",
       "    <tr>\n",
       "      <th>2017-04-19</th>\n",
       "      <td>61.104000</td>\n",
       "      <td>1.054001</td>\n",
       "    </tr>\n",
       "    <tr>\n",
       "      <th>2017-04-20</th>\n",
       "      <td>60.501999</td>\n",
       "      <td>-0.602001</td>\n",
       "    </tr>\n",
       "    <tr>\n",
       "      <th>2017-04-21</th>\n",
       "      <td>61.119999</td>\n",
       "      <td>0.618000</td>\n",
       "    </tr>\n",
       "  </tbody>\n",
       "</table>\n",
       "</div>"
      ],
      "text/plain": [
       "                Close  Close First Diff.\n",
       "Date                                    \n",
       "2017-04-17  60.287998                NaN\n",
       "2017-04-18  60.049999          -0.237999\n",
       "2017-04-19  61.104000           1.054001\n",
       "2017-04-20  60.501999          -0.602001\n",
       "2017-04-21  61.119999           0.618000"
      ]
     },
     "execution_count": 14,
     "metadata": {},
     "output_type": "execute_result"
    }
   ],
   "source": [
    "final_data['Close First Diff.'] = final_data.Close - final_data.Close.shift(1)\n",
    "data = final_data.drop(columns = ['Close_10','Close_50'], axis = 1)\n",
    "data.head()"
   ]
  },
  {
   "cell_type": "code",
   "execution_count": 15,
   "id": "periodic-locking",
   "metadata": {},
   "outputs": [
    {
     "name": "stdout",
     "output_type": "stream",
     "text": [
      "ADF Test Statistic : -5.675591737020545\n",
      "p-value : 8.720022461262261e-07\n",
      "#Lags Used : 20\n",
      "Number of Observations Used : 983\n",
      "strong evidence against the null hypothesis(Ho), reject the null hypothesis. Data has no unit root and is stationary\n"
     ]
    }
   ],
   "source": [
    "adfuller_test(data['Close First Diff.'].dropna())"
   ]
  },
  {
   "cell_type": "code",
   "execution_count": 16,
   "id": "arranged-values",
   "metadata": {},
   "outputs": [
    {
     "data": {
      "text/plain": [
       "<AxesSubplot:xlabel='Date'>"
      ]
     },
     "execution_count": 16,
     "metadata": {},
     "output_type": "execute_result"
    },
    {
     "data": {
      "image/png": "[encoded data removed]",
      "text/plain": [
       "<Figure size 432x288 with 1 Axes>"
      ]
     },
     "metadata": {
      "needs_background": "light"
     },
     "output_type": "display_data"
    }
   ],
   "source": [
    "data['Close First Diff.'].plot()"
   ]
  },
  {
   "cell_type": "code",
   "execution_count": 17,
   "id": "complimentary-terrorism",
   "metadata": {},
   "outputs": [
    {
     "data": {
      "image/png": "[encoded data removed]",
      "text/plain": [
       "<Figure size 432x288 with 1 Axes>"
      ]
     },
     "metadata": {
      "needs_background": "light"
     },
     "output_type": "display_data"
    }
   ],
   "source": [
    "from pandas.plotting import autocorrelation_plot\n",
    "autocorrelation_plot(data.Close)\n",
    "plt.show()"
   ]
  },
  {
   "cell_type": "code",
   "execution_count": 18,
   "id": "freelance-satellite",
   "metadata": {},
   "outputs": [],
   "source": [
    "from statsmodels.graphics.tsaplots import plot_acf,plot_pacf"
   ]
  },
  {
   "cell_type": "code",
   "execution_count": 19,
   "id": "promotional-description",
   "metadata": {},
   "outputs": [
    {
     "data": {
      "image/png": "[encoded data removed]",
      "text/plain": [
       "<Figure size 864x576 with 2 Axes>"
      ]
     },
     "metadata": {
      "needs_background": "light"
     },
     "output_type": "display_data"
    }
   ],
   "source": [
    "fig = plt.figure(figsize=(12,8))\n",
    "ax1 = fig.add_subplot(211)\n",
    "fig = plot_acf(data['Close First Diff.'].iloc[1:],lags=60,ax=ax1)\n",
    "ax2 = fig.add_subplot(212)\n",
    "fig = plot_pacf(data['Close First Diff.'].iloc[1:],lags=60,ax=ax2)"
   ]
  },
  {
   "cell_type": "code",
   "execution_count": 20,
   "id": "alpha-committee",
   "metadata": {},
   "outputs": [],
   "source": [
    "import warnings\n",
    "warnings.filterwarnings('ignore')"
   ]
  },
  {
   "cell_type": "code",
   "execution_count": 21,
   "id": "hungry-operation",
   "metadata": {},
   "outputs": [],
   "source": [
    "from statsmodels.tsa.arima_model import ARIMA\n",
    "\n",
    "model=ARIMA(data.Close,order=(6,1,4))\n",
    "model_fit=model.fit()"
   ]
  },
  {
   "cell_type": "code",
   "execution_count": 22,
   "id": "corrected-radical",
   "metadata": {},
   "outputs": [
    {
     "data": {
      "text/html": [
       "<table class=\"simpletable\">\n",
       "<caption>ARIMA Model Results</caption>\n",
       "<tr>\n",
       "  <th>Dep. Variable:</th>      <td>D.Close</td>     <th>  No. Observations:  </th>   <td>1004</td>   \n",
       "</tr>\n",
       "<tr>\n",
       "  <th>Model:</th>          <td>ARIMA(6, 1, 4)</td>  <th>  Log Likelihood     </th> <td>-3867.857</td>\n",
       "</tr>\n",
       "<tr>\n",
       "  <th>Method:</th>             <td>css-mle</td>     <th>  S.D. of innovations</th>  <td>11.247</td>  \n",
       "</tr>\n",
       "<tr>\n",
       "  <th>Date:</th>          <td>Thu, 15 Apr 2021</td> <th>  AIC                </th> <td>7759.714</td> \n",
       "</tr>\n",
       "<tr>\n",
       "  <th>Time:</th>              <td>12:54:48</td>     <th>  BIC                </th> <td>7818.655</td> \n",
       "</tr>\n",
       "<tr>\n",
       "  <th>Sample:</th>                <td>1</td>        <th>  HQIC               </th> <td>7782.112</td> \n",
       "</tr>\n",
       "<tr>\n",
       "  <th></th>                       <td> </td>        <th>                     </th>     <td> </td>    \n",
       "</tr>\n",
       "</table>\n",
       "<table class=\"simpletable\">\n",
       "<tr>\n",
       "        <td></td>           <th>coef</th>     <th>std err</th>      <th>z</th>      <th>P>|z|</th>  <th>[0.025</th>    <th>0.975]</th>  \n",
       "</tr>\n",
       "<tr>\n",
       "  <th>const</th>         <td>    0.6046</td> <td>      nan</td> <td>      nan</td> <td>   nan</td> <td>      nan</td> <td>      nan</td>\n",
       "</tr>\n",
       "<tr>\n",
       "  <th>ar.L1.D.Close</th> <td>   -0.5122</td> <td>  1.7e-06</td> <td>-3.01e+05</td> <td> 0.000</td> <td>   -0.512</td> <td>   -0.512</td>\n",
       "</tr>\n",
       "<tr>\n",
       "  <th>ar.L2.D.Close</th> <td>    0.4180</td> <td>      nan</td> <td>      nan</td> <td>   nan</td> <td>      nan</td> <td>      nan</td>\n",
       "</tr>\n",
       "<tr>\n",
       "  <th>ar.L3.D.Close</th> <td>   -0.4134</td> <td>      nan</td> <td>      nan</td> <td>   nan</td> <td>      nan</td> <td>      nan</td>\n",
       "</tr>\n",
       "<tr>\n",
       "  <th>ar.L4.D.Close</th> <td>   -0.9649</td> <td>      nan</td> <td>      nan</td> <td>   nan</td> <td>      nan</td> <td>      nan</td>\n",
       "</tr>\n",
       "<tr>\n",
       "  <th>ar.L5.D.Close</th> <td>   -0.1614</td> <td> 9.04e-07</td> <td>-1.79e+05</td> <td> 0.000</td> <td>   -0.161</td> <td>   -0.161</td>\n",
       "</tr>\n",
       "<tr>\n",
       "  <th>ar.L6.D.Close</th> <td>   -0.0501</td> <td> 1.02e-05</td> <td>-4908.517</td> <td> 0.000</td> <td>   -0.050</td> <td>   -0.050</td>\n",
       "</tr>\n",
       "<tr>\n",
       "  <th>ma.L1.D.Close</th> <td>    0.4502</td> <td>      nan</td> <td>      nan</td> <td>   nan</td> <td>      nan</td> <td>      nan</td>\n",
       "</tr>\n",
       "<tr>\n",
       "  <th>ma.L2.D.Close</th> <td>   -0.4852</td> <td>      nan</td> <td>      nan</td> <td>   nan</td> <td>      nan</td> <td>      nan</td>\n",
       "</tr>\n",
       "<tr>\n",
       "  <th>ma.L3.D.Close</th> <td>    0.4525</td> <td>      nan</td> <td>      nan</td> <td>   nan</td> <td>      nan</td> <td>      nan</td>\n",
       "</tr>\n",
       "<tr>\n",
       "  <th>ma.L4.D.Close</th> <td>    0.9857</td> <td>      nan</td> <td>      nan</td> <td>   nan</td> <td>      nan</td> <td>      nan</td>\n",
       "</tr>\n",
       "</table>\n",
       "<table class=\"simpletable\">\n",
       "<caption>Roots</caption>\n",
       "<tr>\n",
       "    <td></td>   <th>            Real</th>  <th>         Imaginary</th> <th>         Modulus</th>  <th>        Frequency</th>\n",
       "</tr>\n",
       "<tr>\n",
       "  <th>AR.1</th> <td>           0.6966</td> <td>          -0.7174j</td> <td>           1.0000</td> <td>          -0.1273</td>\n",
       "</tr>\n",
       "<tr>\n",
       "  <th>AR.2</th> <td>           0.6966</td> <td>          +0.7174j</td> <td>           1.0000</td> <td>           0.1273</td>\n",
       "</tr>\n",
       "<tr>\n",
       "  <th>AR.3</th> <td>          -0.9514</td> <td>          -0.4206j</td> <td>           1.0402</td> <td>          -0.4337</td>\n",
       "</tr>\n",
       "<tr>\n",
       "  <th>AR.4</th> <td>          -0.9514</td> <td>          +0.4206j</td> <td>           1.0402</td> <td>           0.4337</td>\n",
       "</tr>\n",
       "<tr>\n",
       "  <th>AR.5</th> <td>          -1.3548</td> <td>          -4.0746j</td> <td>           4.2939</td> <td>          -0.3011</td>\n",
       "</tr>\n",
       "<tr>\n",
       "  <th>AR.6</th> <td>          -1.3548</td> <td>          +4.0746j</td> <td>           4.2939</td> <td>           0.3011</td>\n",
       "</tr>\n",
       "<tr>\n",
       "  <th>MA.1</th> <td>           0.6851</td> <td>          -0.7321j</td> <td>           1.0027</td> <td>          -0.1303</td>\n",
       "</tr>\n",
       "<tr>\n",
       "  <th>MA.2</th> <td>           0.6851</td> <td>          +0.7321j</td> <td>           1.0027</td> <td>           0.1303</td>\n",
       "</tr>\n",
       "<tr>\n",
       "  <th>MA.3</th> <td>          -0.9147</td> <td>          -0.4152j</td> <td>           1.0045</td> <td>          -0.4322</td>\n",
       "</tr>\n",
       "<tr>\n",
       "  <th>MA.4</th> <td>          -0.9147</td> <td>          +0.4152j</td> <td>           1.0045</td> <td>           0.4322</td>\n",
       "</tr>\n",
       "</table>"
      ],
      "text/plain": [
       "<class 'statsmodels.iolib.summary.Summary'>\n",
       "\"\"\"\n",
       "                             ARIMA Model Results                              \n",
       "==============================================================================\n",
       "Dep. Variable:                D.Close   No. Observations:                 1004\n",
       "Model:                 ARIMA(6, 1, 4)   Log Likelihood               -3867.857\n",
       "Method:                       css-mle   S.D. of innovations             11.247\n",
       "Date:                Thu, 15 Apr 2021   AIC                           7759.714\n",
       "Time:                        12:54:48   BIC                           7818.655\n",
       "Sample:                             1   HQIC                          7782.112\n",
       "                                                                              \n",
       "=================================================================================\n",
       "                    coef    std err          z      P>|z|      [0.025      0.975]\n",
       "---------------------------------------------------------------------------------\n",
       "const             0.6046        nan        nan        nan         nan         nan\n",
       "ar.L1.D.Close    -0.5122    1.7e-06  -3.01e+05      0.000      -0.512      -0.512\n",
       "ar.L2.D.Close     0.4180        nan        nan        nan         nan         nan\n",
       "ar.L3.D.Close    -0.4134        nan        nan        nan         nan         nan\n",
       "ar.L4.D.Close    -0.9649        nan        nan        nan         nan         nan\n",
       "ar.L5.D.Close    -0.1614   9.04e-07  -1.79e+05      0.000      -0.161      -0.161\n",
       "ar.L6.D.Close    -0.0501   1.02e-05  -4908.517      0.000      -0.050      -0.050\n",
       "ma.L1.D.Close     0.4502        nan        nan        nan         nan         nan\n",
       "ma.L2.D.Close    -0.4852        nan        nan        nan         nan         nan\n",
       "ma.L3.D.Close     0.4525        nan        nan        nan         nan         nan\n",
       "ma.L4.D.Close     0.9857        nan        nan        nan         nan         nan\n",
       "                                    Roots                                    \n",
       "=============================================================================\n",
       "                  Real          Imaginary           Modulus         Frequency\n",
       "-----------------------------------------------------------------------------\n",
       "AR.1            0.6966           -0.7174j            1.0000           -0.1273\n",
       "AR.2            0.6966           +0.7174j            1.0000            0.1273\n",
       "AR.3           -0.9514           -0.4206j            1.0402           -0.4337\n",
       "AR.4           -0.9514           +0.4206j            1.0402            0.4337\n",
       "AR.5           -1.3548           -4.0746j            4.2939           -0.3011\n",
       "AR.6           -1.3548           +4.0746j            4.2939            0.3011\n",
       "MA.1            0.6851           -0.7321j            1.0027           -0.1303\n",
       "MA.2            0.6851           +0.7321j            1.0027            0.1303\n",
       "MA.3           -0.9147           -0.4152j            1.0045           -0.4322\n",
       "MA.4           -0.9147           +0.4152j            1.0045            0.4322\n",
       "-----------------------------------------------------------------------------\n",
       "\"\"\""
      ]
     },
     "execution_count": 22,
     "metadata": {},
     "output_type": "execute_result"
    }
   ],
   "source": [
    "model_fit.summary()"
   ]
  },
  {
   "cell_type": "code",
   "execution_count": 23,
   "id": "present-central",
   "metadata": {},
   "outputs": [
    {
     "data": {
      "text/html": [
       "<div>\n",
       "<style scoped>\n",
       "    .dataframe tbody tr th:only-of-type {\n",
       "        vertical-align: middle;\n",
       "    }\n",
       "\n",
       "    .dataframe tbody tr th {\n",
       "        vertical-align: top;\n",
       "    }\n",
       "\n",
       "    .dataframe thead th {\n",
       "        text-align: right;\n",
       "    }\n",
       "</style>\n",
       "<table border=\"1\" class=\"dataframe\">\n",
       "  <thead>\n",
       "    <tr style=\"text-align: right;\">\n",
       "      <th></th>\n",
       "      <th>Close</th>\n",
       "      <th>Close First Diff.</th>\n",
       "    </tr>\n",
       "  </thead>\n",
       "  <tbody>\n",
       "    <tr>\n",
       "      <th>0</th>\n",
       "      <td>60.287998</td>\n",
       "      <td>NaN</td>\n",
       "    </tr>\n",
       "    <tr>\n",
       "      <th>1</th>\n",
       "      <td>60.049999</td>\n",
       "      <td>-0.237999</td>\n",
       "    </tr>\n",
       "    <tr>\n",
       "      <th>2</th>\n",
       "      <td>61.104000</td>\n",
       "      <td>1.054001</td>\n",
       "    </tr>\n",
       "    <tr>\n",
       "      <th>3</th>\n",
       "      <td>60.501999</td>\n",
       "      <td>-0.602001</td>\n",
       "    </tr>\n",
       "    <tr>\n",
       "      <th>4</th>\n",
       "      <td>61.119999</td>\n",
       "      <td>0.618000</td>\n",
       "    </tr>\n",
       "  </tbody>\n",
       "</table>\n",
       "</div>"
      ],
      "text/plain": [
       "       Close  Close First Diff.\n",
       "0  60.287998                NaN\n",
       "1  60.049999          -0.237999\n",
       "2  61.104000           1.054001\n",
       "3  60.501999          -0.602001\n",
       "4  61.119999           0.618000"
      ]
     },
     "execution_count": 23,
     "metadata": {},
     "output_type": "execute_result"
    }
   ],
   "source": [
    "df = data.copy()\n",
    "df.index = [i for i in range(len(data))]\n",
    "df.head()"
   ]
  },
  {
   "cell_type": "code",
   "execution_count": 24,
   "id": "convenient-method",
   "metadata": {},
   "outputs": [],
   "source": [
    "p_values = range(0,5)\n",
    "d_values = range(0,3)\n",
    "q_values = range(0,5)"
   ]
  },
  {
   "cell_type": "code",
   "execution_count": 25,
   "id": "played-crown",
   "metadata": {},
   "outputs": [],
   "source": [
    "for p in p_values:\n",
    "    for d in d_values:\n",
    "        for q in q_values:\n",
    "            order = (p,d,q)\n",
    "            train,test = df.Close[0:7], df.Close[7:15]\n",
    "            predictions = list()\n",
    "            for i in range(len(test)):\n",
    "                try:\n",
    "                    model = ARIMA(train,order = order)\n",
    "                    model_fit = model.fit(disp = 0)\n",
    "                    pred_y = model_fit.forecast()[0]\n",
    "                    predictions.append(pred_y)\n",
    "                    aic = model_fit.aic\n",
    "                    error = np.sqrt(mean_squared_error(test,predictions))\n",
    "                    print('ARIMA%s AIC = %.2f'%(order,aic))\n",
    "                except:\n",
    "                    continue"
   ]
  },
  {
   "cell_type": "code",
   "execution_count": null,
   "id": "italic-rover",
   "metadata": {},
   "outputs": [],
   "source": [
    "train,test = df.Close[0:700], df.Close[700:]\n",
    "train"
   ]
  },
  {
   "cell_type": "code",
   "execution_count": null,
   "id": "formed-failing",
   "metadata": {},
   "outputs": [],
   "source": []
  }
 ],
 "metadata": {
  "kernelspec": {
   "display_name": "Python 3",
   "language": "python",
   "name": "python3"
  },
  "language_info": {
   "codemirror_mode": {
    "name": "ipython",
    "version": 3
   },
   "file_extension": ".py",
   "mimetype": "text/x-python",
   "name": "python",
   "nbconvert_exporter": "python",
   "pygments_lexer": "ipython3",
   "version": "3.7.10"
  }
 },
 "nbformat": 4,
 "nbformat_minor": 5
}

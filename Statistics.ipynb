{
 "cells": [
  {
   "cell_type": "code",
   "execution_count": 3,
   "metadata": {},
   "outputs": [],
   "source": [
    "# Hypothesis testing\n",
    "# Null hypothesis -> actual fact can be in proportions or mean population of the data\n",
    "# Alternate hypothesis -> applying for the change in null hypothesis after veryfing some tests"
   ]
  },
  {
   "cell_type": "code",
   "execution_count": null,
   "metadata": {},
   "outputs": [],
   "source": [
    "# Check for the significance level or threshold value (alpha (α))\n",
    "# Critical point is determined by alpha level\n",
    "# Alpha corresponds to rejection area (eg - α = 0.05 = 5% of area under curve is rejection area)\n",
    "# It is ethical to set significance level ahead of testing\n",
    "# If the probablity of the test values (z value or t value) is less than significance level -> Reject null hypothesis"
   ]
  },
  {
   "cell_type": "code",
   "execution_count": null,
   "metadata": {},
   "outputs": [],
   "source": [
    "# Standard deviation is square root of variance\n",
    "# Variance -> The average of the squared differences of observations from the Mean."
   ]
  },
  {
   "cell_type": "code",
   "execution_count": 2,
   "metadata": {},
   "outputs": [],
   "source": [
    "# Z Test\n",
    "# It is done on proportions or percentages of population\n",
    "# Z = (Sample mean - proposed mean(μo)/(standard deviation of the mean or sample standard deviation))\n",
    "# The z score tells you how many standard deviations from the mean your score is."
   ]
  },
  {
   "cell_type": "code",
   "execution_count": 4,
   "metadata": {},
   "outputs": [],
   "source": [
    "# When you have multiple samples and want to describe the standard deviation of those sample means (the standard error), \n",
    "# you would use this z score formula: NOTE- Z score and Standard Deviation are same\n",
    "# z = (x(sample mean) – μ (population mean)) / (σ (standard deviation of population) / √n (square root of number of samples))\n",
    "# This z-score will tell you how many standard errors there are between the sample mean and the population mean.\n",
    "# get the value SD ( eg - +1 ,-1) and look up corresponding z value in z table, percentage shows the probablity\n",
    "# of data in the area under the asked SD according to its z score"
   ]
  },
  {
   "cell_type": "code",
   "execution_count": 5,
   "metadata": {},
   "outputs": [],
   "source": [
    "# After determining the z score we look it up in z table and find the probablity of observation lying in the bell curve area\n",
    "# The probablity tells us whether the value lies in critical region or outside to respond to rejection of null hypothesis"
   ]
  },
  {
   "cell_type": "code",
   "execution_count": 10,
   "metadata": {},
   "outputs": [],
   "source": [
    "# For e.g., assume Z-value for a particular experiment comes out to be 1.67 \n",
    "# which is greater than the critical value at 5% which is 1.64. \n",
    "# Now to check for a different significance level of 1% a new critical value is to be calculated.\n",
    "# However, if we calculate p-value for 1.67 it comes to be 0.047. \n",
    "# We can use this p-value to reject the hypothesis at 5% significance level since 0.047 < 0.05. \n",
    "# But with a more stringent significance level of 1% the hypothesis will be accepted since 0.047 > 0.01"
   ]
  },
  {
   "cell_type": "code",
   "execution_count": null,
   "metadata": {},
   "outputs": [],
   "source": [
    "# The hypothesis being tested in Z test is\n",
    "# Null: Sample mean is same as the population mean\n",
    "# Alternate: Sample mean is not same as the population mean\n",
    "# In order to calculate the z-statistic we need to know the standard deviation of the population and sample size 30+\n",
    "# In many cases we do not know the standard deviation of the population, so it makes it impossible to calculate a z-statistic."
   ]
  },
  {
   "cell_type": "code",
   "execution_count": 7,
   "metadata": {},
   "outputs": [],
   "source": [
    "# T test\n",
    "# It is used when the population parameters (mean & standard deviation) are not known and sample size<30\n",
    "# 1. Independent samples t-test which compares mean for two groups\n",
    "# 2. Paired sample t-test which compares means from the same group at different times\n",
    "# 3. One sample t-test which tests the mean of a single group against a known mean."
   ]
  },
  {
   "cell_type": "code",
   "execution_count": 8,
   "metadata": {},
   "outputs": [],
   "source": [
    "# t = (x1 — x2) / (σ / √n1 + σ / √n2), where\n",
    "# x1 = mean of sample 1\n",
    "# x2 = mean of sample 2\n",
    "# n1 = size of sample 1\n",
    "# n2 = size of sample 2"
   ]
  },
  {
   "cell_type": "code",
   "execution_count": 9,
   "metadata": {},
   "outputs": [],
   "source": [
    "# ANOVA (It is an extention of t test)\n",
    "# ANOVA, also known as analysis of variance, is used to compare multiple (three or more) groups of dependent variable\n",
    "# with a single test. 2 types of ANOVA\n",
    "# 1. One-way ANOVA: It is used to compare the difference between the three or \n",
    "# more samples/groups of a single independent variable.\n",
    "# 2. MANOVA: MANOVA allows us to test the effect of one or more independent variable on two or more dependent variables. \n",
    "# In addition, MANOVA can also detect the difference in co-relation between dependent \n",
    "# variables given the groups of independent variables."
   ]
  },
  {
   "cell_type": "code",
   "execution_count": 11,
   "metadata": {},
   "outputs": [],
   "source": [
    "# The hypothesis being tested in ANOVA is\n",
    "# Null: All pairs of samples are same i.e. all sample means are equal\n",
    "# Alternate: At least one pair of samples is significantly different"
   ]
  },
  {
   "cell_type": "code",
   "execution_count": 13,
   "metadata": {},
   "outputs": [],
   "source": [
    "# A T-test works on 2 groups of data, anything more than that ANOVA is useful and easier\n",
    "# ANOVA will look for 2 types of variance- Within Group and Between Groups"
   ]
  },
  {
   "cell_type": "code",
   "execution_count": null,
   "metadata": {},
   "outputs": [],
   "source": [
    "# F Score Calculation\n",
    "# (A): Total Sum of Squares(SST) = Sum of Squares within group(SSW) + Sum of Squares between groups(SSG)\n",
    "# Sum of Squares within group = Sum[Sum(1 group at a time)[(Observation - group Mean)**2]]\n",
    "# Sum of squares between groups = (Sum[(Mean of the combined group - group Mean)**2]) * Number of observation in single group\n",
    "# Total Sum of Squares = \n",
    "# 1. Combine all the groups\n",
    "# 2. Mean of the combined group\n",
    "# 3. Sum[(Observation - Mean)**2]\n",
    "# (B): Sum of Squares between group/Degree of freedom (Number of Groups - 1) --> Numerator\n",
    "# (C): Sum of Squares Within group/Degree of freedom (Total observation - Number of Groups) --> Denominator\n",
    "# (D): F score = Numerator/Denominator\n",
    "# (E) : Critical Value = Find using the degree of freedom of numerator and denominator, where they intersect in F table\n",
    "# Degree of Numerator = Horizontal Axis\n",
    "# Degree of Denominator = Vertical Axis\n",
    "# If F score > Critical Value -> Reject the null hypothesis "
   ]
  }
 ],
 "metadata": {
  "kernelspec": {
   "display_name": "Python 3",
   "language": "python",
   "name": "python3"
  },
  "language_info": {
   "codemirror_mode": {
    "name": "ipython",
    "version": 3
   },
   "file_extension": ".py",
   "mimetype": "text/x-python",
   "name": "python",
   "nbconvert_exporter": "python",
   "pygments_lexer": "ipython3",
   "version": "3.7.3"
  }
 },
 "nbformat": 4,
 "nbformat_minor": 2
}

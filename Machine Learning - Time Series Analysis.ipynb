{
 "cells": [
  {
   "cell_type": "code",
   "execution_count": 2,
   "metadata": {},
   "outputs": [],
   "source": [
    "# This algorithm deals with only 1 independent variable - Time\n",
    "# Set of observations taken over a regualar interval of time\n",
    "# It is used to predict future values based on past/previous values\n",
    "# Cannot use when values are constant over a period of time\n",
    "# Stationary data i.e- constant mean, constant variance and autocovariance-> should not depend on time"
   ]
  },
  {
   "cell_type": "code",
   "execution_count": 3,
   "metadata": {},
   "outputs": [],
   "source": [
    "# Two Types tests to check stationarity of data\n",
    "# 1. Moving average or variance (more of a visual test)\n",
    "#2. Hypothesis testing by various test - T,F etc.."
   ]
  },
  {
   "cell_type": "code",
   "execution_count": 4,
   "metadata": {},
   "outputs": [],
   "source": [
    "# ARIMA Model to work on time series data\n",
    "# combination of 2 parts\n",
    "# AR (Auto Regressive) + MA (Moving Average)"
   ]
  },
  {
   "cell_type": "code",
   "execution_count": 5,
   "metadata": {},
   "outputs": [],
   "source": [
    "#  Example - To forecast the female birth in a state"
   ]
  },
  {
   "cell_type": "code",
   "execution_count": 6,
   "metadata": {},
   "outputs": [],
   "source": [
    "import numpy as np\n",
    "import pandas as pd\n",
    "import matplotlib.pyplot as plt\n",
    "%matplotlib inline"
   ]
  },
  {
   "cell_type": "code",
   "execution_count": 7,
   "metadata": {},
   "outputs": [
    {
     "data": {
      "text/html": [
       "<div>\n",
       "<style scoped>\n",
       "    .dataframe tbody tr th:only-of-type {\n",
       "        vertical-align: middle;\n",
       "    }\n",
       "\n",
       "    .dataframe tbody tr th {\n",
       "        vertical-align: top;\n",
       "    }\n",
       "\n",
       "    .dataframe thead th {\n",
       "        text-align: right;\n",
       "    }\n",
       "</style>\n",
       "<table border=\"1\" class=\"dataframe\">\n",
       "  <thead>\n",
       "    <tr style=\"text-align: right;\">\n",
       "      <th></th>\n",
       "      <th>births</th>\n",
       "    </tr>\n",
       "    <tr>\n",
       "      <th>date</th>\n",
       "      <th></th>\n",
       "    </tr>\n",
       "  </thead>\n",
       "  <tbody>\n",
       "    <tr>\n",
       "      <th>1959-01-01</th>\n",
       "      <td>35</td>\n",
       "    </tr>\n",
       "    <tr>\n",
       "      <th>1959-01-02</th>\n",
       "      <td>32</td>\n",
       "    </tr>\n",
       "    <tr>\n",
       "      <th>1959-01-03</th>\n",
       "      <td>30</td>\n",
       "    </tr>\n",
       "    <tr>\n",
       "      <th>1959-01-04</th>\n",
       "      <td>31</td>\n",
       "    </tr>\n",
       "    <tr>\n",
       "      <th>1959-01-05</th>\n",
       "      <td>44</td>\n",
       "    </tr>\n",
       "  </tbody>\n",
       "</table>\n",
       "</div>"
      ],
      "text/plain": [
       "            births\n",
       "date              \n",
       "1959-01-01      35\n",
       "1959-01-02      32\n",
       "1959-01-03      30\n",
       "1959-01-04      31\n",
       "1959-01-05      44"
      ]
     },
     "execution_count": 7,
     "metadata": {},
     "output_type": "execute_result"
    }
   ],
   "source": [
    "f_birth = pd.read_csv(\"C:\\\\Users\\\\sameer\\\\Desktop\\\\Datasets\\\\daily-total-female-births-CA.csv\", delimiter = ',',index_col = 'date',parse_dates = [0])\n",
    "f_birth.head()"
   ]
  },
  {
   "cell_type": "code",
   "execution_count": 8,
   "metadata": {},
   "outputs": [
    {
     "data": {
      "text/html": [
       "<div>\n",
       "<style scoped>\n",
       "    .dataframe tbody tr th:only-of-type {\n",
       "        vertical-align: middle;\n",
       "    }\n",
       "\n",
       "    .dataframe tbody tr th {\n",
       "        vertical-align: top;\n",
       "    }\n",
       "\n",
       "    .dataframe thead th {\n",
       "        text-align: right;\n",
       "    }\n",
       "</style>\n",
       "<table border=\"1\" class=\"dataframe\">\n",
       "  <thead>\n",
       "    <tr style=\"text-align: right;\">\n",
       "      <th></th>\n",
       "      <th>births</th>\n",
       "    </tr>\n",
       "    <tr>\n",
       "      <th>date</th>\n",
       "      <th></th>\n",
       "    </tr>\n",
       "  </thead>\n",
       "  <tbody>\n",
       "    <tr>\n",
       "      <th>1959-12-27</th>\n",
       "      <td>37</td>\n",
       "    </tr>\n",
       "    <tr>\n",
       "      <th>1959-12-28</th>\n",
       "      <td>52</td>\n",
       "    </tr>\n",
       "    <tr>\n",
       "      <th>1959-12-29</th>\n",
       "      <td>48</td>\n",
       "    </tr>\n",
       "    <tr>\n",
       "      <th>1959-12-30</th>\n",
       "      <td>55</td>\n",
       "    </tr>\n",
       "    <tr>\n",
       "      <th>1959-12-31</th>\n",
       "      <td>50</td>\n",
       "    </tr>\n",
       "  </tbody>\n",
       "</table>\n",
       "</div>"
      ],
      "text/plain": [
       "            births\n",
       "date              \n",
       "1959-12-27      37\n",
       "1959-12-28      52\n",
       "1959-12-29      48\n",
       "1959-12-30      55\n",
       "1959-12-31      50"
      ]
     },
     "execution_count": 8,
     "metadata": {},
     "output_type": "execute_result"
    }
   ],
   "source": [
    "f_birth.tail()"
   ]
  },
  {
   "cell_type": "code",
   "execution_count": 9,
   "metadata": {},
   "outputs": [
    {
     "data": {
      "text/html": [
       "<div>\n",
       "<style scoped>\n",
       "    .dataframe tbody tr th:only-of-type {\n",
       "        vertical-align: middle;\n",
       "    }\n",
       "\n",
       "    .dataframe tbody tr th {\n",
       "        vertical-align: top;\n",
       "    }\n",
       "\n",
       "    .dataframe thead th {\n",
       "        text-align: right;\n",
       "    }\n",
       "</style>\n",
       "<table border=\"1\" class=\"dataframe\">\n",
       "  <thead>\n",
       "    <tr style=\"text-align: right;\">\n",
       "      <th></th>\n",
       "      <th>births</th>\n",
       "    </tr>\n",
       "  </thead>\n",
       "  <tbody>\n",
       "    <tr>\n",
       "      <th>count</th>\n",
       "      <td>365.000000</td>\n",
       "    </tr>\n",
       "    <tr>\n",
       "      <th>mean</th>\n",
       "      <td>41.980822</td>\n",
       "    </tr>\n",
       "    <tr>\n",
       "      <th>std</th>\n",
       "      <td>7.348257</td>\n",
       "    </tr>\n",
       "    <tr>\n",
       "      <th>min</th>\n",
       "      <td>23.000000</td>\n",
       "    </tr>\n",
       "    <tr>\n",
       "      <th>25%</th>\n",
       "      <td>37.000000</td>\n",
       "    </tr>\n",
       "    <tr>\n",
       "      <th>50%</th>\n",
       "      <td>42.000000</td>\n",
       "    </tr>\n",
       "    <tr>\n",
       "      <th>75%</th>\n",
       "      <td>46.000000</td>\n",
       "    </tr>\n",
       "    <tr>\n",
       "      <th>max</th>\n",
       "      <td>73.000000</td>\n",
       "    </tr>\n",
       "  </tbody>\n",
       "</table>\n",
       "</div>"
      ],
      "text/plain": [
       "           births\n",
       "count  365.000000\n",
       "mean    41.980822\n",
       "std      7.348257\n",
       "min     23.000000\n",
       "25%     37.000000\n",
       "50%     42.000000\n",
       "75%     46.000000\n",
       "max     73.000000"
      ]
     },
     "execution_count": 9,
     "metadata": {},
     "output_type": "execute_result"
    }
   ],
   "source": [
    "f_birth.describe()"
   ]
  },
  {
   "cell_type": "code",
   "execution_count": 10,
   "metadata": {},
   "outputs": [],
   "source": [
    "# After Data exploration or manipulation, checking for error and redundancy -> convert the data frame in to a data series or \n",
    "# an array"
   ]
  },
  {
   "cell_type": "code",
   "execution_count": 11,
   "metadata": {},
   "outputs": [
    {
     "data": {
      "text/plain": [
       "pandas.core.frame.DataFrame"
      ]
     },
     "execution_count": 11,
     "metadata": {},
     "output_type": "execute_result"
    }
   ],
   "source": [
    "type(f_birth)"
   ]
  },
  {
   "cell_type": "code",
   "execution_count": 12,
   "metadata": {},
   "outputs": [
    {
     "data": {
      "text/plain": [
       "array([[35],\n",
       "       [32],\n",
       "       [30],\n",
       "       [31],\n",
       "       [44],\n",
       "       [29],\n",
       "       [45],\n",
       "       [43],\n",
       "       [38],\n",
       "       [27],\n",
       "       [38],\n",
       "       [33],\n",
       "       [55],\n",
       "       [47],\n",
       "       [45],\n",
       "       [37],\n",
       "       [50],\n",
       "       [43],\n",
       "       [41],\n",
       "       [52],\n",
       "       [34],\n",
       "       [53],\n",
       "       [39],\n",
       "       [32],\n",
       "       [37],\n",
       "       [43],\n",
       "       [39],\n",
       "       [35],\n",
       "       [44],\n",
       "       [38],\n",
       "       [24],\n",
       "       [23],\n",
       "       [31],\n",
       "       [44],\n",
       "       [38],\n",
       "       [50],\n",
       "       [38],\n",
       "       [51],\n",
       "       [31],\n",
       "       [31],\n",
       "       [51],\n",
       "       [36],\n",
       "       [45],\n",
       "       [51],\n",
       "       [34],\n",
       "       [52],\n",
       "       [47],\n",
       "       [45],\n",
       "       [46],\n",
       "       [39],\n",
       "       [48],\n",
       "       [37],\n",
       "       [35],\n",
       "       [52],\n",
       "       [42],\n",
       "       [45],\n",
       "       [39],\n",
       "       [37],\n",
       "       [30],\n",
       "       [35],\n",
       "       [28],\n",
       "       [45],\n",
       "       [34],\n",
       "       [36],\n",
       "       [50],\n",
       "       [44],\n",
       "       [39],\n",
       "       [32],\n",
       "       [39],\n",
       "       [45],\n",
       "       [43],\n",
       "       [39],\n",
       "       [31],\n",
       "       [27],\n",
       "       [30],\n",
       "       [42],\n",
       "       [46],\n",
       "       [41],\n",
       "       [36],\n",
       "       [45],\n",
       "       [46],\n",
       "       [43],\n",
       "       [38],\n",
       "       [34],\n",
       "       [35],\n",
       "       [56],\n",
       "       [36],\n",
       "       [32],\n",
       "       [50],\n",
       "       [41],\n",
       "       [39],\n",
       "       [41],\n",
       "       [47],\n",
       "       [34],\n",
       "       [36],\n",
       "       [33],\n",
       "       [35],\n",
       "       [38],\n",
       "       [38],\n",
       "       [34],\n",
       "       [53],\n",
       "       [34],\n",
       "       [34],\n",
       "       [38],\n",
       "       [35],\n",
       "       [32],\n",
       "       [42],\n",
       "       [34],\n",
       "       [46],\n",
       "       [30],\n",
       "       [46],\n",
       "       [45],\n",
       "       [54],\n",
       "       [34],\n",
       "       [37],\n",
       "       [35],\n",
       "       [40],\n",
       "       [42],\n",
       "       [58],\n",
       "       [51],\n",
       "       [32],\n",
       "       [35],\n",
       "       [38],\n",
       "       [33],\n",
       "       [39],\n",
       "       [47],\n",
       "       [38],\n",
       "       [52],\n",
       "       [30],\n",
       "       [34],\n",
       "       [40],\n",
       "       [35],\n",
       "       [42],\n",
       "       [41],\n",
       "       [42],\n",
       "       [38],\n",
       "       [24],\n",
       "       [34],\n",
       "       [43],\n",
       "       [36],\n",
       "       [55],\n",
       "       [41],\n",
       "       [45],\n",
       "       [41],\n",
       "       [37],\n",
       "       [43],\n",
       "       [39],\n",
       "       [33],\n",
       "       [43],\n",
       "       [40],\n",
       "       [38],\n",
       "       [45],\n",
       "       [46],\n",
       "       [34],\n",
       "       [35],\n",
       "       [48],\n",
       "       [51],\n",
       "       [36],\n",
       "       [33],\n",
       "       [46],\n",
       "       [42],\n",
       "       [48],\n",
       "       [34],\n",
       "       [41],\n",
       "       [35],\n",
       "       [40],\n",
       "       [34],\n",
       "       [30],\n",
       "       [36],\n",
       "       [40],\n",
       "       [39],\n",
       "       [45],\n",
       "       [38],\n",
       "       [47],\n",
       "       [33],\n",
       "       [30],\n",
       "       [42],\n",
       "       [43],\n",
       "       [41],\n",
       "       [41],\n",
       "       [59],\n",
       "       [43],\n",
       "       [45],\n",
       "       [38],\n",
       "       [37],\n",
       "       [45],\n",
       "       [42],\n",
       "       [57],\n",
       "       [46],\n",
       "       [51],\n",
       "       [41],\n",
       "       [47],\n",
       "       [26],\n",
       "       [35],\n",
       "       [44],\n",
       "       [41],\n",
       "       [42],\n",
       "       [36],\n",
       "       [45],\n",
       "       [45],\n",
       "       [45],\n",
       "       [47],\n",
       "       [38],\n",
       "       [42],\n",
       "       [35],\n",
       "       [36],\n",
       "       [39],\n",
       "       [45],\n",
       "       [43],\n",
       "       [47],\n",
       "       [36],\n",
       "       [41],\n",
       "       [50],\n",
       "       [39],\n",
       "       [41],\n",
       "       [46],\n",
       "       [64],\n",
       "       [45],\n",
       "       [34],\n",
       "       [38],\n",
       "       [44],\n",
       "       [48],\n",
       "       [46],\n",
       "       [44],\n",
       "       [37],\n",
       "       [39],\n",
       "       [44],\n",
       "       [45],\n",
       "       [33],\n",
       "       [44],\n",
       "       [38],\n",
       "       [46],\n",
       "       [46],\n",
       "       [40],\n",
       "       [39],\n",
       "       [44],\n",
       "       [48],\n",
       "       [50],\n",
       "       [41],\n",
       "       [42],\n",
       "       [51],\n",
       "       [41],\n",
       "       [44],\n",
       "       [38],\n",
       "       [68],\n",
       "       [40],\n",
       "       [42],\n",
       "       [51],\n",
       "       [44],\n",
       "       [45],\n",
       "       [36],\n",
       "       [57],\n",
       "       [44],\n",
       "       [42],\n",
       "       [53],\n",
       "       [42],\n",
       "       [34],\n",
       "       [40],\n",
       "       [56],\n",
       "       [44],\n",
       "       [53],\n",
       "       [55],\n",
       "       [39],\n",
       "       [59],\n",
       "       [55],\n",
       "       [73],\n",
       "       [55],\n",
       "       [44],\n",
       "       [43],\n",
       "       [40],\n",
       "       [47],\n",
       "       [51],\n",
       "       [56],\n",
       "       [49],\n",
       "       [54],\n",
       "       [56],\n",
       "       [47],\n",
       "       [44],\n",
       "       [43],\n",
       "       [42],\n",
       "       [45],\n",
       "       [50],\n",
       "       [48],\n",
       "       [43],\n",
       "       [40],\n",
       "       [59],\n",
       "       [41],\n",
       "       [42],\n",
       "       [51],\n",
       "       [49],\n",
       "       [45],\n",
       "       [43],\n",
       "       [42],\n",
       "       [38],\n",
       "       [47],\n",
       "       [38],\n",
       "       [36],\n",
       "       [42],\n",
       "       [35],\n",
       "       [28],\n",
       "       [44],\n",
       "       [36],\n",
       "       [45],\n",
       "       [46],\n",
       "       [48],\n",
       "       [49],\n",
       "       [43],\n",
       "       [42],\n",
       "       [59],\n",
       "       [45],\n",
       "       [52],\n",
       "       [46],\n",
       "       [42],\n",
       "       [40],\n",
       "       [40],\n",
       "       [45],\n",
       "       [35],\n",
       "       [35],\n",
       "       [40],\n",
       "       [39],\n",
       "       [33],\n",
       "       [42],\n",
       "       [47],\n",
       "       [51],\n",
       "       [44],\n",
       "       [40],\n",
       "       [57],\n",
       "       [49],\n",
       "       [45],\n",
       "       [49],\n",
       "       [51],\n",
       "       [46],\n",
       "       [44],\n",
       "       [52],\n",
       "       [45],\n",
       "       [32],\n",
       "       [46],\n",
       "       [41],\n",
       "       [34],\n",
       "       [33],\n",
       "       [36],\n",
       "       [49],\n",
       "       [43],\n",
       "       [43],\n",
       "       [34],\n",
       "       [39],\n",
       "       [35],\n",
       "       [52],\n",
       "       [47],\n",
       "       [52],\n",
       "       [39],\n",
       "       [40],\n",
       "       [42],\n",
       "       [42],\n",
       "       [53],\n",
       "       [39],\n",
       "       [40],\n",
       "       [38],\n",
       "       [44],\n",
       "       [34],\n",
       "       [37],\n",
       "       [52],\n",
       "       [48],\n",
       "       [55],\n",
       "       [50]], dtype=int64)"
      ]
     },
     "execution_count": 12,
     "metadata": {},
     "output_type": "execute_result"
    }
   ],
   "source": [
    "series_value = f_birth.values\n",
    "series_value"
   ]
  },
  {
   "cell_type": "code",
   "execution_count": 13,
   "metadata": {},
   "outputs": [
    {
     "data": {
      "text/plain": [
       "numpy.ndarray"
      ]
     },
     "execution_count": 13,
     "metadata": {},
     "output_type": "execute_result"
    }
   ],
   "source": [
    "type(series_value)"
   ]
  },
  {
   "cell_type": "code",
   "execution_count": 14,
   "metadata": {},
   "outputs": [
    {
     "data": {
      "text/plain": [
       "<matplotlib.axes._subplots.AxesSubplot at 0x1a26a492390>"
      ]
     },
     "execution_count": 14,
     "metadata": {},
     "output_type": "execute_result"
    },
    {
     "data": {
      "image/png": "[encoded data removed]",
      "text/plain": [
       "<Figure size 720x360 with 1 Axes>"
      ]
     },
     "metadata": {
      "needs_background": "light"
     },
     "output_type": "display_data"
    }
   ],
   "source": [
    "f_birth.plot(figsize = (10,5)) # Series seems to be stationary with no trends"
   ]
  },
  {
   "cell_type": "code",
   "execution_count": 15,
   "metadata": {},
   "outputs": [],
   "source": [
    "# Smoothing the series\n",
    "# With the help of Moving Average (taking average of first 'n' observation becomes the first point in the graph)"
   ]
  },
  {
   "cell_type": "code",
   "execution_count": 16,
   "metadata": {
    "scrolled": true
   },
   "outputs": [
    {
     "data": {
      "text/plain": [
       "<matplotlib.axes._subplots.AxesSubplot at 0x1a26a6425f8>"
      ]
     },
     "execution_count": 16,
     "metadata": {},
     "output_type": "execute_result"
    },
    {
     "data": {
      "image/png": "[encoded data removed]",
      "text/plain": [
       "<Figure size 720x360 with 1 Axes>"
      ]
     },
     "metadata": {
      "needs_background": "light"
     },
     "output_type": "display_data"
    }
   ],
   "source": [
    "f_birth_mean = f_birth.rolling(window = 20).mean() # 20 observations mean would become first point in the graph\n",
    "f_birth_mean.plot(figsize = (10,5))"
   ]
  },
  {
   "cell_type": "code",
   "execution_count": 17,
   "metadata": {},
   "outputs": [],
   "source": [
    "value = pd.DataFrame(series_value) #'shift function is in pandas, so need to convert series or array into dataframe"
   ]
  },
  {
   "cell_type": "code",
   "execution_count": 18,
   "metadata": {},
   "outputs": [
    {
     "data": {
      "text/html": [
       "<div>\n",
       "<style scoped>\n",
       "    .dataframe tbody tr th:only-of-type {\n",
       "        vertical-align: middle;\n",
       "    }\n",
       "\n",
       "    .dataframe tbody tr th {\n",
       "        vertical-align: top;\n",
       "    }\n",
       "\n",
       "    .dataframe thead th {\n",
       "        text-align: right;\n",
       "    }\n",
       "</style>\n",
       "<table border=\"1\" class=\"dataframe\">\n",
       "  <thead>\n",
       "    <tr style=\"text-align: right;\">\n",
       "      <th></th>\n",
       "      <th>0</th>\n",
       "      <th>0</th>\n",
       "    </tr>\n",
       "  </thead>\n",
       "  <tbody>\n",
       "    <tr>\n",
       "      <th>0</th>\n",
       "      <td>35</td>\n",
       "      <td>NaN</td>\n",
       "    </tr>\n",
       "    <tr>\n",
       "      <th>1</th>\n",
       "      <td>32</td>\n",
       "      <td>35.0</td>\n",
       "    </tr>\n",
       "    <tr>\n",
       "      <th>2</th>\n",
       "      <td>30</td>\n",
       "      <td>32.0</td>\n",
       "    </tr>\n",
       "    <tr>\n",
       "      <th>3</th>\n",
       "      <td>31</td>\n",
       "      <td>30.0</td>\n",
       "    </tr>\n",
       "    <tr>\n",
       "      <th>4</th>\n",
       "      <td>44</td>\n",
       "      <td>31.0</td>\n",
       "    </tr>\n",
       "  </tbody>\n",
       "</table>\n",
       "</div>"
      ],
      "text/plain": [
       "    0     0\n",
       "0  35   NaN\n",
       "1  32  35.0\n",
       "2  30  32.0\n",
       "3  31  30.0\n",
       "4  44  31.0"
      ]
     },
     "execution_count": 18,
     "metadata": {},
     "output_type": "execute_result"
    }
   ],
   "source": [
    "# To calculate the future value, the next value is dependent on the previous value\n",
    "# concats to series - series1 and series 1+1 (1st value of first series goes diagonally 1st value of second series)\n",
    "birth_df = pd.concat([value,value.shift(1)],axis = 1) \n",
    "birth_df.head()"
   ]
  },
  {
   "cell_type": "code",
   "execution_count": 19,
   "metadata": {},
   "outputs": [
    {
     "data": {
      "text/html": [
       "<div>\n",
       "<style scoped>\n",
       "    .dataframe tbody tr th:only-of-type {\n",
       "        vertical-align: middle;\n",
       "    }\n",
       "\n",
       "    .dataframe tbody tr th {\n",
       "        vertical-align: top;\n",
       "    }\n",
       "\n",
       "    .dataframe thead th {\n",
       "        text-align: right;\n",
       "    }\n",
       "</style>\n",
       "<table border=\"1\" class=\"dataframe\">\n",
       "  <thead>\n",
       "    <tr style=\"text-align: right;\">\n",
       "      <th></th>\n",
       "      <th>Actual_Birth</th>\n",
       "      <th>Forecast_Birth</th>\n",
       "    </tr>\n",
       "  </thead>\n",
       "  <tbody>\n",
       "    <tr>\n",
       "      <th>0</th>\n",
       "      <td>35</td>\n",
       "      <td>NaN</td>\n",
       "    </tr>\n",
       "    <tr>\n",
       "      <th>1</th>\n",
       "      <td>32</td>\n",
       "      <td>35.0</td>\n",
       "    </tr>\n",
       "    <tr>\n",
       "      <th>2</th>\n",
       "      <td>30</td>\n",
       "      <td>32.0</td>\n",
       "    </tr>\n",
       "    <tr>\n",
       "      <th>3</th>\n",
       "      <td>31</td>\n",
       "      <td>30.0</td>\n",
       "    </tr>\n",
       "    <tr>\n",
       "      <th>4</th>\n",
       "      <td>44</td>\n",
       "      <td>31.0</td>\n",
       "    </tr>\n",
       "  </tbody>\n",
       "</table>\n",
       "</div>"
      ],
      "text/plain": [
       "   Actual_Birth  Forecast_Birth\n",
       "0            35             NaN\n",
       "1            32            35.0\n",
       "2            30            32.0\n",
       "3            31            30.0\n",
       "4            44            31.0"
      ]
     },
     "execution_count": 19,
     "metadata": {},
     "output_type": "execute_result"
    }
   ],
   "source": [
    "birth_df.columns = ['Actual_Birth','Forecast_Birth'] # Forecast depends on previous observation\n",
    "birth_df.head()"
   ]
  },
  {
   "cell_type": "code",
   "execution_count": 20,
   "metadata": {},
   "outputs": [],
   "source": [
    "from sklearn.metrics import mean_squared_error # to find the error in the database"
   ]
  },
  {
   "cell_type": "code",
   "execution_count": 21,
   "metadata": {},
   "outputs": [
    {
     "data": {
      "text/html": [
       "<div>\n",
       "<style scoped>\n",
       "    .dataframe tbody tr th:only-of-type {\n",
       "        vertical-align: middle;\n",
       "    }\n",
       "\n",
       "    .dataframe tbody tr th {\n",
       "        vertical-align: top;\n",
       "    }\n",
       "\n",
       "    .dataframe thead th {\n",
       "        text-align: right;\n",
       "    }\n",
       "</style>\n",
       "<table border=\"1\" class=\"dataframe\">\n",
       "  <thead>\n",
       "    <tr style=\"text-align: right;\">\n",
       "      <th></th>\n",
       "      <th>Actual_Birth</th>\n",
       "      <th>Forecast_Birth</th>\n",
       "    </tr>\n",
       "  </thead>\n",
       "  <tbody>\n",
       "    <tr>\n",
       "      <th>1</th>\n",
       "      <td>32</td>\n",
       "      <td>35.0</td>\n",
       "    </tr>\n",
       "    <tr>\n",
       "      <th>2</th>\n",
       "      <td>30</td>\n",
       "      <td>32.0</td>\n",
       "    </tr>\n",
       "    <tr>\n",
       "      <th>3</th>\n",
       "      <td>31</td>\n",
       "      <td>30.0</td>\n",
       "    </tr>\n",
       "    <tr>\n",
       "      <th>4</th>\n",
       "      <td>44</td>\n",
       "      <td>31.0</td>\n",
       "    </tr>\n",
       "    <tr>\n",
       "      <th>5</th>\n",
       "      <td>29</td>\n",
       "      <td>44.0</td>\n",
       "    </tr>\n",
       "  </tbody>\n",
       "</table>\n",
       "</div>"
      ],
      "text/plain": [
       "   Actual_Birth  Forecast_Birth\n",
       "1            32            35.0\n",
       "2            30            32.0\n",
       "3            31            30.0\n",
       "4            44            31.0\n",
       "5            29            44.0"
      ]
     },
     "execution_count": 21,
     "metadata": {},
     "output_type": "execute_result"
    }
   ],
   "source": [
    "birth_test = birth_df[1:]\n",
    "birth_test.head()"
   ]
  },
  {
   "cell_type": "code",
   "execution_count": 22,
   "metadata": {},
   "outputs": [
    {
     "data": {
      "text/plain": [
       "84.22252747252747"
      ]
     },
     "execution_count": 22,
     "metadata": {},
     "output_type": "execute_result"
    }
   ],
   "source": [
    "birth_error = mean_squared_error(birth_test.Actual_Birth,birth_test.Forecast_Birth)\n",
    "birth_error"
   ]
  },
  {
   "cell_type": "code",
   "execution_count": 23,
   "metadata": {},
   "outputs": [
    {
     "data": {
      "text/plain": [
       "9.177283229394606"
      ]
     },
     "execution_count": 23,
     "metadata": {},
     "output_type": "execute_result"
    }
   ],
   "source": [
    "np.sqrt(birth_error) # +/- of 9 births per day error with this basic model -> minimize this"
   ]
  },
  {
   "cell_type": "code",
   "execution_count": 24,
   "metadata": {},
   "outputs": [],
   "source": [
    "# ARIMA MODEL (p,d,q)\n",
    "# Autoregressive(p) Integrated(d) Moving Average(q)\n",
    "# Autoregressive -> Previous value correlated to the next value\n",
    "# Integrated -> Order of difference (level at which correlation b/w observation becomes insignificant)\n",
    "# Moving Average -> Smoothing of the curve"
   ]
  },
  {
   "cell_type": "code",
   "execution_count": 25,
   "metadata": {},
   "outputs": [
    {
     "data": {
      "image/png": "[encoded data removed]",
      "text/plain": [
       "<Figure size 432x288 with 1 Axes>"
      ]
     },
     "execution_count": 25,
     "metadata": {},
     "output_type": "execute_result"
    },
    {
     "data": {
      "image/png": "[encoded data removed]",
      "text/plain": [
       "<Figure size 432x288 with 1 Axes>"
      ]
     },
     "metadata": {
      "needs_background": "light"
     },
     "output_type": "display_data"
    }
   ],
   "source": [
    "from statsmodels.graphics.tsaplots import plot_acf,plot_pacf\n",
    "# plot_acf is to identify parameter 'q'\n",
    "plot_acf(f_birth) #Shaded portion shows insignificance of correlation b/w observation"
   ]
  },
  {
   "cell_type": "code",
   "execution_count": 26,
   "metadata": {},
   "outputs": [
    {
     "data": {
      "image/png": "[encoded data removed]",
      "text/plain": [
       "<Figure size 432x288 with 1 Axes>"
      ]
     },
     "execution_count": 26,
     "metadata": {},
     "output_type": "execute_result"
    },
    {
     "data": {
      "image/png": "[encoded data removed]",
      "text/plain": [
       "<Figure size 432x288 with 1 Axes>"
      ]
     },
     "metadata": {
      "needs_background": "light"
     },
     "output_type": "display_data"
    }
   ],
   "source": [
    "# plot_acf is to identify parameter 'p'\n",
    "plot_pacf(f_birth)"
   ]
  },
  {
   "cell_type": "code",
   "execution_count": 27,
   "metadata": {},
   "outputs": [
    {
     "data": {
      "text/plain": [
       "365"
      ]
     },
     "execution_count": 27,
     "metadata": {},
     "output_type": "execute_result"
    }
   ],
   "source": [
    "# p =2,3,  d = 1 (some sort of trend in the observations), q = 3,4\n",
    "f_birth.size"
   ]
  },
  {
   "cell_type": "code",
   "execution_count": 28,
   "metadata": {},
   "outputs": [
    {
     "data": {
      "text/plain": [
       "330"
      ]
     },
     "execution_count": 28,
     "metadata": {},
     "output_type": "execute_result"
    }
   ],
   "source": [
    "# Train and Test split\n",
    "birth_train = f_birth[0:330]\n",
    "birth_test = f_birth[330:365]\n",
    "birth_train.size"
   ]
  },
  {
   "cell_type": "code",
   "execution_count": 29,
   "metadata": {},
   "outputs": [
    {
     "data": {
      "text/plain": [
       "35"
      ]
     },
     "execution_count": 29,
     "metadata": {},
     "output_type": "execute_result"
    }
   ],
   "source": [
    "birth_test.size"
   ]
  },
  {
   "cell_type": "code",
   "execution_count": 30,
   "metadata": {},
   "outputs": [],
   "source": [
    "from statsmodels.tsa.arima_model import ARIMA"
   ]
  },
  {
   "cell_type": "code",
   "execution_count": 31,
   "metadata": {},
   "outputs": [
    {
     "name": "stderr",
     "output_type": "stream",
     "text": [
      "C:\\Users\\sameer\\Anaconda3\\lib\\site-packages\\statsmodels\\tsa\\base\\tsa_model.py:165: ValueWarning: No frequency information was provided, so inferred frequency D will be used.\n",
      "  % freq, ValueWarning)\n",
      "C:\\Users\\sameer\\Anaconda3\\lib\\site-packages\\statsmodels\\tsa\\base\\tsa_model.py:165: ValueWarning: No frequency information was provided, so inferred frequency D will be used.\n",
      "  % freq, ValueWarning)\n"
     ]
    }
   ],
   "source": [
    "birth_model = ARIMA(birth_train, order = (2,1,3))\n",
    "birth_model_fit= birth_model.fit()"
   ]
  },
  {
   "cell_type": "code",
   "execution_count": 32,
   "metadata": {},
   "outputs": [
    {
     "data": {
      "text/plain": [
       "2230.948253362418"
      ]
     },
     "execution_count": 32,
     "metadata": {},
     "output_type": "execute_result"
    }
   ],
   "source": [
    "birth_model_fit.aic # aic - akaike information criterion ->lesser the value, better the model \n",
    "# experiment with the order to reduce"
   ]
  },
  {
   "cell_type": "code",
   "execution_count": 33,
   "metadata": {},
   "outputs": [
    {
     "data": {
      "text/plain": [
       "array([45.30360413, 46.31051172, 43.64950272, 44.59216545, 46.49692823,\n",
       "       44.34348243, 44.08985685, 46.34378931, 45.0753105 , 43.88109094,\n",
       "       45.95207005, 45.69569767, 43.97400714, 45.45670698, 46.10369034,\n",
       "       44.31135089, 44.99233691, 46.26011402, 44.79343816, 44.66476241,\n",
       "       46.18567875, 45.30633206, 44.53325546, 45.94668385, 45.74838806,\n",
       "       44.60566478, 45.63340678, 46.0498018 , 44.84524938, 45.33697339,\n",
       "       46.18216602, 45.18584908, 45.12987121, 46.15765895, 45.55079341])"
      ]
     },
     "execution_count": 33,
     "metadata": {},
     "output_type": "execute_result"
    }
   ],
   "source": [
    "birth_forecast = birth_model_fit.forecast(steps = 35)[0]\n",
    "birth_forecast"
   ]
  },
  {
   "cell_type": "code",
   "execution_count": 34,
   "metadata": {},
   "outputs": [
    {
     "data": {
      "text/html": [
       "<div>\n",
       "<style scoped>\n",
       "    .dataframe tbody tr th:only-of-type {\n",
       "        vertical-align: middle;\n",
       "    }\n",
       "\n",
       "    .dataframe tbody tr th {\n",
       "        vertical-align: top;\n",
       "    }\n",
       "\n",
       "    .dataframe thead th {\n",
       "        text-align: right;\n",
       "    }\n",
       "</style>\n",
       "<table border=\"1\" class=\"dataframe\">\n",
       "  <thead>\n",
       "    <tr style=\"text-align: right;\">\n",
       "      <th></th>\n",
       "      <th>births</th>\n",
       "    </tr>\n",
       "    <tr>\n",
       "      <th>date</th>\n",
       "      <th></th>\n",
       "    </tr>\n",
       "  </thead>\n",
       "  <tbody>\n",
       "    <tr>\n",
       "      <th>1959-11-27</th>\n",
       "      <td>51</td>\n",
       "    </tr>\n",
       "    <tr>\n",
       "      <th>1959-11-28</th>\n",
       "      <td>46</td>\n",
       "    </tr>\n",
       "    <tr>\n",
       "      <th>1959-11-29</th>\n",
       "      <td>44</td>\n",
       "    </tr>\n",
       "    <tr>\n",
       "      <th>1959-11-30</th>\n",
       "      <td>52</td>\n",
       "    </tr>\n",
       "    <tr>\n",
       "      <th>1959-12-01</th>\n",
       "      <td>45</td>\n",
       "    </tr>\n",
       "    <tr>\n",
       "      <th>1959-12-02</th>\n",
       "      <td>32</td>\n",
       "    </tr>\n",
       "    <tr>\n",
       "      <th>1959-12-03</th>\n",
       "      <td>46</td>\n",
       "    </tr>\n",
       "    <tr>\n",
       "      <th>1959-12-04</th>\n",
       "      <td>41</td>\n",
       "    </tr>\n",
       "    <tr>\n",
       "      <th>1959-12-05</th>\n",
       "      <td>34</td>\n",
       "    </tr>\n",
       "    <tr>\n",
       "      <th>1959-12-06</th>\n",
       "      <td>33</td>\n",
       "    </tr>\n",
       "    <tr>\n",
       "      <th>1959-12-07</th>\n",
       "      <td>36</td>\n",
       "    </tr>\n",
       "    <tr>\n",
       "      <th>1959-12-08</th>\n",
       "      <td>49</td>\n",
       "    </tr>\n",
       "    <tr>\n",
       "      <th>1959-12-09</th>\n",
       "      <td>43</td>\n",
       "    </tr>\n",
       "    <tr>\n",
       "      <th>1959-12-10</th>\n",
       "      <td>43</td>\n",
       "    </tr>\n",
       "    <tr>\n",
       "      <th>1959-12-11</th>\n",
       "      <td>34</td>\n",
       "    </tr>\n",
       "    <tr>\n",
       "      <th>1959-12-12</th>\n",
       "      <td>39</td>\n",
       "    </tr>\n",
       "    <tr>\n",
       "      <th>1959-12-13</th>\n",
       "      <td>35</td>\n",
       "    </tr>\n",
       "    <tr>\n",
       "      <th>1959-12-14</th>\n",
       "      <td>52</td>\n",
       "    </tr>\n",
       "    <tr>\n",
       "      <th>1959-12-15</th>\n",
       "      <td>47</td>\n",
       "    </tr>\n",
       "    <tr>\n",
       "      <th>1959-12-16</th>\n",
       "      <td>52</td>\n",
       "    </tr>\n",
       "    <tr>\n",
       "      <th>1959-12-17</th>\n",
       "      <td>39</td>\n",
       "    </tr>\n",
       "    <tr>\n",
       "      <th>1959-12-18</th>\n",
       "      <td>40</td>\n",
       "    </tr>\n",
       "    <tr>\n",
       "      <th>1959-12-19</th>\n",
       "      <td>42</td>\n",
       "    </tr>\n",
       "    <tr>\n",
       "      <th>1959-12-20</th>\n",
       "      <td>42</td>\n",
       "    </tr>\n",
       "    <tr>\n",
       "      <th>1959-12-21</th>\n",
       "      <td>53</td>\n",
       "    </tr>\n",
       "    <tr>\n",
       "      <th>1959-12-22</th>\n",
       "      <td>39</td>\n",
       "    </tr>\n",
       "    <tr>\n",
       "      <th>1959-12-23</th>\n",
       "      <td>40</td>\n",
       "    </tr>\n",
       "    <tr>\n",
       "      <th>1959-12-24</th>\n",
       "      <td>38</td>\n",
       "    </tr>\n",
       "    <tr>\n",
       "      <th>1959-12-25</th>\n",
       "      <td>44</td>\n",
       "    </tr>\n",
       "    <tr>\n",
       "      <th>1959-12-26</th>\n",
       "      <td>34</td>\n",
       "    </tr>\n",
       "    <tr>\n",
       "      <th>1959-12-27</th>\n",
       "      <td>37</td>\n",
       "    </tr>\n",
       "    <tr>\n",
       "      <th>1959-12-28</th>\n",
       "      <td>52</td>\n",
       "    </tr>\n",
       "    <tr>\n",
       "      <th>1959-12-29</th>\n",
       "      <td>48</td>\n",
       "    </tr>\n",
       "    <tr>\n",
       "      <th>1959-12-30</th>\n",
       "      <td>55</td>\n",
       "    </tr>\n",
       "    <tr>\n",
       "      <th>1959-12-31</th>\n",
       "      <td>50</td>\n",
       "    </tr>\n",
       "  </tbody>\n",
       "</table>\n",
       "</div>"
      ],
      "text/plain": [
       "            births\n",
       "date              \n",
       "1959-11-27      51\n",
       "1959-11-28      46\n",
       "1959-11-29      44\n",
       "1959-11-30      52\n",
       "1959-12-01      45\n",
       "1959-12-02      32\n",
       "1959-12-03      46\n",
       "1959-12-04      41\n",
       "1959-12-05      34\n",
       "1959-12-06      33\n",
       "1959-12-07      36\n",
       "1959-12-08      49\n",
       "1959-12-09      43\n",
       "1959-12-10      43\n",
       "1959-12-11      34\n",
       "1959-12-12      39\n",
       "1959-12-13      35\n",
       "1959-12-14      52\n",
       "1959-12-15      47\n",
       "1959-12-16      52\n",
       "1959-12-17      39\n",
       "1959-12-18      40\n",
       "1959-12-19      42\n",
       "1959-12-20      42\n",
       "1959-12-21      53\n",
       "1959-12-22      39\n",
       "1959-12-23      40\n",
       "1959-12-24      38\n",
       "1959-12-25      44\n",
       "1959-12-26      34\n",
       "1959-12-27      37\n",
       "1959-12-28      52\n",
       "1959-12-29      48\n",
       "1959-12-30      55\n",
       "1959-12-31      50"
      ]
     },
     "execution_count": 34,
     "metadata": {},
     "output_type": "execute_result"
    }
   ],
   "source": [
    "birth_test"
   ]
  },
  {
   "cell_type": "code",
   "execution_count": 35,
   "metadata": {},
   "outputs": [
    {
     "data": {
      "text/plain": [
       "6.859968149061197"
      ]
     },
     "execution_count": 35,
     "metadata": {},
     "output_type": "execute_result"
    }
   ],
   "source": [
    "np.sqrt(mean_squared_error(birth_test,birth_forecast)) # +/- 6 error in female birth per day"
   ]
  },
  {
   "cell_type": "code",
   "execution_count": 36,
   "metadata": {},
   "outputs": [],
   "source": [
    "# Data Transformation Techniques (to check whether it enhance model results)"
   ]
  },
  {
   "cell_type": "code",
   "execution_count": 37,
   "metadata": {},
   "outputs": [],
   "source": [
    "import pandas as pd\n",
    "import matplotlib.pyplot as plt\n",
    "%matplotlib inline"
   ]
  },
  {
   "cell_type": "code",
   "execution_count": 40,
   "metadata": {},
   "outputs": [
    {
     "data": {
      "text/html": [
       "<div>\n",
       "<style scoped>\n",
       "    .dataframe tbody tr th:only-of-type {\n",
       "        vertical-align: middle;\n",
       "    }\n",
       "\n",
       "    .dataframe tbody tr th {\n",
       "        vertical-align: top;\n",
       "    }\n",
       "\n",
       "    .dataframe thead th {\n",
       "        text-align: right;\n",
       "    }\n",
       "</style>\n",
       "<table border=\"1\" class=\"dataframe\">\n",
       "  <thead>\n",
       "    <tr style=\"text-align: right;\">\n",
       "      <th></th>\n",
       "      <th>births</th>\n",
       "    </tr>\n",
       "    <tr>\n",
       "      <th>date</th>\n",
       "      <th></th>\n",
       "    </tr>\n",
       "  </thead>\n",
       "  <tbody>\n",
       "    <tr>\n",
       "      <th>1959-01-01</th>\n",
       "      <td>35</td>\n",
       "    </tr>\n",
       "    <tr>\n",
       "      <th>1959-01-02</th>\n",
       "      <td>32</td>\n",
       "    </tr>\n",
       "    <tr>\n",
       "      <th>1959-01-03</th>\n",
       "      <td>30</td>\n",
       "    </tr>\n",
       "    <tr>\n",
       "      <th>1959-01-04</th>\n",
       "      <td>31</td>\n",
       "    </tr>\n",
       "    <tr>\n",
       "      <th>1959-01-05</th>\n",
       "      <td>44</td>\n",
       "    </tr>\n",
       "  </tbody>\n",
       "</table>\n",
       "</div>"
      ],
      "text/plain": [
       "            births\n",
       "date              \n",
       "1959-01-01      35\n",
       "1959-01-02      32\n",
       "1959-01-03      30\n",
       "1959-01-04      31\n",
       "1959-01-05      44"
      ]
     },
     "execution_count": 40,
     "metadata": {},
     "output_type": "execute_result"
    }
   ],
   "source": [
    "f_birth = pd.read_csv(\"C:\\\\Users\\\\sameer\\\\Desktop\\\\Datasets\\\\daily-total-female-births-CA.csv\",index_col = [0],parse_dates = [0])\n",
    "f_birth.head()"
   ]
  },
  {
   "cell_type": "code",
   "execution_count": 41,
   "metadata": {},
   "outputs": [
    {
     "data": {
      "text/html": [
       "<div>\n",
       "<style scoped>\n",
       "    .dataframe tbody tr th:only-of-type {\n",
       "        vertical-align: middle;\n",
       "    }\n",
       "\n",
       "    .dataframe tbody tr th {\n",
       "        vertical-align: top;\n",
       "    }\n",
       "\n",
       "    .dataframe thead th {\n",
       "        text-align: right;\n",
       "    }\n",
       "</style>\n",
       "<table border=\"1\" class=\"dataframe\">\n",
       "  <thead>\n",
       "    <tr style=\"text-align: right;\">\n",
       "      <th></th>\n",
       "      <th>births</th>\n",
       "    </tr>\n",
       "    <tr>\n",
       "      <th>date</th>\n",
       "      <th></th>\n",
       "    </tr>\n",
       "  </thead>\n",
       "  <tbody>\n",
       "    <tr>\n",
       "      <th>1959-12-27</th>\n",
       "      <td>37</td>\n",
       "    </tr>\n",
       "    <tr>\n",
       "      <th>1959-12-28</th>\n",
       "      <td>52</td>\n",
       "    </tr>\n",
       "    <tr>\n",
       "      <th>1959-12-29</th>\n",
       "      <td>48</td>\n",
       "    </tr>\n",
       "    <tr>\n",
       "      <th>1959-12-30</th>\n",
       "      <td>55</td>\n",
       "    </tr>\n",
       "    <tr>\n",
       "      <th>1959-12-31</th>\n",
       "      <td>50</td>\n",
       "    </tr>\n",
       "  </tbody>\n",
       "</table>\n",
       "</div>"
      ],
      "text/plain": [
       "            births\n",
       "date              \n",
       "1959-12-27      37\n",
       "1959-12-28      52\n",
       "1959-12-29      48\n",
       "1959-12-30      55\n",
       "1959-12-31      50"
      ]
     },
     "execution_count": 41,
     "metadata": {},
     "output_type": "execute_result"
    }
   ],
   "source": [
    "f_birth.tail()"
   ]
  },
  {
   "cell_type": "markdown",
   "metadata": {},
   "source": [
    "# Normalization (why?)-\n",
    "# 1. If your data is on different scales\n",
    "# 2. Because some algorithms works better when data is normalized"
   ]
  },
  {
   "cell_type": "code",
   "execution_count": 42,
   "metadata": {},
   "outputs": [
    {
     "data": {
      "text/plain": [
       "births    23\n",
       "dtype: int64"
      ]
     },
     "execution_count": 42,
     "metadata": {},
     "output_type": "execute_result"
    }
   ],
   "source": [
    "# Normalization = (x - min value)/(max value - min value)\n",
    "f_birth.min()"
   ]
  },
  {
   "cell_type": "code",
   "execution_count": 43,
   "metadata": {},
   "outputs": [
    {
     "data": {
      "text/plain": [
       "births    73\n",
       "dtype: int64"
      ]
     },
     "execution_count": 43,
     "metadata": {},
     "output_type": "execute_result"
    }
   ],
   "source": [
    "f_birth.max()"
   ]
  },
  {
   "cell_type": "code",
   "execution_count": 44,
   "metadata": {},
   "outputs": [
    {
     "data": {
      "text/plain": [
       "0.28"
      ]
     },
     "execution_count": 44,
     "metadata": {},
     "output_type": "execute_result"
    }
   ],
   "source": [
    "(37 - 23)/(73-23) # Eg"
   ]
  },
  {
   "cell_type": "code",
   "execution_count": 45,
   "metadata": {},
   "outputs": [],
   "source": [
    "from sklearn.preprocessing import MinMaxScaler"
   ]
  },
  {
   "cell_type": "code",
   "execution_count": 46,
   "metadata": {},
   "outputs": [],
   "source": [
    "birth_arr = f_birth.values # making a series or array from data frame to perfrom operations"
   ]
  },
  {
   "cell_type": "code",
   "execution_count": 47,
   "metadata": {},
   "outputs": [
    {
     "data": {
      "text/plain": [
       "array([[35],\n",
       "       [32],\n",
       "       [30],\n",
       "       [31],\n",
       "       [44],\n",
       "       [29],\n",
       "       [45],\n",
       "       [43],\n",
       "       [38],\n",
       "       [27],\n",
       "       [38],\n",
       "       [33],\n",
       "       [55],\n",
       "       [47],\n",
       "       [45],\n",
       "       [37],\n",
       "       [50],\n",
       "       [43],\n",
       "       [41],\n",
       "       [52],\n",
       "       [34],\n",
       "       [53],\n",
       "       [39],\n",
       "       [32],\n",
       "       [37],\n",
       "       [43],\n",
       "       [39],\n",
       "       [35],\n",
       "       [44],\n",
       "       [38],\n",
       "       [24],\n",
       "       [23],\n",
       "       [31],\n",
       "       [44],\n",
       "       [38],\n",
       "       [50],\n",
       "       [38],\n",
       "       [51],\n",
       "       [31],\n",
       "       [31],\n",
       "       [51],\n",
       "       [36],\n",
       "       [45],\n",
       "       [51],\n",
       "       [34],\n",
       "       [52],\n",
       "       [47],\n",
       "       [45],\n",
       "       [46],\n",
       "       [39],\n",
       "       [48],\n",
       "       [37],\n",
       "       [35],\n",
       "       [52],\n",
       "       [42],\n",
       "       [45],\n",
       "       [39],\n",
       "       [37],\n",
       "       [30],\n",
       "       [35],\n",
       "       [28],\n",
       "       [45],\n",
       "       [34],\n",
       "       [36],\n",
       "       [50],\n",
       "       [44],\n",
       "       [39],\n",
       "       [32],\n",
       "       [39],\n",
       "       [45],\n",
       "       [43],\n",
       "       [39],\n",
       "       [31],\n",
       "       [27],\n",
       "       [30],\n",
       "       [42],\n",
       "       [46],\n",
       "       [41],\n",
       "       [36],\n",
       "       [45],\n",
       "       [46],\n",
       "       [43],\n",
       "       [38],\n",
       "       [34],\n",
       "       [35],\n",
       "       [56],\n",
       "       [36],\n",
       "       [32],\n",
       "       [50],\n",
       "       [41],\n",
       "       [39],\n",
       "       [41],\n",
       "       [47],\n",
       "       [34],\n",
       "       [36],\n",
       "       [33],\n",
       "       [35],\n",
       "       [38],\n",
       "       [38],\n",
       "       [34],\n",
       "       [53],\n",
       "       [34],\n",
       "       [34],\n",
       "       [38],\n",
       "       [35],\n",
       "       [32],\n",
       "       [42],\n",
       "       [34],\n",
       "       [46],\n",
       "       [30],\n",
       "       [46],\n",
       "       [45],\n",
       "       [54],\n",
       "       [34],\n",
       "       [37],\n",
       "       [35],\n",
       "       [40],\n",
       "       [42],\n",
       "       [58],\n",
       "       [51],\n",
       "       [32],\n",
       "       [35],\n",
       "       [38],\n",
       "       [33],\n",
       "       [39],\n",
       "       [47],\n",
       "       [38],\n",
       "       [52],\n",
       "       [30],\n",
       "       [34],\n",
       "       [40],\n",
       "       [35],\n",
       "       [42],\n",
       "       [41],\n",
       "       [42],\n",
       "       [38],\n",
       "       [24],\n",
       "       [34],\n",
       "       [43],\n",
       "       [36],\n",
       "       [55],\n",
       "       [41],\n",
       "       [45],\n",
       "       [41],\n",
       "       [37],\n",
       "       [43],\n",
       "       [39],\n",
       "       [33],\n",
       "       [43],\n",
       "       [40],\n",
       "       [38],\n",
       "       [45],\n",
       "       [46],\n",
       "       [34],\n",
       "       [35],\n",
       "       [48],\n",
       "       [51],\n",
       "       [36],\n",
       "       [33],\n",
       "       [46],\n",
       "       [42],\n",
       "       [48],\n",
       "       [34],\n",
       "       [41],\n",
       "       [35],\n",
       "       [40],\n",
       "       [34],\n",
       "       [30],\n",
       "       [36],\n",
       "       [40],\n",
       "       [39],\n",
       "       [45],\n",
       "       [38],\n",
       "       [47],\n",
       "       [33],\n",
       "       [30],\n",
       "       [42],\n",
       "       [43],\n",
       "       [41],\n",
       "       [41],\n",
       "       [59],\n",
       "       [43],\n",
       "       [45],\n",
       "       [38],\n",
       "       [37],\n",
       "       [45],\n",
       "       [42],\n",
       "       [57],\n",
       "       [46],\n",
       "       [51],\n",
       "       [41],\n",
       "       [47],\n",
       "       [26],\n",
       "       [35],\n",
       "       [44],\n",
       "       [41],\n",
       "       [42],\n",
       "       [36],\n",
       "       [45],\n",
       "       [45],\n",
       "       [45],\n",
       "       [47],\n",
       "       [38],\n",
       "       [42],\n",
       "       [35],\n",
       "       [36],\n",
       "       [39],\n",
       "       [45],\n",
       "       [43],\n",
       "       [47],\n",
       "       [36],\n",
       "       [41],\n",
       "       [50],\n",
       "       [39],\n",
       "       [41],\n",
       "       [46],\n",
       "       [64],\n",
       "       [45],\n",
       "       [34],\n",
       "       [38],\n",
       "       [44],\n",
       "       [48],\n",
       "       [46],\n",
       "       [44],\n",
       "       [37],\n",
       "       [39],\n",
       "       [44],\n",
       "       [45],\n",
       "       [33],\n",
       "       [44],\n",
       "       [38],\n",
       "       [46],\n",
       "       [46],\n",
       "       [40],\n",
       "       [39],\n",
       "       [44],\n",
       "       [48],\n",
       "       [50],\n",
       "       [41],\n",
       "       [42],\n",
       "       [51],\n",
       "       [41],\n",
       "       [44],\n",
       "       [38],\n",
       "       [68],\n",
       "       [40],\n",
       "       [42],\n",
       "       [51],\n",
       "       [44],\n",
       "       [45],\n",
       "       [36],\n",
       "       [57],\n",
       "       [44],\n",
       "       [42],\n",
       "       [53],\n",
       "       [42],\n",
       "       [34],\n",
       "       [40],\n",
       "       [56],\n",
       "       [44],\n",
       "       [53],\n",
       "       [55],\n",
       "       [39],\n",
       "       [59],\n",
       "       [55],\n",
       "       [73],\n",
       "       [55],\n",
       "       [44],\n",
       "       [43],\n",
       "       [40],\n",
       "       [47],\n",
       "       [51],\n",
       "       [56],\n",
       "       [49],\n",
       "       [54],\n",
       "       [56],\n",
       "       [47],\n",
       "       [44],\n",
       "       [43],\n",
       "       [42],\n",
       "       [45],\n",
       "       [50],\n",
       "       [48],\n",
       "       [43],\n",
       "       [40],\n",
       "       [59],\n",
       "       [41],\n",
       "       [42],\n",
       "       [51],\n",
       "       [49],\n",
       "       [45],\n",
       "       [43],\n",
       "       [42],\n",
       "       [38],\n",
       "       [47],\n",
       "       [38],\n",
       "       [36],\n",
       "       [42],\n",
       "       [35],\n",
       "       [28],\n",
       "       [44],\n",
       "       [36],\n",
       "       [45],\n",
       "       [46],\n",
       "       [48],\n",
       "       [49],\n",
       "       [43],\n",
       "       [42],\n",
       "       [59],\n",
       "       [45],\n",
       "       [52],\n",
       "       [46],\n",
       "       [42],\n",
       "       [40],\n",
       "       [40],\n",
       "       [45],\n",
       "       [35],\n",
       "       [35],\n",
       "       [40],\n",
       "       [39],\n",
       "       [33],\n",
       "       [42],\n",
       "       [47],\n",
       "       [51],\n",
       "       [44],\n",
       "       [40],\n",
       "       [57],\n",
       "       [49],\n",
       "       [45],\n",
       "       [49],\n",
       "       [51],\n",
       "       [46],\n",
       "       [44],\n",
       "       [52],\n",
       "       [45],\n",
       "       [32],\n",
       "       [46],\n",
       "       [41],\n",
       "       [34],\n",
       "       [33],\n",
       "       [36],\n",
       "       [49],\n",
       "       [43],\n",
       "       [43],\n",
       "       [34],\n",
       "       [39],\n",
       "       [35],\n",
       "       [52],\n",
       "       [47],\n",
       "       [52],\n",
       "       [39],\n",
       "       [40],\n",
       "       [42],\n",
       "       [42],\n",
       "       [53],\n",
       "       [39],\n",
       "       [40],\n",
       "       [38],\n",
       "       [44],\n",
       "       [34],\n",
       "       [37],\n",
       "       [52],\n",
       "       [48],\n",
       "       [55],\n",
       "       [50]], dtype=int64)"
      ]
     },
     "execution_count": 47,
     "metadata": {},
     "output_type": "execute_result"
    }
   ],
   "source": [
    "birth_arr"
   ]
  },
  {
   "cell_type": "code",
   "execution_count": 48,
   "metadata": {},
   "outputs": [],
   "source": [
    "scaler = MinMaxScaler(feature_range = (0,1))\n",
    "scaler = scaler.fit(birth_arr)"
   ]
  },
  {
   "cell_type": "code",
   "execution_count": 49,
   "metadata": {},
   "outputs": [
    {
     "data": {
      "text/plain": [
       "array([23.])"
      ]
     },
     "execution_count": 49,
     "metadata": {},
     "output_type": "execute_result"
    }
   ],
   "source": [
    "scaler.data_min_"
   ]
  },
  {
   "cell_type": "code",
   "execution_count": 50,
   "metadata": {},
   "outputs": [
    {
     "data": {
      "text/plain": [
       "array([73.])"
      ]
     },
     "execution_count": 50,
     "metadata": {},
     "output_type": "execute_result"
    }
   ],
   "source": [
    "scaler.data_max_"
   ]
  },
  {
   "cell_type": "code",
   "execution_count": 51,
   "metadata": {},
   "outputs": [],
   "source": [
    "birth_normalize = scaler.transform(birth_arr)"
   ]
  },
  {
   "cell_type": "code",
   "execution_count": 52,
   "metadata": {},
   "outputs": [
    {
     "data": {
      "text/plain": [
       "array([0.24])"
      ]
     },
     "execution_count": 52,
     "metadata": {},
     "output_type": "execute_result"
    }
   ],
   "source": [
    "birth_normalize[0]"
   ]
  },
  {
   "cell_type": "code",
   "execution_count": 53,
   "metadata": {},
   "outputs": [
    {
     "data": {
      "text/plain": [
       "array([0.58])"
      ]
     },
     "execution_count": 53,
     "metadata": {},
     "output_type": "execute_result"
    }
   ],
   "source": [
    "birth_normalize[45]"
   ]
  },
  {
   "cell_type": "code",
   "execution_count": 54,
   "metadata": {},
   "outputs": [
    {
     "name": "stdout",
     "output_type": "stream",
     "text": [
      "[0.24]\n",
      "[0.18]\n",
      "[0.14]\n",
      "[0.16]\n",
      "[0.42]\n"
     ]
    }
   ],
   "source": [
    "for i in range(5):\n",
    "    print(birth_normalize[i])"
   ]
  },
  {
   "cell_type": "code",
   "execution_count": 55,
   "metadata": {},
   "outputs": [],
   "source": [
    "# Train Test Split\n",
    "birth_train = birth_normalize[0:330]\n",
    "birth_test = birth_normalize[330:365]"
   ]
  },
  {
   "cell_type": "code",
   "execution_count": 56,
   "metadata": {},
   "outputs": [],
   "source": [
    "from statsmodels.tsa.arima_model import ARIMA"
   ]
  },
  {
   "cell_type": "code",
   "execution_count": 57,
   "metadata": {},
   "outputs": [],
   "source": [
    "birth_model = ARIMA(birth_train,order = (2,1,3))"
   ]
  },
  {
   "cell_type": "code",
   "execution_count": 58,
   "metadata": {},
   "outputs": [],
   "source": [
    " birth_model_fit = birth_model.fit()"
   ]
  },
  {
   "cell_type": "code",
   "execution_count": 59,
   "metadata": {},
   "outputs": [
    {
     "data": {
      "text/plain": [
       "-343.16289073616747"
      ]
     },
     "execution_count": 59,
     "metadata": {},
     "output_type": "execute_result"
    }
   ],
   "source": [
    "birth_model_fit.aic"
   ]
  },
  {
   "cell_type": "code",
   "execution_count": 60,
   "metadata": {},
   "outputs": [
    {
     "data": {
      "text/plain": [
       "array([0.44606346, 0.46620536, 0.41298569, 0.43183533, 0.46993237,\n",
       "       0.42686521, 0.42178998, 0.46686879, 0.44150121, 0.41761534,\n",
       "       0.45903414, 0.45390821, 0.41947399, 0.44912697, 0.46206741,\n",
       "       0.42622081, 0.43983982, 0.46519547, 0.43586223, 0.43328851,\n",
       "       0.46370663, 0.44611969, 0.43065835, 0.45892679, 0.45496046,\n",
       "       0.4321063 , 0.45266137, 0.46098857, 0.43689759, 0.44673274,\n",
       "       0.46363588, 0.44370916, 0.44259056, 0.46314591, 0.4510077 ])"
      ]
     },
     "execution_count": 60,
     "metadata": {},
     "output_type": "execute_result"
    }
   ],
   "source": [
    "birth_forecast = birth_model_fit.forecast(steps = 35)[0]\n",
    "birth_forecast"
   ]
  },
  {
   "cell_type": "code",
   "execution_count": 61,
   "metadata": {},
   "outputs": [
    {
     "data": {
      "text/plain": [
       "array([[0.56],\n",
       "       [0.46],\n",
       "       [0.42],\n",
       "       [0.58],\n",
       "       [0.44],\n",
       "       [0.18],\n",
       "       [0.46],\n",
       "       [0.36],\n",
       "       [0.22],\n",
       "       [0.2 ],\n",
       "       [0.26],\n",
       "       [0.52],\n",
       "       [0.4 ],\n",
       "       [0.4 ],\n",
       "       [0.22],\n",
       "       [0.32],\n",
       "       [0.24],\n",
       "       [0.58],\n",
       "       [0.48],\n",
       "       [0.58],\n",
       "       [0.32],\n",
       "       [0.34],\n",
       "       [0.38],\n",
       "       [0.38],\n",
       "       [0.6 ],\n",
       "       [0.32],\n",
       "       [0.34],\n",
       "       [0.3 ],\n",
       "       [0.42],\n",
       "       [0.22],\n",
       "       [0.28],\n",
       "       [0.58],\n",
       "       [0.5 ],\n",
       "       [0.64],\n",
       "       [0.54]])"
      ]
     },
     "execution_count": 61,
     "metadata": {},
     "output_type": "execute_result"
    }
   ],
   "source": [
    "birth_test"
   ]
  },
  {
   "cell_type": "code",
   "execution_count": 62,
   "metadata": {},
   "outputs": [],
   "source": [
    "from sklearn.metrics import mean_squared_error\n",
    "import numpy as np"
   ]
  },
  {
   "cell_type": "code",
   "execution_count": 63,
   "metadata": {},
   "outputs": [
    {
     "data": {
      "text/plain": [
       "0.1371974819897651"
      ]
     },
     "execution_count": 63,
     "metadata": {},
     "output_type": "execute_result"
    }
   ],
   "source": [
    "np.sqrt(mean_squared_error(birth_test,birth_forecast))"
   ]
  },
  {
   "cell_type": "code",
   "execution_count": 64,
   "metadata": {},
   "outputs": [],
   "source": [
    "# converting the forecast and test values back to their original range"
   ]
  },
  {
   "cell_type": "code",
   "execution_count": 65,
   "metadata": {},
   "outputs": [],
   "source": [
    "birth_forecast_reshape = birth_forecast.reshape(len(birth_forecast),1)\n",
    "birth_forecast_reverse = scaler.inverse_transform(birth_forecast_reshape)"
   ]
  },
  {
   "cell_type": "code",
   "execution_count": 66,
   "metadata": {},
   "outputs": [
    {
     "data": {
      "text/plain": [
       "array([[45.30317282],\n",
       "       [46.31026782],\n",
       "       [43.64928451],\n",
       "       [44.59176632],\n",
       "       [46.49661833],\n",
       "       [44.34326061],\n",
       "       [44.08949921],\n",
       "       [46.34343963],\n",
       "       [45.07506062],\n",
       "       [43.88076692],\n",
       "       [45.95170684],\n",
       "       [45.69541061],\n",
       "       [43.97369925],\n",
       "       [45.45634873],\n",
       "       [46.10337039],\n",
       "       [44.31104038],\n",
       "       [44.99199085],\n",
       "       [46.25977351],\n",
       "       [44.79311158],\n",
       "       [44.66442528],\n",
       "       [46.1853315 ],\n",
       "       [45.30598455],\n",
       "       [44.53291747],\n",
       "       [45.94633974],\n",
       "       [45.74802314],\n",
       "       [44.60531483],\n",
       "       [45.63306869],\n",
       "       [46.04942838],\n",
       "       [44.84487966],\n",
       "       [45.33663714],\n",
       "       [46.18179413],\n",
       "       [45.18545783],\n",
       "       [45.12952793],\n",
       "       [46.15729567],\n",
       "       [45.55038523]])"
      ]
     },
     "execution_count": 66,
     "metadata": {},
     "output_type": "execute_result"
    }
   ],
   "source": [
    "birth_forecast_reverse"
   ]
  },
  {
   "cell_type": "code",
   "execution_count": 67,
   "metadata": {},
   "outputs": [],
   "source": [
    "birth_test_reshape = birth_test.reshape(len(birth_test),1)\n",
    "birth_test_reverse = scaler.inverse_transform(birth_test_reshape)"
   ]
  },
  {
   "cell_type": "code",
   "execution_count": 68,
   "metadata": {},
   "outputs": [
    {
     "data": {
      "text/plain": [
       "array([[51.],\n",
       "       [46.],\n",
       "       [44.],\n",
       "       [52.],\n",
       "       [45.],\n",
       "       [32.],\n",
       "       [46.],\n",
       "       [41.],\n",
       "       [34.],\n",
       "       [33.],\n",
       "       [36.],\n",
       "       [49.],\n",
       "       [43.],\n",
       "       [43.],\n",
       "       [34.],\n",
       "       [39.],\n",
       "       [35.],\n",
       "       [52.],\n",
       "       [47.],\n",
       "       [52.],\n",
       "       [39.],\n",
       "       [40.],\n",
       "       [42.],\n",
       "       [42.],\n",
       "       [53.],\n",
       "       [39.],\n",
       "       [40.],\n",
       "       [38.],\n",
       "       [44.],\n",
       "       [34.],\n",
       "       [37.],\n",
       "       [52.],\n",
       "       [48.],\n",
       "       [55.],\n",
       "       [50.]])"
      ]
     },
     "execution_count": 68,
     "metadata": {},
     "output_type": "execute_result"
    }
   ],
   "source": [
    "birth_test_reverse"
   ]
  },
  {
   "cell_type": "code",
   "execution_count": 69,
   "metadata": {},
   "outputs": [
    {
     "data": {
      "text/plain": [
       "6.8598740994882546"
      ]
     },
     "execution_count": 69,
     "metadata": {},
     "output_type": "execute_result"
    }
   ],
   "source": [
    "np.sqrt(mean_squared_error(birth_test_reverse,birth_forecast_reverse)) \n",
    "# Error is little less but not considerable after normalization"
   ]
  },
  {
   "cell_type": "markdown",
   "metadata": {},
   "source": [
    "# Standardization \n",
    "# data should be normally distributed or gaussian distribution\n",
    "# (x - mean)/ standard deviation"
   ]
  },
  {
   "cell_type": "code",
   "execution_count": 70,
   "metadata": {},
   "outputs": [],
   "source": [
    "from sklearn.preprocessing import StandardScaler"
   ]
  },
  {
   "cell_type": "code",
   "execution_count": 71,
   "metadata": {},
   "outputs": [],
   "source": [
    "std_scaler = StandardScaler()\n",
    "std_scaler = std_scaler.fit(birth_arr)"
   ]
  },
  {
   "cell_type": "code",
   "execution_count": 72,
   "metadata": {},
   "outputs": [
    {
     "data": {
      "text/plain": [
       "array([41.98082192])"
      ]
     },
     "execution_count": 72,
     "metadata": {},
     "output_type": "execute_result"
    }
   ],
   "source": [
    "std_scaler.mean_"
   ]
  },
  {
   "cell_type": "code",
   "execution_count": 73,
   "metadata": {},
   "outputs": [
    {
     "data": {
      "text/plain": [
       "array([53.84894727])"
      ]
     },
     "execution_count": 73,
     "metadata": {},
     "output_type": "execute_result"
    }
   ],
   "source": [
    "std_scaler.var_"
   ]
  },
  {
   "cell_type": "code",
   "execution_count": 74,
   "metadata": {},
   "outputs": [
    {
     "data": {
      "text/plain": [
       "array([-0.95130099])"
      ]
     },
     "execution_count": 74,
     "metadata": {},
     "output_type": "execute_result"
    }
   ],
   "source": [
    "std_birth = std_scaler.transform(birth_arr)\n",
    "std_birth[0]"
   ]
  },
  {
   "cell_type": "code",
   "execution_count": 75,
   "metadata": {},
   "outputs": [
    {
     "name": "stdout",
     "output_type": "stream",
     "text": [
      "[-0.95130099]\n",
      "[-1.36012148]\n",
      "[-1.63266846]\n",
      "[-1.49639497]\n",
      "[0.27516045]\n"
     ]
    }
   ],
   "source": [
    "for i in range(5):\n",
    "    print(std_birth[i])"
   ]
  },
  {
   "cell_type": "code",
   "execution_count": 76,
   "metadata": {},
   "outputs": [],
   "source": [
    "# Train Test Split\n",
    "std_birth_train = std_birth[0:330]\n",
    "std_birth_test = std_birth[330:365]"
   ]
  },
  {
   "cell_type": "code",
   "execution_count": 77,
   "metadata": {},
   "outputs": [],
   "source": [
    "std_birth_arima = ARIMA(std_birth_train,order=(2,1,3))\n",
    "std_birth_arima_fit = std_birth_arima.fit()"
   ]
  },
  {
   "cell_type": "code",
   "execution_count": 78,
   "metadata": {},
   "outputs": [
    {
     "data": {
      "text/plain": [
       "919.4940851001691"
      ]
     },
     "execution_count": 78,
     "metadata": {},
     "output_type": "execute_result"
    }
   ],
   "source": [
    "std_birth_arima_fit.aic"
   ]
  },
  {
   "cell_type": "code",
   "execution_count": 79,
   "metadata": {},
   "outputs": [],
   "source": [
    "std_birth_forecast = std_birth_arima_fit.forecast(steps = 35)[0]"
   ]
  },
  {
   "cell_type": "code",
   "execution_count": 80,
   "metadata": {},
   "outputs": [
    {
     "data": {
      "text/plain": [
       "array([0.45280868, 0.59003571, 0.22738146, 0.35584871, 0.61543926,\n",
       "       0.32195923, 0.2873904 , 0.59456632, 0.42169487, 0.25893792,\n",
       "       0.54117853, 0.50624233, 0.27160043, 0.47366598, 0.56184314,\n",
       "       0.3175747 , 0.41037783, 0.58315854, 0.38327503, 0.36573343,\n",
       "       0.57301127, 0.45317329, 0.34781053, 0.54043725, 0.5134168 ,\n",
       "       0.35767854, 0.49774017, 0.55449234, 0.39032989, 0.45733927,\n",
       "       0.57252867, 0.43674767, 0.42911347, 0.56918578, 0.48648267])"
      ]
     },
     "execution_count": 80,
     "metadata": {},
     "output_type": "execute_result"
    }
   ],
   "source": [
    "std_birth_forecast"
   ]
  },
  {
   "cell_type": "code",
   "execution_count": 81,
   "metadata": {},
   "outputs": [
    {
     "data": {
      "text/plain": [
       "array([[ 1.22907491],\n",
       "       [ 0.54770744],\n",
       "       [ 0.27516045],\n",
       "       [ 1.3653484 ],\n",
       "       [ 0.41143395],\n",
       "       [-1.36012148],\n",
       "       [ 0.54770744],\n",
       "       [-0.13366003],\n",
       "       [-1.08757449],\n",
       "       [-1.22384798],\n",
       "       [-0.8150275 ],\n",
       "       [ 0.95652792],\n",
       "       [ 0.13888696],\n",
       "       [ 0.13888696],\n",
       "       [-1.08757449],\n",
       "       [-0.40620702],\n",
       "       [-0.95130099],\n",
       "       [ 1.3653484 ],\n",
       "       [ 0.68398093],\n",
       "       [ 1.3653484 ],\n",
       "       [-0.40620702],\n",
       "       [-0.26993352],\n",
       "       [ 0.00261346],\n",
       "       [ 0.00261346],\n",
       "       [ 1.5016219 ],\n",
       "       [-0.40620702],\n",
       "       [-0.26993352],\n",
       "       [-0.54248051],\n",
       "       [ 0.27516045],\n",
       "       [-1.08757449],\n",
       "       [-0.67875401],\n",
       "       [ 1.3653484 ],\n",
       "       [ 0.82025443],\n",
       "       [ 1.77416889],\n",
       "       [ 1.09280142]])"
      ]
     },
     "execution_count": 81,
     "metadata": {},
     "output_type": "execute_result"
    }
   ],
   "source": [
    "std_birth_test"
   ]
  },
  {
   "cell_type": "code",
   "execution_count": 82,
   "metadata": {},
   "outputs": [],
   "source": [
    "std_birth_forecast_reshape = std_birth_forecast.reshape(len(std_birth_forecast),1)\n",
    "std_birth_forecast_reverse = std_scaler.inverse_transform(std_birth_forecast_reshape)"
   ]
  },
  {
   "cell_type": "code",
   "execution_count": 83,
   "metadata": {},
   "outputs": [
    {
     "data": {
      "text/plain": [
       "array([[45.30361539],\n",
       "       [46.31061267],\n",
       "       [43.64938897],\n",
       "       [44.5921053 ],\n",
       "       [46.49702858],\n",
       "       [44.34341804],\n",
       "       [44.08974558],\n",
       "       [46.3438591 ],\n",
       "       [45.07529656],\n",
       "       [43.8809561 ],\n",
       "       [45.95208964],\n",
       "       [45.6957214 ],\n",
       "       [43.97387587],\n",
       "       [45.45667012],\n",
       "       [46.10373034],\n",
       "       [44.31124357],\n",
       "       [44.99225005],\n",
       "       [46.26014668],\n",
       "       [44.79336465],\n",
       "       [44.66464122],\n",
       "       [46.18568417],\n",
       "       [45.306291  ],\n",
       "       [44.53311966],\n",
       "       [45.94664997],\n",
       "       [45.74836895],\n",
       "       [44.6055329 ],\n",
       "       [45.63333099],\n",
       "       [46.04978886],\n",
       "       [44.84513456],\n",
       "       [45.33686172],\n",
       "       [46.18214273],\n",
       "       [45.18575679],\n",
       "       [45.12973562],\n",
       "       [46.15761203],\n",
       "       [45.55072135]])"
      ]
     },
     "execution_count": 83,
     "metadata": {},
     "output_type": "execute_result"
    }
   ],
   "source": [
    "std_birth_forecast_reverse"
   ]
  },
  {
   "cell_type": "code",
   "execution_count": 84,
   "metadata": {},
   "outputs": [],
   "source": [
    "std_birth_test_reshape = std_birth_test.reshape(len(std_birth_test),1)\n",
    "std_birth_test_reverse = std_scaler.inverse_transform(std_birth_test_reshape)"
   ]
  },
  {
   "cell_type": "code",
   "execution_count": 85,
   "metadata": {},
   "outputs": [
    {
     "data": {
      "text/plain": [
       "array([[51.],\n",
       "       [46.],\n",
       "       [44.],\n",
       "       [52.],\n",
       "       [45.],\n",
       "       [32.],\n",
       "       [46.],\n",
       "       [41.],\n",
       "       [34.],\n",
       "       [33.],\n",
       "       [36.],\n",
       "       [49.],\n",
       "       [43.],\n",
       "       [43.],\n",
       "       [34.],\n",
       "       [39.],\n",
       "       [35.],\n",
       "       [52.],\n",
       "       [47.],\n",
       "       [52.],\n",
       "       [39.],\n",
       "       [40.],\n",
       "       [42.],\n",
       "       [42.],\n",
       "       [53.],\n",
       "       [39.],\n",
       "       [40.],\n",
       "       [38.],\n",
       "       [44.],\n",
       "       [34.],\n",
       "       [37.],\n",
       "       [52.],\n",
       "       [48.],\n",
       "       [55.],\n",
       "       [50.]])"
      ]
     },
     "execution_count": 85,
     "metadata": {},
     "output_type": "execute_result"
    }
   ],
   "source": [
    "std_birth_test_reverse"
   ]
  },
  {
   "cell_type": "code",
   "execution_count": 86,
   "metadata": {},
   "outputs": [
    {
     "data": {
      "text/plain": [
       "6.859955523596517"
      ]
     },
     "execution_count": 86,
     "metadata": {},
     "output_type": "execute_result"
    }
   ],
   "source": [
    "np.sqrt(mean_squared_error(std_birth_test_reverse,std_birth_forecast_reverse))\n",
    "# Standardization and normalization are almost the same so processes were not impactful"
   ]
  },
  {
   "cell_type": "markdown",
   "metadata": {},
   "source": [
    "# Feature Engineering \n",
    "# Not enough variables in the data sets\n",
    "# Making more variables to improve dataset and improve time series model\n",
    "# Create Lag variable to see correlation between data points\n",
    "# Create Moving Average or rolling mean"
   ]
  },
  {
   "cell_type": "code",
   "execution_count": 87,
   "metadata": {},
   "outputs": [],
   "source": [
    "import pandas as pd\n",
    "import matplotlib.pyplot as plt\n",
    "%matplotlib inline"
   ]
  },
  {
   "cell_type": "code",
   "execution_count": 146,
   "metadata": {},
   "outputs": [
    {
     "data": {
      "text/html": [
       "<div>\n",
       "<style scoped>\n",
       "    .dataframe tbody tr th:only-of-type {\n",
       "        vertical-align: middle;\n",
       "    }\n",
       "\n",
       "    .dataframe tbody tr th {\n",
       "        vertical-align: top;\n",
       "    }\n",
       "\n",
       "    .dataframe thead th {\n",
       "        text-align: right;\n",
       "    }\n",
       "</style>\n",
       "<table border=\"1\" class=\"dataframe\">\n",
       "  <thead>\n",
       "    <tr style=\"text-align: right;\">\n",
       "      <th></th>\n",
       "      <th>births</th>\n",
       "    </tr>\n",
       "    <tr>\n",
       "      <th>date</th>\n",
       "      <th></th>\n",
       "    </tr>\n",
       "  </thead>\n",
       "  <tbody>\n",
       "    <tr>\n",
       "      <th>1959-01-01</th>\n",
       "      <td>35</td>\n",
       "    </tr>\n",
       "    <tr>\n",
       "      <th>1959-01-02</th>\n",
       "      <td>32</td>\n",
       "    </tr>\n",
       "    <tr>\n",
       "      <th>1959-01-03</th>\n",
       "      <td>30</td>\n",
       "    </tr>\n",
       "    <tr>\n",
       "      <th>1959-01-04</th>\n",
       "      <td>31</td>\n",
       "    </tr>\n",
       "    <tr>\n",
       "      <th>1959-01-05</th>\n",
       "      <td>44</td>\n",
       "    </tr>\n",
       "  </tbody>\n",
       "</table>\n",
       "</div>"
      ],
      "text/plain": [
       "            births\n",
       "date              \n",
       "1959-01-01      35\n",
       "1959-01-02      32\n",
       "1959-01-03      30\n",
       "1959-01-04      31\n",
       "1959-01-05      44"
      ]
     },
     "execution_count": 146,
     "metadata": {},
     "output_type": "execute_result"
    }
   ],
   "source": [
    "f_birth = pd.read_csv(\"C:\\\\Users\\\\sameer\\\\Desktop\\\\Datasets\\\\daily-total-female-births-CA.csv\",index_col=[0],parse_dates=[0],nrows=365)\n",
    "f_birth.head()"
   ]
  },
  {
   "cell_type": "code",
   "execution_count": 89,
   "metadata": {},
   "outputs": [
    {
     "data": {
      "text/html": [
       "<div>\n",
       "<style scoped>\n",
       "    .dataframe tbody tr th:only-of-type {\n",
       "        vertical-align: middle;\n",
       "    }\n",
       "\n",
       "    .dataframe tbody tr th {\n",
       "        vertical-align: top;\n",
       "    }\n",
       "\n",
       "    .dataframe thead th {\n",
       "        text-align: right;\n",
       "    }\n",
       "</style>\n",
       "<table border=\"1\" class=\"dataframe\">\n",
       "  <thead>\n",
       "    <tr style=\"text-align: right;\">\n",
       "      <th></th>\n",
       "      <th>births</th>\n",
       "    </tr>\n",
       "    <tr>\n",
       "      <th>date</th>\n",
       "      <th></th>\n",
       "    </tr>\n",
       "  </thead>\n",
       "  <tbody>\n",
       "    <tr>\n",
       "      <th>1959-12-27</th>\n",
       "      <td>37</td>\n",
       "    </tr>\n",
       "    <tr>\n",
       "      <th>1959-12-28</th>\n",
       "      <td>52</td>\n",
       "    </tr>\n",
       "    <tr>\n",
       "      <th>1959-12-29</th>\n",
       "      <td>48</td>\n",
       "    </tr>\n",
       "    <tr>\n",
       "      <th>1959-12-30</th>\n",
       "      <td>55</td>\n",
       "    </tr>\n",
       "    <tr>\n",
       "      <th>1959-12-31</th>\n",
       "      <td>50</td>\n",
       "    </tr>\n",
       "  </tbody>\n",
       "</table>\n",
       "</div>"
      ],
      "text/plain": [
       "            births\n",
       "date              \n",
       "1959-12-27      37\n",
       "1959-12-28      52\n",
       "1959-12-29      48\n",
       "1959-12-30      55\n",
       "1959-12-31      50"
      ]
     },
     "execution_count": 89,
     "metadata": {},
     "output_type": "execute_result"
    }
   ],
   "source": [
    "f_birth.tail()"
   ]
  },
  {
   "cell_type": "code",
   "execution_count": 90,
   "metadata": {},
   "outputs": [
    {
     "data": {
      "text/html": [
       "<div>\n",
       "<style scoped>\n",
       "    .dataframe tbody tr th:only-of-type {\n",
       "        vertical-align: middle;\n",
       "    }\n",
       "\n",
       "    .dataframe tbody tr th {\n",
       "        vertical-align: top;\n",
       "    }\n",
       "\n",
       "    .dataframe thead th {\n",
       "        text-align: right;\n",
       "    }\n",
       "</style>\n",
       "<table border=\"1\" class=\"dataframe\">\n",
       "  <thead>\n",
       "    <tr style=\"text-align: right;\">\n",
       "      <th></th>\n",
       "      <th>births</th>\n",
       "      <th>lag1</th>\n",
       "    </tr>\n",
       "    <tr>\n",
       "      <th>date</th>\n",
       "      <th></th>\n",
       "      <th></th>\n",
       "    </tr>\n",
       "  </thead>\n",
       "  <tbody>\n",
       "    <tr>\n",
       "      <th>1959-01-01</th>\n",
       "      <td>35</td>\n",
       "      <td>NaN</td>\n",
       "    </tr>\n",
       "    <tr>\n",
       "      <th>1959-01-02</th>\n",
       "      <td>32</td>\n",
       "      <td>35.0</td>\n",
       "    </tr>\n",
       "    <tr>\n",
       "      <th>1959-01-03</th>\n",
       "      <td>30</td>\n",
       "      <td>32.0</td>\n",
       "    </tr>\n",
       "    <tr>\n",
       "      <th>1959-01-04</th>\n",
       "      <td>31</td>\n",
       "      <td>30.0</td>\n",
       "    </tr>\n",
       "    <tr>\n",
       "      <th>1959-01-05</th>\n",
       "      <td>44</td>\n",
       "      <td>31.0</td>\n",
       "    </tr>\n",
       "  </tbody>\n",
       "</table>\n",
       "</div>"
      ],
      "text/plain": [
       "            births  lag1\n",
       "date                    \n",
       "1959-01-01      35   NaN\n",
       "1959-01-02      32  35.0\n",
       "1959-01-03      30  32.0\n",
       "1959-01-04      31  30.0\n",
       "1959-01-05      44  31.0"
      ]
     },
     "execution_count": 90,
     "metadata": {},
     "output_type": "execute_result"
    }
   ],
   "source": [
    "f_birth['lag1'] = f_birth['births'].shift(1) # created an additional variable with '1' lag\n",
    "f_birth.head()"
   ]
  },
  {
   "cell_type": "code",
   "execution_count": 91,
   "metadata": {},
   "outputs": [
    {
     "data": {
      "text/html": [
       "<div>\n",
       "<style scoped>\n",
       "    .dataframe tbody tr th:only-of-type {\n",
       "        vertical-align: middle;\n",
       "    }\n",
       "\n",
       "    .dataframe tbody tr th {\n",
       "        vertical-align: top;\n",
       "    }\n",
       "\n",
       "    .dataframe thead th {\n",
       "        text-align: right;\n",
       "    }\n",
       "</style>\n",
       "<table border=\"1\" class=\"dataframe\">\n",
       "  <thead>\n",
       "    <tr style=\"text-align: right;\">\n",
       "      <th></th>\n",
       "      <th>births</th>\n",
       "      <th>lag1</th>\n",
       "      <th>lag2</th>\n",
       "    </tr>\n",
       "    <tr>\n",
       "      <th>date</th>\n",
       "      <th></th>\n",
       "      <th></th>\n",
       "      <th></th>\n",
       "    </tr>\n",
       "  </thead>\n",
       "  <tbody>\n",
       "    <tr>\n",
       "      <th>1959-01-01</th>\n",
       "      <td>35</td>\n",
       "      <td>NaN</td>\n",
       "      <td>NaN</td>\n",
       "    </tr>\n",
       "    <tr>\n",
       "      <th>1959-01-02</th>\n",
       "      <td>32</td>\n",
       "      <td>35.0</td>\n",
       "      <td>NaN</td>\n",
       "    </tr>\n",
       "    <tr>\n",
       "      <th>1959-01-03</th>\n",
       "      <td>30</td>\n",
       "      <td>32.0</td>\n",
       "      <td>35.0</td>\n",
       "    </tr>\n",
       "    <tr>\n",
       "      <th>1959-01-04</th>\n",
       "      <td>31</td>\n",
       "      <td>30.0</td>\n",
       "      <td>32.0</td>\n",
       "    </tr>\n",
       "    <tr>\n",
       "      <th>1959-01-05</th>\n",
       "      <td>44</td>\n",
       "      <td>31.0</td>\n",
       "      <td>30.0</td>\n",
       "    </tr>\n",
       "  </tbody>\n",
       "</table>\n",
       "</div>"
      ],
      "text/plain": [
       "            births  lag1  lag2\n",
       "date                          \n",
       "1959-01-01      35   NaN   NaN\n",
       "1959-01-02      32  35.0   NaN\n",
       "1959-01-03      30  32.0  35.0\n",
       "1959-01-04      31  30.0  32.0\n",
       "1959-01-05      44  31.0  30.0"
      ]
     },
     "execution_count": 91,
     "metadata": {},
     "output_type": "execute_result"
    }
   ],
   "source": [
    "f_birth['lag2'] = f_birth['births'].shift(2)\n",
    "f_birth.head()"
   ]
  },
  {
   "cell_type": "code",
   "execution_count": 92,
   "metadata": {},
   "outputs": [
    {
     "data": {
      "text/html": [
       "<div>\n",
       "<style scoped>\n",
       "    .dataframe tbody tr th:only-of-type {\n",
       "        vertical-align: middle;\n",
       "    }\n",
       "\n",
       "    .dataframe tbody tr th {\n",
       "        vertical-align: top;\n",
       "    }\n",
       "\n",
       "    .dataframe thead th {\n",
       "        text-align: right;\n",
       "    }\n",
       "</style>\n",
       "<table border=\"1\" class=\"dataframe\">\n",
       "  <thead>\n",
       "    <tr style=\"text-align: right;\">\n",
       "      <th></th>\n",
       "      <th>births</th>\n",
       "      <th>lag1</th>\n",
       "      <th>lag2</th>\n",
       "      <th>lag3</th>\n",
       "    </tr>\n",
       "    <tr>\n",
       "      <th>date</th>\n",
       "      <th></th>\n",
       "      <th></th>\n",
       "      <th></th>\n",
       "      <th></th>\n",
       "    </tr>\n",
       "  </thead>\n",
       "  <tbody>\n",
       "    <tr>\n",
       "      <th>1959-01-01</th>\n",
       "      <td>35</td>\n",
       "      <td>NaN</td>\n",
       "      <td>NaN</td>\n",
       "      <td>NaN</td>\n",
       "    </tr>\n",
       "    <tr>\n",
       "      <th>1959-01-02</th>\n",
       "      <td>32</td>\n",
       "      <td>35.0</td>\n",
       "      <td>NaN</td>\n",
       "      <td>NaN</td>\n",
       "    </tr>\n",
       "    <tr>\n",
       "      <th>1959-01-03</th>\n",
       "      <td>30</td>\n",
       "      <td>32.0</td>\n",
       "      <td>35.0</td>\n",
       "      <td>NaN</td>\n",
       "    </tr>\n",
       "    <tr>\n",
       "      <th>1959-01-04</th>\n",
       "      <td>31</td>\n",
       "      <td>30.0</td>\n",
       "      <td>32.0</td>\n",
       "      <td>35.0</td>\n",
       "    </tr>\n",
       "    <tr>\n",
       "      <th>1959-01-05</th>\n",
       "      <td>44</td>\n",
       "      <td>31.0</td>\n",
       "      <td>30.0</td>\n",
       "      <td>32.0</td>\n",
       "    </tr>\n",
       "  </tbody>\n",
       "</table>\n",
       "</div>"
      ],
      "text/plain": [
       "            births  lag1  lag2  lag3\n",
       "date                                \n",
       "1959-01-01      35   NaN   NaN   NaN\n",
       "1959-01-02      32  35.0   NaN   NaN\n",
       "1959-01-03      30  32.0  35.0   NaN\n",
       "1959-01-04      31  30.0  32.0  35.0\n",
       "1959-01-05      44  31.0  30.0  32.0"
      ]
     },
     "execution_count": 92,
     "metadata": {},
     "output_type": "execute_result"
    }
   ],
   "source": [
    "f_birth['lag3'] = f_birth['births'].shift(3)\n",
    "f_birth.head() # We converted it from linear variable to multivariable"
   ]
  },
  {
   "cell_type": "code",
   "execution_count": 93,
   "metadata": {},
   "outputs": [
    {
     "data": {
      "text/html": [
       "<div>\n",
       "<style scoped>\n",
       "    .dataframe tbody tr th:only-of-type {\n",
       "        vertical-align: middle;\n",
       "    }\n",
       "\n",
       "    .dataframe tbody tr th {\n",
       "        vertical-align: top;\n",
       "    }\n",
       "\n",
       "    .dataframe thead th {\n",
       "        text-align: right;\n",
       "    }\n",
       "</style>\n",
       "<table border=\"1\" class=\"dataframe\">\n",
       "  <thead>\n",
       "    <tr style=\"text-align: right;\">\n",
       "      <th></th>\n",
       "      <th>births</th>\n",
       "      <th>lag1</th>\n",
       "      <th>lag2</th>\n",
       "      <th>lag3</th>\n",
       "      <th>MA3</th>\n",
       "    </tr>\n",
       "    <tr>\n",
       "      <th>date</th>\n",
       "      <th></th>\n",
       "      <th></th>\n",
       "      <th></th>\n",
       "      <th></th>\n",
       "      <th></th>\n",
       "    </tr>\n",
       "  </thead>\n",
       "  <tbody>\n",
       "    <tr>\n",
       "      <th>1959-01-01</th>\n",
       "      <td>35</td>\n",
       "      <td>NaN</td>\n",
       "      <td>NaN</td>\n",
       "      <td>NaN</td>\n",
       "      <td>NaN</td>\n",
       "    </tr>\n",
       "    <tr>\n",
       "      <th>1959-01-02</th>\n",
       "      <td>32</td>\n",
       "      <td>35.0</td>\n",
       "      <td>NaN</td>\n",
       "      <td>NaN</td>\n",
       "      <td>NaN</td>\n",
       "    </tr>\n",
       "    <tr>\n",
       "      <th>1959-01-03</th>\n",
       "      <td>30</td>\n",
       "      <td>32.0</td>\n",
       "      <td>35.0</td>\n",
       "      <td>NaN</td>\n",
       "      <td>32.333333</td>\n",
       "    </tr>\n",
       "    <tr>\n",
       "      <th>1959-01-04</th>\n",
       "      <td>31</td>\n",
       "      <td>30.0</td>\n",
       "      <td>32.0</td>\n",
       "      <td>35.0</td>\n",
       "      <td>31.000000</td>\n",
       "    </tr>\n",
       "    <tr>\n",
       "      <th>1959-01-05</th>\n",
       "      <td>44</td>\n",
       "      <td>31.0</td>\n",
       "      <td>30.0</td>\n",
       "      <td>32.0</td>\n",
       "      <td>35.000000</td>\n",
       "    </tr>\n",
       "  </tbody>\n",
       "</table>\n",
       "</div>"
      ],
      "text/plain": [
       "            births  lag1  lag2  lag3        MA3\n",
       "date                                           \n",
       "1959-01-01      35   NaN   NaN   NaN        NaN\n",
       "1959-01-02      32  35.0   NaN   NaN        NaN\n",
       "1959-01-03      30  32.0  35.0   NaN  32.333333\n",
       "1959-01-04      31  30.0  32.0  35.0  31.000000\n",
       "1959-01-05      44  31.0  30.0  32.0  35.000000"
      ]
     },
     "execution_count": 93,
     "metadata": {},
     "output_type": "execute_result"
    }
   ],
   "source": [
    "f_birth['MA3'] = f_birth['births'].rolling(window = 3).mean() # makes the mean of first '3' values as the first point\n",
    "f_birth.head()"
   ]
  },
  {
   "cell_type": "code",
   "execution_count": 94,
   "metadata": {},
   "outputs": [
    {
     "data": {
      "text/html": [
       "<div>\n",
       "<style scoped>\n",
       "    .dataframe tbody tr th:only-of-type {\n",
       "        vertical-align: middle;\n",
       "    }\n",
       "\n",
       "    .dataframe tbody tr th {\n",
       "        vertical-align: top;\n",
       "    }\n",
       "\n",
       "    .dataframe thead th {\n",
       "        text-align: right;\n",
       "    }\n",
       "</style>\n",
       "<table border=\"1\" class=\"dataframe\">\n",
       "  <thead>\n",
       "    <tr style=\"text-align: right;\">\n",
       "      <th></th>\n",
       "      <th>births</th>\n",
       "      <th>lag1</th>\n",
       "      <th>lag2</th>\n",
       "      <th>lag3</th>\n",
       "      <th>MA3</th>\n",
       "      <th>MA4</th>\n",
       "    </tr>\n",
       "    <tr>\n",
       "      <th>date</th>\n",
       "      <th></th>\n",
       "      <th></th>\n",
       "      <th></th>\n",
       "      <th></th>\n",
       "      <th></th>\n",
       "      <th></th>\n",
       "    </tr>\n",
       "  </thead>\n",
       "  <tbody>\n",
       "    <tr>\n",
       "      <th>1959-01-01</th>\n",
       "      <td>35</td>\n",
       "      <td>NaN</td>\n",
       "      <td>NaN</td>\n",
       "      <td>NaN</td>\n",
       "      <td>NaN</td>\n",
       "      <td>NaN</td>\n",
       "    </tr>\n",
       "    <tr>\n",
       "      <th>1959-01-02</th>\n",
       "      <td>32</td>\n",
       "      <td>35.0</td>\n",
       "      <td>NaN</td>\n",
       "      <td>NaN</td>\n",
       "      <td>NaN</td>\n",
       "      <td>NaN</td>\n",
       "    </tr>\n",
       "    <tr>\n",
       "      <th>1959-01-03</th>\n",
       "      <td>30</td>\n",
       "      <td>32.0</td>\n",
       "      <td>35.0</td>\n",
       "      <td>NaN</td>\n",
       "      <td>32.333333</td>\n",
       "      <td>NaN</td>\n",
       "    </tr>\n",
       "    <tr>\n",
       "      <th>1959-01-04</th>\n",
       "      <td>31</td>\n",
       "      <td>30.0</td>\n",
       "      <td>32.0</td>\n",
       "      <td>35.0</td>\n",
       "      <td>31.000000</td>\n",
       "      <td>32.00</td>\n",
       "    </tr>\n",
       "    <tr>\n",
       "      <th>1959-01-05</th>\n",
       "      <td>44</td>\n",
       "      <td>31.0</td>\n",
       "      <td>30.0</td>\n",
       "      <td>32.0</td>\n",
       "      <td>35.000000</td>\n",
       "      <td>34.25</td>\n",
       "    </tr>\n",
       "  </tbody>\n",
       "</table>\n",
       "</div>"
      ],
      "text/plain": [
       "            births  lag1  lag2  lag3        MA3    MA4\n",
       "date                                                  \n",
       "1959-01-01      35   NaN   NaN   NaN        NaN    NaN\n",
       "1959-01-02      32  35.0   NaN   NaN        NaN    NaN\n",
       "1959-01-03      30  32.0  35.0   NaN  32.333333    NaN\n",
       "1959-01-04      31  30.0  32.0  35.0  31.000000  32.00\n",
       "1959-01-05      44  31.0  30.0  32.0  35.000000  34.25"
      ]
     },
     "execution_count": 94,
     "metadata": {},
     "output_type": "execute_result"
    }
   ],
   "source": [
    "f_birth['MA4'] = f_birth['births'].rolling(window = 4).mean()\n",
    "f_birth.head()"
   ]
  },
  {
   "cell_type": "code",
   "execution_count": 95,
   "metadata": {},
   "outputs": [
    {
     "data": {
      "text/html": [
       "<div>\n",
       "<style scoped>\n",
       "    .dataframe tbody tr th:only-of-type {\n",
       "        vertical-align: middle;\n",
       "    }\n",
       "\n",
       "    .dataframe tbody tr th {\n",
       "        vertical-align: top;\n",
       "    }\n",
       "\n",
       "    .dataframe thead th {\n",
       "        text-align: right;\n",
       "    }\n",
       "</style>\n",
       "<table border=\"1\" class=\"dataframe\">\n",
       "  <thead>\n",
       "    <tr style=\"text-align: right;\">\n",
       "      <th></th>\n",
       "      <th>births</th>\n",
       "      <th>lag1</th>\n",
       "      <th>lag2</th>\n",
       "      <th>lag3</th>\n",
       "      <th>MA3</th>\n",
       "      <th>MA4</th>\n",
       "      <th>MA5</th>\n",
       "    </tr>\n",
       "    <tr>\n",
       "      <th>date</th>\n",
       "      <th></th>\n",
       "      <th></th>\n",
       "      <th></th>\n",
       "      <th></th>\n",
       "      <th></th>\n",
       "      <th></th>\n",
       "      <th></th>\n",
       "    </tr>\n",
       "  </thead>\n",
       "  <tbody>\n",
       "    <tr>\n",
       "      <th>1959-01-01</th>\n",
       "      <td>35</td>\n",
       "      <td>NaN</td>\n",
       "      <td>NaN</td>\n",
       "      <td>NaN</td>\n",
       "      <td>NaN</td>\n",
       "      <td>NaN</td>\n",
       "      <td>NaN</td>\n",
       "    </tr>\n",
       "    <tr>\n",
       "      <th>1959-01-02</th>\n",
       "      <td>32</td>\n",
       "      <td>35.0</td>\n",
       "      <td>NaN</td>\n",
       "      <td>NaN</td>\n",
       "      <td>NaN</td>\n",
       "      <td>NaN</td>\n",
       "      <td>NaN</td>\n",
       "    </tr>\n",
       "    <tr>\n",
       "      <th>1959-01-03</th>\n",
       "      <td>30</td>\n",
       "      <td>32.0</td>\n",
       "      <td>35.0</td>\n",
       "      <td>NaN</td>\n",
       "      <td>32.333333</td>\n",
       "      <td>NaN</td>\n",
       "      <td>NaN</td>\n",
       "    </tr>\n",
       "    <tr>\n",
       "      <th>1959-01-04</th>\n",
       "      <td>31</td>\n",
       "      <td>30.0</td>\n",
       "      <td>32.0</td>\n",
       "      <td>35.0</td>\n",
       "      <td>31.000000</td>\n",
       "      <td>32.00</td>\n",
       "      <td>NaN</td>\n",
       "    </tr>\n",
       "    <tr>\n",
       "      <th>1959-01-05</th>\n",
       "      <td>44</td>\n",
       "      <td>31.0</td>\n",
       "      <td>30.0</td>\n",
       "      <td>32.0</td>\n",
       "      <td>35.000000</td>\n",
       "      <td>34.25</td>\n",
       "      <td>34.4</td>\n",
       "    </tr>\n",
       "  </tbody>\n",
       "</table>\n",
       "</div>"
      ],
      "text/plain": [
       "            births  lag1  lag2  lag3        MA3    MA4   MA5\n",
       "date                                                        \n",
       "1959-01-01      35   NaN   NaN   NaN        NaN    NaN   NaN\n",
       "1959-01-02      32  35.0   NaN   NaN        NaN    NaN   NaN\n",
       "1959-01-03      30  32.0  35.0   NaN  32.333333    NaN   NaN\n",
       "1959-01-04      31  30.0  32.0  35.0  31.000000  32.00   NaN\n",
       "1959-01-05      44  31.0  30.0  32.0  35.000000  34.25  34.4"
      ]
     },
     "execution_count": 95,
     "metadata": {},
     "output_type": "execute_result"
    }
   ],
   "source": [
    "f_birth['MA5'] = f_birth['births'].rolling(window = 5).mean()\n",
    "f_birth.head()"
   ]
  },
  {
   "cell_type": "code",
   "execution_count": 96,
   "metadata": {},
   "outputs": [
    {
     "data": {
      "text/html": [
       "<div>\n",
       "<style scoped>\n",
       "    .dataframe tbody tr th:only-of-type {\n",
       "        vertical-align: middle;\n",
       "    }\n",
       "\n",
       "    .dataframe tbody tr th {\n",
       "        vertical-align: top;\n",
       "    }\n",
       "\n",
       "    .dataframe thead th {\n",
       "        text-align: right;\n",
       "    }\n",
       "</style>\n",
       "<table border=\"1\" class=\"dataframe\">\n",
       "  <thead>\n",
       "    <tr style=\"text-align: right;\">\n",
       "      <th></th>\n",
       "      <th>births</th>\n",
       "      <th>lag1</th>\n",
       "      <th>lag2</th>\n",
       "      <th>lag3</th>\n",
       "      <th>MA3</th>\n",
       "      <th>MA4</th>\n",
       "      <th>MA5</th>\n",
       "      <th>Max_5</th>\n",
       "    </tr>\n",
       "    <tr>\n",
       "      <th>date</th>\n",
       "      <th></th>\n",
       "      <th></th>\n",
       "      <th></th>\n",
       "      <th></th>\n",
       "      <th></th>\n",
       "      <th></th>\n",
       "      <th></th>\n",
       "      <th></th>\n",
       "    </tr>\n",
       "  </thead>\n",
       "  <tbody>\n",
       "    <tr>\n",
       "      <th>1959-01-01</th>\n",
       "      <td>35</td>\n",
       "      <td>NaN</td>\n",
       "      <td>NaN</td>\n",
       "      <td>NaN</td>\n",
       "      <td>NaN</td>\n",
       "      <td>NaN</td>\n",
       "      <td>NaN</td>\n",
       "      <td>NaN</td>\n",
       "    </tr>\n",
       "    <tr>\n",
       "      <th>1959-01-02</th>\n",
       "      <td>32</td>\n",
       "      <td>35.0</td>\n",
       "      <td>NaN</td>\n",
       "      <td>NaN</td>\n",
       "      <td>NaN</td>\n",
       "      <td>NaN</td>\n",
       "      <td>NaN</td>\n",
       "      <td>NaN</td>\n",
       "    </tr>\n",
       "    <tr>\n",
       "      <th>1959-01-03</th>\n",
       "      <td>30</td>\n",
       "      <td>32.0</td>\n",
       "      <td>35.0</td>\n",
       "      <td>NaN</td>\n",
       "      <td>32.333333</td>\n",
       "      <td>NaN</td>\n",
       "      <td>NaN</td>\n",
       "      <td>NaN</td>\n",
       "    </tr>\n",
       "    <tr>\n",
       "      <th>1959-01-04</th>\n",
       "      <td>31</td>\n",
       "      <td>30.0</td>\n",
       "      <td>32.0</td>\n",
       "      <td>35.0</td>\n",
       "      <td>31.000000</td>\n",
       "      <td>32.00</td>\n",
       "      <td>NaN</td>\n",
       "      <td>NaN</td>\n",
       "    </tr>\n",
       "    <tr>\n",
       "      <th>1959-01-05</th>\n",
       "      <td>44</td>\n",
       "      <td>31.0</td>\n",
       "      <td>30.0</td>\n",
       "      <td>32.0</td>\n",
       "      <td>35.000000</td>\n",
       "      <td>34.25</td>\n",
       "      <td>34.4</td>\n",
       "      <td>44.0</td>\n",
       "    </tr>\n",
       "  </tbody>\n",
       "</table>\n",
       "</div>"
      ],
      "text/plain": [
       "            births  lag1  lag2  lag3        MA3    MA4   MA5  Max_5\n",
       "date                                                               \n",
       "1959-01-01      35   NaN   NaN   NaN        NaN    NaN   NaN    NaN\n",
       "1959-01-02      32  35.0   NaN   NaN        NaN    NaN   NaN    NaN\n",
       "1959-01-03      30  32.0  35.0   NaN  32.333333    NaN   NaN    NaN\n",
       "1959-01-04      31  30.0  32.0  35.0  31.000000  32.00   NaN    NaN\n",
       "1959-01-05      44  31.0  30.0  32.0  35.000000  34.25  34.4   44.0"
      ]
     },
     "execution_count": 96,
     "metadata": {},
     "output_type": "execute_result"
    }
   ],
   "source": [
    "f_birth['Max_5'] = f_birth['births'].rolling(window = 5).max() # created an additional variable having max value of first '5'\n",
    "f_birth.head()"
   ]
  },
  {
   "cell_type": "code",
   "execution_count": 97,
   "metadata": {},
   "outputs": [
    {
     "data": {
      "text/html": [
       "<div>\n",
       "<style scoped>\n",
       "    .dataframe tbody tr th:only-of-type {\n",
       "        vertical-align: middle;\n",
       "    }\n",
       "\n",
       "    .dataframe tbody tr th {\n",
       "        vertical-align: top;\n",
       "    }\n",
       "\n",
       "    .dataframe thead th {\n",
       "        text-align: right;\n",
       "    }\n",
       "</style>\n",
       "<table border=\"1\" class=\"dataframe\">\n",
       "  <thead>\n",
       "    <tr style=\"text-align: right;\">\n",
       "      <th></th>\n",
       "      <th>births</th>\n",
       "      <th>lag1</th>\n",
       "      <th>lag2</th>\n",
       "      <th>lag3</th>\n",
       "      <th>MA3</th>\n",
       "      <th>MA4</th>\n",
       "      <th>MA5</th>\n",
       "      <th>Max_5</th>\n",
       "      <th>Min_5</th>\n",
       "    </tr>\n",
       "    <tr>\n",
       "      <th>date</th>\n",
       "      <th></th>\n",
       "      <th></th>\n",
       "      <th></th>\n",
       "      <th></th>\n",
       "      <th></th>\n",
       "      <th></th>\n",
       "      <th></th>\n",
       "      <th></th>\n",
       "      <th></th>\n",
       "    </tr>\n",
       "  </thead>\n",
       "  <tbody>\n",
       "    <tr>\n",
       "      <th>1959-01-01</th>\n",
       "      <td>35</td>\n",
       "      <td>NaN</td>\n",
       "      <td>NaN</td>\n",
       "      <td>NaN</td>\n",
       "      <td>NaN</td>\n",
       "      <td>NaN</td>\n",
       "      <td>NaN</td>\n",
       "      <td>NaN</td>\n",
       "      <td>NaN</td>\n",
       "    </tr>\n",
       "    <tr>\n",
       "      <th>1959-01-02</th>\n",
       "      <td>32</td>\n",
       "      <td>35.0</td>\n",
       "      <td>NaN</td>\n",
       "      <td>NaN</td>\n",
       "      <td>NaN</td>\n",
       "      <td>NaN</td>\n",
       "      <td>NaN</td>\n",
       "      <td>NaN</td>\n",
       "      <td>NaN</td>\n",
       "    </tr>\n",
       "    <tr>\n",
       "      <th>1959-01-03</th>\n",
       "      <td>30</td>\n",
       "      <td>32.0</td>\n",
       "      <td>35.0</td>\n",
       "      <td>NaN</td>\n",
       "      <td>32.333333</td>\n",
       "      <td>NaN</td>\n",
       "      <td>NaN</td>\n",
       "      <td>NaN</td>\n",
       "      <td>NaN</td>\n",
       "    </tr>\n",
       "    <tr>\n",
       "      <th>1959-01-04</th>\n",
       "      <td>31</td>\n",
       "      <td>30.0</td>\n",
       "      <td>32.0</td>\n",
       "      <td>35.0</td>\n",
       "      <td>31.000000</td>\n",
       "      <td>32.00</td>\n",
       "      <td>NaN</td>\n",
       "      <td>NaN</td>\n",
       "      <td>NaN</td>\n",
       "    </tr>\n",
       "    <tr>\n",
       "      <th>1959-01-05</th>\n",
       "      <td>44</td>\n",
       "      <td>31.0</td>\n",
       "      <td>30.0</td>\n",
       "      <td>32.0</td>\n",
       "      <td>35.000000</td>\n",
       "      <td>34.25</td>\n",
       "      <td>34.4</td>\n",
       "      <td>44.0</td>\n",
       "      <td>30.0</td>\n",
       "    </tr>\n",
       "  </tbody>\n",
       "</table>\n",
       "</div>"
      ],
      "text/plain": [
       "            births  lag1  lag2  lag3        MA3    MA4   MA5  Max_5  Min_5\n",
       "date                                                                      \n",
       "1959-01-01      35   NaN   NaN   NaN        NaN    NaN   NaN    NaN    NaN\n",
       "1959-01-02      32  35.0   NaN   NaN        NaN    NaN   NaN    NaN    NaN\n",
       "1959-01-03      30  32.0  35.0   NaN  32.333333    NaN   NaN    NaN    NaN\n",
       "1959-01-04      31  30.0  32.0  35.0  31.000000  32.00   NaN    NaN    NaN\n",
       "1959-01-05      44  31.0  30.0  32.0  35.000000  34.25  34.4   44.0   30.0"
      ]
     },
     "execution_count": 97,
     "metadata": {},
     "output_type": "execute_result"
    }
   ],
   "source": [
    "f_birth['Min_5'] = f_birth['births'].rolling(window = 5).min() # created an additional variable having min value of first '5'\n",
    "f_birth.head()"
   ]
  },
  {
   "cell_type": "code",
   "execution_count": 98,
   "metadata": {},
   "outputs": [
    {
     "data": {
      "text/html": [
       "<div>\n",
       "<style scoped>\n",
       "    .dataframe tbody tr th:only-of-type {\n",
       "        vertical-align: middle;\n",
       "    }\n",
       "\n",
       "    .dataframe tbody tr th {\n",
       "        vertical-align: top;\n",
       "    }\n",
       "\n",
       "    .dataframe thead th {\n",
       "        text-align: right;\n",
       "    }\n",
       "</style>\n",
       "<table border=\"1\" class=\"dataframe\">\n",
       "  <thead>\n",
       "    <tr style=\"text-align: right;\">\n",
       "      <th></th>\n",
       "      <th>births</th>\n",
       "      <th>lag1</th>\n",
       "      <th>lag2</th>\n",
       "      <th>lag3</th>\n",
       "      <th>MA3</th>\n",
       "      <th>MA4</th>\n",
       "      <th>MA5</th>\n",
       "      <th>Max_5</th>\n",
       "      <th>Min_5</th>\n",
       "      <th>day</th>\n",
       "    </tr>\n",
       "    <tr>\n",
       "      <th>date</th>\n",
       "      <th></th>\n",
       "      <th></th>\n",
       "      <th></th>\n",
       "      <th></th>\n",
       "      <th></th>\n",
       "      <th></th>\n",
       "      <th></th>\n",
       "      <th></th>\n",
       "      <th></th>\n",
       "      <th></th>\n",
       "    </tr>\n",
       "  </thead>\n",
       "  <tbody>\n",
       "    <tr>\n",
       "      <th>1959-01-01</th>\n",
       "      <td>35</td>\n",
       "      <td>NaN</td>\n",
       "      <td>NaN</td>\n",
       "      <td>NaN</td>\n",
       "      <td>NaN</td>\n",
       "      <td>NaN</td>\n",
       "      <td>NaN</td>\n",
       "      <td>NaN</td>\n",
       "      <td>NaN</td>\n",
       "      <td>1</td>\n",
       "    </tr>\n",
       "    <tr>\n",
       "      <th>1959-01-02</th>\n",
       "      <td>32</td>\n",
       "      <td>35.0</td>\n",
       "      <td>NaN</td>\n",
       "      <td>NaN</td>\n",
       "      <td>NaN</td>\n",
       "      <td>NaN</td>\n",
       "      <td>NaN</td>\n",
       "      <td>NaN</td>\n",
       "      <td>NaN</td>\n",
       "      <td>2</td>\n",
       "    </tr>\n",
       "    <tr>\n",
       "      <th>1959-01-03</th>\n",
       "      <td>30</td>\n",
       "      <td>32.0</td>\n",
       "      <td>35.0</td>\n",
       "      <td>NaN</td>\n",
       "      <td>32.333333</td>\n",
       "      <td>NaN</td>\n",
       "      <td>NaN</td>\n",
       "      <td>NaN</td>\n",
       "      <td>NaN</td>\n",
       "      <td>3</td>\n",
       "    </tr>\n",
       "    <tr>\n",
       "      <th>1959-01-04</th>\n",
       "      <td>31</td>\n",
       "      <td>30.0</td>\n",
       "      <td>32.0</td>\n",
       "      <td>35.0</td>\n",
       "      <td>31.000000</td>\n",
       "      <td>32.00</td>\n",
       "      <td>NaN</td>\n",
       "      <td>NaN</td>\n",
       "      <td>NaN</td>\n",
       "      <td>4</td>\n",
       "    </tr>\n",
       "    <tr>\n",
       "      <th>1959-01-05</th>\n",
       "      <td>44</td>\n",
       "      <td>31.0</td>\n",
       "      <td>30.0</td>\n",
       "      <td>32.0</td>\n",
       "      <td>35.000000</td>\n",
       "      <td>34.25</td>\n",
       "      <td>34.4</td>\n",
       "      <td>44.0</td>\n",
       "      <td>30.0</td>\n",
       "      <td>5</td>\n",
       "    </tr>\n",
       "  </tbody>\n",
       "</table>\n",
       "</div>"
      ],
      "text/plain": [
       "            births  lag1  lag2  lag3        MA3    MA4   MA5  Max_5  Min_5  \\\n",
       "date                                                                         \n",
       "1959-01-01      35   NaN   NaN   NaN        NaN    NaN   NaN    NaN    NaN   \n",
       "1959-01-02      32  35.0   NaN   NaN        NaN    NaN   NaN    NaN    NaN   \n",
       "1959-01-03      30  32.0  35.0   NaN  32.333333    NaN   NaN    NaN    NaN   \n",
       "1959-01-04      31  30.0  32.0  35.0  31.000000  32.00   NaN    NaN    NaN   \n",
       "1959-01-05      44  31.0  30.0  32.0  35.000000  34.25  34.4   44.0   30.0   \n",
       "\n",
       "            day  \n",
       "date             \n",
       "1959-01-01    1  \n",
       "1959-01-02    2  \n",
       "1959-01-03    3  \n",
       "1959-01-04    4  \n",
       "1959-01-05    5  "
      ]
     },
     "execution_count": 98,
     "metadata": {},
     "output_type": "execute_result"
    }
   ],
   "source": [
    "f_birth['day'] = f_birth.index.day # made an additional variable using the day in the date after using 'parse_dates' in pd.read\n",
    "f_birth.head()"
   ]
  },
  {
   "cell_type": "code",
   "execution_count": 99,
   "metadata": {},
   "outputs": [
    {
     "data": {
      "text/html": [
       "<div>\n",
       "<style scoped>\n",
       "    .dataframe tbody tr th:only-of-type {\n",
       "        vertical-align: middle;\n",
       "    }\n",
       "\n",
       "    .dataframe tbody tr th {\n",
       "        vertical-align: top;\n",
       "    }\n",
       "\n",
       "    .dataframe thead th {\n",
       "        text-align: right;\n",
       "    }\n",
       "</style>\n",
       "<table border=\"1\" class=\"dataframe\">\n",
       "  <thead>\n",
       "    <tr style=\"text-align: right;\">\n",
       "      <th></th>\n",
       "      <th>births</th>\n",
       "      <th>lag1</th>\n",
       "      <th>lag2</th>\n",
       "      <th>lag3</th>\n",
       "      <th>MA3</th>\n",
       "      <th>MA4</th>\n",
       "      <th>MA5</th>\n",
       "      <th>Max_5</th>\n",
       "      <th>Min_5</th>\n",
       "      <th>day</th>\n",
       "      <th>month</th>\n",
       "    </tr>\n",
       "    <tr>\n",
       "      <th>date</th>\n",
       "      <th></th>\n",
       "      <th></th>\n",
       "      <th></th>\n",
       "      <th></th>\n",
       "      <th></th>\n",
       "      <th></th>\n",
       "      <th></th>\n",
       "      <th></th>\n",
       "      <th></th>\n",
       "      <th></th>\n",
       "      <th></th>\n",
       "    </tr>\n",
       "  </thead>\n",
       "  <tbody>\n",
       "    <tr>\n",
       "      <th>1959-01-01</th>\n",
       "      <td>35</td>\n",
       "      <td>NaN</td>\n",
       "      <td>NaN</td>\n",
       "      <td>NaN</td>\n",
       "      <td>NaN</td>\n",
       "      <td>NaN</td>\n",
       "      <td>NaN</td>\n",
       "      <td>NaN</td>\n",
       "      <td>NaN</td>\n",
       "      <td>1</td>\n",
       "      <td>1</td>\n",
       "    </tr>\n",
       "    <tr>\n",
       "      <th>1959-01-02</th>\n",
       "      <td>32</td>\n",
       "      <td>35.0</td>\n",
       "      <td>NaN</td>\n",
       "      <td>NaN</td>\n",
       "      <td>NaN</td>\n",
       "      <td>NaN</td>\n",
       "      <td>NaN</td>\n",
       "      <td>NaN</td>\n",
       "      <td>NaN</td>\n",
       "      <td>2</td>\n",
       "      <td>1</td>\n",
       "    </tr>\n",
       "    <tr>\n",
       "      <th>1959-01-03</th>\n",
       "      <td>30</td>\n",
       "      <td>32.0</td>\n",
       "      <td>35.0</td>\n",
       "      <td>NaN</td>\n",
       "      <td>32.333333</td>\n",
       "      <td>NaN</td>\n",
       "      <td>NaN</td>\n",
       "      <td>NaN</td>\n",
       "      <td>NaN</td>\n",
       "      <td>3</td>\n",
       "      <td>1</td>\n",
       "    </tr>\n",
       "    <tr>\n",
       "      <th>1959-01-04</th>\n",
       "      <td>31</td>\n",
       "      <td>30.0</td>\n",
       "      <td>32.0</td>\n",
       "      <td>35.0</td>\n",
       "      <td>31.000000</td>\n",
       "      <td>32.00</td>\n",
       "      <td>NaN</td>\n",
       "      <td>NaN</td>\n",
       "      <td>NaN</td>\n",
       "      <td>4</td>\n",
       "      <td>1</td>\n",
       "    </tr>\n",
       "    <tr>\n",
       "      <th>1959-01-05</th>\n",
       "      <td>44</td>\n",
       "      <td>31.0</td>\n",
       "      <td>30.0</td>\n",
       "      <td>32.0</td>\n",
       "      <td>35.000000</td>\n",
       "      <td>34.25</td>\n",
       "      <td>34.4</td>\n",
       "      <td>44.0</td>\n",
       "      <td>30.0</td>\n",
       "      <td>5</td>\n",
       "      <td>1</td>\n",
       "    </tr>\n",
       "  </tbody>\n",
       "</table>\n",
       "</div>"
      ],
      "text/plain": [
       "            births  lag1  lag2  lag3        MA3    MA4   MA5  Max_5  Min_5  \\\n",
       "date                                                                         \n",
       "1959-01-01      35   NaN   NaN   NaN        NaN    NaN   NaN    NaN    NaN   \n",
       "1959-01-02      32  35.0   NaN   NaN        NaN    NaN   NaN    NaN    NaN   \n",
       "1959-01-03      30  32.0  35.0   NaN  32.333333    NaN   NaN    NaN    NaN   \n",
       "1959-01-04      31  30.0  32.0  35.0  31.000000  32.00   NaN    NaN    NaN   \n",
       "1959-01-05      44  31.0  30.0  32.0  35.000000  34.25  34.4   44.0   30.0   \n",
       "\n",
       "            day  month  \n",
       "date                    \n",
       "1959-01-01    1      1  \n",
       "1959-01-02    2      1  \n",
       "1959-01-03    3      1  \n",
       "1959-01-04    4      1  \n",
       "1959-01-05    5      1  "
      ]
     },
     "execution_count": 99,
     "metadata": {},
     "output_type": "execute_result"
    }
   ],
   "source": [
    "f_birth['month'] = f_birth.index.month\n",
    "f_birth.head()"
   ]
  },
  {
   "cell_type": "code",
   "execution_count": 100,
   "metadata": {},
   "outputs": [
    {
     "data": {
      "text/html": [
       "<div>\n",
       "<style scoped>\n",
       "    .dataframe tbody tr th:only-of-type {\n",
       "        vertical-align: middle;\n",
       "    }\n",
       "\n",
       "    .dataframe tbody tr th {\n",
       "        vertical-align: top;\n",
       "    }\n",
       "\n",
       "    .dataframe thead th {\n",
       "        text-align: right;\n",
       "    }\n",
       "</style>\n",
       "<table border=\"1\" class=\"dataframe\">\n",
       "  <thead>\n",
       "    <tr style=\"text-align: right;\">\n",
       "      <th></th>\n",
       "      <th>births</th>\n",
       "      <th>lag1</th>\n",
       "      <th>lag2</th>\n",
       "      <th>lag3</th>\n",
       "      <th>MA3</th>\n",
       "      <th>MA4</th>\n",
       "      <th>MA5</th>\n",
       "      <th>Max_5</th>\n",
       "      <th>Min_5</th>\n",
       "      <th>day</th>\n",
       "      <th>month</th>\n",
       "      <th>year</th>\n",
       "    </tr>\n",
       "    <tr>\n",
       "      <th>date</th>\n",
       "      <th></th>\n",
       "      <th></th>\n",
       "      <th></th>\n",
       "      <th></th>\n",
       "      <th></th>\n",
       "      <th></th>\n",
       "      <th></th>\n",
       "      <th></th>\n",
       "      <th></th>\n",
       "      <th></th>\n",
       "      <th></th>\n",
       "      <th></th>\n",
       "    </tr>\n",
       "  </thead>\n",
       "  <tbody>\n",
       "    <tr>\n",
       "      <th>1959-01-01</th>\n",
       "      <td>35</td>\n",
       "      <td>NaN</td>\n",
       "      <td>NaN</td>\n",
       "      <td>NaN</td>\n",
       "      <td>NaN</td>\n",
       "      <td>NaN</td>\n",
       "      <td>NaN</td>\n",
       "      <td>NaN</td>\n",
       "      <td>NaN</td>\n",
       "      <td>1</td>\n",
       "      <td>1</td>\n",
       "      <td>1959</td>\n",
       "    </tr>\n",
       "    <tr>\n",
       "      <th>1959-01-02</th>\n",
       "      <td>32</td>\n",
       "      <td>35.0</td>\n",
       "      <td>NaN</td>\n",
       "      <td>NaN</td>\n",
       "      <td>NaN</td>\n",
       "      <td>NaN</td>\n",
       "      <td>NaN</td>\n",
       "      <td>NaN</td>\n",
       "      <td>NaN</td>\n",
       "      <td>2</td>\n",
       "      <td>1</td>\n",
       "      <td>1959</td>\n",
       "    </tr>\n",
       "    <tr>\n",
       "      <th>1959-01-03</th>\n",
       "      <td>30</td>\n",
       "      <td>32.0</td>\n",
       "      <td>35.0</td>\n",
       "      <td>NaN</td>\n",
       "      <td>32.333333</td>\n",
       "      <td>NaN</td>\n",
       "      <td>NaN</td>\n",
       "      <td>NaN</td>\n",
       "      <td>NaN</td>\n",
       "      <td>3</td>\n",
       "      <td>1</td>\n",
       "      <td>1959</td>\n",
       "    </tr>\n",
       "    <tr>\n",
       "      <th>1959-01-04</th>\n",
       "      <td>31</td>\n",
       "      <td>30.0</td>\n",
       "      <td>32.0</td>\n",
       "      <td>35.0</td>\n",
       "      <td>31.000000</td>\n",
       "      <td>32.00</td>\n",
       "      <td>NaN</td>\n",
       "      <td>NaN</td>\n",
       "      <td>NaN</td>\n",
       "      <td>4</td>\n",
       "      <td>1</td>\n",
       "      <td>1959</td>\n",
       "    </tr>\n",
       "    <tr>\n",
       "      <th>1959-01-05</th>\n",
       "      <td>44</td>\n",
       "      <td>31.0</td>\n",
       "      <td>30.0</td>\n",
       "      <td>32.0</td>\n",
       "      <td>35.000000</td>\n",
       "      <td>34.25</td>\n",
       "      <td>34.4</td>\n",
       "      <td>44.0</td>\n",
       "      <td>30.0</td>\n",
       "      <td>5</td>\n",
       "      <td>1</td>\n",
       "      <td>1959</td>\n",
       "    </tr>\n",
       "  </tbody>\n",
       "</table>\n",
       "</div>"
      ],
      "text/plain": [
       "            births  lag1  lag2  lag3        MA3    MA4   MA5  Max_5  Min_5  \\\n",
       "date                                                                         \n",
       "1959-01-01      35   NaN   NaN   NaN        NaN    NaN   NaN    NaN    NaN   \n",
       "1959-01-02      32  35.0   NaN   NaN        NaN    NaN   NaN    NaN    NaN   \n",
       "1959-01-03      30  32.0  35.0   NaN  32.333333    NaN   NaN    NaN    NaN   \n",
       "1959-01-04      31  30.0  32.0  35.0  31.000000  32.00   NaN    NaN    NaN   \n",
       "1959-01-05      44  31.0  30.0  32.0  35.000000  34.25  34.4   44.0   30.0   \n",
       "\n",
       "            day  month  year  \n",
       "date                          \n",
       "1959-01-01    1      1  1959  \n",
       "1959-01-02    2      1  1959  \n",
       "1959-01-03    3      1  1959  \n",
       "1959-01-04    4      1  1959  \n",
       "1959-01-05    5      1  1959  "
      ]
     },
     "execution_count": 100,
     "metadata": {},
     "output_type": "execute_result"
    }
   ],
   "source": [
    "f_birth['year'] = f_birth.index.year\n",
    "f_birth.head()"
   ]
  },
  {
   "cell_type": "code",
   "execution_count": 101,
   "metadata": {},
   "outputs": [
    {
     "data": {
      "text/html": [
       "<div>\n",
       "<style scoped>\n",
       "    .dataframe tbody tr th:only-of-type {\n",
       "        vertical-align: middle;\n",
       "    }\n",
       "\n",
       "    .dataframe tbody tr th {\n",
       "        vertical-align: top;\n",
       "    }\n",
       "\n",
       "    .dataframe thead th {\n",
       "        text-align: right;\n",
       "    }\n",
       "</style>\n",
       "<table border=\"1\" class=\"dataframe\">\n",
       "  <thead>\n",
       "    <tr style=\"text-align: right;\">\n",
       "      <th></th>\n",
       "      <th>births</th>\n",
       "      <th>lag1</th>\n",
       "      <th>lag2</th>\n",
       "      <th>lag3</th>\n",
       "      <th>MA3</th>\n",
       "      <th>MA4</th>\n",
       "      <th>MA5</th>\n",
       "      <th>Max_5</th>\n",
       "      <th>Min_5</th>\n",
       "      <th>day</th>\n",
       "      <th>month</th>\n",
       "      <th>year</th>\n",
       "    </tr>\n",
       "    <tr>\n",
       "      <th>date</th>\n",
       "      <th></th>\n",
       "      <th></th>\n",
       "      <th></th>\n",
       "      <th></th>\n",
       "      <th></th>\n",
       "      <th></th>\n",
       "      <th></th>\n",
       "      <th></th>\n",
       "      <th></th>\n",
       "      <th></th>\n",
       "      <th></th>\n",
       "      <th></th>\n",
       "    </tr>\n",
       "  </thead>\n",
       "  <tbody>\n",
       "    <tr>\n",
       "      <th>1959-01-05</th>\n",
       "      <td>44</td>\n",
       "      <td>31.0</td>\n",
       "      <td>30.0</td>\n",
       "      <td>32.0</td>\n",
       "      <td>35.000000</td>\n",
       "      <td>34.25</td>\n",
       "      <td>34.4</td>\n",
       "      <td>44.0</td>\n",
       "      <td>30.0</td>\n",
       "      <td>5</td>\n",
       "      <td>1</td>\n",
       "      <td>1959</td>\n",
       "    </tr>\n",
       "    <tr>\n",
       "      <th>1959-01-06</th>\n",
       "      <td>29</td>\n",
       "      <td>44.0</td>\n",
       "      <td>31.0</td>\n",
       "      <td>30.0</td>\n",
       "      <td>34.666667</td>\n",
       "      <td>33.50</td>\n",
       "      <td>33.2</td>\n",
       "      <td>44.0</td>\n",
       "      <td>29.0</td>\n",
       "      <td>6</td>\n",
       "      <td>1</td>\n",
       "      <td>1959</td>\n",
       "    </tr>\n",
       "    <tr>\n",
       "      <th>1959-01-07</th>\n",
       "      <td>45</td>\n",
       "      <td>29.0</td>\n",
       "      <td>44.0</td>\n",
       "      <td>31.0</td>\n",
       "      <td>39.333333</td>\n",
       "      <td>37.25</td>\n",
       "      <td>35.8</td>\n",
       "      <td>45.0</td>\n",
       "      <td>29.0</td>\n",
       "      <td>7</td>\n",
       "      <td>1</td>\n",
       "      <td>1959</td>\n",
       "    </tr>\n",
       "    <tr>\n",
       "      <th>1959-01-08</th>\n",
       "      <td>43</td>\n",
       "      <td>45.0</td>\n",
       "      <td>29.0</td>\n",
       "      <td>44.0</td>\n",
       "      <td>39.000000</td>\n",
       "      <td>40.25</td>\n",
       "      <td>38.4</td>\n",
       "      <td>45.0</td>\n",
       "      <td>29.0</td>\n",
       "      <td>8</td>\n",
       "      <td>1</td>\n",
       "      <td>1959</td>\n",
       "    </tr>\n",
       "    <tr>\n",
       "      <th>1959-01-09</th>\n",
       "      <td>38</td>\n",
       "      <td>43.0</td>\n",
       "      <td>45.0</td>\n",
       "      <td>29.0</td>\n",
       "      <td>42.000000</td>\n",
       "      <td>38.75</td>\n",
       "      <td>39.8</td>\n",
       "      <td>45.0</td>\n",
       "      <td>29.0</td>\n",
       "      <td>9</td>\n",
       "      <td>1</td>\n",
       "      <td>1959</td>\n",
       "    </tr>\n",
       "    <tr>\n",
       "      <th>1959-01-10</th>\n",
       "      <td>27</td>\n",
       "      <td>38.0</td>\n",
       "      <td>43.0</td>\n",
       "      <td>45.0</td>\n",
       "      <td>36.000000</td>\n",
       "      <td>38.25</td>\n",
       "      <td>36.4</td>\n",
       "      <td>45.0</td>\n",
       "      <td>27.0</td>\n",
       "      <td>10</td>\n",
       "      <td>1</td>\n",
       "      <td>1959</td>\n",
       "    </tr>\n",
       "    <tr>\n",
       "      <th>1959-01-11</th>\n",
       "      <td>38</td>\n",
       "      <td>27.0</td>\n",
       "      <td>38.0</td>\n",
       "      <td>43.0</td>\n",
       "      <td>34.333333</td>\n",
       "      <td>36.50</td>\n",
       "      <td>38.2</td>\n",
       "      <td>45.0</td>\n",
       "      <td>27.0</td>\n",
       "      <td>11</td>\n",
       "      <td>1</td>\n",
       "      <td>1959</td>\n",
       "    </tr>\n",
       "    <tr>\n",
       "      <th>1959-01-12</th>\n",
       "      <td>33</td>\n",
       "      <td>38.0</td>\n",
       "      <td>27.0</td>\n",
       "      <td>38.0</td>\n",
       "      <td>32.666667</td>\n",
       "      <td>34.00</td>\n",
       "      <td>35.8</td>\n",
       "      <td>43.0</td>\n",
       "      <td>27.0</td>\n",
       "      <td>12</td>\n",
       "      <td>1</td>\n",
       "      <td>1959</td>\n",
       "    </tr>\n",
       "    <tr>\n",
       "      <th>1959-01-13</th>\n",
       "      <td>55</td>\n",
       "      <td>33.0</td>\n",
       "      <td>38.0</td>\n",
       "      <td>27.0</td>\n",
       "      <td>42.000000</td>\n",
       "      <td>38.25</td>\n",
       "      <td>38.2</td>\n",
       "      <td>55.0</td>\n",
       "      <td>27.0</td>\n",
       "      <td>13</td>\n",
       "      <td>1</td>\n",
       "      <td>1959</td>\n",
       "    </tr>\n",
       "    <tr>\n",
       "      <th>1959-01-14</th>\n",
       "      <td>47</td>\n",
       "      <td>55.0</td>\n",
       "      <td>33.0</td>\n",
       "      <td>38.0</td>\n",
       "      <td>45.000000</td>\n",
       "      <td>43.25</td>\n",
       "      <td>40.0</td>\n",
       "      <td>55.0</td>\n",
       "      <td>27.0</td>\n",
       "      <td>14</td>\n",
       "      <td>1</td>\n",
       "      <td>1959</td>\n",
       "    </tr>\n",
       "    <tr>\n",
       "      <th>1959-01-15</th>\n",
       "      <td>45</td>\n",
       "      <td>47.0</td>\n",
       "      <td>55.0</td>\n",
       "      <td>33.0</td>\n",
       "      <td>49.000000</td>\n",
       "      <td>45.00</td>\n",
       "      <td>43.6</td>\n",
       "      <td>55.0</td>\n",
       "      <td>33.0</td>\n",
       "      <td>15</td>\n",
       "      <td>1</td>\n",
       "      <td>1959</td>\n",
       "    </tr>\n",
       "    <tr>\n",
       "      <th>1959-01-16</th>\n",
       "      <td>37</td>\n",
       "      <td>45.0</td>\n",
       "      <td>47.0</td>\n",
       "      <td>55.0</td>\n",
       "      <td>43.000000</td>\n",
       "      <td>46.00</td>\n",
       "      <td>43.4</td>\n",
       "      <td>55.0</td>\n",
       "      <td>33.0</td>\n",
       "      <td>16</td>\n",
       "      <td>1</td>\n",
       "      <td>1959</td>\n",
       "    </tr>\n",
       "    <tr>\n",
       "      <th>1959-01-17</th>\n",
       "      <td>50</td>\n",
       "      <td>37.0</td>\n",
       "      <td>45.0</td>\n",
       "      <td>47.0</td>\n",
       "      <td>44.000000</td>\n",
       "      <td>44.75</td>\n",
       "      <td>46.8</td>\n",
       "      <td>55.0</td>\n",
       "      <td>37.0</td>\n",
       "      <td>17</td>\n",
       "      <td>1</td>\n",
       "      <td>1959</td>\n",
       "    </tr>\n",
       "    <tr>\n",
       "      <th>1959-01-18</th>\n",
       "      <td>43</td>\n",
       "      <td>50.0</td>\n",
       "      <td>37.0</td>\n",
       "      <td>45.0</td>\n",
       "      <td>43.333333</td>\n",
       "      <td>43.75</td>\n",
       "      <td>44.4</td>\n",
       "      <td>50.0</td>\n",
       "      <td>37.0</td>\n",
       "      <td>18</td>\n",
       "      <td>1</td>\n",
       "      <td>1959</td>\n",
       "    </tr>\n",
       "    <tr>\n",
       "      <th>1959-01-19</th>\n",
       "      <td>41</td>\n",
       "      <td>43.0</td>\n",
       "      <td>50.0</td>\n",
       "      <td>37.0</td>\n",
       "      <td>44.666667</td>\n",
       "      <td>42.75</td>\n",
       "      <td>43.2</td>\n",
       "      <td>50.0</td>\n",
       "      <td>37.0</td>\n",
       "      <td>19</td>\n",
       "      <td>1</td>\n",
       "      <td>1959</td>\n",
       "    </tr>\n",
       "    <tr>\n",
       "      <th>1959-01-20</th>\n",
       "      <td>52</td>\n",
       "      <td>41.0</td>\n",
       "      <td>43.0</td>\n",
       "      <td>50.0</td>\n",
       "      <td>45.333333</td>\n",
       "      <td>46.50</td>\n",
       "      <td>44.6</td>\n",
       "      <td>52.0</td>\n",
       "      <td>37.0</td>\n",
       "      <td>20</td>\n",
       "      <td>1</td>\n",
       "      <td>1959</td>\n",
       "    </tr>\n",
       "    <tr>\n",
       "      <th>1959-01-21</th>\n",
       "      <td>34</td>\n",
       "      <td>52.0</td>\n",
       "      <td>41.0</td>\n",
       "      <td>43.0</td>\n",
       "      <td>42.333333</td>\n",
       "      <td>42.50</td>\n",
       "      <td>44.0</td>\n",
       "      <td>52.0</td>\n",
       "      <td>34.0</td>\n",
       "      <td>21</td>\n",
       "      <td>1</td>\n",
       "      <td>1959</td>\n",
       "    </tr>\n",
       "    <tr>\n",
       "      <th>1959-01-22</th>\n",
       "      <td>53</td>\n",
       "      <td>34.0</td>\n",
       "      <td>52.0</td>\n",
       "      <td>41.0</td>\n",
       "      <td>46.333333</td>\n",
       "      <td>45.00</td>\n",
       "      <td>44.6</td>\n",
       "      <td>53.0</td>\n",
       "      <td>34.0</td>\n",
       "      <td>22</td>\n",
       "      <td>1</td>\n",
       "      <td>1959</td>\n",
       "    </tr>\n",
       "    <tr>\n",
       "      <th>1959-01-23</th>\n",
       "      <td>39</td>\n",
       "      <td>53.0</td>\n",
       "      <td>34.0</td>\n",
       "      <td>52.0</td>\n",
       "      <td>42.000000</td>\n",
       "      <td>44.50</td>\n",
       "      <td>43.8</td>\n",
       "      <td>53.0</td>\n",
       "      <td>34.0</td>\n",
       "      <td>23</td>\n",
       "      <td>1</td>\n",
       "      <td>1959</td>\n",
       "    </tr>\n",
       "    <tr>\n",
       "      <th>1959-01-24</th>\n",
       "      <td>32</td>\n",
       "      <td>39.0</td>\n",
       "      <td>53.0</td>\n",
       "      <td>34.0</td>\n",
       "      <td>41.333333</td>\n",
       "      <td>39.50</td>\n",
       "      <td>42.0</td>\n",
       "      <td>53.0</td>\n",
       "      <td>32.0</td>\n",
       "      <td>24</td>\n",
       "      <td>1</td>\n",
       "      <td>1959</td>\n",
       "    </tr>\n",
       "    <tr>\n",
       "      <th>1959-01-25</th>\n",
       "      <td>37</td>\n",
       "      <td>32.0</td>\n",
       "      <td>39.0</td>\n",
       "      <td>53.0</td>\n",
       "      <td>36.000000</td>\n",
       "      <td>40.25</td>\n",
       "      <td>39.0</td>\n",
       "      <td>53.0</td>\n",
       "      <td>32.0</td>\n",
       "      <td>25</td>\n",
       "      <td>1</td>\n",
       "      <td>1959</td>\n",
       "    </tr>\n",
       "    <tr>\n",
       "      <th>1959-01-26</th>\n",
       "      <td>43</td>\n",
       "      <td>37.0</td>\n",
       "      <td>32.0</td>\n",
       "      <td>39.0</td>\n",
       "      <td>37.333333</td>\n",
       "      <td>37.75</td>\n",
       "      <td>40.8</td>\n",
       "      <td>53.0</td>\n",
       "      <td>32.0</td>\n",
       "      <td>26</td>\n",
       "      <td>1</td>\n",
       "      <td>1959</td>\n",
       "    </tr>\n",
       "    <tr>\n",
       "      <th>1959-01-27</th>\n",
       "      <td>39</td>\n",
       "      <td>43.0</td>\n",
       "      <td>37.0</td>\n",
       "      <td>32.0</td>\n",
       "      <td>39.666667</td>\n",
       "      <td>37.75</td>\n",
       "      <td>38.0</td>\n",
       "      <td>43.0</td>\n",
       "      <td>32.0</td>\n",
       "      <td>27</td>\n",
       "      <td>1</td>\n",
       "      <td>1959</td>\n",
       "    </tr>\n",
       "    <tr>\n",
       "      <th>1959-01-28</th>\n",
       "      <td>35</td>\n",
       "      <td>39.0</td>\n",
       "      <td>43.0</td>\n",
       "      <td>37.0</td>\n",
       "      <td>39.000000</td>\n",
       "      <td>38.50</td>\n",
       "      <td>37.2</td>\n",
       "      <td>43.0</td>\n",
       "      <td>32.0</td>\n",
       "      <td>28</td>\n",
       "      <td>1</td>\n",
       "      <td>1959</td>\n",
       "    </tr>\n",
       "    <tr>\n",
       "      <th>1959-01-29</th>\n",
       "      <td>44</td>\n",
       "      <td>35.0</td>\n",
       "      <td>39.0</td>\n",
       "      <td>43.0</td>\n",
       "      <td>39.333333</td>\n",
       "      <td>40.25</td>\n",
       "      <td>39.6</td>\n",
       "      <td>44.0</td>\n",
       "      <td>35.0</td>\n",
       "      <td>29</td>\n",
       "      <td>1</td>\n",
       "      <td>1959</td>\n",
       "    </tr>\n",
       "    <tr>\n",
       "      <th>1959-01-30</th>\n",
       "      <td>38</td>\n",
       "      <td>44.0</td>\n",
       "      <td>35.0</td>\n",
       "      <td>39.0</td>\n",
       "      <td>39.000000</td>\n",
       "      <td>39.00</td>\n",
       "      <td>39.8</td>\n",
       "      <td>44.0</td>\n",
       "      <td>35.0</td>\n",
       "      <td>30</td>\n",
       "      <td>1</td>\n",
       "      <td>1959</td>\n",
       "    </tr>\n",
       "    <tr>\n",
       "      <th>1959-01-31</th>\n",
       "      <td>24</td>\n",
       "      <td>38.0</td>\n",
       "      <td>44.0</td>\n",
       "      <td>35.0</td>\n",
       "      <td>35.333333</td>\n",
       "      <td>35.25</td>\n",
       "      <td>36.0</td>\n",
       "      <td>44.0</td>\n",
       "      <td>24.0</td>\n",
       "      <td>31</td>\n",
       "      <td>1</td>\n",
       "      <td>1959</td>\n",
       "    </tr>\n",
       "    <tr>\n",
       "      <th>1959-02-01</th>\n",
       "      <td>23</td>\n",
       "      <td>24.0</td>\n",
       "      <td>38.0</td>\n",
       "      <td>44.0</td>\n",
       "      <td>28.333333</td>\n",
       "      <td>32.25</td>\n",
       "      <td>32.8</td>\n",
       "      <td>44.0</td>\n",
       "      <td>23.0</td>\n",
       "      <td>1</td>\n",
       "      <td>2</td>\n",
       "      <td>1959</td>\n",
       "    </tr>\n",
       "    <tr>\n",
       "      <th>1959-02-02</th>\n",
       "      <td>31</td>\n",
       "      <td>23.0</td>\n",
       "      <td>24.0</td>\n",
       "      <td>38.0</td>\n",
       "      <td>26.000000</td>\n",
       "      <td>29.00</td>\n",
       "      <td>32.0</td>\n",
       "      <td>44.0</td>\n",
       "      <td>23.0</td>\n",
       "      <td>2</td>\n",
       "      <td>2</td>\n",
       "      <td>1959</td>\n",
       "    </tr>\n",
       "    <tr>\n",
       "      <th>1959-02-03</th>\n",
       "      <td>44</td>\n",
       "      <td>31.0</td>\n",
       "      <td>23.0</td>\n",
       "      <td>24.0</td>\n",
       "      <td>32.666667</td>\n",
       "      <td>30.50</td>\n",
       "      <td>32.0</td>\n",
       "      <td>44.0</td>\n",
       "      <td>23.0</td>\n",
       "      <td>3</td>\n",
       "      <td>2</td>\n",
       "      <td>1959</td>\n",
       "    </tr>\n",
       "    <tr>\n",
       "      <th>...</th>\n",
       "      <td>...</td>\n",
       "      <td>...</td>\n",
       "      <td>...</td>\n",
       "      <td>...</td>\n",
       "      <td>...</td>\n",
       "      <td>...</td>\n",
       "      <td>...</td>\n",
       "      <td>...</td>\n",
       "      <td>...</td>\n",
       "      <td>...</td>\n",
       "      <td>...</td>\n",
       "      <td>...</td>\n",
       "    </tr>\n",
       "    <tr>\n",
       "      <th>1959-12-02</th>\n",
       "      <td>32</td>\n",
       "      <td>45.0</td>\n",
       "      <td>52.0</td>\n",
       "      <td>44.0</td>\n",
       "      <td>43.000000</td>\n",
       "      <td>43.25</td>\n",
       "      <td>43.8</td>\n",
       "      <td>52.0</td>\n",
       "      <td>32.0</td>\n",
       "      <td>2</td>\n",
       "      <td>12</td>\n",
       "      <td>1959</td>\n",
       "    </tr>\n",
       "    <tr>\n",
       "      <th>1959-12-03</th>\n",
       "      <td>46</td>\n",
       "      <td>32.0</td>\n",
       "      <td>45.0</td>\n",
       "      <td>52.0</td>\n",
       "      <td>41.000000</td>\n",
       "      <td>43.75</td>\n",
       "      <td>43.8</td>\n",
       "      <td>52.0</td>\n",
       "      <td>32.0</td>\n",
       "      <td>3</td>\n",
       "      <td>12</td>\n",
       "      <td>1959</td>\n",
       "    </tr>\n",
       "    <tr>\n",
       "      <th>1959-12-04</th>\n",
       "      <td>41</td>\n",
       "      <td>46.0</td>\n",
       "      <td>32.0</td>\n",
       "      <td>45.0</td>\n",
       "      <td>39.666667</td>\n",
       "      <td>41.00</td>\n",
       "      <td>43.2</td>\n",
       "      <td>52.0</td>\n",
       "      <td>32.0</td>\n",
       "      <td>4</td>\n",
       "      <td>12</td>\n",
       "      <td>1959</td>\n",
       "    </tr>\n",
       "    <tr>\n",
       "      <th>1959-12-05</th>\n",
       "      <td>34</td>\n",
       "      <td>41.0</td>\n",
       "      <td>46.0</td>\n",
       "      <td>32.0</td>\n",
       "      <td>40.333333</td>\n",
       "      <td>38.25</td>\n",
       "      <td>39.6</td>\n",
       "      <td>46.0</td>\n",
       "      <td>32.0</td>\n",
       "      <td>5</td>\n",
       "      <td>12</td>\n",
       "      <td>1959</td>\n",
       "    </tr>\n",
       "    <tr>\n",
       "      <th>1959-12-06</th>\n",
       "      <td>33</td>\n",
       "      <td>34.0</td>\n",
       "      <td>41.0</td>\n",
       "      <td>46.0</td>\n",
       "      <td>36.000000</td>\n",
       "      <td>38.50</td>\n",
       "      <td>37.2</td>\n",
       "      <td>46.0</td>\n",
       "      <td>32.0</td>\n",
       "      <td>6</td>\n",
       "      <td>12</td>\n",
       "      <td>1959</td>\n",
       "    </tr>\n",
       "    <tr>\n",
       "      <th>1959-12-07</th>\n",
       "      <td>36</td>\n",
       "      <td>33.0</td>\n",
       "      <td>34.0</td>\n",
       "      <td>41.0</td>\n",
       "      <td>34.333333</td>\n",
       "      <td>36.00</td>\n",
       "      <td>38.0</td>\n",
       "      <td>46.0</td>\n",
       "      <td>33.0</td>\n",
       "      <td>7</td>\n",
       "      <td>12</td>\n",
       "      <td>1959</td>\n",
       "    </tr>\n",
       "    <tr>\n",
       "      <th>1959-12-08</th>\n",
       "      <td>49</td>\n",
       "      <td>36.0</td>\n",
       "      <td>33.0</td>\n",
       "      <td>34.0</td>\n",
       "      <td>39.333333</td>\n",
       "      <td>38.00</td>\n",
       "      <td>38.6</td>\n",
       "      <td>49.0</td>\n",
       "      <td>33.0</td>\n",
       "      <td>8</td>\n",
       "      <td>12</td>\n",
       "      <td>1959</td>\n",
       "    </tr>\n",
       "    <tr>\n",
       "      <th>1959-12-09</th>\n",
       "      <td>43</td>\n",
       "      <td>49.0</td>\n",
       "      <td>36.0</td>\n",
       "      <td>33.0</td>\n",
       "      <td>42.666667</td>\n",
       "      <td>40.25</td>\n",
       "      <td>39.0</td>\n",
       "      <td>49.0</td>\n",
       "      <td>33.0</td>\n",
       "      <td>9</td>\n",
       "      <td>12</td>\n",
       "      <td>1959</td>\n",
       "    </tr>\n",
       "    <tr>\n",
       "      <th>1959-12-10</th>\n",
       "      <td>43</td>\n",
       "      <td>43.0</td>\n",
       "      <td>49.0</td>\n",
       "      <td>36.0</td>\n",
       "      <td>45.000000</td>\n",
       "      <td>42.75</td>\n",
       "      <td>40.8</td>\n",
       "      <td>49.0</td>\n",
       "      <td>33.0</td>\n",
       "      <td>10</td>\n",
       "      <td>12</td>\n",
       "      <td>1959</td>\n",
       "    </tr>\n",
       "    <tr>\n",
       "      <th>1959-12-11</th>\n",
       "      <td>34</td>\n",
       "      <td>43.0</td>\n",
       "      <td>43.0</td>\n",
       "      <td>49.0</td>\n",
       "      <td>40.000000</td>\n",
       "      <td>42.25</td>\n",
       "      <td>41.0</td>\n",
       "      <td>49.0</td>\n",
       "      <td>34.0</td>\n",
       "      <td>11</td>\n",
       "      <td>12</td>\n",
       "      <td>1959</td>\n",
       "    </tr>\n",
       "    <tr>\n",
       "      <th>1959-12-12</th>\n",
       "      <td>39</td>\n",
       "      <td>34.0</td>\n",
       "      <td>43.0</td>\n",
       "      <td>43.0</td>\n",
       "      <td>38.666667</td>\n",
       "      <td>39.75</td>\n",
       "      <td>41.6</td>\n",
       "      <td>49.0</td>\n",
       "      <td>34.0</td>\n",
       "      <td>12</td>\n",
       "      <td>12</td>\n",
       "      <td>1959</td>\n",
       "    </tr>\n",
       "    <tr>\n",
       "      <th>1959-12-13</th>\n",
       "      <td>35</td>\n",
       "      <td>39.0</td>\n",
       "      <td>34.0</td>\n",
       "      <td>43.0</td>\n",
       "      <td>36.000000</td>\n",
       "      <td>37.75</td>\n",
       "      <td>38.8</td>\n",
       "      <td>43.0</td>\n",
       "      <td>34.0</td>\n",
       "      <td>13</td>\n",
       "      <td>12</td>\n",
       "      <td>1959</td>\n",
       "    </tr>\n",
       "    <tr>\n",
       "      <th>1959-12-14</th>\n",
       "      <td>52</td>\n",
       "      <td>35.0</td>\n",
       "      <td>39.0</td>\n",
       "      <td>34.0</td>\n",
       "      <td>42.000000</td>\n",
       "      <td>40.00</td>\n",
       "      <td>40.6</td>\n",
       "      <td>52.0</td>\n",
       "      <td>34.0</td>\n",
       "      <td>14</td>\n",
       "      <td>12</td>\n",
       "      <td>1959</td>\n",
       "    </tr>\n",
       "    <tr>\n",
       "      <th>1959-12-15</th>\n",
       "      <td>47</td>\n",
       "      <td>52.0</td>\n",
       "      <td>35.0</td>\n",
       "      <td>39.0</td>\n",
       "      <td>44.666667</td>\n",
       "      <td>43.25</td>\n",
       "      <td>41.4</td>\n",
       "      <td>52.0</td>\n",
       "      <td>34.0</td>\n",
       "      <td>15</td>\n",
       "      <td>12</td>\n",
       "      <td>1959</td>\n",
       "    </tr>\n",
       "    <tr>\n",
       "      <th>1959-12-16</th>\n",
       "      <td>52</td>\n",
       "      <td>47.0</td>\n",
       "      <td>52.0</td>\n",
       "      <td>35.0</td>\n",
       "      <td>50.333333</td>\n",
       "      <td>46.50</td>\n",
       "      <td>45.0</td>\n",
       "      <td>52.0</td>\n",
       "      <td>35.0</td>\n",
       "      <td>16</td>\n",
       "      <td>12</td>\n",
       "      <td>1959</td>\n",
       "    </tr>\n",
       "    <tr>\n",
       "      <th>1959-12-17</th>\n",
       "      <td>39</td>\n",
       "      <td>52.0</td>\n",
       "      <td>47.0</td>\n",
       "      <td>52.0</td>\n",
       "      <td>46.000000</td>\n",
       "      <td>47.50</td>\n",
       "      <td>45.0</td>\n",
       "      <td>52.0</td>\n",
       "      <td>35.0</td>\n",
       "      <td>17</td>\n",
       "      <td>12</td>\n",
       "      <td>1959</td>\n",
       "    </tr>\n",
       "    <tr>\n",
       "      <th>1959-12-18</th>\n",
       "      <td>40</td>\n",
       "      <td>39.0</td>\n",
       "      <td>52.0</td>\n",
       "      <td>47.0</td>\n",
       "      <td>43.666667</td>\n",
       "      <td>44.50</td>\n",
       "      <td>46.0</td>\n",
       "      <td>52.0</td>\n",
       "      <td>39.0</td>\n",
       "      <td>18</td>\n",
       "      <td>12</td>\n",
       "      <td>1959</td>\n",
       "    </tr>\n",
       "    <tr>\n",
       "      <th>1959-12-19</th>\n",
       "      <td>42</td>\n",
       "      <td>40.0</td>\n",
       "      <td>39.0</td>\n",
       "      <td>52.0</td>\n",
       "      <td>40.333333</td>\n",
       "      <td>43.25</td>\n",
       "      <td>44.0</td>\n",
       "      <td>52.0</td>\n",
       "      <td>39.0</td>\n",
       "      <td>19</td>\n",
       "      <td>12</td>\n",
       "      <td>1959</td>\n",
       "    </tr>\n",
       "    <tr>\n",
       "      <th>1959-12-20</th>\n",
       "      <td>42</td>\n",
       "      <td>42.0</td>\n",
       "      <td>40.0</td>\n",
       "      <td>39.0</td>\n",
       "      <td>41.333333</td>\n",
       "      <td>40.75</td>\n",
       "      <td>43.0</td>\n",
       "      <td>52.0</td>\n",
       "      <td>39.0</td>\n",
       "      <td>20</td>\n",
       "      <td>12</td>\n",
       "      <td>1959</td>\n",
       "    </tr>\n",
       "    <tr>\n",
       "      <th>1959-12-21</th>\n",
       "      <td>53</td>\n",
       "      <td>42.0</td>\n",
       "      <td>42.0</td>\n",
       "      <td>40.0</td>\n",
       "      <td>45.666667</td>\n",
       "      <td>44.25</td>\n",
       "      <td>43.2</td>\n",
       "      <td>53.0</td>\n",
       "      <td>39.0</td>\n",
       "      <td>21</td>\n",
       "      <td>12</td>\n",
       "      <td>1959</td>\n",
       "    </tr>\n",
       "    <tr>\n",
       "      <th>1959-12-22</th>\n",
       "      <td>39</td>\n",
       "      <td>53.0</td>\n",
       "      <td>42.0</td>\n",
       "      <td>42.0</td>\n",
       "      <td>44.666667</td>\n",
       "      <td>44.00</td>\n",
       "      <td>43.2</td>\n",
       "      <td>53.0</td>\n",
       "      <td>39.0</td>\n",
       "      <td>22</td>\n",
       "      <td>12</td>\n",
       "      <td>1959</td>\n",
       "    </tr>\n",
       "    <tr>\n",
       "      <th>1959-12-23</th>\n",
       "      <td>40</td>\n",
       "      <td>39.0</td>\n",
       "      <td>53.0</td>\n",
       "      <td>42.0</td>\n",
       "      <td>44.000000</td>\n",
       "      <td>43.50</td>\n",
       "      <td>43.2</td>\n",
       "      <td>53.0</td>\n",
       "      <td>39.0</td>\n",
       "      <td>23</td>\n",
       "      <td>12</td>\n",
       "      <td>1959</td>\n",
       "    </tr>\n",
       "    <tr>\n",
       "      <th>1959-12-24</th>\n",
       "      <td>38</td>\n",
       "      <td>40.0</td>\n",
       "      <td>39.0</td>\n",
       "      <td>53.0</td>\n",
       "      <td>39.000000</td>\n",
       "      <td>42.50</td>\n",
       "      <td>42.4</td>\n",
       "      <td>53.0</td>\n",
       "      <td>38.0</td>\n",
       "      <td>24</td>\n",
       "      <td>12</td>\n",
       "      <td>1959</td>\n",
       "    </tr>\n",
       "    <tr>\n",
       "      <th>1959-12-25</th>\n",
       "      <td>44</td>\n",
       "      <td>38.0</td>\n",
       "      <td>40.0</td>\n",
       "      <td>39.0</td>\n",
       "      <td>40.666667</td>\n",
       "      <td>40.25</td>\n",
       "      <td>42.8</td>\n",
       "      <td>53.0</td>\n",
       "      <td>38.0</td>\n",
       "      <td>25</td>\n",
       "      <td>12</td>\n",
       "      <td>1959</td>\n",
       "    </tr>\n",
       "    <tr>\n",
       "      <th>1959-12-26</th>\n",
       "      <td>34</td>\n",
       "      <td>44.0</td>\n",
       "      <td>38.0</td>\n",
       "      <td>40.0</td>\n",
       "      <td>38.666667</td>\n",
       "      <td>39.00</td>\n",
       "      <td>39.0</td>\n",
       "      <td>44.0</td>\n",
       "      <td>34.0</td>\n",
       "      <td>26</td>\n",
       "      <td>12</td>\n",
       "      <td>1959</td>\n",
       "    </tr>\n",
       "    <tr>\n",
       "      <th>1959-12-27</th>\n",
       "      <td>37</td>\n",
       "      <td>34.0</td>\n",
       "      <td>44.0</td>\n",
       "      <td>38.0</td>\n",
       "      <td>38.333333</td>\n",
       "      <td>38.25</td>\n",
       "      <td>38.6</td>\n",
       "      <td>44.0</td>\n",
       "      <td>34.0</td>\n",
       "      <td>27</td>\n",
       "      <td>12</td>\n",
       "      <td>1959</td>\n",
       "    </tr>\n",
       "    <tr>\n",
       "      <th>1959-12-28</th>\n",
       "      <td>52</td>\n",
       "      <td>37.0</td>\n",
       "      <td>34.0</td>\n",
       "      <td>44.0</td>\n",
       "      <td>41.000000</td>\n",
       "      <td>41.75</td>\n",
       "      <td>41.0</td>\n",
       "      <td>52.0</td>\n",
       "      <td>34.0</td>\n",
       "      <td>28</td>\n",
       "      <td>12</td>\n",
       "      <td>1959</td>\n",
       "    </tr>\n",
       "    <tr>\n",
       "      <th>1959-12-29</th>\n",
       "      <td>48</td>\n",
       "      <td>52.0</td>\n",
       "      <td>37.0</td>\n",
       "      <td>34.0</td>\n",
       "      <td>45.666667</td>\n",
       "      <td>42.75</td>\n",
       "      <td>43.0</td>\n",
       "      <td>52.0</td>\n",
       "      <td>34.0</td>\n",
       "      <td>29</td>\n",
       "      <td>12</td>\n",
       "      <td>1959</td>\n",
       "    </tr>\n",
       "    <tr>\n",
       "      <th>1959-12-30</th>\n",
       "      <td>55</td>\n",
       "      <td>48.0</td>\n",
       "      <td>52.0</td>\n",
       "      <td>37.0</td>\n",
       "      <td>51.666667</td>\n",
       "      <td>48.00</td>\n",
       "      <td>45.2</td>\n",
       "      <td>55.0</td>\n",
       "      <td>34.0</td>\n",
       "      <td>30</td>\n",
       "      <td>12</td>\n",
       "      <td>1959</td>\n",
       "    </tr>\n",
       "    <tr>\n",
       "      <th>1959-12-31</th>\n",
       "      <td>50</td>\n",
       "      <td>55.0</td>\n",
       "      <td>48.0</td>\n",
       "      <td>52.0</td>\n",
       "      <td>51.000000</td>\n",
       "      <td>51.25</td>\n",
       "      <td>48.4</td>\n",
       "      <td>55.0</td>\n",
       "      <td>37.0</td>\n",
       "      <td>31</td>\n",
       "      <td>12</td>\n",
       "      <td>1959</td>\n",
       "    </tr>\n",
       "  </tbody>\n",
       "</table>\n",
       "<p>361 rows × 12 columns</p>\n",
       "</div>"
      ],
      "text/plain": [
       "            births  lag1  lag2  lag3        MA3    MA4   MA5  Max_5  Min_5  \\\n",
       "date                                                                         \n",
       "1959-01-05      44  31.0  30.0  32.0  35.000000  34.25  34.4   44.0   30.0   \n",
       "1959-01-06      29  44.0  31.0  30.0  34.666667  33.50  33.2   44.0   29.0   \n",
       "1959-01-07      45  29.0  44.0  31.0  39.333333  37.25  35.8   45.0   29.0   \n",
       "1959-01-08      43  45.0  29.0  44.0  39.000000  40.25  38.4   45.0   29.0   \n",
       "1959-01-09      38  43.0  45.0  29.0  42.000000  38.75  39.8   45.0   29.0   \n",
       "1959-01-10      27  38.0  43.0  45.0  36.000000  38.25  36.4   45.0   27.0   \n",
       "1959-01-11      38  27.0  38.0  43.0  34.333333  36.50  38.2   45.0   27.0   \n",
       "1959-01-12      33  38.0  27.0  38.0  32.666667  34.00  35.8   43.0   27.0   \n",
       "1959-01-13      55  33.0  38.0  27.0  42.000000  38.25  38.2   55.0   27.0   \n",
       "1959-01-14      47  55.0  33.0  38.0  45.000000  43.25  40.0   55.0   27.0   \n",
       "1959-01-15      45  47.0  55.0  33.0  49.000000  45.00  43.6   55.0   33.0   \n",
       "1959-01-16      37  45.0  47.0  55.0  43.000000  46.00  43.4   55.0   33.0   \n",
       "1959-01-17      50  37.0  45.0  47.0  44.000000  44.75  46.8   55.0   37.0   \n",
       "1959-01-18      43  50.0  37.0  45.0  43.333333  43.75  44.4   50.0   37.0   \n",
       "1959-01-19      41  43.0  50.0  37.0  44.666667  42.75  43.2   50.0   37.0   \n",
       "1959-01-20      52  41.0  43.0  50.0  45.333333  46.50  44.6   52.0   37.0   \n",
       "1959-01-21      34  52.0  41.0  43.0  42.333333  42.50  44.0   52.0   34.0   \n",
       "1959-01-22      53  34.0  52.0  41.0  46.333333  45.00  44.6   53.0   34.0   \n",
       "1959-01-23      39  53.0  34.0  52.0  42.000000  44.50  43.8   53.0   34.0   \n",
       "1959-01-24      32  39.0  53.0  34.0  41.333333  39.50  42.0   53.0   32.0   \n",
       "1959-01-25      37  32.0  39.0  53.0  36.000000  40.25  39.0   53.0   32.0   \n",
       "1959-01-26      43  37.0  32.0  39.0  37.333333  37.75  40.8   53.0   32.0   \n",
       "1959-01-27      39  43.0  37.0  32.0  39.666667  37.75  38.0   43.0   32.0   \n",
       "1959-01-28      35  39.0  43.0  37.0  39.000000  38.50  37.2   43.0   32.0   \n",
       "1959-01-29      44  35.0  39.0  43.0  39.333333  40.25  39.6   44.0   35.0   \n",
       "1959-01-30      38  44.0  35.0  39.0  39.000000  39.00  39.8   44.0   35.0   \n",
       "1959-01-31      24  38.0  44.0  35.0  35.333333  35.25  36.0   44.0   24.0   \n",
       "1959-02-01      23  24.0  38.0  44.0  28.333333  32.25  32.8   44.0   23.0   \n",
       "1959-02-02      31  23.0  24.0  38.0  26.000000  29.00  32.0   44.0   23.0   \n",
       "1959-02-03      44  31.0  23.0  24.0  32.666667  30.50  32.0   44.0   23.0   \n",
       "...            ...   ...   ...   ...        ...    ...   ...    ...    ...   \n",
       "1959-12-02      32  45.0  52.0  44.0  43.000000  43.25  43.8   52.0   32.0   \n",
       "1959-12-03      46  32.0  45.0  52.0  41.000000  43.75  43.8   52.0   32.0   \n",
       "1959-12-04      41  46.0  32.0  45.0  39.666667  41.00  43.2   52.0   32.0   \n",
       "1959-12-05      34  41.0  46.0  32.0  40.333333  38.25  39.6   46.0   32.0   \n",
       "1959-12-06      33  34.0  41.0  46.0  36.000000  38.50  37.2   46.0   32.0   \n",
       "1959-12-07      36  33.0  34.0  41.0  34.333333  36.00  38.0   46.0   33.0   \n",
       "1959-12-08      49  36.0  33.0  34.0  39.333333  38.00  38.6   49.0   33.0   \n",
       "1959-12-09      43  49.0  36.0  33.0  42.666667  40.25  39.0   49.0   33.0   \n",
       "1959-12-10      43  43.0  49.0  36.0  45.000000  42.75  40.8   49.0   33.0   \n",
       "1959-12-11      34  43.0  43.0  49.0  40.000000  42.25  41.0   49.0   34.0   \n",
       "1959-12-12      39  34.0  43.0  43.0  38.666667  39.75  41.6   49.0   34.0   \n",
       "1959-12-13      35  39.0  34.0  43.0  36.000000  37.75  38.8   43.0   34.0   \n",
       "1959-12-14      52  35.0  39.0  34.0  42.000000  40.00  40.6   52.0   34.0   \n",
       "1959-12-15      47  52.0  35.0  39.0  44.666667  43.25  41.4   52.0   34.0   \n",
       "1959-12-16      52  47.0  52.0  35.0  50.333333  46.50  45.0   52.0   35.0   \n",
       "1959-12-17      39  52.0  47.0  52.0  46.000000  47.50  45.0   52.0   35.0   \n",
       "1959-12-18      40  39.0  52.0  47.0  43.666667  44.50  46.0   52.0   39.0   \n",
       "1959-12-19      42  40.0  39.0  52.0  40.333333  43.25  44.0   52.0   39.0   \n",
       "1959-12-20      42  42.0  40.0  39.0  41.333333  40.75  43.0   52.0   39.0   \n",
       "1959-12-21      53  42.0  42.0  40.0  45.666667  44.25  43.2   53.0   39.0   \n",
       "1959-12-22      39  53.0  42.0  42.0  44.666667  44.00  43.2   53.0   39.0   \n",
       "1959-12-23      40  39.0  53.0  42.0  44.000000  43.50  43.2   53.0   39.0   \n",
       "1959-12-24      38  40.0  39.0  53.0  39.000000  42.50  42.4   53.0   38.0   \n",
       "1959-12-25      44  38.0  40.0  39.0  40.666667  40.25  42.8   53.0   38.0   \n",
       "1959-12-26      34  44.0  38.0  40.0  38.666667  39.00  39.0   44.0   34.0   \n",
       "1959-12-27      37  34.0  44.0  38.0  38.333333  38.25  38.6   44.0   34.0   \n",
       "1959-12-28      52  37.0  34.0  44.0  41.000000  41.75  41.0   52.0   34.0   \n",
       "1959-12-29      48  52.0  37.0  34.0  45.666667  42.75  43.0   52.0   34.0   \n",
       "1959-12-30      55  48.0  52.0  37.0  51.666667  48.00  45.2   55.0   34.0   \n",
       "1959-12-31      50  55.0  48.0  52.0  51.000000  51.25  48.4   55.0   37.0   \n",
       "\n",
       "            day  month  year  \n",
       "date                          \n",
       "1959-01-05    5      1  1959  \n",
       "1959-01-06    6      1  1959  \n",
       "1959-01-07    7      1  1959  \n",
       "1959-01-08    8      1  1959  \n",
       "1959-01-09    9      1  1959  \n",
       "1959-01-10   10      1  1959  \n",
       "1959-01-11   11      1  1959  \n",
       "1959-01-12   12      1  1959  \n",
       "1959-01-13   13      1  1959  \n",
       "1959-01-14   14      1  1959  \n",
       "1959-01-15   15      1  1959  \n",
       "1959-01-16   16      1  1959  \n",
       "1959-01-17   17      1  1959  \n",
       "1959-01-18   18      1  1959  \n",
       "1959-01-19   19      1  1959  \n",
       "1959-01-20   20      1  1959  \n",
       "1959-01-21   21      1  1959  \n",
       "1959-01-22   22      1  1959  \n",
       "1959-01-23   23      1  1959  \n",
       "1959-01-24   24      1  1959  \n",
       "1959-01-25   25      1  1959  \n",
       "1959-01-26   26      1  1959  \n",
       "1959-01-27   27      1  1959  \n",
       "1959-01-28   28      1  1959  \n",
       "1959-01-29   29      1  1959  \n",
       "1959-01-30   30      1  1959  \n",
       "1959-01-31   31      1  1959  \n",
       "1959-02-01    1      2  1959  \n",
       "1959-02-02    2      2  1959  \n",
       "1959-02-03    3      2  1959  \n",
       "...         ...    ...   ...  \n",
       "1959-12-02    2     12  1959  \n",
       "1959-12-03    3     12  1959  \n",
       "1959-12-04    4     12  1959  \n",
       "1959-12-05    5     12  1959  \n",
       "1959-12-06    6     12  1959  \n",
       "1959-12-07    7     12  1959  \n",
       "1959-12-08    8     12  1959  \n",
       "1959-12-09    9     12  1959  \n",
       "1959-12-10   10     12  1959  \n",
       "1959-12-11   11     12  1959  \n",
       "1959-12-12   12     12  1959  \n",
       "1959-12-13   13     12  1959  \n",
       "1959-12-14   14     12  1959  \n",
       "1959-12-15   15     12  1959  \n",
       "1959-12-16   16     12  1959  \n",
       "1959-12-17   17     12  1959  \n",
       "1959-12-18   18     12  1959  \n",
       "1959-12-19   19     12  1959  \n",
       "1959-12-20   20     12  1959  \n",
       "1959-12-21   21     12  1959  \n",
       "1959-12-22   22     12  1959  \n",
       "1959-12-23   23     12  1959  \n",
       "1959-12-24   24     12  1959  \n",
       "1959-12-25   25     12  1959  \n",
       "1959-12-26   26     12  1959  \n",
       "1959-12-27   27     12  1959  \n",
       "1959-12-28   28     12  1959  \n",
       "1959-12-29   29     12  1959  \n",
       "1959-12-30   30     12  1959  \n",
       "1959-12-31   31     12  1959  \n",
       "\n",
       "[361 rows x 12 columns]"
      ]
     },
     "execution_count": 101,
     "metadata": {},
     "output_type": "execute_result"
    }
   ],
   "source": [
    "f_birth.dropna()"
   ]
  },
  {
   "cell_type": "markdown",
   "metadata": {},
   "source": [
    "# Stationary Time series - Testing"
   ]
  },
  {
   "cell_type": "code",
   "execution_count": 102,
   "metadata": {},
   "outputs": [],
   "source": [
    "# Stationary time series helps us to do the prediction better\n",
    "# A normal time series that does not have seasonality or a trend\n",
    "# Types -\n",
    "# Visualization\n",
    "# Dicky Fuller test\n",
    "# Constant Mean and Variance"
   ]
  },
  {
   "cell_type": "code",
   "execution_count": 103,
   "metadata": {},
   "outputs": [],
   "source": [
    "import pandas as pd\n",
    "import matplotlib.pyplot as plt\n",
    "%matplotlib inline"
   ]
  },
  {
   "cell_type": "code",
   "execution_count": 129,
   "metadata": {},
   "outputs": [
    {
     "data": {
      "text/plain": [
       "date\n",
       "1959-01-01    35\n",
       "1959-01-02    32\n",
       "1959-01-03    30\n",
       "1959-01-04    31\n",
       "1959-01-05    44\n",
       "Name: births, dtype: int64"
      ]
     },
     "execution_count": 129,
     "metadata": {},
     "output_type": "execute_result"
    }
   ],
   "source": [
    "f_birth = pd.read_csv(\"C:\\\\Users\\\\sameer\\\\Desktop\\\\Datasets\\\\daily-total-female-births-CA.csv\",index_col=[0],parse_dates=[0],squeeze = True)\n",
    "f_birth.head()"
   ]
  },
  {
   "cell_type": "code",
   "execution_count": 130,
   "metadata": {},
   "outputs": [
    {
     "data": {
      "text/plain": [
       "pandas.core.series.Series"
      ]
     },
     "execution_count": 130,
     "metadata": {},
     "output_type": "execute_result"
    }
   ],
   "source": [
    "type(f_birth)"
   ]
  },
  {
   "cell_type": "code",
   "execution_count": 131,
   "metadata": {},
   "outputs": [
    {
     "data": {
      "text/plain": [
       "date\n",
       "1959-12-27    37\n",
       "1959-12-28    52\n",
       "1959-12-29    48\n",
       "1959-12-30    55\n",
       "1959-12-31    50\n",
       "Name: births, dtype: int64"
      ]
     },
     "execution_count": 131,
     "metadata": {},
     "output_type": "execute_result"
    }
   ],
   "source": [
    "f_birth.tail()"
   ]
  },
  {
   "cell_type": "code",
   "execution_count": 132,
   "metadata": {},
   "outputs": [
    {
     "data": {
      "text/plain": [
       "<matplotlib.axes._subplots.AxesSubplot at 0x1a26e919860>"
      ]
     },
     "execution_count": 132,
     "metadata": {},
     "output_type": "execute_result"
    },
    {
     "data": {
      "image/png": "[encoded data removed]",
      "text/plain": [
       "<Figure size 720x360 with 1 Axes>"
      ]
     },
     "metadata": {
      "needs_background": "light"
     },
     "output_type": "display_data"
    }
   ],
   "source": [
    "f_birth.plot(figsize = (10,5))"
   ]
  },
  {
   "cell_type": "code",
   "execution_count": 133,
   "metadata": {},
   "outputs": [
    {
     "data": {
      "text/plain": [
       "<matplotlib.axes._subplots.AxesSubplot at 0x1a26f9d0c88>"
      ]
     },
     "execution_count": 133,
     "metadata": {},
     "output_type": "execute_result"
    },
    {
     "data": {
      "image/png": "[encoded data removed]",
      "text/plain": [
       "<Figure size 432x288 with 1 Axes>"
      ]
     },
     "metadata": {
      "needs_background": "light"
     },
     "output_type": "display_data"
    }
   ],
   "source": [
    "f_birth.hist() # little bit skew towards right tail"
   ]
  },
  {
   "cell_type": "code",
   "execution_count": 134,
   "metadata": {},
   "outputs": [
    {
     "data": {
      "text/plain": [
       "date\n",
       "1959-12-27    37\n",
       "1959-12-28    52\n",
       "1959-12-29    48\n",
       "1959-12-30    55\n",
       "1959-12-31    50\n",
       "Name: births, dtype: int64"
      ]
     },
     "execution_count": 134,
     "metadata": {},
     "output_type": "execute_result"
    }
   ],
   "source": [
    "# checking for constant mean and variance\n",
    "# for stationary time series mean and variance should remain same\n",
    "f_birth1 = f_birth[0:201]\n",
    "f_birth2 = f_birth[201:]\n",
    "f_birth2.tail()"
   ]
  },
  {
   "cell_type": "code",
   "execution_count": 135,
   "metadata": {},
   "outputs": [
    {
     "data": {
      "text/plain": [
       "40.024875621890544"
      ]
     },
     "execution_count": 135,
     "metadata": {},
     "output_type": "execute_result"
    }
   ],
   "source": [
    "f_birth1.mean()"
   ]
  },
  {
   "cell_type": "code",
   "execution_count": 136,
   "metadata": {},
   "outputs": [
    {
     "data": {
      "text/plain": [
       "44.3780487804878"
      ]
     },
     "execution_count": 136,
     "metadata": {},
     "output_type": "execute_result"
    }
   ],
   "source": [
    "f_birth2.mean()"
   ]
  },
  {
   "cell_type": "code",
   "execution_count": 137,
   "metadata": {},
   "outputs": [
    {
     "data": {
      "text/plain": [
       "49.31437810945274"
      ]
     },
     "execution_count": 137,
     "metadata": {},
     "output_type": "execute_result"
    }
   ],
   "source": [
    "f_birth1.var()"
   ]
  },
  {
   "cell_type": "code",
   "execution_count": 138,
   "metadata": {},
   "outputs": [
    {
     "data": {
      "text/plain": [
       "49.57399371539728"
      ]
     },
     "execution_count": 138,
     "metadata": {},
     "output_type": "execute_result"
    }
   ],
   "source": [
    "f_birth2.var()"
   ]
  },
  {
   "cell_type": "code",
   "execution_count": 139,
   "metadata": {},
   "outputs": [],
   "source": [
    "# Dickey Fuller test or Augmented Dickey Fuller test\n",
    "# It tells how strongly a time series is defined by a trend\n",
    "# tells series is stationary or not using Null hypothesis"
   ]
  },
  {
   "cell_type": "code",
   "execution_count": 140,
   "metadata": {},
   "outputs": [],
   "source": [
    "from statsmodels.tsa.stattools import adfuller"
   ]
  },
  {
   "cell_type": "code",
   "execution_count": 141,
   "metadata": {},
   "outputs": [],
   "source": [
    "adf_test = adfuller(f_birth) #adfuller uses series instead of dataframe"
   ]
  },
  {
   "cell_type": "code",
   "execution_count": 142,
   "metadata": {},
   "outputs": [
    {
     "data": {
      "text/plain": [
       "-4.808291253559763"
      ]
     },
     "execution_count": 142,
     "metadata": {},
     "output_type": "execute_result"
    }
   ],
   "source": [
    "adf_test[0] # Dickey fuller test value, lesser the score better the model"
   ]
  },
  {
   "cell_type": "code",
   "execution_count": 143,
   "metadata": {},
   "outputs": [
    {
     "data": {
      "text/plain": [
       "5.243412990149865e-05"
      ]
     },
     "execution_count": 143,
     "metadata": {},
     "output_type": "execute_result"
    }
   ],
   "source": [
    "adf_test[1] \n",
    "# It is the p-value which we use to compare to (0.05) in order to decide whether to reject null hypothesis or not\n",
    "# In this case it is 0.000052434.... which is very less compared to 0.05\n",
    "# Therefore series is stationary to perform the time series analysis"
   ]
  },
  {
   "cell_type": "markdown",
   "metadata": {},
   "source": [
    "# Making a function to calculate and show the statistics of dickey fuller test"
   ]
  },
  {
   "cell_type": "code",
   "execution_count": 144,
   "metadata": {},
   "outputs": [],
   "source": [
    "def adf_test(dataset):\n",
    "    import pandas as pd\n",
    "    import matplotlib.pyplot as plt\n",
    "    %matplotlib inline\n",
    "    from statsmodels.tsa.stattools import adfuller\n",
    "    ds = pd.read_csv(dataset,index_col=[0],parse_dates=[0],nrows =365,squeeze=True) \n",
    "    #assuming dataset has the index column as dates and has a data for 365 days\n",
    "    print(ds.hist())\n",
    "    ds_split = int(len(ds)/2)\n",
    "    ds_1 = ds[0:ds_split]\n",
    "    ds_2 = ds[ds_split:]\n",
    "    print('Mean 1 = ',ds_1.mean())\n",
    "    print('Mean 2 = ',ds_2.mean())\n",
    "    print('Variance 1 = ',ds_1.var())\n",
    "    print('Variance 2 = ',ds_2.var())\n",
    "    adftest = adfuller(ds)\n",
    "    print('ADF value = ',adftest[0])\n",
    "    print('p Value = ',adftest[1])"
   ]
  },
  {
   "cell_type": "code",
   "execution_count": 145,
   "metadata": {},
   "outputs": [
    {
     "name": "stdout",
     "output_type": "stream",
     "text": [
      "AxesSubplot(0.125,0.125;0.775x0.755)\n",
      "Mean 1 =  39.76373626373626\n",
      "Mean 2 =  44.185792349726775\n",
      "Variance 1 =  49.48530751016939\n",
      "Variance 2 =  48.97628055005103\n",
      "ADF value =  -4.808291253559763\n",
      "p Value =  5.243412990149865e-05\n"
     ]
    },
    {
     "data": {
      "image/png": "[encoded data removed]",
      "text/plain": [
       "<Figure size 432x288 with 1 Axes>"
      ]
     },
     "metadata": {
      "needs_background": "light"
     },
     "output_type": "display_data"
    }
   ],
   "source": [
    "adf_test(\"C:\\\\Users\\\\sameer\\\\Desktop\\\\Datasets\\\\daily-total-female-births-CA.csv\")"
   ]
  },
  {
   "cell_type": "markdown",
   "metadata": {},
   "source": [
    "# Hyperparameters Tuning"
   ]
  },
  {
   "cell_type": "code",
   "execution_count": 119,
   "metadata": {},
   "outputs": [],
   "source": [
    "# In this section we need to tune the order in the ARIMA model we provided to get the lowest aci value for best model (p,d,q)"
   ]
  },
  {
   "cell_type": "code",
   "execution_count": 120,
   "metadata": {},
   "outputs": [],
   "source": [
    "import pandas as pd\n",
    "from statsmodels.tsa.arima_model import ARIMA\n",
    "from sklearn.metrics import mean_squared_error\n",
    "import warnings\n",
    "warnings.filterwarnings(\"ignore\")"
   ]
  },
  {
   "cell_type": "code",
   "execution_count": 125,
   "metadata": {},
   "outputs": [
    {
     "data": {
      "text/plain": [
       "date\n",
       "1959-01-01    35\n",
       "1959-01-02    32\n",
       "1959-01-03    30\n",
       "1959-01-04    31\n",
       "1959-01-05    44\n",
       "Name: births, dtype: int64"
      ]
     },
     "execution_count": 125,
     "metadata": {},
     "output_type": "execute_result"
    }
   ],
   "source": [
    "f_birth = pd.read_csv(\"C:\\\\Users\\\\sameer\\\\Desktop\\\\Datasets\\\\daily-total-female-births-CA.csv\",index_col=[0],parse_dates=[0],squeeze = True)\n",
    "f_birth.head()"
   ]
  },
  {
   "cell_type": "code",
   "execution_count": 126,
   "metadata": {},
   "outputs": [],
   "source": [
    "p_values = range(0,8)\n",
    "d_values = range(0,3)\n",
    "q_values = range(0,5)"
   ]
  },
  {
   "cell_type": "code",
   "execution_count": 127,
   "metadata": {},
   "outputs": [
    {
     "data": {
      "text/plain": [
       "range(0, 8)"
      ]
     },
     "execution_count": 127,
     "metadata": {},
     "output_type": "execute_result"
    }
   ],
   "source": [
    "p_values"
   ]
  },
  {
   "cell_type": "code",
   "execution_count": 124,
   "metadata": {},
   "outputs": [],
   "source": [
    "for p in p_values:\n",
    "    for d in d_values:\n",
    "        for q in q_values:\n",
    "            order = (p,d,q) # order in ARIMA\n",
    "            train,test = f_birth[0:300], f_birth[300:365] # train test split\n",
    "            predictions = list() # list to store the predicted values that we will compare later with test values\n",
    "            for i in range(len(test)): # for each value of test value we want to have a value of predicted value\n",
    "                try:\n",
    "                    model = ARIMA(train,order)\n",
    "                    model_fit = model.fit(disp=0) # displacement = 0 or FALSE turns off all the noise\n",
    "                    pred_y = model_fit.forecast()[0]\n",
    "                    predictions.append(pred_y)\n",
    "                    error = mean_squared_error(test,predictions)\n",
    "                    print('ARIMA%s , MSE = %.2f'%(order,error))\n",
    "                except:\n",
    "                    continue"
   ]
  },
  {
   "cell_type": "code",
   "execution_count": null,
   "metadata": {},
   "outputs": [],
   "source": []
  }
 ],
 "metadata": {
  "kernelspec": {
   "display_name": "Python 3",
   "language": "python",
   "name": "python3"
  },
  "language_info": {
   "codemirror_mode": {
    "name": "ipython",
    "version": 3
   },
   "file_extension": ".py",
   "mimetype": "text/x-python",
   "name": "python",
   "nbconvert_exporter": "python",
   "pygments_lexer": "ipython3",
   "version": "3.7.3"
  }
 },
 "nbformat": 4,
 "nbformat_minor": 2
}

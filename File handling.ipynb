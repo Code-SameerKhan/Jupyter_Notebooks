{
 "cells": [
  {
   "cell_type": "code",
   "execution_count": 12,
   "metadata": {},
   "outputs": [
    {
     "data": {
      "text/plain": [
       "['hi my name is sameer\\n',\n",
       " 'nice to meet you\\n',\n",
       " 'or in spanish\\n',\n",
       " 'mucho gusto, amigo']"
      ]
     },
     "execution_count": 12,
     "metadata": {},
     "output_type": "execute_result"
    }
   ],
   "source": [
    "#opening a text file and reading and editing it\n",
    "f = open(\"C:\\\\functions\\\\tech.txt\",'r')\n",
    "a = f.readlines()\n",
    "a"
   ]
  },
  {
   "cell_type": "code",
   "execution_count": 14,
   "metadata": {},
   "outputs": [
    {
     "data": {
      "text/plain": [
       "73"
      ]
     },
     "execution_count": 14,
     "metadata": {},
     "output_type": "execute_result"
    }
   ],
   "source": [
    "f.tell()"
   ]
  },
  {
   "cell_type": "code",
   "execution_count": 17,
   "metadata": {},
   "outputs": [
    {
     "data": {
      "text/plain": [
       "12"
      ]
     },
     "execution_count": 17,
     "metadata": {},
     "output_type": "execute_result"
    }
   ],
   "source": [
    "f.seek(12)"
   ]
  },
  {
   "cell_type": "code",
   "execution_count": 18,
   "metadata": {},
   "outputs": [
    {
     "data": {
      "text/plain": [
       "12"
      ]
     },
     "execution_count": 18,
     "metadata": {},
     "output_type": "execute_result"
    }
   ],
   "source": [
    "f.tell()"
   ]
  },
  {
   "cell_type": "code",
   "execution_count": 19,
   "metadata": {},
   "outputs": [
    {
     "data": {
      "text/plain": [
       "0"
      ]
     },
     "execution_count": 19,
     "metadata": {},
     "output_type": "execute_result"
    }
   ],
   "source": [
    "f.seek(0)"
   ]
  },
  {
   "cell_type": "code",
   "execution_count": 20,
   "metadata": {},
   "outputs": [
    {
     "data": {
      "text/plain": [
       "'hi my name i'"
      ]
     },
     "execution_count": 20,
     "metadata": {},
     "output_type": "execute_result"
    }
   ],
   "source": [
    "f.read(12)"
   ]
  },
  {
   "cell_type": "code",
   "execution_count": 33,
   "metadata": {},
   "outputs": [
    {
     "data": {
      "text/plain": [
       "19"
      ]
     },
     "execution_count": 33,
     "metadata": {},
     "output_type": "execute_result"
    }
   ],
   "source": [
    "f = open(\"C:\\\\functions\\\\tech.txt\",'w')\n",
    "f.write('This is edited line')"
   ]
  },
  {
   "cell_type": "code",
   "execution_count": 34,
   "metadata": {},
   "outputs": [],
   "source": [
    "f.close()"
   ]
  },
  {
   "cell_type": "code",
   "execution_count": 35,
   "metadata": {},
   "outputs": [
    {
     "data": {
      "text/plain": [
       "'This is edited line'"
      ]
     },
     "execution_count": 35,
     "metadata": {},
     "output_type": "execute_result"
    }
   ],
   "source": [
    "f = open(\"C:\\\\functions\\\\tech.txt\",'r')\n",
    "f.read()"
   ]
  },
  {
   "cell_type": "code",
   "execution_count": 27,
   "metadata": {},
   "outputs": [],
   "source": [
    "f.close()"
   ]
  },
  {
   "cell_type": "code",
   "execution_count": 28,
   "metadata": {},
   "outputs": [],
   "source": [
    "f = open(\"C:\\\\functions\\\\tech.txt\",'w')\n",
    "f.write('This is edited line his is edited line his is edited line his is edited line his is edited line his is edited line')\n",
    "f.close()"
   ]
  },
  {
   "cell_type": "code",
   "execution_count": 29,
   "metadata": {},
   "outputs": [
    {
     "data": {
      "text/plain": [
       "'This is edited line his is edited line his is edited line his is edited line his is edited line his is edited line'"
      ]
     },
     "execution_count": 29,
     "metadata": {},
     "output_type": "execute_result"
    }
   ],
   "source": [
    "f = open(\"C:\\\\functions\\\\tech.txt\",'r')\n",
    "f.read()"
   ]
  },
  {
   "cell_type": "code",
   "execution_count": 64,
   "metadata": {},
   "outputs": [],
   "source": [
    "f.close()"
   ]
  },
  {
   "cell_type": "code",
   "execution_count": 72,
   "metadata": {},
   "outputs": [
    {
     "data": {
      "text/plain": [
       "'New line incomingne'"
      ]
     },
     "execution_count": 72,
     "metadata": {},
     "output_type": "execute_result"
    }
   ],
   "source": [
    "f = open(\"C:\\\\functions\\\\tech.txt\",'r+')\n",
    "f.write('New line incoming')\n",
    "f.close()\n",
    "f = open(\"C:\\\\functions\\\\tech.txt\",'r+')\n",
    "f.read()"
   ]
  },
  {
   "cell_type": "code",
   "execution_count": 73,
   "metadata": {},
   "outputs": [
    {
     "name": "stdout",
     "output_type": "stream",
     "text": [
      "New \n",
      "line \n"
     ]
    }
   ],
   "source": [
    "with open(\"C:\\\\functions\\\\tech.txt\",'r') as f:\n",
    "    print(f.read(4))\n",
    "    print(f.read(5))"
   ]
  },
  {
   "cell_type": "code",
   "execution_count": 74,
   "metadata": {},
   "outputs": [],
   "source": [
    "with open(\"C:\\\\functions\\\\tech.txt\",'w') as f:\n",
    "    f.write('This is edited line')"
   ]
  },
  {
   "cell_type": "code",
   "execution_count": 75,
   "metadata": {},
   "outputs": [
    {
     "name": "stdout",
     "output_type": "stream",
     "text": [
      "['This is edited line']\n"
     ]
    }
   ],
   "source": [
    "with open(\"C:\\\\functions\\\\tech.txt\",'r') as g:\n",
    "    print(g.readlines())"
   ]
  },
  {
   "cell_type": "code",
   "execution_count": 81,
   "metadata": {},
   "outputs": [
    {
     "data": {
      "text/plain": [
       "['This is edited line. This is a paragraph. I am writing\\n',\n",
       " 'this because i have been asked to write it not because\\n',\n",
       " 'i wanted to write it. frankly speaking i hate writing\\n',\n",
       " 'anything. just doing it with no heart.lol']"
      ]
     },
     "execution_count": 81,
     "metadata": {},
     "output_type": "execute_result"
    }
   ],
   "source": [
    "with open(\"C:\\\\functions\\\\tech.txt\",'r') as f:\n",
    "    a = f.readlines()\n",
    "a"
   ]
  },
  {
   "cell_type": "code",
   "execution_count": 85,
   "metadata": {},
   "outputs": [
    {
     "name": "stdout",
     "output_type": "stream",
     "text": [
      "['This', 'is', 'edited', 'line.', 'This', 'is', 'a', 'paragraph.', 'I', 'am', 'writing']\n",
      "['this', 'because', 'i', 'have', 'been', 'asked', 'to', 'write', 'it', 'not', 'because']\n",
      "['i', 'wanted', 'to', 'write', 'it.', 'frankly', 'speaking', 'i', 'hate', 'writing']\n",
      "['anything.', 'just', 'doing', 'it', 'with', 'no', 'heart.lol']\n"
     ]
    }
   ],
   "source": [
    "for i in a:\n",
    "    print(i.split())"
   ]
  },
  {
   "cell_type": "code",
   "execution_count": 92,
   "metadata": {},
   "outputs": [],
   "source": [
    "with open(\"C:\\\\functions\\\\tech.txt\",'a') as f:\n",
    "    f.write('\\nThis is just getting too much')"
   ]
  },
  {
   "cell_type": "code",
   "execution_count": 93,
   "metadata": {},
   "outputs": [
    {
     "data": {
      "text/plain": [
       "['This is edited line. This is a paragraph. I am writing\\n',\n",
       " 'this because i have been asked to write it not because\\n',\n",
       " 'i wanted to write it. frankly speaking i hate writing\\n',\n",
       " 'anything. just doing it with no heart.lol \\n',\n",
       " 'This is just getting too much']"
      ]
     },
     "execution_count": 93,
     "metadata": {},
     "output_type": "execute_result"
    }
   ],
   "source": [
    "with open(\"C:\\\\functions\\\\tech.txt\",'r') as f:\n",
    "    a  = f.readlines()\n",
    "a"
   ]
  },
  {
   "cell_type": "code",
   "execution_count": 97,
   "metadata": {},
   "outputs": [
    {
     "name": "stdout",
     "output_type": "stream",
     "text": [
      "This is edited line. This is a paragraph. I am writing\n",
      "\n",
      "this because i have been asked to write it not because\n",
      "\n",
      "i wanted to write it. frankly speaking i hate writing\n",
      "\n",
      "anything. just doing it with no heart.lol \n",
      "\n",
      "This is just getting too much\n"
     ]
    }
   ],
   "source": [
    "for i in a:\n",
    "    i.split()\n",
    "    print(i)"
   ]
  },
  {
   "cell_type": "code",
   "execution_count": null,
   "metadata": {},
   "outputs": [],
   "source": [
    "#directory structure\n",
    "import os\n",
    "os.getcwd() #gets current working directory\n",
    "os.chdir(\"path\") # changes directories\n",
    "os.listdir() #gets list of all directories"
   ]
  }
 ],
 "metadata": {
  "kernelspec": {
   "display_name": "Python 3",
   "language": "python",
   "name": "python3"
  },
  "language_info": {
   "codemirror_mode": {
    "name": "ipython",
    "version": 3
   },
   "file_extension": ".py",
   "mimetype": "text/x-python",
   "name": "python",
   "nbconvert_exporter": "python",
   "pygments_lexer": "ipython3",
   "version": "3.7.3"
  }
 },
 "nbformat": 4,
 "nbformat_minor": 2
}

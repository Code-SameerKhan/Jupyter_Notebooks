{
 "cells": [
  {
   "cell_type": "code",
   "execution_count": 1,
   "metadata": {},
   "outputs": [],
   "source": [
    "import pandas as pd\n",
    "import numpy as np\n",
    "import matplotlib.pyplot as plt\n",
    "%matplotlib inline"
   ]
  },
  {
   "cell_type": "code",
   "execution_count": 2,
   "metadata": {},
   "outputs": [],
   "source": [
    "import warnings\n",
    "warnings.filterwarnings ('ignore')"
   ]
  },
  {
   "cell_type": "code",
   "execution_count": 6,
   "metadata": {},
   "outputs": [
    {
     "data": {
      "text/html": [
       "<div>\n",
       "<style scoped>\n",
       "    .dataframe tbody tr th:only-of-type {\n",
       "        vertical-align: middle;\n",
       "    }\n",
       "\n",
       "    .dataframe tbody tr th {\n",
       "        vertical-align: top;\n",
       "    }\n",
       "\n",
       "    .dataframe thead th {\n",
       "        text-align: right;\n",
       "    }\n",
       "</style>\n",
       "<table border=\"1\" class=\"dataframe\">\n",
       "  <thead>\n",
       "    <tr style=\"text-align: right;\">\n",
       "      <th></th>\n",
       "      <th>Open</th>\n",
       "      <th>High</th>\n",
       "      <th>Low</th>\n",
       "      <th>Close</th>\n",
       "      <th>Adj Close</th>\n",
       "      <th>Volume</th>\n",
       "    </tr>\n",
       "    <tr>\n",
       "      <th>Date</th>\n",
       "      <th></th>\n",
       "      <th></th>\n",
       "      <th></th>\n",
       "      <th></th>\n",
       "      <th></th>\n",
       "      <th></th>\n",
       "    </tr>\n",
       "  </thead>\n",
       "  <tbody>\n",
       "    <tr>\n",
       "      <th>2014-01-02</th>\n",
       "      <td>29.959999</td>\n",
       "      <td>30.496</td>\n",
       "      <td>29.309999</td>\n",
       "      <td>30.020000</td>\n",
       "      <td>30.020000</td>\n",
       "      <td>30942000</td>\n",
       "    </tr>\n",
       "    <tr>\n",
       "      <th>2014-01-03</th>\n",
       "      <td>30.000000</td>\n",
       "      <td>30.438</td>\n",
       "      <td>29.719999</td>\n",
       "      <td>29.912001</td>\n",
       "      <td>29.912001</td>\n",
       "      <td>23475000</td>\n",
       "    </tr>\n",
       "    <tr>\n",
       "      <th>2014-01-06</th>\n",
       "      <td>30.000000</td>\n",
       "      <td>30.080</td>\n",
       "      <td>29.048000</td>\n",
       "      <td>29.400000</td>\n",
       "      <td>29.400000</td>\n",
       "      <td>26805500</td>\n",
       "    </tr>\n",
       "    <tr>\n",
       "      <th>2014-01-07</th>\n",
       "      <td>29.524000</td>\n",
       "      <td>30.080</td>\n",
       "      <td>29.049999</td>\n",
       "      <td>29.872000</td>\n",
       "      <td>29.872000</td>\n",
       "      <td>25170500</td>\n",
       "    </tr>\n",
       "    <tr>\n",
       "      <th>2014-01-08</th>\n",
       "      <td>29.770000</td>\n",
       "      <td>30.740</td>\n",
       "      <td>29.752001</td>\n",
       "      <td>30.256001</td>\n",
       "      <td>30.256001</td>\n",
       "      <td>30816000</td>\n",
       "    </tr>\n",
       "  </tbody>\n",
       "</table>\n",
       "</div>"
      ],
      "text/plain": [
       "                 Open    High        Low      Close  Adj Close    Volume\n",
       "Date                                                                    \n",
       "2014-01-02  29.959999  30.496  29.309999  30.020000  30.020000  30942000\n",
       "2014-01-03  30.000000  30.438  29.719999  29.912001  29.912001  23475000\n",
       "2014-01-06  30.000000  30.080  29.048000  29.400000  29.400000  26805500\n",
       "2014-01-07  29.524000  30.080  29.049999  29.872000  29.872000  25170500\n",
       "2014-01-08  29.770000  30.740  29.752001  30.256001  30.256001  30816000"
      ]
     },
     "execution_count": 6,
     "metadata": {},
     "output_type": "execute_result"
    }
   ],
   "source": [
    "df = pd.read_csv('C://users//sameer//desktop//datasets//tesla_stock.csv', parse_dates = ['Date'],\n",
    "                index_col = 'Date')\n",
    "df.head()"
   ]
  },
  {
   "cell_type": "code",
   "execution_count": 7,
   "metadata": {},
   "outputs": [],
   "source": [
    "#type(df.Date) # Date should be in Date Stamp format"
   ]
  },
  {
   "cell_type": "code",
   "execution_count": 8,
   "metadata": {},
   "outputs": [
    {
     "data": {
      "text/plain": [
       "(1509, 6)"
      ]
     },
     "execution_count": 8,
     "metadata": {},
     "output_type": "execute_result"
    }
   ],
   "source": [
    "df.shape"
   ]
  },
  {
   "cell_type": "code",
   "execution_count": 7,
   "metadata": {},
   "outputs": [
    {
     "data": {
      "text/plain": [
       "Index(['Open', 'High', 'Low', 'Close', 'Adj Close', 'Volume'], dtype='object')"
      ]
     },
     "execution_count": 7,
     "metadata": {},
     "output_type": "execute_result"
    }
   ],
   "source": [
    "df.columns"
   ]
  },
  {
   "cell_type": "code",
   "execution_count": 8,
   "metadata": {},
   "outputs": [
    {
     "data": {
      "text/plain": [
       "Index(['Open', 'High', 'Low', 'Close', 'Adj_Close', 'Volume'], dtype='object')"
      ]
     },
     "execution_count": 8,
     "metadata": {},
     "output_type": "execute_result"
    }
   ],
   "source": [
    "df.columns = df.columns.str.replace(\" \",\"_\") # Replacing blank spaces\n",
    "df.columns"
   ]
  },
  {
   "cell_type": "code",
   "execution_count": 9,
   "metadata": {
    "scrolled": false
   },
   "outputs": [
    {
     "data": {
      "text/html": [
       "<div>\n",
       "<style scoped>\n",
       "    .dataframe tbody tr th:only-of-type {\n",
       "        vertical-align: middle;\n",
       "    }\n",
       "\n",
       "    .dataframe tbody tr th {\n",
       "        vertical-align: top;\n",
       "    }\n",
       "\n",
       "    .dataframe thead th {\n",
       "        text-align: right;\n",
       "    }\n",
       "</style>\n",
       "<table border=\"1\" class=\"dataframe\">\n",
       "  <thead>\n",
       "    <tr style=\"text-align: right;\">\n",
       "      <th></th>\n",
       "      <th>Open</th>\n",
       "      <th>High</th>\n",
       "      <th>Low</th>\n",
       "      <th>Close</th>\n",
       "      <th>Adj_Close</th>\n",
       "      <th>Volume</th>\n",
       "    </tr>\n",
       "  </thead>\n",
       "  <tbody>\n",
       "    <tr>\n",
       "      <th>count</th>\n",
       "      <td>251.000000</td>\n",
       "      <td>251.000000</td>\n",
       "      <td>251.000000</td>\n",
       "      <td>251.000000</td>\n",
       "      <td>251.000000</td>\n",
       "      <td>2.510000e+02</td>\n",
       "    </tr>\n",
       "    <tr>\n",
       "      <th>mean</th>\n",
       "      <td>63.436693</td>\n",
       "      <td>64.738725</td>\n",
       "      <td>62.110462</td>\n",
       "      <td>63.461984</td>\n",
       "      <td>63.461984</td>\n",
       "      <td>4.306053e+07</td>\n",
       "    </tr>\n",
       "    <tr>\n",
       "      <th>std</th>\n",
       "      <td>5.751053</td>\n",
       "      <td>5.810714</td>\n",
       "      <td>5.765842</td>\n",
       "      <td>5.752044</td>\n",
       "      <td>5.752044</td>\n",
       "      <td>2.466233e+07</td>\n",
       "    </tr>\n",
       "    <tr>\n",
       "      <th>min</th>\n",
       "      <td>50.556000</td>\n",
       "      <td>52.066002</td>\n",
       "      <td>48.917999</td>\n",
       "      <td>50.112000</td>\n",
       "      <td>50.112000</td>\n",
       "      <td>1.540350e+07</td>\n",
       "    </tr>\n",
       "    <tr>\n",
       "      <th>25%</th>\n",
       "      <td>59.368000</td>\n",
       "      <td>60.365000</td>\n",
       "      <td>57.827999</td>\n",
       "      <td>59.004000</td>\n",
       "      <td>59.004000</td>\n",
       "      <td>2.806125e+07</td>\n",
       "    </tr>\n",
       "    <tr>\n",
       "      <th>50%</th>\n",
       "      <td>63.480000</td>\n",
       "      <td>64.769997</td>\n",
       "      <td>62.341999</td>\n",
       "      <td>63.773998</td>\n",
       "      <td>63.773998</td>\n",
       "      <td>3.600700e+07</td>\n",
       "    </tr>\n",
       "    <tr>\n",
       "      <th>75%</th>\n",
       "      <td>68.325001</td>\n",
       "      <td>69.611000</td>\n",
       "      <td>66.947998</td>\n",
       "      <td>68.399002</td>\n",
       "      <td>68.399002</td>\n",
       "      <td>4.747675e+07</td>\n",
       "    </tr>\n",
       "    <tr>\n",
       "      <th>max</th>\n",
       "      <td>75.000000</td>\n",
       "      <td>77.491997</td>\n",
       "      <td>73.424004</td>\n",
       "      <td>75.914001</td>\n",
       "      <td>75.914001</td>\n",
       "      <td>1.682485e+08</td>\n",
       "    </tr>\n",
       "  </tbody>\n",
       "</table>\n",
       "</div>"
      ],
      "text/plain": [
       "             Open        High         Low       Close   Adj_Close  \\\n",
       "count  251.000000  251.000000  251.000000  251.000000  251.000000   \n",
       "mean    63.436693   64.738725   62.110462   63.461984   63.461984   \n",
       "std      5.751053    5.810714    5.765842    5.752044    5.752044   \n",
       "min     50.556000   52.066002   48.917999   50.112000   50.112000   \n",
       "25%     59.368000   60.365000   57.827999   59.004000   59.004000   \n",
       "50%     63.480000   64.769997   62.341999   63.773998   63.773998   \n",
       "75%     68.325001   69.611000   66.947998   68.399002   68.399002   \n",
       "max     75.000000   77.491997   73.424004   75.914001   75.914001   \n",
       "\n",
       "             Volume  \n",
       "count  2.510000e+02  \n",
       "mean   4.306053e+07  \n",
       "std    2.466233e+07  \n",
       "min    1.540350e+07  \n",
       "25%    2.806125e+07  \n",
       "50%    3.600700e+07  \n",
       "75%    4.747675e+07  \n",
       "max    1.682485e+08  "
      ]
     },
     "execution_count": 9,
     "metadata": {},
     "output_type": "execute_result"
    }
   ],
   "source": [
    "df.describe()"
   ]
  },
  {
   "cell_type": "code",
   "execution_count": 10,
   "metadata": {},
   "outputs": [
    {
     "data": {
      "text/plain": [
       "[<matplotlib.lines.Line2D at 0x23f5298ff28>]"
      ]
     },
     "execution_count": 10,
     "metadata": {},
     "output_type": "execute_result"
    },
    {
     "data": {
      "image/png": "[encoded data removed]",
      "text/plain": [
       "<Figure size 432x288 with 1 Axes>"
      ]
     },
     "metadata": {
      "needs_background": "light"
     },
     "output_type": "display_data"
    }
   ],
   "source": [
    "plt.plot(df['Close'])"
   ]
  },
  {
   "cell_type": "code",
   "execution_count": 11,
   "metadata": {},
   "outputs": [
    {
     "data": {
      "text/plain": [
       "Date\n",
       "2018-06-01    58.363998\n",
       "Name: Close, dtype: float64"
      ]
     },
     "execution_count": 11,
     "metadata": {},
     "output_type": "execute_result"
    }
   ],
   "source": [
    "df[df.index == \"2018-06-01\"].Close"
   ]
  },
  {
   "cell_type": "code",
   "execution_count": 127,
   "metadata": {},
   "outputs": [
    {
     "data": {
      "text/plain": [
       "Date\n",
       "2018-11-15    69.688004\n",
       "2018-11-16    70.862000\n",
       "2018-11-19    70.694000\n",
       "2018-11-20    69.498001\n",
       "2018-11-21    67.638000\n",
       "2018-11-23    65.166000\n",
       "2018-11-26    69.199997\n",
       "2018-11-27    68.783997\n",
       "2018-11-28    69.573997\n",
       "2018-11-29    68.234001\n",
       "2018-11-30    70.096001\n",
       "2018-12-03    71.697998\n",
       "2018-12-04    71.940002\n",
       "2018-12-06    72.612000\n",
       "2018-12-07    71.594002\n",
       "2018-12-10    73.029999\n",
       "2018-12-11    73.351997\n",
       "2018-12-12    73.320000\n",
       "2018-12-13    75.358002\n",
       "2018-12-14    73.141998\n",
       "Name: Close, dtype: float64"
      ]
     },
     "execution_count": 127,
     "metadata": {},
     "output_type": "execute_result"
    }
   ],
   "source": [
    "df[\"2018-11-15\":\"2018-12-15\"].Close"
   ]
  },
  {
   "cell_type": "code",
   "execution_count": 128,
   "metadata": {},
   "outputs": [
    {
     "data": {
      "text/plain": [
       "63.46198399999996"
      ]
     },
     "execution_count": 128,
     "metadata": {},
     "output_type": "execute_result"
    }
   ],
   "source": [
    "df.Close.mean()"
   ]
  },
  {
   "cell_type": "code",
   "execution_count": 129,
   "metadata": {},
   "outputs": [
    {
     "data": {
      "text/plain": [
       "Date\n",
       "2018-01-31    67.716666\n",
       "2018-02-28    67.155474\n",
       "2018-03-31    63.196666\n",
       "2018-04-30    57.954572\n",
       "2018-05-31    57.970455\n",
       "2018-06-30    67.120095\n",
       "2018-07-31    62.394952\n",
       "2018-08-31    66.242869\n",
       "2018-09-30    58.029579\n",
       "2018-10-31    56.998609\n",
       "2018-11-30    68.899048\n",
       "2018-12-31    68.821895\n",
       "Freq: M, Name: Close, dtype: float64"
      ]
     },
     "execution_count": 129,
     "metadata": {},
     "output_type": "execute_result"
    }
   ],
   "source": [
    "df.Close.resample('M').mean() # Resampling of data monthly"
   ]
  },
  {
   "cell_type": "code",
   "execution_count": 130,
   "metadata": {},
   "outputs": [
    {
     "data": {
      "text/plain": [
       "<matplotlib.axes._subplots.AxesSubplot at 0x23f53be7470>"
      ]
     },
     "execution_count": 130,
     "metadata": {},
     "output_type": "execute_result"
    },
    {
     "data": {
      "image/png": "[encoded data removed]",
      "text/plain": [
       "<Figure size 432x288 with 1 Axes>"
      ]
     },
     "metadata": {
      "needs_background": "light"
     },
     "output_type": "display_data"
    }
   ],
   "source": [
    "df.Close.plot()"
   ]
  },
  {
   "cell_type": "code",
   "execution_count": 131,
   "metadata": {},
   "outputs": [
    {
     "data": {
      "text/plain": [
       "<matplotlib.axes._subplots.AxesSubplot at 0x23f547c0320>"
      ]
     },
     "execution_count": 131,
     "metadata": {},
     "output_type": "execute_result"
    },
    {
     "data": {
      "image/png": "[encoded data removed]",
      "text/plain": [
       "<Figure size 432x288 with 1 Axes>"
      ]
     },
     "metadata": {
      "needs_background": "light"
     },
     "output_type": "display_data"
    }
   ],
   "source": [
    "df.Close.resample('M').mean().plot()"
   ]
  },
  {
   "cell_type": "code",
   "execution_count": 132,
   "metadata": {},
   "outputs": [
    {
     "data": {
      "text/plain": [
       "<matplotlib.axes._subplots.AxesSubplot at 0x23f53f6eb38>"
      ]
     },
     "execution_count": 132,
     "metadata": {},
     "output_type": "execute_result"
    },
    {
     "data": {
      "image/png": "[encoded data removed]",
      "text/plain": [
       "<Figure size 432x288 with 1 Axes>"
      ]
     },
     "metadata": {
      "needs_background": "light"
     },
     "output_type": "display_data"
    }
   ],
   "source": [
    "df.Close.resample('M').mean().plot(kind = 'bar')"
   ]
  },
  {
   "cell_type": "code",
   "execution_count": 133,
   "metadata": {},
   "outputs": [
    {
     "data": {
      "text/html": [
       "<div>\n",
       "<style scoped>\n",
       "    .dataframe tbody tr th:only-of-type {\n",
       "        vertical-align: middle;\n",
       "    }\n",
       "\n",
       "    .dataframe tbody tr th {\n",
       "        vertical-align: top;\n",
       "    }\n",
       "\n",
       "    .dataframe thead th {\n",
       "        text-align: right;\n",
       "    }\n",
       "</style>\n",
       "<table border=\"1\" class=\"dataframe\">\n",
       "  <thead>\n",
       "    <tr style=\"text-align: right;\">\n",
       "      <th></th>\n",
       "      <th>Open</th>\n",
       "      <th>High</th>\n",
       "      <th>Low</th>\n",
       "      <th>Close</th>\n",
       "      <th>Adj_Close</th>\n",
       "      <th>Volume</th>\n",
       "    </tr>\n",
       "    <tr>\n",
       "      <th>Date</th>\n",
       "      <th></th>\n",
       "      <th></th>\n",
       "      <th></th>\n",
       "      <th></th>\n",
       "      <th></th>\n",
       "      <th></th>\n",
       "    </tr>\n",
       "  </thead>\n",
       "  <tbody>\n",
       "    <tr>\n",
       "      <th>2018-01-02</th>\n",
       "      <td>62.400002</td>\n",
       "      <td>64.421997</td>\n",
       "      <td>62.200001</td>\n",
       "      <td>64.106003</td>\n",
       "      <td>64.106003</td>\n",
       "      <td>21761000</td>\n",
       "    </tr>\n",
       "    <tr>\n",
       "      <th>2018-01-03</th>\n",
       "      <td>64.199997</td>\n",
       "      <td>65.050003</td>\n",
       "      <td>63.110001</td>\n",
       "      <td>63.450001</td>\n",
       "      <td>63.450001</td>\n",
       "      <td>22607500</td>\n",
       "    </tr>\n",
       "    <tr>\n",
       "      <th>2018-01-04</th>\n",
       "      <td>62.574001</td>\n",
       "      <td>63.709999</td>\n",
       "      <td>61.136002</td>\n",
       "      <td>62.924000</td>\n",
       "      <td>62.924000</td>\n",
       "      <td>49731500</td>\n",
       "    </tr>\n",
       "    <tr>\n",
       "      <th>2018-01-05</th>\n",
       "      <td>63.324001</td>\n",
       "      <td>63.448002</td>\n",
       "      <td>62.400002</td>\n",
       "      <td>63.316002</td>\n",
       "      <td>63.316002</td>\n",
       "      <td>22956000</td>\n",
       "    </tr>\n",
       "    <tr>\n",
       "      <th>2018-01-08</th>\n",
       "      <td>63.200001</td>\n",
       "      <td>67.403999</td>\n",
       "      <td>63.099998</td>\n",
       "      <td>67.281998</td>\n",
       "      <td>67.281998</td>\n",
       "      <td>49297000</td>\n",
       "    </tr>\n",
       "    <tr>\n",
       "      <th>2018-01-09</th>\n",
       "      <td>67.031998</td>\n",
       "      <td>67.760002</td>\n",
       "      <td>65.480003</td>\n",
       "      <td>66.737999</td>\n",
       "      <td>66.737999</td>\n",
       "      <td>35733000</td>\n",
       "    </tr>\n",
       "    <tr>\n",
       "      <th>2018-01-10</th>\n",
       "      <td>66.440002</td>\n",
       "      <td>67.400002</td>\n",
       "      <td>66.000000</td>\n",
       "      <td>66.959999</td>\n",
       "      <td>66.959999</td>\n",
       "      <td>21549500</td>\n",
       "    </tr>\n",
       "    <tr>\n",
       "      <th>2018-01-11</th>\n",
       "      <td>67.047997</td>\n",
       "      <td>68.961998</td>\n",
       "      <td>66.652000</td>\n",
       "      <td>67.589996</td>\n",
       "      <td>67.589996</td>\n",
       "      <td>33227500</td>\n",
       "    </tr>\n",
       "    <tr>\n",
       "      <th>2018-01-12</th>\n",
       "      <td>67.725998</td>\n",
       "      <td>68.082001</td>\n",
       "      <td>66.734001</td>\n",
       "      <td>67.244003</td>\n",
       "      <td>67.244003</td>\n",
       "      <td>24125500</td>\n",
       "    </tr>\n",
       "    <tr>\n",
       "      <th>2018-01-16</th>\n",
       "      <td>67.508003</td>\n",
       "      <td>69.000000</td>\n",
       "      <td>66.959999</td>\n",
       "      <td>68.012001</td>\n",
       "      <td>68.012001</td>\n",
       "      <td>32371500</td>\n",
       "    </tr>\n",
       "    <tr>\n",
       "      <th>2018-01-17</th>\n",
       "      <td>68.094002</td>\n",
       "      <td>69.800003</td>\n",
       "      <td>67.949997</td>\n",
       "      <td>69.431999</td>\n",
       "      <td>69.431999</td>\n",
       "      <td>35517500</td>\n",
       "    </tr>\n",
       "    <tr>\n",
       "      <th>2018-01-18</th>\n",
       "      <td>69.134003</td>\n",
       "      <td>70.459999</td>\n",
       "      <td>68.748001</td>\n",
       "      <td>68.914001</td>\n",
       "      <td>68.914001</td>\n",
       "      <td>28429000</td>\n",
       "    </tr>\n",
       "    <tr>\n",
       "      <th>2018-01-19</th>\n",
       "      <td>69.000000</td>\n",
       "      <td>70.117996</td>\n",
       "      <td>68.519997</td>\n",
       "      <td>70.003998</td>\n",
       "      <td>70.003998</td>\n",
       "      <td>24441500</td>\n",
       "    </tr>\n",
       "    <tr>\n",
       "      <th>2018-01-22</th>\n",
       "      <td>69.879997</td>\n",
       "      <td>71.566002</td>\n",
       "      <td>69.839996</td>\n",
       "      <td>70.311996</td>\n",
       "      <td>70.311996</td>\n",
       "      <td>31052000</td>\n",
       "    </tr>\n",
       "    <tr>\n",
       "      <th>2018-01-23</th>\n",
       "      <td>72.000000</td>\n",
       "      <td>72.099998</td>\n",
       "      <td>70.199997</td>\n",
       "      <td>70.557999</td>\n",
       "      <td>70.557999</td>\n",
       "      <td>27327000</td>\n",
       "    </tr>\n",
       "    <tr>\n",
       "      <th>2018-01-24</th>\n",
       "      <td>70.916000</td>\n",
       "      <td>70.949997</td>\n",
       "      <td>68.704002</td>\n",
       "      <td>69.178001</td>\n",
       "      <td>69.178001</td>\n",
       "      <td>26437500</td>\n",
       "    </tr>\n",
       "    <tr>\n",
       "      <th>2018-01-25</th>\n",
       "      <td>69.653999</td>\n",
       "      <td>69.839996</td>\n",
       "      <td>67.279999</td>\n",
       "      <td>67.528000</td>\n",
       "      <td>67.528000</td>\n",
       "      <td>33701500</td>\n",
       "    </tr>\n",
       "    <tr>\n",
       "      <th>2018-01-26</th>\n",
       "      <td>68.300003</td>\n",
       "      <td>68.800003</td>\n",
       "      <td>67.141998</td>\n",
       "      <td>68.570000</td>\n",
       "      <td>68.570000</td>\n",
       "      <td>22697000</td>\n",
       "    </tr>\n",
       "    <tr>\n",
       "      <th>2018-01-29</th>\n",
       "      <td>67.970001</td>\n",
       "      <td>70.169998</td>\n",
       "      <td>67.655998</td>\n",
       "      <td>69.905998</td>\n",
       "      <td>69.905998</td>\n",
       "      <td>23735500</td>\n",
       "    </tr>\n",
       "    <tr>\n",
       "      <th>2018-01-30</th>\n",
       "      <td>69.028000</td>\n",
       "      <td>69.653999</td>\n",
       "      <td>68.433998</td>\n",
       "      <td>69.164001</td>\n",
       "      <td>69.164001</td>\n",
       "      <td>23588500</td>\n",
       "    </tr>\n",
       "    <tr>\n",
       "      <th>2018-01-31</th>\n",
       "      <td>69.501999</td>\n",
       "      <td>71.237999</td>\n",
       "      <td>69.038002</td>\n",
       "      <td>70.862000</td>\n",
       "      <td>70.862000</td>\n",
       "      <td>31070500</td>\n",
       "    </tr>\n",
       "    <tr>\n",
       "      <th>2018-02-01</th>\n",
       "      <td>70.199997</td>\n",
       "      <td>71.931999</td>\n",
       "      <td>69.725998</td>\n",
       "      <td>69.849998</td>\n",
       "      <td>69.849998</td>\n",
       "      <td>20988500</td>\n",
       "    </tr>\n",
       "    <tr>\n",
       "      <th>2018-02-02</th>\n",
       "      <td>69.688004</td>\n",
       "      <td>70.389999</td>\n",
       "      <td>68.101997</td>\n",
       "      <td>68.750000</td>\n",
       "      <td>68.750000</td>\n",
       "      <td>18524000</td>\n",
       "    </tr>\n",
       "    <tr>\n",
       "      <th>2018-02-05</th>\n",
       "      <td>67.594002</td>\n",
       "      <td>68.893997</td>\n",
       "      <td>66.599998</td>\n",
       "      <td>66.625999</td>\n",
       "      <td>66.625999</td>\n",
       "      <td>22320500</td>\n",
       "    </tr>\n",
       "    <tr>\n",
       "      <th>2018-02-06</th>\n",
       "      <td>65.042000</td>\n",
       "      <td>67.244003</td>\n",
       "      <td>64.699997</td>\n",
       "      <td>66.793999</td>\n",
       "      <td>66.793999</td>\n",
       "      <td>25442000</td>\n",
       "    </tr>\n",
       "    <tr>\n",
       "      <th>2018-02-07</th>\n",
       "      <td>67.797997</td>\n",
       "      <td>69.199997</td>\n",
       "      <td>67.132004</td>\n",
       "      <td>69.000000</td>\n",
       "      <td>69.000000</td>\n",
       "      <td>34846000</td>\n",
       "    </tr>\n",
       "    <tr>\n",
       "      <th>2018-02-08</th>\n",
       "      <td>68.662003</td>\n",
       "      <td>69.723999</td>\n",
       "      <td>62.919998</td>\n",
       "      <td>63.046001</td>\n",
       "      <td>63.046001</td>\n",
       "      <td>51573000</td>\n",
       "    </tr>\n",
       "    <tr>\n",
       "      <th>2018-02-09</th>\n",
       "      <td>63.986000</td>\n",
       "      <td>64.195999</td>\n",
       "      <td>58.952000</td>\n",
       "      <td>62.084000</td>\n",
       "      <td>62.084000</td>\n",
       "      <td>64668500</td>\n",
       "    </tr>\n",
       "    <tr>\n",
       "      <th>2018-02-12</th>\n",
       "      <td>63.226002</td>\n",
       "      <td>63.616001</td>\n",
       "      <td>61.250000</td>\n",
       "      <td>63.146000</td>\n",
       "      <td>63.146000</td>\n",
       "      <td>31139000</td>\n",
       "    </tr>\n",
       "    <tr>\n",
       "      <th>2018-02-13</th>\n",
       "      <td>63.004002</td>\n",
       "      <td>64.837997</td>\n",
       "      <td>62.501999</td>\n",
       "      <td>64.732002</td>\n",
       "      <td>64.732002</td>\n",
       "      <td>22801000</td>\n",
       "    </tr>\n",
       "    <tr>\n",
       "      <th>...</th>\n",
       "      <td>...</td>\n",
       "      <td>...</td>\n",
       "      <td>...</td>\n",
       "      <td>...</td>\n",
       "      <td>...</td>\n",
       "      <td>...</td>\n",
       "    </tr>\n",
       "    <tr>\n",
       "      <th>2018-11-15</th>\n",
       "      <td>68.466003</td>\n",
       "      <td>69.716003</td>\n",
       "      <td>67.807999</td>\n",
       "      <td>69.688004</td>\n",
       "      <td>69.688004</td>\n",
       "      <td>23128500</td>\n",
       "    </tr>\n",
       "    <tr>\n",
       "      <th>2018-11-16</th>\n",
       "      <td>69.038002</td>\n",
       "      <td>71.139999</td>\n",
       "      <td>69.024002</td>\n",
       "      <td>70.862000</td>\n",
       "      <td>70.862000</td>\n",
       "      <td>36031000</td>\n",
       "    </tr>\n",
       "    <tr>\n",
       "      <th>2018-11-19</th>\n",
       "      <td>71.267998</td>\n",
       "      <td>73.349998</td>\n",
       "      <td>70.575996</td>\n",
       "      <td>70.694000</td>\n",
       "      <td>70.694000</td>\n",
       "      <td>48544500</td>\n",
       "    </tr>\n",
       "    <tr>\n",
       "      <th>2018-11-20</th>\n",
       "      <td>68.349998</td>\n",
       "      <td>69.959999</td>\n",
       "      <td>66.709999</td>\n",
       "      <td>69.498001</td>\n",
       "      <td>69.498001</td>\n",
       "      <td>40023500</td>\n",
       "    </tr>\n",
       "    <tr>\n",
       "      <th>2018-11-21</th>\n",
       "      <td>70.400002</td>\n",
       "      <td>70.620003</td>\n",
       "      <td>67.480003</td>\n",
       "      <td>67.638000</td>\n",
       "      <td>67.638000</td>\n",
       "      <td>23434000</td>\n",
       "    </tr>\n",
       "    <tr>\n",
       "      <th>2018-11-23</th>\n",
       "      <td>66.870003</td>\n",
       "      <td>67.500000</td>\n",
       "      <td>65.110001</td>\n",
       "      <td>65.166000</td>\n",
       "      <td>65.166000</td>\n",
       "      <td>21013000</td>\n",
       "    </tr>\n",
       "    <tr>\n",
       "      <th>2018-11-26</th>\n",
       "      <td>65.000000</td>\n",
       "      <td>69.244003</td>\n",
       "      <td>65.000000</td>\n",
       "      <td>69.199997</td>\n",
       "      <td>69.199997</td>\n",
       "      <td>39960500</td>\n",
       "    </tr>\n",
       "    <tr>\n",
       "      <th>2018-11-27</th>\n",
       "      <td>68.010002</td>\n",
       "      <td>69.391998</td>\n",
       "      <td>67.099998</td>\n",
       "      <td>68.783997</td>\n",
       "      <td>68.783997</td>\n",
       "      <td>31791500</td>\n",
       "    </tr>\n",
       "    <tr>\n",
       "      <th>2018-11-28</th>\n",
       "      <td>69.197998</td>\n",
       "      <td>69.655998</td>\n",
       "      <td>68.442001</td>\n",
       "      <td>69.573997</td>\n",
       "      <td>69.573997</td>\n",
       "      <td>20638000</td>\n",
       "    </tr>\n",
       "    <tr>\n",
       "      <th>2018-11-29</th>\n",
       "      <td>69.400002</td>\n",
       "      <td>69.500000</td>\n",
       "      <td>67.910004</td>\n",
       "      <td>68.234001</td>\n",
       "      <td>68.234001</td>\n",
       "      <td>15403500</td>\n",
       "    </tr>\n",
       "    <tr>\n",
       "      <th>2018-11-30</th>\n",
       "      <td>68.365997</td>\n",
       "      <td>70.320000</td>\n",
       "      <td>67.652000</td>\n",
       "      <td>70.096001</td>\n",
       "      <td>70.096001</td>\n",
       "      <td>28145500</td>\n",
       "    </tr>\n",
       "    <tr>\n",
       "      <th>2018-12-03</th>\n",
       "      <td>72.000000</td>\n",
       "      <td>73.199997</td>\n",
       "      <td>70.400002</td>\n",
       "      <td>71.697998</td>\n",
       "      <td>71.697998</td>\n",
       "      <td>41532500</td>\n",
       "    </tr>\n",
       "    <tr>\n",
       "      <th>2018-12-04</th>\n",
       "      <td>71.209999</td>\n",
       "      <td>73.736000</td>\n",
       "      <td>70.400002</td>\n",
       "      <td>71.940002</td>\n",
       "      <td>71.940002</td>\n",
       "      <td>42309500</td>\n",
       "    </tr>\n",
       "    <tr>\n",
       "      <th>2018-12-06</th>\n",
       "      <td>71.202003</td>\n",
       "      <td>73.475998</td>\n",
       "      <td>70.152000</td>\n",
       "      <td>72.612000</td>\n",
       "      <td>72.612000</td>\n",
       "      <td>39212500</td>\n",
       "    </tr>\n",
       "    <tr>\n",
       "      <th>2018-12-07</th>\n",
       "      <td>73.800003</td>\n",
       "      <td>75.898003</td>\n",
       "      <td>71.529999</td>\n",
       "      <td>71.594002</td>\n",
       "      <td>71.594002</td>\n",
       "      <td>57556000</td>\n",
       "    </tr>\n",
       "    <tr>\n",
       "      <th>2018-12-10</th>\n",
       "      <td>72.000000</td>\n",
       "      <td>73.195999</td>\n",
       "      <td>70.624001</td>\n",
       "      <td>73.029999</td>\n",
       "      <td>73.029999</td>\n",
       "      <td>33067500</td>\n",
       "    </tr>\n",
       "    <tr>\n",
       "      <th>2018-12-11</th>\n",
       "      <td>73.982002</td>\n",
       "      <td>74.433998</td>\n",
       "      <td>72.045998</td>\n",
       "      <td>73.351997</td>\n",
       "      <td>73.351997</td>\n",
       "      <td>31544000</td>\n",
       "    </tr>\n",
       "    <tr>\n",
       "      <th>2018-12-12</th>\n",
       "      <td>73.884003</td>\n",
       "      <td>74.382004</td>\n",
       "      <td>73.031998</td>\n",
       "      <td>73.320000</td>\n",
       "      <td>73.320000</td>\n",
       "      <td>25135000</td>\n",
       "    </tr>\n",
       "    <tr>\n",
       "      <th>2018-12-13</th>\n",
       "      <td>74.029999</td>\n",
       "      <td>75.487999</td>\n",
       "      <td>73.349998</td>\n",
       "      <td>75.358002</td>\n",
       "      <td>75.358002</td>\n",
       "      <td>36829500</td>\n",
       "    </tr>\n",
       "    <tr>\n",
       "      <th>2018-12-14</th>\n",
       "      <td>75.000000</td>\n",
       "      <td>75.573997</td>\n",
       "      <td>72.865997</td>\n",
       "      <td>73.141998</td>\n",
       "      <td>73.141998</td>\n",
       "      <td>31688000</td>\n",
       "    </tr>\n",
       "    <tr>\n",
       "      <th>2018-12-17</th>\n",
       "      <td>72.400002</td>\n",
       "      <td>73.139999</td>\n",
       "      <td>68.776001</td>\n",
       "      <td>69.683998</td>\n",
       "      <td>69.683998</td>\n",
       "      <td>38370000</td>\n",
       "    </tr>\n",
       "    <tr>\n",
       "      <th>2018-12-18</th>\n",
       "      <td>70.108002</td>\n",
       "      <td>70.309998</td>\n",
       "      <td>66.737999</td>\n",
       "      <td>67.405998</td>\n",
       "      <td>67.405998</td>\n",
       "      <td>35500000</td>\n",
       "    </tr>\n",
       "    <tr>\n",
       "      <th>2018-12-19</th>\n",
       "      <td>67.519997</td>\n",
       "      <td>69.402000</td>\n",
       "      <td>65.947998</td>\n",
       "      <td>66.594002</td>\n",
       "      <td>66.594002</td>\n",
       "      <td>41371000</td>\n",
       "    </tr>\n",
       "    <tr>\n",
       "      <th>2018-12-20</th>\n",
       "      <td>65.410004</td>\n",
       "      <td>66.057999</td>\n",
       "      <td>62.374001</td>\n",
       "      <td>63.076000</td>\n",
       "      <td>63.076000</td>\n",
       "      <td>45359500</td>\n",
       "    </tr>\n",
       "    <tr>\n",
       "      <th>2018-12-21</th>\n",
       "      <td>63.480000</td>\n",
       "      <td>64.694000</td>\n",
       "      <td>62.487999</td>\n",
       "      <td>63.953999</td>\n",
       "      <td>63.953999</td>\n",
       "      <td>40084000</td>\n",
       "    </tr>\n",
       "    <tr>\n",
       "      <th>2018-12-24</th>\n",
       "      <td>62.700001</td>\n",
       "      <td>62.900002</td>\n",
       "      <td>59.040001</td>\n",
       "      <td>59.077999</td>\n",
       "      <td>59.077999</td>\n",
       "      <td>27799500</td>\n",
       "    </tr>\n",
       "    <tr>\n",
       "      <th>2018-12-26</th>\n",
       "      <td>60.000000</td>\n",
       "      <td>65.393997</td>\n",
       "      <td>58.818001</td>\n",
       "      <td>65.218002</td>\n",
       "      <td>65.218002</td>\n",
       "      <td>40815500</td>\n",
       "    </tr>\n",
       "    <tr>\n",
       "      <th>2018-12-27</th>\n",
       "      <td>63.967999</td>\n",
       "      <td>64.433998</td>\n",
       "      <td>60.299999</td>\n",
       "      <td>63.226002</td>\n",
       "      <td>63.226002</td>\n",
       "      <td>42875500</td>\n",
       "    </tr>\n",
       "    <tr>\n",
       "      <th>2018-12-28</th>\n",
       "      <td>64.620003</td>\n",
       "      <td>67.248001</td>\n",
       "      <td>63.681999</td>\n",
       "      <td>66.774002</td>\n",
       "      <td>66.774002</td>\n",
       "      <td>49695000</td>\n",
       "    </tr>\n",
       "    <tr>\n",
       "      <th>2018-12-31</th>\n",
       "      <td>67.557999</td>\n",
       "      <td>67.842003</td>\n",
       "      <td>65.052002</td>\n",
       "      <td>66.559998</td>\n",
       "      <td>66.559998</td>\n",
       "      <td>31511500</td>\n",
       "    </tr>\n",
       "  </tbody>\n",
       "</table>\n",
       "<p>251 rows × 6 columns</p>\n",
       "</div>"
      ],
      "text/plain": [
       "                 Open       High        Low      Close  Adj_Close    Volume\n",
       "Date                                                                       \n",
       "2018-01-02  62.400002  64.421997  62.200001  64.106003  64.106003  21761000\n",
       "2018-01-03  64.199997  65.050003  63.110001  63.450001  63.450001  22607500\n",
       "2018-01-04  62.574001  63.709999  61.136002  62.924000  62.924000  49731500\n",
       "2018-01-05  63.324001  63.448002  62.400002  63.316002  63.316002  22956000\n",
       "2018-01-08  63.200001  67.403999  63.099998  67.281998  67.281998  49297000\n",
       "2018-01-09  67.031998  67.760002  65.480003  66.737999  66.737999  35733000\n",
       "2018-01-10  66.440002  67.400002  66.000000  66.959999  66.959999  21549500\n",
       "2018-01-11  67.047997  68.961998  66.652000  67.589996  67.589996  33227500\n",
       "2018-01-12  67.725998  68.082001  66.734001  67.244003  67.244003  24125500\n",
       "2018-01-16  67.508003  69.000000  66.959999  68.012001  68.012001  32371500\n",
       "2018-01-17  68.094002  69.800003  67.949997  69.431999  69.431999  35517500\n",
       "2018-01-18  69.134003  70.459999  68.748001  68.914001  68.914001  28429000\n",
       "2018-01-19  69.000000  70.117996  68.519997  70.003998  70.003998  24441500\n",
       "2018-01-22  69.879997  71.566002  69.839996  70.311996  70.311996  31052000\n",
       "2018-01-23  72.000000  72.099998  70.199997  70.557999  70.557999  27327000\n",
       "2018-01-24  70.916000  70.949997  68.704002  69.178001  69.178001  26437500\n",
       "2018-01-25  69.653999  69.839996  67.279999  67.528000  67.528000  33701500\n",
       "2018-01-26  68.300003  68.800003  67.141998  68.570000  68.570000  22697000\n",
       "2018-01-29  67.970001  70.169998  67.655998  69.905998  69.905998  23735500\n",
       "2018-01-30  69.028000  69.653999  68.433998  69.164001  69.164001  23588500\n",
       "2018-01-31  69.501999  71.237999  69.038002  70.862000  70.862000  31070500\n",
       "2018-02-01  70.199997  71.931999  69.725998  69.849998  69.849998  20988500\n",
       "2018-02-02  69.688004  70.389999  68.101997  68.750000  68.750000  18524000\n",
       "2018-02-05  67.594002  68.893997  66.599998  66.625999  66.625999  22320500\n",
       "2018-02-06  65.042000  67.244003  64.699997  66.793999  66.793999  25442000\n",
       "2018-02-07  67.797997  69.199997  67.132004  69.000000  69.000000  34846000\n",
       "2018-02-08  68.662003  69.723999  62.919998  63.046001  63.046001  51573000\n",
       "2018-02-09  63.986000  64.195999  58.952000  62.084000  62.084000  64668500\n",
       "2018-02-12  63.226002  63.616001  61.250000  63.146000  63.146000  31139000\n",
       "2018-02-13  63.004002  64.837997  62.501999  64.732002  64.732002  22801000\n",
       "...               ...        ...        ...        ...        ...       ...\n",
       "2018-11-15  68.466003  69.716003  67.807999  69.688004  69.688004  23128500\n",
       "2018-11-16  69.038002  71.139999  69.024002  70.862000  70.862000  36031000\n",
       "2018-11-19  71.267998  73.349998  70.575996  70.694000  70.694000  48544500\n",
       "2018-11-20  68.349998  69.959999  66.709999  69.498001  69.498001  40023500\n",
       "2018-11-21  70.400002  70.620003  67.480003  67.638000  67.638000  23434000\n",
       "2018-11-23  66.870003  67.500000  65.110001  65.166000  65.166000  21013000\n",
       "2018-11-26  65.000000  69.244003  65.000000  69.199997  69.199997  39960500\n",
       "2018-11-27  68.010002  69.391998  67.099998  68.783997  68.783997  31791500\n",
       "2018-11-28  69.197998  69.655998  68.442001  69.573997  69.573997  20638000\n",
       "2018-11-29  69.400002  69.500000  67.910004  68.234001  68.234001  15403500\n",
       "2018-11-30  68.365997  70.320000  67.652000  70.096001  70.096001  28145500\n",
       "2018-12-03  72.000000  73.199997  70.400002  71.697998  71.697998  41532500\n",
       "2018-12-04  71.209999  73.736000  70.400002  71.940002  71.940002  42309500\n",
       "2018-12-06  71.202003  73.475998  70.152000  72.612000  72.612000  39212500\n",
       "2018-12-07  73.800003  75.898003  71.529999  71.594002  71.594002  57556000\n",
       "2018-12-10  72.000000  73.195999  70.624001  73.029999  73.029999  33067500\n",
       "2018-12-11  73.982002  74.433998  72.045998  73.351997  73.351997  31544000\n",
       "2018-12-12  73.884003  74.382004  73.031998  73.320000  73.320000  25135000\n",
       "2018-12-13  74.029999  75.487999  73.349998  75.358002  75.358002  36829500\n",
       "2018-12-14  75.000000  75.573997  72.865997  73.141998  73.141998  31688000\n",
       "2018-12-17  72.400002  73.139999  68.776001  69.683998  69.683998  38370000\n",
       "2018-12-18  70.108002  70.309998  66.737999  67.405998  67.405998  35500000\n",
       "2018-12-19  67.519997  69.402000  65.947998  66.594002  66.594002  41371000\n",
       "2018-12-20  65.410004  66.057999  62.374001  63.076000  63.076000  45359500\n",
       "2018-12-21  63.480000  64.694000  62.487999  63.953999  63.953999  40084000\n",
       "2018-12-24  62.700001  62.900002  59.040001  59.077999  59.077999  27799500\n",
       "2018-12-26  60.000000  65.393997  58.818001  65.218002  65.218002  40815500\n",
       "2018-12-27  63.967999  64.433998  60.299999  63.226002  63.226002  42875500\n",
       "2018-12-28  64.620003  67.248001  63.681999  66.774002  66.774002  49695000\n",
       "2018-12-31  67.557999  67.842003  65.052002  66.559998  66.559998  31511500\n",
       "\n",
       "[251 rows x 6 columns]"
      ]
     },
     "execution_count": 133,
     "metadata": {},
     "output_type": "execute_result"
    }
   ],
   "source": [
    "df"
   ]
  },
  {
   "cell_type": "code",
   "execution_count": 134,
   "metadata": {},
   "outputs": [
    {
     "data": {
      "text/html": [
       "<div>\n",
       "<style scoped>\n",
       "    .dataframe tbody tr th:only-of-type {\n",
       "        vertical-align: middle;\n",
       "    }\n",
       "\n",
       "    .dataframe tbody tr th {\n",
       "        vertical-align: top;\n",
       "    }\n",
       "\n",
       "    .dataframe thead th {\n",
       "        text-align: right;\n",
       "    }\n",
       "</style>\n",
       "<table border=\"1\" class=\"dataframe\">\n",
       "  <thead>\n",
       "    <tr style=\"text-align: right;\">\n",
       "      <th></th>\n",
       "      <th>Open</th>\n",
       "      <th>High</th>\n",
       "      <th>Low</th>\n",
       "      <th>Close</th>\n",
       "      <th>Adj_Close</th>\n",
       "      <th>Volume</th>\n",
       "    </tr>\n",
       "    <tr>\n",
       "      <th>Date</th>\n",
       "      <th></th>\n",
       "      <th></th>\n",
       "      <th></th>\n",
       "      <th></th>\n",
       "      <th></th>\n",
       "      <th></th>\n",
       "    </tr>\n",
       "  </thead>\n",
       "  <tbody>\n",
       "    <tr>\n",
       "      <th>2018-01-02</th>\n",
       "      <td>62.400002</td>\n",
       "      <td>64.421997</td>\n",
       "      <td>62.200001</td>\n",
       "      <td>64.106003</td>\n",
       "      <td>64.106003</td>\n",
       "      <td>21761000</td>\n",
       "    </tr>\n",
       "    <tr>\n",
       "      <th>2018-01-03</th>\n",
       "      <td>64.199997</td>\n",
       "      <td>65.050003</td>\n",
       "      <td>63.110001</td>\n",
       "      <td>63.450001</td>\n",
       "      <td>63.450001</td>\n",
       "      <td>22607500</td>\n",
       "    </tr>\n",
       "    <tr>\n",
       "      <th>2018-01-04</th>\n",
       "      <td>62.574001</td>\n",
       "      <td>63.709999</td>\n",
       "      <td>61.136002</td>\n",
       "      <td>62.924000</td>\n",
       "      <td>62.924000</td>\n",
       "      <td>49731500</td>\n",
       "    </tr>\n",
       "    <tr>\n",
       "      <th>2018-01-05</th>\n",
       "      <td>63.324001</td>\n",
       "      <td>63.448002</td>\n",
       "      <td>62.400002</td>\n",
       "      <td>63.316002</td>\n",
       "      <td>63.316002</td>\n",
       "      <td>22956000</td>\n",
       "    </tr>\n",
       "    <tr>\n",
       "      <th>2018-01-06</th>\n",
       "      <td>63.324001</td>\n",
       "      <td>63.448002</td>\n",
       "      <td>62.400002</td>\n",
       "      <td>63.316002</td>\n",
       "      <td>63.316002</td>\n",
       "      <td>22956000</td>\n",
       "    </tr>\n",
       "    <tr>\n",
       "      <th>2018-01-07</th>\n",
       "      <td>63.324001</td>\n",
       "      <td>63.448002</td>\n",
       "      <td>62.400002</td>\n",
       "      <td>63.316002</td>\n",
       "      <td>63.316002</td>\n",
       "      <td>22956000</td>\n",
       "    </tr>\n",
       "    <tr>\n",
       "      <th>2018-01-08</th>\n",
       "      <td>63.200001</td>\n",
       "      <td>67.403999</td>\n",
       "      <td>63.099998</td>\n",
       "      <td>67.281998</td>\n",
       "      <td>67.281998</td>\n",
       "      <td>49297000</td>\n",
       "    </tr>\n",
       "    <tr>\n",
       "      <th>2018-01-09</th>\n",
       "      <td>67.031998</td>\n",
       "      <td>67.760002</td>\n",
       "      <td>65.480003</td>\n",
       "      <td>66.737999</td>\n",
       "      <td>66.737999</td>\n",
       "      <td>35733000</td>\n",
       "    </tr>\n",
       "    <tr>\n",
       "      <th>2018-01-10</th>\n",
       "      <td>66.440002</td>\n",
       "      <td>67.400002</td>\n",
       "      <td>66.000000</td>\n",
       "      <td>66.959999</td>\n",
       "      <td>66.959999</td>\n",
       "      <td>21549500</td>\n",
       "    </tr>\n",
       "    <tr>\n",
       "      <th>2018-01-11</th>\n",
       "      <td>67.047997</td>\n",
       "      <td>68.961998</td>\n",
       "      <td>66.652000</td>\n",
       "      <td>67.589996</td>\n",
       "      <td>67.589996</td>\n",
       "      <td>33227500</td>\n",
       "    </tr>\n",
       "    <tr>\n",
       "      <th>2018-01-12</th>\n",
       "      <td>67.725998</td>\n",
       "      <td>68.082001</td>\n",
       "      <td>66.734001</td>\n",
       "      <td>67.244003</td>\n",
       "      <td>67.244003</td>\n",
       "      <td>24125500</td>\n",
       "    </tr>\n",
       "    <tr>\n",
       "      <th>2018-01-13</th>\n",
       "      <td>67.725998</td>\n",
       "      <td>68.082001</td>\n",
       "      <td>66.734001</td>\n",
       "      <td>67.244003</td>\n",
       "      <td>67.244003</td>\n",
       "      <td>24125500</td>\n",
       "    </tr>\n",
       "    <tr>\n",
       "      <th>2018-01-14</th>\n",
       "      <td>67.725998</td>\n",
       "      <td>68.082001</td>\n",
       "      <td>66.734001</td>\n",
       "      <td>67.244003</td>\n",
       "      <td>67.244003</td>\n",
       "      <td>24125500</td>\n",
       "    </tr>\n",
       "    <tr>\n",
       "      <th>2018-01-15</th>\n",
       "      <td>67.725998</td>\n",
       "      <td>68.082001</td>\n",
       "      <td>66.734001</td>\n",
       "      <td>67.244003</td>\n",
       "      <td>67.244003</td>\n",
       "      <td>24125500</td>\n",
       "    </tr>\n",
       "    <tr>\n",
       "      <th>2018-01-16</th>\n",
       "      <td>67.508003</td>\n",
       "      <td>69.000000</td>\n",
       "      <td>66.959999</td>\n",
       "      <td>68.012001</td>\n",
       "      <td>68.012001</td>\n",
       "      <td>32371500</td>\n",
       "    </tr>\n",
       "    <tr>\n",
       "      <th>2018-01-17</th>\n",
       "      <td>68.094002</td>\n",
       "      <td>69.800003</td>\n",
       "      <td>67.949997</td>\n",
       "      <td>69.431999</td>\n",
       "      <td>69.431999</td>\n",
       "      <td>35517500</td>\n",
       "    </tr>\n",
       "    <tr>\n",
       "      <th>2018-01-18</th>\n",
       "      <td>69.134003</td>\n",
       "      <td>70.459999</td>\n",
       "      <td>68.748001</td>\n",
       "      <td>68.914001</td>\n",
       "      <td>68.914001</td>\n",
       "      <td>28429000</td>\n",
       "    </tr>\n",
       "    <tr>\n",
       "      <th>2018-01-19</th>\n",
       "      <td>69.000000</td>\n",
       "      <td>70.117996</td>\n",
       "      <td>68.519997</td>\n",
       "      <td>70.003998</td>\n",
       "      <td>70.003998</td>\n",
       "      <td>24441500</td>\n",
       "    </tr>\n",
       "    <tr>\n",
       "      <th>2018-01-20</th>\n",
       "      <td>69.000000</td>\n",
       "      <td>70.117996</td>\n",
       "      <td>68.519997</td>\n",
       "      <td>70.003998</td>\n",
       "      <td>70.003998</td>\n",
       "      <td>24441500</td>\n",
       "    </tr>\n",
       "    <tr>\n",
       "      <th>2018-01-21</th>\n",
       "      <td>69.000000</td>\n",
       "      <td>70.117996</td>\n",
       "      <td>68.519997</td>\n",
       "      <td>70.003998</td>\n",
       "      <td>70.003998</td>\n",
       "      <td>24441500</td>\n",
       "    </tr>\n",
       "    <tr>\n",
       "      <th>2018-01-22</th>\n",
       "      <td>69.879997</td>\n",
       "      <td>71.566002</td>\n",
       "      <td>69.839996</td>\n",
       "      <td>70.311996</td>\n",
       "      <td>70.311996</td>\n",
       "      <td>31052000</td>\n",
       "    </tr>\n",
       "    <tr>\n",
       "      <th>2018-01-23</th>\n",
       "      <td>72.000000</td>\n",
       "      <td>72.099998</td>\n",
       "      <td>70.199997</td>\n",
       "      <td>70.557999</td>\n",
       "      <td>70.557999</td>\n",
       "      <td>27327000</td>\n",
       "    </tr>\n",
       "    <tr>\n",
       "      <th>2018-01-24</th>\n",
       "      <td>70.916000</td>\n",
       "      <td>70.949997</td>\n",
       "      <td>68.704002</td>\n",
       "      <td>69.178001</td>\n",
       "      <td>69.178001</td>\n",
       "      <td>26437500</td>\n",
       "    </tr>\n",
       "    <tr>\n",
       "      <th>2018-01-25</th>\n",
       "      <td>69.653999</td>\n",
       "      <td>69.839996</td>\n",
       "      <td>67.279999</td>\n",
       "      <td>67.528000</td>\n",
       "      <td>67.528000</td>\n",
       "      <td>33701500</td>\n",
       "    </tr>\n",
       "    <tr>\n",
       "      <th>2018-01-26</th>\n",
       "      <td>68.300003</td>\n",
       "      <td>68.800003</td>\n",
       "      <td>67.141998</td>\n",
       "      <td>68.570000</td>\n",
       "      <td>68.570000</td>\n",
       "      <td>22697000</td>\n",
       "    </tr>\n",
       "    <tr>\n",
       "      <th>2018-01-27</th>\n",
       "      <td>68.300003</td>\n",
       "      <td>68.800003</td>\n",
       "      <td>67.141998</td>\n",
       "      <td>68.570000</td>\n",
       "      <td>68.570000</td>\n",
       "      <td>22697000</td>\n",
       "    </tr>\n",
       "    <tr>\n",
       "      <th>2018-01-28</th>\n",
       "      <td>68.300003</td>\n",
       "      <td>68.800003</td>\n",
       "      <td>67.141998</td>\n",
       "      <td>68.570000</td>\n",
       "      <td>68.570000</td>\n",
       "      <td>22697000</td>\n",
       "    </tr>\n",
       "    <tr>\n",
       "      <th>2018-01-29</th>\n",
       "      <td>67.970001</td>\n",
       "      <td>70.169998</td>\n",
       "      <td>67.655998</td>\n",
       "      <td>69.905998</td>\n",
       "      <td>69.905998</td>\n",
       "      <td>23735500</td>\n",
       "    </tr>\n",
       "    <tr>\n",
       "      <th>2018-01-30</th>\n",
       "      <td>69.028000</td>\n",
       "      <td>69.653999</td>\n",
       "      <td>68.433998</td>\n",
       "      <td>69.164001</td>\n",
       "      <td>69.164001</td>\n",
       "      <td>23588500</td>\n",
       "    </tr>\n",
       "    <tr>\n",
       "      <th>2018-01-31</th>\n",
       "      <td>69.501999</td>\n",
       "      <td>71.237999</td>\n",
       "      <td>69.038002</td>\n",
       "      <td>70.862000</td>\n",
       "      <td>70.862000</td>\n",
       "      <td>31070500</td>\n",
       "    </tr>\n",
       "    <tr>\n",
       "      <th>...</th>\n",
       "      <td>...</td>\n",
       "      <td>...</td>\n",
       "      <td>...</td>\n",
       "      <td>...</td>\n",
       "      <td>...</td>\n",
       "      <td>...</td>\n",
       "    </tr>\n",
       "    <tr>\n",
       "      <th>2018-12-02</th>\n",
       "      <td>68.365997</td>\n",
       "      <td>70.320000</td>\n",
       "      <td>67.652000</td>\n",
       "      <td>70.096001</td>\n",
       "      <td>70.096001</td>\n",
       "      <td>28145500</td>\n",
       "    </tr>\n",
       "    <tr>\n",
       "      <th>2018-12-03</th>\n",
       "      <td>72.000000</td>\n",
       "      <td>73.199997</td>\n",
       "      <td>70.400002</td>\n",
       "      <td>71.697998</td>\n",
       "      <td>71.697998</td>\n",
       "      <td>41532500</td>\n",
       "    </tr>\n",
       "    <tr>\n",
       "      <th>2018-12-04</th>\n",
       "      <td>71.209999</td>\n",
       "      <td>73.736000</td>\n",
       "      <td>70.400002</td>\n",
       "      <td>71.940002</td>\n",
       "      <td>71.940002</td>\n",
       "      <td>42309500</td>\n",
       "    </tr>\n",
       "    <tr>\n",
       "      <th>2018-12-05</th>\n",
       "      <td>71.209999</td>\n",
       "      <td>73.736000</td>\n",
       "      <td>70.400002</td>\n",
       "      <td>71.940002</td>\n",
       "      <td>71.940002</td>\n",
       "      <td>42309500</td>\n",
       "    </tr>\n",
       "    <tr>\n",
       "      <th>2018-12-06</th>\n",
       "      <td>71.202003</td>\n",
       "      <td>73.475998</td>\n",
       "      <td>70.152000</td>\n",
       "      <td>72.612000</td>\n",
       "      <td>72.612000</td>\n",
       "      <td>39212500</td>\n",
       "    </tr>\n",
       "    <tr>\n",
       "      <th>2018-12-07</th>\n",
       "      <td>73.800003</td>\n",
       "      <td>75.898003</td>\n",
       "      <td>71.529999</td>\n",
       "      <td>71.594002</td>\n",
       "      <td>71.594002</td>\n",
       "      <td>57556000</td>\n",
       "    </tr>\n",
       "    <tr>\n",
       "      <th>2018-12-08</th>\n",
       "      <td>73.800003</td>\n",
       "      <td>75.898003</td>\n",
       "      <td>71.529999</td>\n",
       "      <td>71.594002</td>\n",
       "      <td>71.594002</td>\n",
       "      <td>57556000</td>\n",
       "    </tr>\n",
       "    <tr>\n",
       "      <th>2018-12-09</th>\n",
       "      <td>73.800003</td>\n",
       "      <td>75.898003</td>\n",
       "      <td>71.529999</td>\n",
       "      <td>71.594002</td>\n",
       "      <td>71.594002</td>\n",
       "      <td>57556000</td>\n",
       "    </tr>\n",
       "    <tr>\n",
       "      <th>2018-12-10</th>\n",
       "      <td>72.000000</td>\n",
       "      <td>73.195999</td>\n",
       "      <td>70.624001</td>\n",
       "      <td>73.029999</td>\n",
       "      <td>73.029999</td>\n",
       "      <td>33067500</td>\n",
       "    </tr>\n",
       "    <tr>\n",
       "      <th>2018-12-11</th>\n",
       "      <td>73.982002</td>\n",
       "      <td>74.433998</td>\n",
       "      <td>72.045998</td>\n",
       "      <td>73.351997</td>\n",
       "      <td>73.351997</td>\n",
       "      <td>31544000</td>\n",
       "    </tr>\n",
       "    <tr>\n",
       "      <th>2018-12-12</th>\n",
       "      <td>73.884003</td>\n",
       "      <td>74.382004</td>\n",
       "      <td>73.031998</td>\n",
       "      <td>73.320000</td>\n",
       "      <td>73.320000</td>\n",
       "      <td>25135000</td>\n",
       "    </tr>\n",
       "    <tr>\n",
       "      <th>2018-12-13</th>\n",
       "      <td>74.029999</td>\n",
       "      <td>75.487999</td>\n",
       "      <td>73.349998</td>\n",
       "      <td>75.358002</td>\n",
       "      <td>75.358002</td>\n",
       "      <td>36829500</td>\n",
       "    </tr>\n",
       "    <tr>\n",
       "      <th>2018-12-14</th>\n",
       "      <td>75.000000</td>\n",
       "      <td>75.573997</td>\n",
       "      <td>72.865997</td>\n",
       "      <td>73.141998</td>\n",
       "      <td>73.141998</td>\n",
       "      <td>31688000</td>\n",
       "    </tr>\n",
       "    <tr>\n",
       "      <th>2018-12-15</th>\n",
       "      <td>75.000000</td>\n",
       "      <td>75.573997</td>\n",
       "      <td>72.865997</td>\n",
       "      <td>73.141998</td>\n",
       "      <td>73.141998</td>\n",
       "      <td>31688000</td>\n",
       "    </tr>\n",
       "    <tr>\n",
       "      <th>2018-12-16</th>\n",
       "      <td>75.000000</td>\n",
       "      <td>75.573997</td>\n",
       "      <td>72.865997</td>\n",
       "      <td>73.141998</td>\n",
       "      <td>73.141998</td>\n",
       "      <td>31688000</td>\n",
       "    </tr>\n",
       "    <tr>\n",
       "      <th>2018-12-17</th>\n",
       "      <td>72.400002</td>\n",
       "      <td>73.139999</td>\n",
       "      <td>68.776001</td>\n",
       "      <td>69.683998</td>\n",
       "      <td>69.683998</td>\n",
       "      <td>38370000</td>\n",
       "    </tr>\n",
       "    <tr>\n",
       "      <th>2018-12-18</th>\n",
       "      <td>70.108002</td>\n",
       "      <td>70.309998</td>\n",
       "      <td>66.737999</td>\n",
       "      <td>67.405998</td>\n",
       "      <td>67.405998</td>\n",
       "      <td>35500000</td>\n",
       "    </tr>\n",
       "    <tr>\n",
       "      <th>2018-12-19</th>\n",
       "      <td>67.519997</td>\n",
       "      <td>69.402000</td>\n",
       "      <td>65.947998</td>\n",
       "      <td>66.594002</td>\n",
       "      <td>66.594002</td>\n",
       "      <td>41371000</td>\n",
       "    </tr>\n",
       "    <tr>\n",
       "      <th>2018-12-20</th>\n",
       "      <td>65.410004</td>\n",
       "      <td>66.057999</td>\n",
       "      <td>62.374001</td>\n",
       "      <td>63.076000</td>\n",
       "      <td>63.076000</td>\n",
       "      <td>45359500</td>\n",
       "    </tr>\n",
       "    <tr>\n",
       "      <th>2018-12-21</th>\n",
       "      <td>63.480000</td>\n",
       "      <td>64.694000</td>\n",
       "      <td>62.487999</td>\n",
       "      <td>63.953999</td>\n",
       "      <td>63.953999</td>\n",
       "      <td>40084000</td>\n",
       "    </tr>\n",
       "    <tr>\n",
       "      <th>2018-12-22</th>\n",
       "      <td>63.480000</td>\n",
       "      <td>64.694000</td>\n",
       "      <td>62.487999</td>\n",
       "      <td>63.953999</td>\n",
       "      <td>63.953999</td>\n",
       "      <td>40084000</td>\n",
       "    </tr>\n",
       "    <tr>\n",
       "      <th>2018-12-23</th>\n",
       "      <td>63.480000</td>\n",
       "      <td>64.694000</td>\n",
       "      <td>62.487999</td>\n",
       "      <td>63.953999</td>\n",
       "      <td>63.953999</td>\n",
       "      <td>40084000</td>\n",
       "    </tr>\n",
       "    <tr>\n",
       "      <th>2018-12-24</th>\n",
       "      <td>62.700001</td>\n",
       "      <td>62.900002</td>\n",
       "      <td>59.040001</td>\n",
       "      <td>59.077999</td>\n",
       "      <td>59.077999</td>\n",
       "      <td>27799500</td>\n",
       "    </tr>\n",
       "    <tr>\n",
       "      <th>2018-12-25</th>\n",
       "      <td>62.700001</td>\n",
       "      <td>62.900002</td>\n",
       "      <td>59.040001</td>\n",
       "      <td>59.077999</td>\n",
       "      <td>59.077999</td>\n",
       "      <td>27799500</td>\n",
       "    </tr>\n",
       "    <tr>\n",
       "      <th>2018-12-26</th>\n",
       "      <td>60.000000</td>\n",
       "      <td>65.393997</td>\n",
       "      <td>58.818001</td>\n",
       "      <td>65.218002</td>\n",
       "      <td>65.218002</td>\n",
       "      <td>40815500</td>\n",
       "    </tr>\n",
       "    <tr>\n",
       "      <th>2018-12-27</th>\n",
       "      <td>63.967999</td>\n",
       "      <td>64.433998</td>\n",
       "      <td>60.299999</td>\n",
       "      <td>63.226002</td>\n",
       "      <td>63.226002</td>\n",
       "      <td>42875500</td>\n",
       "    </tr>\n",
       "    <tr>\n",
       "      <th>2018-12-28</th>\n",
       "      <td>64.620003</td>\n",
       "      <td>67.248001</td>\n",
       "      <td>63.681999</td>\n",
       "      <td>66.774002</td>\n",
       "      <td>66.774002</td>\n",
       "      <td>49695000</td>\n",
       "    </tr>\n",
       "    <tr>\n",
       "      <th>2018-12-29</th>\n",
       "      <td>64.620003</td>\n",
       "      <td>67.248001</td>\n",
       "      <td>63.681999</td>\n",
       "      <td>66.774002</td>\n",
       "      <td>66.774002</td>\n",
       "      <td>49695000</td>\n",
       "    </tr>\n",
       "    <tr>\n",
       "      <th>2018-12-30</th>\n",
       "      <td>64.620003</td>\n",
       "      <td>67.248001</td>\n",
       "      <td>63.681999</td>\n",
       "      <td>66.774002</td>\n",
       "      <td>66.774002</td>\n",
       "      <td>49695000</td>\n",
       "    </tr>\n",
       "    <tr>\n",
       "      <th>2018-12-31</th>\n",
       "      <td>67.557999</td>\n",
       "      <td>67.842003</td>\n",
       "      <td>65.052002</td>\n",
       "      <td>66.559998</td>\n",
       "      <td>66.559998</td>\n",
       "      <td>31511500</td>\n",
       "    </tr>\n",
       "  </tbody>\n",
       "</table>\n",
       "<p>364 rows × 6 columns</p>\n",
       "</div>"
      ],
      "text/plain": [
       "                 Open       High        Low      Close  Adj_Close    Volume\n",
       "Date                                                                       \n",
       "2018-01-02  62.400002  64.421997  62.200001  64.106003  64.106003  21761000\n",
       "2018-01-03  64.199997  65.050003  63.110001  63.450001  63.450001  22607500\n",
       "2018-01-04  62.574001  63.709999  61.136002  62.924000  62.924000  49731500\n",
       "2018-01-05  63.324001  63.448002  62.400002  63.316002  63.316002  22956000\n",
       "2018-01-06  63.324001  63.448002  62.400002  63.316002  63.316002  22956000\n",
       "2018-01-07  63.324001  63.448002  62.400002  63.316002  63.316002  22956000\n",
       "2018-01-08  63.200001  67.403999  63.099998  67.281998  67.281998  49297000\n",
       "2018-01-09  67.031998  67.760002  65.480003  66.737999  66.737999  35733000\n",
       "2018-01-10  66.440002  67.400002  66.000000  66.959999  66.959999  21549500\n",
       "2018-01-11  67.047997  68.961998  66.652000  67.589996  67.589996  33227500\n",
       "2018-01-12  67.725998  68.082001  66.734001  67.244003  67.244003  24125500\n",
       "2018-01-13  67.725998  68.082001  66.734001  67.244003  67.244003  24125500\n",
       "2018-01-14  67.725998  68.082001  66.734001  67.244003  67.244003  24125500\n",
       "2018-01-15  67.725998  68.082001  66.734001  67.244003  67.244003  24125500\n",
       "2018-01-16  67.508003  69.000000  66.959999  68.012001  68.012001  32371500\n",
       "2018-01-17  68.094002  69.800003  67.949997  69.431999  69.431999  35517500\n",
       "2018-01-18  69.134003  70.459999  68.748001  68.914001  68.914001  28429000\n",
       "2018-01-19  69.000000  70.117996  68.519997  70.003998  70.003998  24441500\n",
       "2018-01-20  69.000000  70.117996  68.519997  70.003998  70.003998  24441500\n",
       "2018-01-21  69.000000  70.117996  68.519997  70.003998  70.003998  24441500\n",
       "2018-01-22  69.879997  71.566002  69.839996  70.311996  70.311996  31052000\n",
       "2018-01-23  72.000000  72.099998  70.199997  70.557999  70.557999  27327000\n",
       "2018-01-24  70.916000  70.949997  68.704002  69.178001  69.178001  26437500\n",
       "2018-01-25  69.653999  69.839996  67.279999  67.528000  67.528000  33701500\n",
       "2018-01-26  68.300003  68.800003  67.141998  68.570000  68.570000  22697000\n",
       "2018-01-27  68.300003  68.800003  67.141998  68.570000  68.570000  22697000\n",
       "2018-01-28  68.300003  68.800003  67.141998  68.570000  68.570000  22697000\n",
       "2018-01-29  67.970001  70.169998  67.655998  69.905998  69.905998  23735500\n",
       "2018-01-30  69.028000  69.653999  68.433998  69.164001  69.164001  23588500\n",
       "2018-01-31  69.501999  71.237999  69.038002  70.862000  70.862000  31070500\n",
       "...               ...        ...        ...        ...        ...       ...\n",
       "2018-12-02  68.365997  70.320000  67.652000  70.096001  70.096001  28145500\n",
       "2018-12-03  72.000000  73.199997  70.400002  71.697998  71.697998  41532500\n",
       "2018-12-04  71.209999  73.736000  70.400002  71.940002  71.940002  42309500\n",
       "2018-12-05  71.209999  73.736000  70.400002  71.940002  71.940002  42309500\n",
       "2018-12-06  71.202003  73.475998  70.152000  72.612000  72.612000  39212500\n",
       "2018-12-07  73.800003  75.898003  71.529999  71.594002  71.594002  57556000\n",
       "2018-12-08  73.800003  75.898003  71.529999  71.594002  71.594002  57556000\n",
       "2018-12-09  73.800003  75.898003  71.529999  71.594002  71.594002  57556000\n",
       "2018-12-10  72.000000  73.195999  70.624001  73.029999  73.029999  33067500\n",
       "2018-12-11  73.982002  74.433998  72.045998  73.351997  73.351997  31544000\n",
       "2018-12-12  73.884003  74.382004  73.031998  73.320000  73.320000  25135000\n",
       "2018-12-13  74.029999  75.487999  73.349998  75.358002  75.358002  36829500\n",
       "2018-12-14  75.000000  75.573997  72.865997  73.141998  73.141998  31688000\n",
       "2018-12-15  75.000000  75.573997  72.865997  73.141998  73.141998  31688000\n",
       "2018-12-16  75.000000  75.573997  72.865997  73.141998  73.141998  31688000\n",
       "2018-12-17  72.400002  73.139999  68.776001  69.683998  69.683998  38370000\n",
       "2018-12-18  70.108002  70.309998  66.737999  67.405998  67.405998  35500000\n",
       "2018-12-19  67.519997  69.402000  65.947998  66.594002  66.594002  41371000\n",
       "2018-12-20  65.410004  66.057999  62.374001  63.076000  63.076000  45359500\n",
       "2018-12-21  63.480000  64.694000  62.487999  63.953999  63.953999  40084000\n",
       "2018-12-22  63.480000  64.694000  62.487999  63.953999  63.953999  40084000\n",
       "2018-12-23  63.480000  64.694000  62.487999  63.953999  63.953999  40084000\n",
       "2018-12-24  62.700001  62.900002  59.040001  59.077999  59.077999  27799500\n",
       "2018-12-25  62.700001  62.900002  59.040001  59.077999  59.077999  27799500\n",
       "2018-12-26  60.000000  65.393997  58.818001  65.218002  65.218002  40815500\n",
       "2018-12-27  63.967999  64.433998  60.299999  63.226002  63.226002  42875500\n",
       "2018-12-28  64.620003  67.248001  63.681999  66.774002  66.774002  49695000\n",
       "2018-12-29  64.620003  67.248001  63.681999  66.774002  66.774002  49695000\n",
       "2018-12-30  64.620003  67.248001  63.681999  66.774002  66.774002  49695000\n",
       "2018-12-31  67.557999  67.842003  65.052002  66.559998  66.559998  31511500\n",
       "\n",
       "[364 rows x 6 columns]"
      ]
     },
     "execution_count": 134,
     "metadata": {},
     "output_type": "execute_result"
    }
   ],
   "source": [
    "# Data engineering\n",
    "# Adding data in days data is missing (e.g B days, no trading on weekends )\n",
    "# Keeping the hypothesis in mind, today is similar to tomorrow in time series\n",
    "df.asfreq('D', method = 'pad')"
   ]
  },
  {
   "cell_type": "code",
   "execution_count": 135,
   "metadata": {},
   "outputs": [
    {
     "data": {
      "text/plain": [
       "Period('2020', 'A-DEC')"
      ]
     },
     "execution_count": 135,
     "metadata": {},
     "output_type": "execute_result"
    }
   ],
   "source": [
    "y = pd.Period('2020') # Time Stamps # Time period- yearly\n",
    "y"
   ]
  },
  {
   "cell_type": "code",
   "execution_count": 136,
   "metadata": {},
   "outputs": [
    {
     "data": {
      "text/plain": [
       "Timestamp('2020-01-01 00:00:00')"
      ]
     },
     "execution_count": 136,
     "metadata": {},
     "output_type": "execute_result"
    }
   ],
   "source": [
    "y.start_time"
   ]
  },
  {
   "cell_type": "code",
   "execution_count": 137,
   "metadata": {},
   "outputs": [
    {
     "data": {
      "text/plain": [
       "Timestamp('2020-12-31 23:59:59.999999999')"
      ]
     },
     "execution_count": 137,
     "metadata": {},
     "output_type": "execute_result"
    }
   ],
   "source": [
    "y.end_time"
   ]
  },
  {
   "cell_type": "code",
   "execution_count": 138,
   "metadata": {},
   "outputs": [
    {
     "data": {
      "text/plain": [
       "Period('2020-01', 'M')"
      ]
     },
     "execution_count": 138,
     "metadata": {},
     "output_type": "execute_result"
    }
   ],
   "source": [
    "m = pd.Period('2020', freq = 'M') # Time Period : Monthly\n",
    "m"
   ]
  },
  {
   "cell_type": "code",
   "execution_count": 139,
   "metadata": {},
   "outputs": [
    {
     "data": {
      "text/plain": [
       "Timestamp('2020-01-01 00:00:00')"
      ]
     },
     "execution_count": 139,
     "metadata": {},
     "output_type": "execute_result"
    }
   ],
   "source": [
    "m.start_time"
   ]
  },
  {
   "cell_type": "code",
   "execution_count": 140,
   "metadata": {},
   "outputs": [
    {
     "data": {
      "text/plain": [
       "Timestamp('2020-01-31 23:59:59.999999999')"
      ]
     },
     "execution_count": 140,
     "metadata": {},
     "output_type": "execute_result"
    }
   ],
   "source": [
    "m.end_time"
   ]
  },
  {
   "cell_type": "code",
   "execution_count": 22,
   "metadata": {},
   "outputs": [
    {
     "data": {
      "text/plain": [
       "Period('2020-02', 'M')"
      ]
     },
     "execution_count": 22,
     "metadata": {},
     "output_type": "execute_result"
    }
   ],
   "source": [
    "m+1 # Arithemetic operations on time stamps b/w same freq only"
   ]
  },
  {
   "cell_type": "code",
   "execution_count": 31,
   "metadata": {},
   "outputs": [
    {
     "data": {
      "text/plain": [
       "Period('2020-02-28', 'D')"
      ]
     },
     "execution_count": 31,
     "metadata": {},
     "output_type": "execute_result"
    }
   ],
   "source": [
    "d = pd.Period('2020-02-28', freq = 'D') # Timestamp : Daily\n",
    "d"
   ]
  },
  {
   "cell_type": "code",
   "execution_count": 32,
   "metadata": {},
   "outputs": [
    {
     "data": {
      "text/plain": [
       "Period('2020-02-29', 'D')"
      ]
     },
     "execution_count": 32,
     "metadata": {},
     "output_type": "execute_result"
    }
   ],
   "source": [
    "d+1"
   ]
  },
  {
   "cell_type": "code",
   "execution_count": 33,
   "metadata": {},
   "outputs": [
    {
     "data": {
      "text/plain": [
       "Period('2020-10-12 23:00', 'H')"
      ]
     },
     "execution_count": 33,
     "metadata": {},
     "output_type": "execute_result"
    }
   ],
   "source": [
    "h = pd.Period('2020-10-12 23:00:00', freq = 'H') # time stamp: hourly\n",
    "h"
   ]
  },
  {
   "cell_type": "code",
   "execution_count": 34,
   "metadata": {},
   "outputs": [
    {
     "data": {
      "text/plain": [
       "Period('2020-10-13 00:00', 'H')"
      ]
     },
     "execution_count": 34,
     "metadata": {},
     "output_type": "execute_result"
    }
   ],
   "source": [
    "h+1"
   ]
  },
  {
   "cell_type": "code",
   "execution_count": 36,
   "metadata": {},
   "outputs": [
    {
     "data": {
      "text/plain": [
       "Period('2020Q1', 'Q-DEC')"
      ]
     },
     "execution_count": 36,
     "metadata": {},
     "output_type": "execute_result"
    }
   ],
   "source": [
    "q = pd.Period('2020Q1') # Time stamp: Quarterly\n",
    "q"
   ]
  },
  {
   "cell_type": "code",
   "execution_count": 37,
   "metadata": {},
   "outputs": [
    {
     "data": {
      "text/plain": [
       "Period('2020Q2', 'Q-DEC')"
      ]
     },
     "execution_count": 37,
     "metadata": {},
     "output_type": "execute_result"
    }
   ],
   "source": [
    "q+1"
   ]
  },
  {
   "cell_type": "code",
   "execution_count": 38,
   "metadata": {},
   "outputs": [
    {
     "data": {
      "text/plain": [
       "Period('2020Q1', 'Q-JAN')"
      ]
     },
     "execution_count": 38,
     "metadata": {},
     "output_type": "execute_result"
    }
   ],
   "source": [
    "q_new = pd.Period('2020Q1', freq = 'Q-JAN') # Fiscal year starting from february instead of january\n",
    "q_new "
   ]
  },
  {
   "cell_type": "code",
   "execution_count": 39,
   "metadata": {},
   "outputs": [
    {
     "data": {
      "text/plain": [
       "Timestamp('2019-02-01 00:00:00')"
      ]
     },
     "execution_count": 39,
     "metadata": {},
     "output_type": "execute_result"
    }
   ],
   "source": [
    "q_new.start_time"
   ]
  },
  {
   "cell_type": "code",
   "execution_count": 40,
   "metadata": {},
   "outputs": [
    {
     "data": {
      "text/plain": [
       "Period('2019-02', 'M')"
      ]
     },
     "execution_count": 40,
     "metadata": {},
     "output_type": "execute_result"
    }
   ],
   "source": [
    "q_new.asfreq('M', how = 'start') # converting into montly frequency"
   ]
  },
  {
   "cell_type": "code",
   "execution_count": 44,
   "metadata": {},
   "outputs": [
    {
     "data": {
      "text/plain": [
       "Period('2019Q2', 'Q-JAN')"
      ]
     },
     "execution_count": 44,
     "metadata": {},
     "output_type": "execute_result"
    }
   ],
   "source": [
    "q1 = pd.Period('2019Q2', freq = 'Q-JAN')\n",
    "q1"
   ]
  },
  {
   "cell_type": "code",
   "execution_count": 45,
   "metadata": {},
   "outputs": [
    {
     "data": {
      "text/plain": [
       "Period('2020Q1', 'Q-JAN')"
      ]
     },
     "execution_count": 45,
     "metadata": {},
     "output_type": "execute_result"
    }
   ],
   "source": [
    "q2 = pd.Period('2020Q1', freq = 'Q-JAN')\n",
    "q2"
   ]
  },
  {
   "cell_type": "code",
   "execution_count": 46,
   "metadata": {},
   "outputs": [
    {
     "data": {
      "text/plain": [
       "<3 * QuarterEnds: startingMonth=1>"
      ]
     },
     "execution_count": 46,
     "metadata": {},
     "output_type": "execute_result"
    }
   ],
   "source": [
    "q2 - q1 # number of quaters in b/w these fiscal years"
   ]
  },
  {
   "cell_type": "code",
   "execution_count": 47,
   "metadata": {},
   "outputs": [
    {
     "data": {
      "text/plain": [
       "PeriodIndex(['2010Q1', '2010Q2', '2010Q3', '2010Q4', '2011Q1', '2011Q2',\n",
       "             '2011Q3', '2011Q4', '2012Q1', '2012Q2', '2012Q3', '2012Q4',\n",
       "             '2013Q1', '2013Q2', '2013Q3', '2013Q4', '2014Q1', '2014Q2',\n",
       "             '2014Q3', '2014Q4', '2015Q1'],\n",
       "            dtype='period[Q-DEC]', freq='Q-DEC')"
      ]
     },
     "execution_count": 47,
     "metadata": {},
     "output_type": "execute_result"
    }
   ],
   "source": [
    "# Date time index\n",
    "idx = pd.period_range('2010','2015', freq = 'Q')\n",
    "idx"
   ]
  },
  {
   "cell_type": "code",
   "execution_count": 55,
   "metadata": {},
   "outputs": [
    {
     "data": {
      "text/plain": [
       "2010Q1    0.043187\n",
       "2010Q2   -0.627814\n",
       "2010Q3   -0.350247\n",
       "2010Q4   -0.199716\n",
       "2011Q1   -0.786974\n",
       "2011Q2   -0.907725\n",
       "2011Q3   -0.987048\n",
       "2011Q4   -0.379719\n",
       "2012Q1    0.318527\n",
       "2012Q2    0.948219\n",
       "2012Q3    0.211825\n",
       "2012Q4    0.536691\n",
       "2013Q1    2.119904\n",
       "2013Q2    1.206313\n",
       "2013Q3   -0.929688\n",
       "2013Q4   -1.641399\n",
       "2014Q1    0.865454\n",
       "2014Q2    0.087387\n",
       "2014Q3    0.376189\n",
       "2014Q4    0.277867\n",
       "2015Q1    1.726919\n",
       "Freq: Q-DEC, dtype: float64"
      ]
     },
     "execution_count": 55,
     "metadata": {},
     "output_type": "execute_result"
    }
   ],
   "source": [
    "ps = pd.Series(np.random.randn(len(idx)), idx)\n",
    "ps"
   ]
  },
  {
   "cell_type": "code",
   "execution_count": 56,
   "metadata": {},
   "outputs": [
    {
     "data": {
      "text/plain": [
       "PeriodIndex(['2010Q1', '2010Q2', '2010Q3', '2010Q4', '2011Q1', '2011Q2',\n",
       "             '2011Q3', '2011Q4', '2012Q1', '2012Q2', '2012Q3', '2012Q4',\n",
       "             '2013Q1', '2013Q2', '2013Q3', '2013Q4', '2014Q1', '2014Q2',\n",
       "             '2014Q3', '2014Q4', '2015Q1'],\n",
       "            dtype='period[Q-DEC]', freq='Q-DEC')"
      ]
     },
     "execution_count": 56,
     "metadata": {},
     "output_type": "execute_result"
    }
   ],
   "source": [
    "ps.index"
   ]
  },
  {
   "cell_type": "code",
   "execution_count": 57,
   "metadata": {},
   "outputs": [
    {
     "data": {
      "text/plain": [
       "2011Q1   -0.786974\n",
       "2011Q2   -0.907725\n",
       "2011Q3   -0.987048\n",
       "2011Q4   -0.379719\n",
       "2012Q1    0.318527\n",
       "2012Q2    0.948219\n",
       "2012Q3    0.211825\n",
       "2012Q4    0.536691\n",
       "Freq: Q-DEC, dtype: float64"
      ]
     },
     "execution_count": 57,
     "metadata": {},
     "output_type": "execute_result"
    }
   ],
   "source": [
    "ps['2011':'2012']"
   ]
  },
  {
   "cell_type": "code",
   "execution_count": 60,
   "metadata": {},
   "outputs": [
    {
     "data": {
      "text/plain": [
       "2010-01-01    0.043187\n",
       "2010-04-01   -0.627814\n",
       "2010-07-01   -0.350247\n",
       "2010-10-01   -0.199716\n",
       "2011-01-01   -0.786974\n",
       "2011-04-01   -0.907725\n",
       "2011-07-01   -0.987048\n",
       "2011-10-01   -0.379719\n",
       "2012-01-01    0.318527\n",
       "2012-04-01    0.948219\n",
       "2012-07-01    0.211825\n",
       "2012-10-01    0.536691\n",
       "2013-01-01    2.119904\n",
       "2013-04-01    1.206313\n",
       "2013-07-01   -0.929688\n",
       "2013-10-01   -1.641399\n",
       "2014-01-01    0.865454\n",
       "2014-04-01    0.087387\n",
       "2014-07-01    0.376189\n",
       "2014-10-01    0.277867\n",
       "2015-01-01    1.726919\n",
       "Freq: QS-OCT, dtype: float64"
      ]
     },
     "execution_count": 60,
     "metadata": {},
     "output_type": "execute_result"
    }
   ],
   "source": [
    "pst = ps.to_timestamp()\n",
    "pst"
   ]
  },
  {
   "cell_type": "code",
   "execution_count": 61,
   "metadata": {},
   "outputs": [
    {
     "data": {
      "text/html": [
       "<div>\n",
       "<style scoped>\n",
       "    .dataframe tbody tr th:only-of-type {\n",
       "        vertical-align: middle;\n",
       "    }\n",
       "\n",
       "    .dataframe tbody tr th {\n",
       "        vertical-align: top;\n",
       "    }\n",
       "\n",
       "    .dataframe thead th {\n",
       "        text-align: right;\n",
       "    }\n",
       "</style>\n",
       "<table border=\"1\" class=\"dataframe\">\n",
       "  <thead>\n",
       "    <tr style=\"text-align: right;\">\n",
       "      <th></th>\n",
       "      <th>Line Item</th>\n",
       "      <th>2017Q1</th>\n",
       "      <th>2017Q2</th>\n",
       "      <th>2017Q3</th>\n",
       "      <th>2017Q4</th>\n",
       "      <th>2018Q1</th>\n",
       "    </tr>\n",
       "  </thead>\n",
       "  <tbody>\n",
       "    <tr>\n",
       "      <th>0</th>\n",
       "      <td>Revenue</td>\n",
       "      <td>115904</td>\n",
       "      <td>120854</td>\n",
       "      <td>118179</td>\n",
       "      <td>130936</td>\n",
       "      <td>117542</td>\n",
       "    </tr>\n",
       "    <tr>\n",
       "      <th>1</th>\n",
       "      <td>Expenses</td>\n",
       "      <td>86544</td>\n",
       "      <td>89485</td>\n",
       "      <td>87484</td>\n",
       "      <td>97743</td>\n",
       "      <td>87688</td>\n",
       "    </tr>\n",
       "    <tr>\n",
       "      <th>2</th>\n",
       "      <td>Profit</td>\n",
       "      <td>29360</td>\n",
       "      <td>31369</td>\n",
       "      <td>30695</td>\n",
       "      <td>33193</td>\n",
       "      <td>29854</td>\n",
       "    </tr>\n",
       "  </tbody>\n",
       "</table>\n",
       "</div>"
      ],
      "text/plain": [
       "  Line Item  2017Q1  2017Q2  2017Q3  2017Q4  2018Q1\n",
       "0   Revenue  115904  120854  118179  130936  117542\n",
       "1  Expenses   86544   89485   87484   97743   87688\n",
       "2    Profit   29360   31369   30695   33193   29854"
      ]
     },
     "execution_count": 61,
     "metadata": {},
     "output_type": "execute_result"
    }
   ],
   "source": [
    "df1 = pd.read_csv('C://users//sameer//desktop//datasets//wmt.csv')\n",
    "df1"
   ]
  },
  {
   "cell_type": "code",
   "execution_count": 62,
   "metadata": {},
   "outputs": [
    {
     "data": {
      "text/html": [
       "<div>\n",
       "<style scoped>\n",
       "    .dataframe tbody tr th:only-of-type {\n",
       "        vertical-align: middle;\n",
       "    }\n",
       "\n",
       "    .dataframe tbody tr th {\n",
       "        vertical-align: top;\n",
       "    }\n",
       "\n",
       "    .dataframe thead th {\n",
       "        text-align: right;\n",
       "    }\n",
       "</style>\n",
       "<table border=\"1\" class=\"dataframe\">\n",
       "  <thead>\n",
       "    <tr style=\"text-align: right;\">\n",
       "      <th></th>\n",
       "      <th>2017Q1</th>\n",
       "      <th>2017Q2</th>\n",
       "      <th>2017Q3</th>\n",
       "      <th>2017Q4</th>\n",
       "      <th>2018Q1</th>\n",
       "    </tr>\n",
       "    <tr>\n",
       "      <th>Line Item</th>\n",
       "      <th></th>\n",
       "      <th></th>\n",
       "      <th></th>\n",
       "      <th></th>\n",
       "      <th></th>\n",
       "    </tr>\n",
       "  </thead>\n",
       "  <tbody>\n",
       "    <tr>\n",
       "      <th>Revenue</th>\n",
       "      <td>115904</td>\n",
       "      <td>120854</td>\n",
       "      <td>118179</td>\n",
       "      <td>130936</td>\n",
       "      <td>117542</td>\n",
       "    </tr>\n",
       "    <tr>\n",
       "      <th>Expenses</th>\n",
       "      <td>86544</td>\n",
       "      <td>89485</td>\n",
       "      <td>87484</td>\n",
       "      <td>97743</td>\n",
       "      <td>87688</td>\n",
       "    </tr>\n",
       "    <tr>\n",
       "      <th>Profit</th>\n",
       "      <td>29360</td>\n",
       "      <td>31369</td>\n",
       "      <td>30695</td>\n",
       "      <td>33193</td>\n",
       "      <td>29854</td>\n",
       "    </tr>\n",
       "  </tbody>\n",
       "</table>\n",
       "</div>"
      ],
      "text/plain": [
       "           2017Q1  2017Q2  2017Q3  2017Q4  2018Q1\n",
       "Line Item                                        \n",
       "Revenue    115904  120854  118179  130936  117542\n",
       "Expenses    86544   89485   87484   97743   87688\n",
       "Profit      29360   31369   30695   33193   29854"
      ]
     },
     "execution_count": 62,
     "metadata": {},
     "output_type": "execute_result"
    }
   ],
   "source": [
    "df1.set_index('Line Item', inplace = True)\n",
    "df1"
   ]
  },
  {
   "cell_type": "code",
   "execution_count": 69,
   "metadata": {},
   "outputs": [
    {
     "data": {
      "text/html": [
       "<div>\n",
       "<style scoped>\n",
       "    .dataframe tbody tr th:only-of-type {\n",
       "        vertical-align: middle;\n",
       "    }\n",
       "\n",
       "    .dataframe tbody tr th {\n",
       "        vertical-align: top;\n",
       "    }\n",
       "\n",
       "    .dataframe thead th {\n",
       "        text-align: right;\n",
       "    }\n",
       "</style>\n",
       "<table border=\"1\" class=\"dataframe\">\n",
       "  <thead>\n",
       "    <tr style=\"text-align: right;\">\n",
       "      <th>Line Item</th>\n",
       "      <th>Revenue</th>\n",
       "      <th>Expenses</th>\n",
       "      <th>Profit</th>\n",
       "    </tr>\n",
       "  </thead>\n",
       "  <tbody>\n",
       "    <tr>\n",
       "      <th>2017Q1</th>\n",
       "      <td>115904</td>\n",
       "      <td>86544</td>\n",
       "      <td>29360</td>\n",
       "    </tr>\n",
       "    <tr>\n",
       "      <th>2017Q2</th>\n",
       "      <td>120854</td>\n",
       "      <td>89485</td>\n",
       "      <td>31369</td>\n",
       "    </tr>\n",
       "    <tr>\n",
       "      <th>2017Q3</th>\n",
       "      <td>118179</td>\n",
       "      <td>87484</td>\n",
       "      <td>30695</td>\n",
       "    </tr>\n",
       "    <tr>\n",
       "      <th>2017Q4</th>\n",
       "      <td>130936</td>\n",
       "      <td>97743</td>\n",
       "      <td>33193</td>\n",
       "    </tr>\n",
       "    <tr>\n",
       "      <th>2018Q1</th>\n",
       "      <td>117542</td>\n",
       "      <td>87688</td>\n",
       "      <td>29854</td>\n",
       "    </tr>\n",
       "  </tbody>\n",
       "</table>\n",
       "</div>"
      ],
      "text/plain": [
       "Line Item  Revenue  Expenses  Profit\n",
       "2017Q1      115904     86544   29360\n",
       "2017Q2      120854     89485   31369\n",
       "2017Q3      118179     87484   30695\n",
       "2017Q4      130936     97743   33193\n",
       "2018Q1      117542     87688   29854"
      ]
     },
     "execution_count": 69,
     "metadata": {},
     "output_type": "execute_result"
    }
   ],
   "source": [
    "df1 = df1.T\n",
    "df1"
   ]
  },
  {
   "cell_type": "code",
   "execution_count": 70,
   "metadata": {},
   "outputs": [
    {
     "data": {
      "text/plain": [
       "Index(['2017Q1', '2017Q2', '2017Q3', '2017Q4', '2018Q1'], dtype='object')"
      ]
     },
     "execution_count": 70,
     "metadata": {},
     "output_type": "execute_result"
    }
   ],
   "source": [
    "df1.index # Index is of type object instead of period index"
   ]
  },
  {
   "cell_type": "code",
   "execution_count": 71,
   "metadata": {},
   "outputs": [
    {
     "data": {
      "text/plain": [
       "PeriodIndex(['2017Q1', '2017Q2', '2017Q3', '2017Q4', '2018Q1'], dtype='period[Q-JAN]', freq='Q-JAN')"
      ]
     },
     "execution_count": 71,
     "metadata": {},
     "output_type": "execute_result"
    }
   ],
   "source": [
    "df1.index = pd.PeriodIndex(df1.index, freq = 'Q-JAN')\n",
    "df1.index"
   ]
  },
  {
   "cell_type": "code",
   "execution_count": 72,
   "metadata": {},
   "outputs": [
    {
     "data": {
      "text/html": [
       "<div>\n",
       "<style scoped>\n",
       "    .dataframe tbody tr th:only-of-type {\n",
       "        vertical-align: middle;\n",
       "    }\n",
       "\n",
       "    .dataframe tbody tr th {\n",
       "        vertical-align: top;\n",
       "    }\n",
       "\n",
       "    .dataframe thead th {\n",
       "        text-align: right;\n",
       "    }\n",
       "</style>\n",
       "<table border=\"1\" class=\"dataframe\">\n",
       "  <thead>\n",
       "    <tr style=\"text-align: right;\">\n",
       "      <th>Line Item</th>\n",
       "      <th>Revenue</th>\n",
       "      <th>Expenses</th>\n",
       "      <th>Profit</th>\n",
       "      <th>Start date</th>\n",
       "    </tr>\n",
       "  </thead>\n",
       "  <tbody>\n",
       "    <tr>\n",
       "      <th>2017Q1</th>\n",
       "      <td>115904</td>\n",
       "      <td>86544</td>\n",
       "      <td>29360</td>\n",
       "      <td>2016-02-01</td>\n",
       "    </tr>\n",
       "    <tr>\n",
       "      <th>2017Q2</th>\n",
       "      <td>120854</td>\n",
       "      <td>89485</td>\n",
       "      <td>31369</td>\n",
       "      <td>2016-05-01</td>\n",
       "    </tr>\n",
       "    <tr>\n",
       "      <th>2017Q3</th>\n",
       "      <td>118179</td>\n",
       "      <td>87484</td>\n",
       "      <td>30695</td>\n",
       "      <td>2016-08-01</td>\n",
       "    </tr>\n",
       "    <tr>\n",
       "      <th>2017Q4</th>\n",
       "      <td>130936</td>\n",
       "      <td>97743</td>\n",
       "      <td>33193</td>\n",
       "      <td>2016-11-01</td>\n",
       "    </tr>\n",
       "    <tr>\n",
       "      <th>2018Q1</th>\n",
       "      <td>117542</td>\n",
       "      <td>87688</td>\n",
       "      <td>29854</td>\n",
       "      <td>2017-02-01</td>\n",
       "    </tr>\n",
       "  </tbody>\n",
       "</table>\n",
       "</div>"
      ],
      "text/plain": [
       "Line Item  Revenue  Expenses  Profit Start date\n",
       "2017Q1      115904     86544   29360 2016-02-01\n",
       "2017Q2      120854     89485   31369 2016-05-01\n",
       "2017Q3      118179     87484   30695 2016-08-01\n",
       "2017Q4      130936     97743   33193 2016-11-01\n",
       "2018Q1      117542     87688   29854 2017-02-01"
      ]
     },
     "execution_count": 72,
     "metadata": {},
     "output_type": "execute_result"
    }
   ],
   "source": [
    "# creating a new column containing start date as values\n",
    "df1['Start date'] = df1.index.map(lambda x: x.start_time)\n",
    "df1"
   ]
  },
  {
   "cell_type": "code",
   "execution_count": 75,
   "metadata": {},
   "outputs": [
    {
     "data": {
      "text/html": [
       "<div>\n",
       "<style scoped>\n",
       "    .dataframe tbody tr th:only-of-type {\n",
       "        vertical-align: middle;\n",
       "    }\n",
       "\n",
       "    .dataframe tbody tr th {\n",
       "        vertical-align: top;\n",
       "    }\n",
       "\n",
       "    .dataframe thead th {\n",
       "        text-align: right;\n",
       "    }\n",
       "</style>\n",
       "<table border=\"1\" class=\"dataframe\">\n",
       "  <thead>\n",
       "    <tr style=\"text-align: right;\">\n",
       "      <th>Line Item</th>\n",
       "      <th>Revenue</th>\n",
       "      <th>Expenses</th>\n",
       "      <th>Profit</th>\n",
       "      <th>Start date</th>\n",
       "      <th>End date</th>\n",
       "    </tr>\n",
       "  </thead>\n",
       "  <tbody>\n",
       "    <tr>\n",
       "      <th>2017Q1</th>\n",
       "      <td>115904</td>\n",
       "      <td>86544</td>\n",
       "      <td>29360</td>\n",
       "      <td>2016-02-01</td>\n",
       "      <td>2016-04-30</td>\n",
       "    </tr>\n",
       "    <tr>\n",
       "      <th>2017Q2</th>\n",
       "      <td>120854</td>\n",
       "      <td>89485</td>\n",
       "      <td>31369</td>\n",
       "      <td>2016-05-01</td>\n",
       "      <td>2016-07-31</td>\n",
       "    </tr>\n",
       "    <tr>\n",
       "      <th>2017Q3</th>\n",
       "      <td>118179</td>\n",
       "      <td>87484</td>\n",
       "      <td>30695</td>\n",
       "      <td>2016-08-01</td>\n",
       "      <td>2016-10-31</td>\n",
       "    </tr>\n",
       "    <tr>\n",
       "      <th>2017Q4</th>\n",
       "      <td>130936</td>\n",
       "      <td>97743</td>\n",
       "      <td>33193</td>\n",
       "      <td>2016-11-01</td>\n",
       "      <td>2017-01-31</td>\n",
       "    </tr>\n",
       "    <tr>\n",
       "      <th>2018Q1</th>\n",
       "      <td>117542</td>\n",
       "      <td>87688</td>\n",
       "      <td>29854</td>\n",
       "      <td>2017-02-01</td>\n",
       "      <td>2017-04-30</td>\n",
       "    </tr>\n",
       "  </tbody>\n",
       "</table>\n",
       "</div>"
      ],
      "text/plain": [
       "Line Item  Revenue  Expenses  Profit Start date    End date\n",
       "2017Q1      115904     86544   29360 2016-02-01  2016-04-30\n",
       "2017Q2      120854     89485   31369 2016-05-01  2016-07-31\n",
       "2017Q3      118179     87484   30695 2016-08-01  2016-10-31\n",
       "2017Q4      130936     97743   33193 2016-11-01  2017-01-31\n",
       "2018Q1      117542     87688   29854 2017-02-01  2017-04-30"
      ]
     },
     "execution_count": 75,
     "metadata": {},
     "output_type": "execute_result"
    }
   ],
   "source": [
    "df1['End date'] = df1.index.map(lambda x: x.end_time.date)\n",
    "df1"
   ]
  },
  {
   "cell_type": "code",
   "execution_count": 152,
   "metadata": {},
   "outputs": [
    {
     "data": {
      "text/html": [
       "<div>\n",
       "<style scoped>\n",
       "    .dataframe tbody tr th:only-of-type {\n",
       "        vertical-align: middle;\n",
       "    }\n",
       "\n",
       "    .dataframe tbody tr th {\n",
       "        vertical-align: top;\n",
       "    }\n",
       "\n",
       "    .dataframe thead th {\n",
       "        text-align: right;\n",
       "    }\n",
       "</style>\n",
       "<table border=\"1\" class=\"dataframe\">\n",
       "  <thead>\n",
       "    <tr style=\"text-align: right;\">\n",
       "      <th></th>\n",
       "      <th>Microsoft Stock Price: 17 August, 2017</th>\n",
       "      <th>Unnamed: 1</th>\n",
       "    </tr>\n",
       "  </thead>\n",
       "  <tbody>\n",
       "    <tr>\n",
       "      <th>0</th>\n",
       "      <td>Date Time</td>\n",
       "      <td>Price</td>\n",
       "    </tr>\n",
       "    <tr>\n",
       "      <th>1</th>\n",
       "      <td>8/17/2017 9:00:00 AM</td>\n",
       "      <td>72.38</td>\n",
       "    </tr>\n",
       "    <tr>\n",
       "      <th>2</th>\n",
       "      <td>8/17/2017 9:15:00 AM</td>\n",
       "      <td>71</td>\n",
       "    </tr>\n",
       "    <tr>\n",
       "      <th>3</th>\n",
       "      <td>8/17/2017 9:30:00 AM</td>\n",
       "      <td>71.67</td>\n",
       "    </tr>\n",
       "    <tr>\n",
       "      <th>4</th>\n",
       "      <td>8/17/2017 10:00:00 AM</td>\n",
       "      <td>72.8</td>\n",
       "    </tr>\n",
       "    <tr>\n",
       "      <th>5</th>\n",
       "      <td>8/17/2017 10:30:00 AM</td>\n",
       "      <td>73</td>\n",
       "    </tr>\n",
       "    <tr>\n",
       "      <th>6</th>\n",
       "      <td>8/17/2017 11:00:00 AM</td>\n",
       "      <td>72.5</td>\n",
       "    </tr>\n",
       "  </tbody>\n",
       "</table>\n",
       "</div>"
      ],
      "text/plain": [
       "  Microsoft Stock Price: 17 August, 2017 Unnamed: 1\n",
       "0                              Date Time      Price\n",
       "1                   8/17/2017 9:00:00 AM      72.38\n",
       "2                   8/17/2017 9:15:00 AM         71\n",
       "3                   8/17/2017 9:30:00 AM      71.67\n",
       "4                  8/17/2017 10:00:00 AM       72.8\n",
       "5                  8/17/2017 10:30:00 AM         73\n",
       "6                  8/17/2017 11:00:00 AM       72.5"
      ]
     },
     "execution_count": 152,
     "metadata": {},
     "output_type": "execute_result"
    }
   ],
   "source": [
    "# Handling Time zones in time series\n",
    "df2  = pd.read_csv('C://users//sameer//desktop//datasets//msft.csv')\n",
    "df2"
   ]
  },
  {
   "cell_type": "code",
   "execution_count": 153,
   "metadata": {},
   "outputs": [
    {
     "data": {
      "text/html": [
       "<div>\n",
       "<style scoped>\n",
       "    .dataframe tbody tr th:only-of-type {\n",
       "        vertical-align: middle;\n",
       "    }\n",
       "\n",
       "    .dataframe tbody tr th {\n",
       "        vertical-align: top;\n",
       "    }\n",
       "\n",
       "    .dataframe thead th {\n",
       "        text-align: right;\n",
       "    }\n",
       "</style>\n",
       "<table border=\"1\" class=\"dataframe\">\n",
       "  <thead>\n",
       "    <tr style=\"text-align: right;\">\n",
       "      <th></th>\n",
       "      <th>Date_Time</th>\n",
       "      <th>Price</th>\n",
       "    </tr>\n",
       "  </thead>\n",
       "  <tbody>\n",
       "    <tr>\n",
       "      <th>1</th>\n",
       "      <td>8/17/2017 9:00:00 AM</td>\n",
       "      <td>72.38</td>\n",
       "    </tr>\n",
       "    <tr>\n",
       "      <th>2</th>\n",
       "      <td>8/17/2017 9:15:00 AM</td>\n",
       "      <td>71</td>\n",
       "    </tr>\n",
       "    <tr>\n",
       "      <th>3</th>\n",
       "      <td>8/17/2017 9:30:00 AM</td>\n",
       "      <td>71.67</td>\n",
       "    </tr>\n",
       "    <tr>\n",
       "      <th>4</th>\n",
       "      <td>8/17/2017 10:00:00 AM</td>\n",
       "      <td>72.8</td>\n",
       "    </tr>\n",
       "    <tr>\n",
       "      <th>5</th>\n",
       "      <td>8/17/2017 10:30:00 AM</td>\n",
       "      <td>73</td>\n",
       "    </tr>\n",
       "    <tr>\n",
       "      <th>6</th>\n",
       "      <td>8/17/2017 11:00:00 AM</td>\n",
       "      <td>72.5</td>\n",
       "    </tr>\n",
       "  </tbody>\n",
       "</table>\n",
       "</div>"
      ],
      "text/plain": [
       "               Date_Time  Price\n",
       "1   8/17/2017 9:00:00 AM  72.38\n",
       "2   8/17/2017 9:15:00 AM     71\n",
       "3   8/17/2017 9:30:00 AM  71.67\n",
       "4  8/17/2017 10:00:00 AM   72.8\n",
       "5  8/17/2017 10:30:00 AM     73\n",
       "6  8/17/2017 11:00:00 AM   72.5"
      ]
     },
     "execution_count": 153,
     "metadata": {},
     "output_type": "execute_result"
    }
   ],
   "source": [
    "df2.columns = ['Date_Time','Price']\n",
    "df2 = df2[1:]\n",
    "df2"
   ]
  },
  {
   "cell_type": "code",
   "execution_count": 160,
   "metadata": {},
   "outputs": [
    {
     "data": {
      "text/plain": [
       "'8/17/2017 9:00:00 AM'"
      ]
     },
     "execution_count": 160,
     "metadata": {},
     "output_type": "execute_result"
    }
   ],
   "source": [
    "df2.Date_Time.iloc[0]"
   ]
  },
  {
   "cell_type": "code",
   "execution_count": 170,
   "metadata": {},
   "outputs": [
    {
     "data": {
      "text/plain": [
       "DatetimeIndex(['2017-08-17 09:00:00', '2017-08-17 10:00:00',\n",
       "               '2017-08-17 11:00:00', '2017-08-17 12:00:00',\n",
       "               '2017-08-17 13:00:00', '2017-08-17 14:00:00'],\n",
       "              dtype='datetime64[ns]', freq='H')"
      ]
     },
     "execution_count": 170,
     "metadata": {},
     "output_type": "execute_result"
    }
   ],
   "source": [
    "index = pd.date_range(start = df2.Date_Time.iloc[0], periods = 6, freq = 'H')\n",
    "index"
   ]
  },
  {
   "cell_type": "code",
   "execution_count": 172,
   "metadata": {},
   "outputs": [
    {
     "data": {
      "text/html": [
       "<div>\n",
       "<style scoped>\n",
       "    .dataframe tbody tr th:only-of-type {\n",
       "        vertical-align: middle;\n",
       "    }\n",
       "\n",
       "    .dataframe tbody tr th {\n",
       "        vertical-align: top;\n",
       "    }\n",
       "\n",
       "    .dataframe thead th {\n",
       "        text-align: right;\n",
       "    }\n",
       "</style>\n",
       "<table border=\"1\" class=\"dataframe\">\n",
       "  <thead>\n",
       "    <tr style=\"text-align: right;\">\n",
       "      <th></th>\n",
       "      <th>Date_Time</th>\n",
       "      <th>Price</th>\n",
       "    </tr>\n",
       "  </thead>\n",
       "  <tbody>\n",
       "    <tr>\n",
       "      <th>2017-08-17 09:00:00</th>\n",
       "      <td>2017-08-17 09:00:00</td>\n",
       "      <td>72.38</td>\n",
       "    </tr>\n",
       "    <tr>\n",
       "      <th>2017-08-17 10:00:00</th>\n",
       "      <td>2017-08-17 10:00:00</td>\n",
       "      <td>71</td>\n",
       "    </tr>\n",
       "    <tr>\n",
       "      <th>2017-08-17 11:00:00</th>\n",
       "      <td>2017-08-17 11:00:00</td>\n",
       "      <td>71.67</td>\n",
       "    </tr>\n",
       "    <tr>\n",
       "      <th>2017-08-17 12:00:00</th>\n",
       "      <td>2017-08-17 12:00:00</td>\n",
       "      <td>72.8</td>\n",
       "    </tr>\n",
       "    <tr>\n",
       "      <th>2017-08-17 13:00:00</th>\n",
       "      <td>2017-08-17 13:00:00</td>\n",
       "      <td>73</td>\n",
       "    </tr>\n",
       "    <tr>\n",
       "      <th>2017-08-17 14:00:00</th>\n",
       "      <td>2017-08-17 14:00:00</td>\n",
       "      <td>72.5</td>\n",
       "    </tr>\n",
       "  </tbody>\n",
       "</table>\n",
       "</div>"
      ],
      "text/plain": [
       "                              Date_Time  Price\n",
       "2017-08-17 09:00:00 2017-08-17 09:00:00  72.38\n",
       "2017-08-17 10:00:00 2017-08-17 10:00:00     71\n",
       "2017-08-17 11:00:00 2017-08-17 11:00:00  71.67\n",
       "2017-08-17 12:00:00 2017-08-17 12:00:00   72.8\n",
       "2017-08-17 13:00:00 2017-08-17 13:00:00     73\n",
       "2017-08-17 14:00:00 2017-08-17 14:00:00   72.5"
      ]
     },
     "execution_count": 172,
     "metadata": {},
     "output_type": "execute_result"
    }
   ],
   "source": [
    "df2.set_index(index, inplace = True) \n",
    "df2"
   ]
  },
  {
   "cell_type": "code",
   "execution_count": 173,
   "metadata": {},
   "outputs": [
    {
     "data": {
      "text/plain": [
       "DatetimeIndex(['2017-08-17 09:00:00', '2017-08-17 10:00:00',\n",
       "               '2017-08-17 11:00:00', '2017-08-17 12:00:00',\n",
       "               '2017-08-17 13:00:00', '2017-08-17 14:00:00'],\n",
       "              dtype='datetime64[ns]', freq='H')"
      ]
     },
     "execution_count": 173,
     "metadata": {},
     "output_type": "execute_result"
    }
   ],
   "source": [
    "df2.index # Time Zone unaware date time index"
   ]
  },
  {
   "cell_type": "code",
   "execution_count": 174,
   "metadata": {},
   "outputs": [
    {
     "data": {
      "text/plain": [
       "DatetimeIndex(['2017-08-17 09:00:00-04:00', '2017-08-17 10:00:00-04:00',\n",
       "               '2017-08-17 11:00:00-04:00', '2017-08-17 12:00:00-04:00',\n",
       "               '2017-08-17 13:00:00-04:00', '2017-08-17 14:00:00-04:00'],\n",
       "              dtype='datetime64[ns, US/Eastern]', freq='H')"
      ]
     },
     "execution_count": 174,
     "metadata": {},
     "output_type": "execute_result"
    }
   ],
   "source": [
    "df2 = df2.tz_localize(tz = 'US/Eastern')\n",
    "df2.index"
   ]
  },
  {
   "cell_type": "code",
   "execution_count": 175,
   "metadata": {},
   "outputs": [
    {
     "data": {
      "text/plain": [
       "DatetimeIndex(['2017-08-17 15:00:00+02:00', '2017-08-17 16:00:00+02:00',\n",
       "               '2017-08-17 17:00:00+02:00', '2017-08-17 18:00:00+02:00',\n",
       "               '2017-08-17 19:00:00+02:00', '2017-08-17 20:00:00+02:00'],\n",
       "              dtype='datetime64[ns, Europe/Berlin]', freq='H')"
      ]
     },
     "execution_count": 175,
     "metadata": {},
     "output_type": "execute_result"
    }
   ],
   "source": [
    "# converting the time zone\n",
    "df2 = df2.tz_convert(tz = 'Europe/Berlin')\n",
    "df2.index"
   ]
  },
  {
   "cell_type": "code",
   "execution_count": 176,
   "metadata": {},
   "outputs": [
    {
     "data": {
      "text/plain": [
       "['Africa/Abidjan',\n",
       " 'Africa/Accra',\n",
       " 'Africa/Addis_Ababa',\n",
       " 'Africa/Algiers',\n",
       " 'Africa/Asmara',\n",
       " 'Africa/Asmera',\n",
       " 'Africa/Bamako',\n",
       " 'Africa/Bangui',\n",
       " 'Africa/Banjul',\n",
       " 'Africa/Bissau',\n",
       " 'Africa/Blantyre',\n",
       " 'Africa/Brazzaville',\n",
       " 'Africa/Bujumbura',\n",
       " 'Africa/Cairo',\n",
       " 'Africa/Casablanca',\n",
       " 'Africa/Ceuta',\n",
       " 'Africa/Conakry',\n",
       " 'Africa/Dakar',\n",
       " 'Africa/Dar_es_Salaam',\n",
       " 'Africa/Djibouti',\n",
       " 'Africa/Douala',\n",
       " 'Africa/El_Aaiun',\n",
       " 'Africa/Freetown',\n",
       " 'Africa/Gaborone',\n",
       " 'Africa/Harare',\n",
       " 'Africa/Johannesburg',\n",
       " 'Africa/Juba',\n",
       " 'Africa/Kampala',\n",
       " 'Africa/Khartoum',\n",
       " 'Africa/Kigali',\n",
       " 'Africa/Kinshasa',\n",
       " 'Africa/Lagos',\n",
       " 'Africa/Libreville',\n",
       " 'Africa/Lome',\n",
       " 'Africa/Luanda',\n",
       " 'Africa/Lubumbashi',\n",
       " 'Africa/Lusaka',\n",
       " 'Africa/Malabo',\n",
       " 'Africa/Maputo',\n",
       " 'Africa/Maseru',\n",
       " 'Africa/Mbabane',\n",
       " 'Africa/Mogadishu',\n",
       " 'Africa/Monrovia',\n",
       " 'Africa/Nairobi',\n",
       " 'Africa/Ndjamena',\n",
       " 'Africa/Niamey',\n",
       " 'Africa/Nouakchott',\n",
       " 'Africa/Ouagadougou',\n",
       " 'Africa/Porto-Novo',\n",
       " 'Africa/Sao_Tome',\n",
       " 'Africa/Timbuktu',\n",
       " 'Africa/Tripoli',\n",
       " 'Africa/Tunis',\n",
       " 'Africa/Windhoek',\n",
       " 'America/Adak',\n",
       " 'America/Anchorage',\n",
       " 'America/Anguilla',\n",
       " 'America/Antigua',\n",
       " 'America/Araguaina',\n",
       " 'America/Argentina/Buenos_Aires',\n",
       " 'America/Argentina/Catamarca',\n",
       " 'America/Argentina/ComodRivadavia',\n",
       " 'America/Argentina/Cordoba',\n",
       " 'America/Argentina/Jujuy',\n",
       " 'America/Argentina/La_Rioja',\n",
       " 'America/Argentina/Mendoza',\n",
       " 'America/Argentina/Rio_Gallegos',\n",
       " 'America/Argentina/Salta',\n",
       " 'America/Argentina/San_Juan',\n",
       " 'America/Argentina/San_Luis',\n",
       " 'America/Argentina/Tucuman',\n",
       " 'America/Argentina/Ushuaia',\n",
       " 'America/Aruba',\n",
       " 'America/Asuncion',\n",
       " 'America/Atikokan',\n",
       " 'America/Atka',\n",
       " 'America/Bahia',\n",
       " 'America/Bahia_Banderas',\n",
       " 'America/Barbados',\n",
       " 'America/Belem',\n",
       " 'America/Belize',\n",
       " 'America/Blanc-Sablon',\n",
       " 'America/Boa_Vista',\n",
       " 'America/Bogota',\n",
       " 'America/Boise',\n",
       " 'America/Buenos_Aires',\n",
       " 'America/Cambridge_Bay',\n",
       " 'America/Campo_Grande',\n",
       " 'America/Cancun',\n",
       " 'America/Caracas',\n",
       " 'America/Catamarca',\n",
       " 'America/Cayenne',\n",
       " 'America/Cayman',\n",
       " 'America/Chicago',\n",
       " 'America/Chihuahua',\n",
       " 'America/Coral_Harbour',\n",
       " 'America/Cordoba',\n",
       " 'America/Costa_Rica',\n",
       " 'America/Creston',\n",
       " 'America/Cuiaba',\n",
       " 'America/Curacao',\n",
       " 'America/Danmarkshavn',\n",
       " 'America/Dawson',\n",
       " 'America/Dawson_Creek',\n",
       " 'America/Denver',\n",
       " 'America/Detroit',\n",
       " 'America/Dominica',\n",
       " 'America/Edmonton',\n",
       " 'America/Eirunepe',\n",
       " 'America/El_Salvador',\n",
       " 'America/Ensenada',\n",
       " 'America/Fort_Nelson',\n",
       " 'America/Fort_Wayne',\n",
       " 'America/Fortaleza',\n",
       " 'America/Glace_Bay',\n",
       " 'America/Godthab',\n",
       " 'America/Goose_Bay',\n",
       " 'America/Grand_Turk',\n",
       " 'America/Grenada',\n",
       " 'America/Guadeloupe',\n",
       " 'America/Guatemala',\n",
       " 'America/Guayaquil',\n",
       " 'America/Guyana',\n",
       " 'America/Halifax',\n",
       " 'America/Havana',\n",
       " 'America/Hermosillo',\n",
       " 'America/Indiana/Indianapolis',\n",
       " 'America/Indiana/Knox',\n",
       " 'America/Indiana/Marengo',\n",
       " 'America/Indiana/Petersburg',\n",
       " 'America/Indiana/Tell_City',\n",
       " 'America/Indiana/Vevay',\n",
       " 'America/Indiana/Vincennes',\n",
       " 'America/Indiana/Winamac',\n",
       " 'America/Indianapolis',\n",
       " 'America/Inuvik',\n",
       " 'America/Iqaluit',\n",
       " 'America/Jamaica',\n",
       " 'America/Jujuy',\n",
       " 'America/Juneau',\n",
       " 'America/Kentucky/Louisville',\n",
       " 'America/Kentucky/Monticello',\n",
       " 'America/Knox_IN',\n",
       " 'America/Kralendijk',\n",
       " 'America/La_Paz',\n",
       " 'America/Lima',\n",
       " 'America/Los_Angeles',\n",
       " 'America/Louisville',\n",
       " 'America/Lower_Princes',\n",
       " 'America/Maceio',\n",
       " 'America/Managua',\n",
       " 'America/Manaus',\n",
       " 'America/Marigot',\n",
       " 'America/Martinique',\n",
       " 'America/Matamoros',\n",
       " 'America/Mazatlan',\n",
       " 'America/Mendoza',\n",
       " 'America/Menominee',\n",
       " 'America/Merida',\n",
       " 'America/Metlakatla',\n",
       " 'America/Mexico_City',\n",
       " 'America/Miquelon',\n",
       " 'America/Moncton',\n",
       " 'America/Monterrey',\n",
       " 'America/Montevideo',\n",
       " 'America/Montreal',\n",
       " 'America/Montserrat',\n",
       " 'America/Nassau',\n",
       " 'America/New_York',\n",
       " 'America/Nipigon',\n",
       " 'America/Nome',\n",
       " 'America/Noronha',\n",
       " 'America/North_Dakota/Beulah',\n",
       " 'America/North_Dakota/Center',\n",
       " 'America/North_Dakota/New_Salem',\n",
       " 'America/Ojinaga',\n",
       " 'America/Panama',\n",
       " 'America/Pangnirtung',\n",
       " 'America/Paramaribo',\n",
       " 'America/Phoenix',\n",
       " 'America/Port-au-Prince',\n",
       " 'America/Port_of_Spain',\n",
       " 'America/Porto_Acre',\n",
       " 'America/Porto_Velho',\n",
       " 'America/Puerto_Rico',\n",
       " 'America/Punta_Arenas',\n",
       " 'America/Rainy_River',\n",
       " 'America/Rankin_Inlet',\n",
       " 'America/Recife',\n",
       " 'America/Regina',\n",
       " 'America/Resolute',\n",
       " 'America/Rio_Branco',\n",
       " 'America/Rosario',\n",
       " 'America/Santa_Isabel',\n",
       " 'America/Santarem',\n",
       " 'America/Santiago',\n",
       " 'America/Santo_Domingo',\n",
       " 'America/Sao_Paulo',\n",
       " 'America/Scoresbysund',\n",
       " 'America/Shiprock',\n",
       " 'America/Sitka',\n",
       " 'America/St_Barthelemy',\n",
       " 'America/St_Johns',\n",
       " 'America/St_Kitts',\n",
       " 'America/St_Lucia',\n",
       " 'America/St_Thomas',\n",
       " 'America/St_Vincent',\n",
       " 'America/Swift_Current',\n",
       " 'America/Tegucigalpa',\n",
       " 'America/Thule',\n",
       " 'America/Thunder_Bay',\n",
       " 'America/Tijuana',\n",
       " 'America/Toronto',\n",
       " 'America/Tortola',\n",
       " 'America/Vancouver',\n",
       " 'America/Virgin',\n",
       " 'America/Whitehorse',\n",
       " 'America/Winnipeg',\n",
       " 'America/Yakutat',\n",
       " 'America/Yellowknife',\n",
       " 'Antarctica/Casey',\n",
       " 'Antarctica/Davis',\n",
       " 'Antarctica/DumontDUrville',\n",
       " 'Antarctica/Macquarie',\n",
       " 'Antarctica/Mawson',\n",
       " 'Antarctica/McMurdo',\n",
       " 'Antarctica/Palmer',\n",
       " 'Antarctica/Rothera',\n",
       " 'Antarctica/South_Pole',\n",
       " 'Antarctica/Syowa',\n",
       " 'Antarctica/Troll',\n",
       " 'Antarctica/Vostok',\n",
       " 'Arctic/Longyearbyen',\n",
       " 'Asia/Aden',\n",
       " 'Asia/Almaty',\n",
       " 'Asia/Amman',\n",
       " 'Asia/Anadyr',\n",
       " 'Asia/Aqtau',\n",
       " 'Asia/Aqtobe',\n",
       " 'Asia/Ashgabat',\n",
       " 'Asia/Ashkhabad',\n",
       " 'Asia/Atyrau',\n",
       " 'Asia/Baghdad',\n",
       " 'Asia/Bahrain',\n",
       " 'Asia/Baku',\n",
       " 'Asia/Bangkok',\n",
       " 'Asia/Barnaul',\n",
       " 'Asia/Beirut',\n",
       " 'Asia/Bishkek',\n",
       " 'Asia/Brunei',\n",
       " 'Asia/Calcutta',\n",
       " 'Asia/Chita',\n",
       " 'Asia/Choibalsan',\n",
       " 'Asia/Chongqing',\n",
       " 'Asia/Chungking',\n",
       " 'Asia/Colombo',\n",
       " 'Asia/Dacca',\n",
       " 'Asia/Damascus',\n",
       " 'Asia/Dhaka',\n",
       " 'Asia/Dili',\n",
       " 'Asia/Dubai',\n",
       " 'Asia/Dushanbe',\n",
       " 'Asia/Famagusta',\n",
       " 'Asia/Gaza',\n",
       " 'Asia/Harbin',\n",
       " 'Asia/Hebron',\n",
       " 'Asia/Ho_Chi_Minh',\n",
       " 'Asia/Hong_Kong',\n",
       " 'Asia/Hovd',\n",
       " 'Asia/Irkutsk',\n",
       " 'Asia/Istanbul',\n",
       " 'Asia/Jakarta',\n",
       " 'Asia/Jayapura',\n",
       " 'Asia/Jerusalem',\n",
       " 'Asia/Kabul',\n",
       " 'Asia/Kamchatka',\n",
       " 'Asia/Karachi',\n",
       " 'Asia/Kashgar',\n",
       " 'Asia/Kathmandu',\n",
       " 'Asia/Katmandu',\n",
       " 'Asia/Khandyga',\n",
       " 'Asia/Kolkata',\n",
       " 'Asia/Krasnoyarsk',\n",
       " 'Asia/Kuala_Lumpur',\n",
       " 'Asia/Kuching',\n",
       " 'Asia/Kuwait',\n",
       " 'Asia/Macao',\n",
       " 'Asia/Macau',\n",
       " 'Asia/Magadan',\n",
       " 'Asia/Makassar',\n",
       " 'Asia/Manila',\n",
       " 'Asia/Muscat',\n",
       " 'Asia/Nicosia',\n",
       " 'Asia/Novokuznetsk',\n",
       " 'Asia/Novosibirsk',\n",
       " 'Asia/Omsk',\n",
       " 'Asia/Oral',\n",
       " 'Asia/Phnom_Penh',\n",
       " 'Asia/Pontianak',\n",
       " 'Asia/Pyongyang',\n",
       " 'Asia/Qatar',\n",
       " 'Asia/Qostanay',\n",
       " 'Asia/Qyzylorda',\n",
       " 'Asia/Rangoon',\n",
       " 'Asia/Riyadh',\n",
       " 'Asia/Saigon',\n",
       " 'Asia/Sakhalin',\n",
       " 'Asia/Samarkand',\n",
       " 'Asia/Seoul',\n",
       " 'Asia/Shanghai',\n",
       " 'Asia/Singapore',\n",
       " 'Asia/Srednekolymsk',\n",
       " 'Asia/Taipei',\n",
       " 'Asia/Tashkent',\n",
       " 'Asia/Tbilisi',\n",
       " 'Asia/Tehran',\n",
       " 'Asia/Tel_Aviv',\n",
       " 'Asia/Thimbu',\n",
       " 'Asia/Thimphu',\n",
       " 'Asia/Tokyo',\n",
       " 'Asia/Tomsk',\n",
       " 'Asia/Ujung_Pandang',\n",
       " 'Asia/Ulaanbaatar',\n",
       " 'Asia/Ulan_Bator',\n",
       " 'Asia/Urumqi',\n",
       " 'Asia/Ust-Nera',\n",
       " 'Asia/Vientiane',\n",
       " 'Asia/Vladivostok',\n",
       " 'Asia/Yakutsk',\n",
       " 'Asia/Yangon',\n",
       " 'Asia/Yekaterinburg',\n",
       " 'Asia/Yerevan',\n",
       " 'Atlantic/Azores',\n",
       " 'Atlantic/Bermuda',\n",
       " 'Atlantic/Canary',\n",
       " 'Atlantic/Cape_Verde',\n",
       " 'Atlantic/Faeroe',\n",
       " 'Atlantic/Faroe',\n",
       " 'Atlantic/Jan_Mayen',\n",
       " 'Atlantic/Madeira',\n",
       " 'Atlantic/Reykjavik',\n",
       " 'Atlantic/South_Georgia',\n",
       " 'Atlantic/St_Helena',\n",
       " 'Atlantic/Stanley',\n",
       " 'Australia/ACT',\n",
       " 'Australia/Adelaide',\n",
       " 'Australia/Brisbane',\n",
       " 'Australia/Broken_Hill',\n",
       " 'Australia/Canberra',\n",
       " 'Australia/Currie',\n",
       " 'Australia/Darwin',\n",
       " 'Australia/Eucla',\n",
       " 'Australia/Hobart',\n",
       " 'Australia/LHI',\n",
       " 'Australia/Lindeman',\n",
       " 'Australia/Lord_Howe',\n",
       " 'Australia/Melbourne',\n",
       " 'Australia/NSW',\n",
       " 'Australia/North',\n",
       " 'Australia/Perth',\n",
       " 'Australia/Queensland',\n",
       " 'Australia/South',\n",
       " 'Australia/Sydney',\n",
       " 'Australia/Tasmania',\n",
       " 'Australia/Victoria',\n",
       " 'Australia/West',\n",
       " 'Australia/Yancowinna',\n",
       " 'Brazil/Acre',\n",
       " 'Brazil/DeNoronha',\n",
       " 'Brazil/East',\n",
       " 'Brazil/West',\n",
       " 'CET',\n",
       " 'CST6CDT',\n",
       " 'Canada/Atlantic',\n",
       " 'Canada/Central',\n",
       " 'Canada/Eastern',\n",
       " 'Canada/Mountain',\n",
       " 'Canada/Newfoundland',\n",
       " 'Canada/Pacific',\n",
       " 'Canada/Saskatchewan',\n",
       " 'Canada/Yukon',\n",
       " 'Chile/Continental',\n",
       " 'Chile/EasterIsland',\n",
       " 'Cuba',\n",
       " 'EET',\n",
       " 'EST',\n",
       " 'EST5EDT',\n",
       " 'Egypt',\n",
       " 'Eire',\n",
       " 'Etc/GMT',\n",
       " 'Etc/GMT+0',\n",
       " 'Etc/GMT+1',\n",
       " 'Etc/GMT+10',\n",
       " 'Etc/GMT+11',\n",
       " 'Etc/GMT+12',\n",
       " 'Etc/GMT+2',\n",
       " 'Etc/GMT+3',\n",
       " 'Etc/GMT+4',\n",
       " 'Etc/GMT+5',\n",
       " 'Etc/GMT+6',\n",
       " 'Etc/GMT+7',\n",
       " 'Etc/GMT+8',\n",
       " 'Etc/GMT+9',\n",
       " 'Etc/GMT-0',\n",
       " 'Etc/GMT-1',\n",
       " 'Etc/GMT-10',\n",
       " 'Etc/GMT-11',\n",
       " 'Etc/GMT-12',\n",
       " 'Etc/GMT-13',\n",
       " 'Etc/GMT-14',\n",
       " 'Etc/GMT-2',\n",
       " 'Etc/GMT-3',\n",
       " 'Etc/GMT-4',\n",
       " 'Etc/GMT-5',\n",
       " 'Etc/GMT-6',\n",
       " 'Etc/GMT-7',\n",
       " 'Etc/GMT-8',\n",
       " 'Etc/GMT-9',\n",
       " 'Etc/GMT0',\n",
       " 'Etc/Greenwich',\n",
       " 'Etc/UCT',\n",
       " 'Etc/UTC',\n",
       " 'Etc/Universal',\n",
       " 'Etc/Zulu',\n",
       " 'Europe/Amsterdam',\n",
       " 'Europe/Andorra',\n",
       " 'Europe/Astrakhan',\n",
       " 'Europe/Athens',\n",
       " 'Europe/Belfast',\n",
       " 'Europe/Belgrade',\n",
       " 'Europe/Berlin',\n",
       " 'Europe/Bratislava',\n",
       " 'Europe/Brussels',\n",
       " 'Europe/Bucharest',\n",
       " 'Europe/Budapest',\n",
       " 'Europe/Busingen',\n",
       " 'Europe/Chisinau',\n",
       " 'Europe/Copenhagen',\n",
       " 'Europe/Dublin',\n",
       " 'Europe/Gibraltar',\n",
       " 'Europe/Guernsey',\n",
       " 'Europe/Helsinki',\n",
       " 'Europe/Isle_of_Man',\n",
       " 'Europe/Istanbul',\n",
       " 'Europe/Jersey',\n",
       " 'Europe/Kaliningrad',\n",
       " 'Europe/Kiev',\n",
       " 'Europe/Kirov',\n",
       " 'Europe/Lisbon',\n",
       " 'Europe/Ljubljana',\n",
       " 'Europe/London',\n",
       " 'Europe/Luxembourg',\n",
       " 'Europe/Madrid',\n",
       " 'Europe/Malta',\n",
       " 'Europe/Mariehamn',\n",
       " 'Europe/Minsk',\n",
       " 'Europe/Monaco',\n",
       " 'Europe/Moscow',\n",
       " 'Europe/Nicosia',\n",
       " 'Europe/Oslo',\n",
       " 'Europe/Paris',\n",
       " 'Europe/Podgorica',\n",
       " 'Europe/Prague',\n",
       " 'Europe/Riga',\n",
       " 'Europe/Rome',\n",
       " 'Europe/Samara',\n",
       " 'Europe/San_Marino',\n",
       " 'Europe/Sarajevo',\n",
       " 'Europe/Saratov',\n",
       " 'Europe/Simferopol',\n",
       " 'Europe/Skopje',\n",
       " 'Europe/Sofia',\n",
       " 'Europe/Stockholm',\n",
       " 'Europe/Tallinn',\n",
       " 'Europe/Tirane',\n",
       " 'Europe/Tiraspol',\n",
       " 'Europe/Ulyanovsk',\n",
       " 'Europe/Uzhgorod',\n",
       " 'Europe/Vaduz',\n",
       " 'Europe/Vatican',\n",
       " 'Europe/Vienna',\n",
       " 'Europe/Vilnius',\n",
       " 'Europe/Volgograd',\n",
       " 'Europe/Warsaw',\n",
       " 'Europe/Zagreb',\n",
       " 'Europe/Zaporozhye',\n",
       " 'Europe/Zurich',\n",
       " 'GB',\n",
       " 'GB-Eire',\n",
       " 'GMT',\n",
       " 'GMT+0',\n",
       " 'GMT-0',\n",
       " 'GMT0',\n",
       " 'Greenwich',\n",
       " 'HST',\n",
       " 'Hongkong',\n",
       " 'Iceland',\n",
       " 'Indian/Antananarivo',\n",
       " 'Indian/Chagos',\n",
       " 'Indian/Christmas',\n",
       " 'Indian/Cocos',\n",
       " 'Indian/Comoro',\n",
       " 'Indian/Kerguelen',\n",
       " 'Indian/Mahe',\n",
       " 'Indian/Maldives',\n",
       " 'Indian/Mauritius',\n",
       " 'Indian/Mayotte',\n",
       " 'Indian/Reunion',\n",
       " 'Iran',\n",
       " 'Israel',\n",
       " 'Jamaica',\n",
       " 'Japan',\n",
       " 'Kwajalein',\n",
       " 'Libya',\n",
       " 'MET',\n",
       " 'MST',\n",
       " 'MST7MDT',\n",
       " 'Mexico/BajaNorte',\n",
       " 'Mexico/BajaSur',\n",
       " 'Mexico/General',\n",
       " 'NZ',\n",
       " 'NZ-CHAT',\n",
       " 'Navajo',\n",
       " 'PRC',\n",
       " 'PST8PDT',\n",
       " 'Pacific/Apia',\n",
       " 'Pacific/Auckland',\n",
       " 'Pacific/Bougainville',\n",
       " 'Pacific/Chatham',\n",
       " 'Pacific/Chuuk',\n",
       " 'Pacific/Easter',\n",
       " 'Pacific/Efate',\n",
       " 'Pacific/Enderbury',\n",
       " 'Pacific/Fakaofo',\n",
       " 'Pacific/Fiji',\n",
       " 'Pacific/Funafuti',\n",
       " 'Pacific/Galapagos',\n",
       " 'Pacific/Gambier',\n",
       " 'Pacific/Guadalcanal',\n",
       " 'Pacific/Guam',\n",
       " 'Pacific/Honolulu',\n",
       " 'Pacific/Johnston',\n",
       " 'Pacific/Kiritimati',\n",
       " 'Pacific/Kosrae',\n",
       " 'Pacific/Kwajalein',\n",
       " 'Pacific/Majuro',\n",
       " 'Pacific/Marquesas',\n",
       " 'Pacific/Midway',\n",
       " 'Pacific/Nauru',\n",
       " 'Pacific/Niue',\n",
       " 'Pacific/Norfolk',\n",
       " 'Pacific/Noumea',\n",
       " 'Pacific/Pago_Pago',\n",
       " 'Pacific/Palau',\n",
       " 'Pacific/Pitcairn',\n",
       " 'Pacific/Pohnpei',\n",
       " 'Pacific/Ponape',\n",
       " 'Pacific/Port_Moresby',\n",
       " 'Pacific/Rarotonga',\n",
       " 'Pacific/Saipan',\n",
       " 'Pacific/Samoa',\n",
       " 'Pacific/Tahiti',\n",
       " 'Pacific/Tarawa',\n",
       " 'Pacific/Tongatapu',\n",
       " 'Pacific/Truk',\n",
       " 'Pacific/Wake',\n",
       " 'Pacific/Wallis',\n",
       " 'Pacific/Yap',\n",
       " 'Poland',\n",
       " 'Portugal',\n",
       " 'ROC',\n",
       " 'ROK',\n",
       " 'Singapore',\n",
       " 'Turkey',\n",
       " 'UCT',\n",
       " 'US/Alaska',\n",
       " 'US/Aleutian',\n",
       " 'US/Arizona',\n",
       " 'US/Central',\n",
       " 'US/East-Indiana',\n",
       " 'US/Eastern',\n",
       " 'US/Hawaii',\n",
       " 'US/Indiana-Starke',\n",
       " 'US/Michigan',\n",
       " 'US/Mountain',\n",
       " 'US/Pacific',\n",
       " 'US/Samoa',\n",
       " 'UTC',\n",
       " 'Universal',\n",
       " 'W-SU',\n",
       " 'WET',\n",
       " 'Zulu']"
      ]
     },
     "execution_count": 176,
     "metadata": {},
     "output_type": "execute_result"
    }
   ],
   "source": [
    "from pytz import all_timezones\n",
    "all_timezones"
   ]
  },
  {
   "cell_type": "code",
   "execution_count": 177,
   "metadata": {},
   "outputs": [
    {
     "data": {
      "text/html": [
       "<div>\n",
       "<style scoped>\n",
       "    .dataframe tbody tr th:only-of-type {\n",
       "        vertical-align: middle;\n",
       "    }\n",
       "\n",
       "    .dataframe tbody tr th {\n",
       "        vertical-align: top;\n",
       "    }\n",
       "\n",
       "    .dataframe thead th {\n",
       "        text-align: right;\n",
       "    }\n",
       "</style>\n",
       "<table border=\"1\" class=\"dataframe\">\n",
       "  <thead>\n",
       "    <tr style=\"text-align: right;\">\n",
       "      <th></th>\n",
       "      <th>Date_Time</th>\n",
       "      <th>Price</th>\n",
       "    </tr>\n",
       "  </thead>\n",
       "  <tbody>\n",
       "    <tr>\n",
       "      <th>2017-08-17 18:30:00+05:30</th>\n",
       "      <td>2017-08-17 09:00:00</td>\n",
       "      <td>72.38</td>\n",
       "    </tr>\n",
       "    <tr>\n",
       "      <th>2017-08-17 19:30:00+05:30</th>\n",
       "      <td>2017-08-17 10:00:00</td>\n",
       "      <td>71</td>\n",
       "    </tr>\n",
       "    <tr>\n",
       "      <th>2017-08-17 20:30:00+05:30</th>\n",
       "      <td>2017-08-17 11:00:00</td>\n",
       "      <td>71.67</td>\n",
       "    </tr>\n",
       "    <tr>\n",
       "      <th>2017-08-17 21:30:00+05:30</th>\n",
       "      <td>2017-08-17 12:00:00</td>\n",
       "      <td>72.8</td>\n",
       "    </tr>\n",
       "    <tr>\n",
       "      <th>2017-08-17 22:30:00+05:30</th>\n",
       "      <td>2017-08-17 13:00:00</td>\n",
       "      <td>73</td>\n",
       "    </tr>\n",
       "    <tr>\n",
       "      <th>2017-08-17 23:30:00+05:30</th>\n",
       "      <td>2017-08-17 14:00:00</td>\n",
       "      <td>72.5</td>\n",
       "    </tr>\n",
       "  </tbody>\n",
       "</table>\n",
       "</div>"
      ],
      "text/plain": [
       "                                    Date_Time  Price\n",
       "2017-08-17 18:30:00+05:30 2017-08-17 09:00:00  72.38\n",
       "2017-08-17 19:30:00+05:30 2017-08-17 10:00:00     71\n",
       "2017-08-17 20:30:00+05:30 2017-08-17 11:00:00  71.67\n",
       "2017-08-17 21:30:00+05:30 2017-08-17 12:00:00   72.8\n",
       "2017-08-17 22:30:00+05:30 2017-08-17 13:00:00     73\n",
       "2017-08-17 23:30:00+05:30 2017-08-17 14:00:00   72.5"
      ]
     },
     "execution_count": 177,
     "metadata": {},
     "output_type": "execute_result"
    }
   ],
   "source": [
    "df2 = df2.tz_convert(tz = 'Asia/Kolkata')\n",
    "df2"
   ]
  },
  {
   "cell_type": "code",
   "execution_count": 187,
   "metadata": {},
   "outputs": [
    {
     "data": {
      "text/plain": [
       "2017-08-22 00:00:00    0\n",
       "2017-08-22 00:30:00    1\n",
       "2017-08-22 01:00:00    2\n",
       "2017-08-22 01:30:00    3\n",
       "2017-08-22 02:00:00    4\n",
       "2017-08-22 02:30:00    5\n",
       "2017-08-22 03:00:00    6\n",
       "2017-08-22 03:30:00    7\n",
       "2017-08-22 04:00:00    8\n",
       "2017-08-22 04:30:00    9\n",
       "Freq: 30T, dtype: int64"
      ]
     },
     "execution_count": 187,
     "metadata": {},
     "output_type": "execute_result"
    }
   ],
   "source": [
    "t_rng = pd.date_range(start = '2017-08-22', periods = 10 , freq = '30min')\n",
    "s = pd.Series(range(10), t_rng)\n",
    "s"
   ]
  },
  {
   "cell_type": "code",
   "execution_count": 188,
   "metadata": {},
   "outputs": [
    {
     "data": {
      "text/plain": [
       "2017-08-22 00:00:00+02:00    0\n",
       "2017-08-22 00:30:00+02:00    1\n",
       "2017-08-22 01:00:00+02:00    2\n",
       "2017-08-22 01:30:00+02:00    3\n",
       "2017-08-22 02:00:00+02:00    4\n",
       "2017-08-22 02:30:00+02:00    5\n",
       "2017-08-22 03:00:00+02:00    6\n",
       "2017-08-22 03:30:00+02:00    7\n",
       "2017-08-22 04:00:00+02:00    8\n",
       "2017-08-22 04:30:00+02:00    9\n",
       "Freq: 30T, dtype: int64"
      ]
     },
     "execution_count": 188,
     "metadata": {},
     "output_type": "execute_result"
    }
   ],
   "source": [
    "b = s.tz_localize(tz = 'Europe/Berlin')\n",
    "b"
   ]
  },
  {
   "cell_type": "code",
   "execution_count": 192,
   "metadata": {},
   "outputs": [
    {
     "data": {
      "text/plain": [
       "2017-08-22 00:00:00+05:30    0\n",
       "2017-08-22 00:30:00+05:30    1\n",
       "2017-08-22 01:00:00+05:30    2\n",
       "2017-08-22 01:30:00+05:30    3\n",
       "2017-08-22 02:00:00+05:30    4\n",
       "2017-08-22 02:30:00+05:30    5\n",
       "2017-08-22 03:00:00+05:30    6\n",
       "2017-08-22 03:30:00+05:30    7\n",
       "2017-08-22 04:00:00+05:30    8\n",
       "2017-08-22 04:30:00+05:30    9\n",
       "Freq: 30T, dtype: int64"
      ]
     },
     "execution_count": 192,
     "metadata": {},
     "output_type": "execute_result"
    }
   ],
   "source": [
    "c = s.tz_localize(tz = 'Asia/Kolkata')\n",
    "c"
   ]
  },
  {
   "cell_type": "code",
   "execution_count": 193,
   "metadata": {},
   "outputs": [
    {
     "data": {
      "text/plain": [
       "2017-08-21 18:30:00+00:00     NaN\n",
       "2017-08-21 19:00:00+00:00     NaN\n",
       "2017-08-21 19:30:00+00:00     NaN\n",
       "2017-08-21 20:00:00+00:00     NaN\n",
       "2017-08-21 20:30:00+00:00     NaN\n",
       "2017-08-21 21:00:00+00:00     NaN\n",
       "2017-08-21 21:30:00+00:00     NaN\n",
       "2017-08-21 22:00:00+00:00     7.0\n",
       "2017-08-21 22:30:00+00:00     9.0\n",
       "2017-08-21 23:00:00+00:00    11.0\n",
       "2017-08-21 23:30:00+00:00     NaN\n",
       "2017-08-22 00:00:00+00:00     NaN\n",
       "2017-08-22 00:30:00+00:00     NaN\n",
       "2017-08-22 01:00:00+00:00     NaN\n",
       "2017-08-22 01:30:00+00:00     NaN\n",
       "2017-08-22 02:00:00+00:00     NaN\n",
       "2017-08-22 02:30:00+00:00     NaN\n",
       "Freq: 30T, dtype: float64"
      ]
     },
     "execution_count": 193,
     "metadata": {},
     "output_type": "execute_result"
    }
   ],
   "source": [
    "b + c \n",
    "# Converted both time series in Universal time zone and then perform arithemtic operation "
   ]
  },
  {
   "cell_type": "code",
   "execution_count": 194,
   "metadata": {},
   "outputs": [],
   "source": [
    "# Shifting or Laging data points and time"
   ]
  },
  {
   "cell_type": "code",
   "execution_count": 203,
   "metadata": {},
   "outputs": [
    {
     "data": {
      "text/html": [
       "<div>\n",
       "<style scoped>\n",
       "    .dataframe tbody tr th:only-of-type {\n",
       "        vertical-align: middle;\n",
       "    }\n",
       "\n",
       "    .dataframe tbody tr th {\n",
       "        vertical-align: top;\n",
       "    }\n",
       "\n",
       "    .dataframe thead th {\n",
       "        text-align: right;\n",
       "    }\n",
       "</style>\n",
       "<table border=\"1\" class=\"dataframe\">\n",
       "  <thead>\n",
       "    <tr style=\"text-align: right;\">\n",
       "      <th></th>\n",
       "      <th>Price</th>\n",
       "    </tr>\n",
       "    <tr>\n",
       "      <th>Date</th>\n",
       "      <th></th>\n",
       "    </tr>\n",
       "  </thead>\n",
       "  <tbody>\n",
       "    <tr>\n",
       "      <th>2017-08-15</th>\n",
       "      <td>171.00</td>\n",
       "    </tr>\n",
       "    <tr>\n",
       "      <th>2017-08-16</th>\n",
       "      <td>170.00</td>\n",
       "    </tr>\n",
       "    <tr>\n",
       "      <th>2017-08-17</th>\n",
       "      <td>166.91</td>\n",
       "    </tr>\n",
       "    <tr>\n",
       "      <th>2017-08-18</th>\n",
       "      <td>167.41</td>\n",
       "    </tr>\n",
       "    <tr>\n",
       "      <th>2017-08-21</th>\n",
       "      <td>167.78</td>\n",
       "    </tr>\n",
       "    <tr>\n",
       "      <th>2017-08-22</th>\n",
       "      <td>169.64</td>\n",
       "    </tr>\n",
       "    <tr>\n",
       "      <th>2017-08-23</th>\n",
       "      <td>168.71</td>\n",
       "    </tr>\n",
       "    <tr>\n",
       "      <th>2017-08-24</th>\n",
       "      <td>167.74</td>\n",
       "    </tr>\n",
       "    <tr>\n",
       "      <th>2017-08-25</th>\n",
       "      <td>166.32</td>\n",
       "    </tr>\n",
       "    <tr>\n",
       "      <th>2017-08-28</th>\n",
       "      <td>167.24</td>\n",
       "    </tr>\n",
       "  </tbody>\n",
       "</table>\n",
       "</div>"
      ],
      "text/plain": [
       "             Price\n",
       "Date              \n",
       "2017-08-15  171.00\n",
       "2017-08-16  170.00\n",
       "2017-08-17  166.91\n",
       "2017-08-18  167.41\n",
       "2017-08-21  167.78\n",
       "2017-08-22  169.64\n",
       "2017-08-23  168.71\n",
       "2017-08-24  167.74\n",
       "2017-08-25  166.32\n",
       "2017-08-28  167.24"
      ]
     },
     "execution_count": 203,
     "metadata": {},
     "output_type": "execute_result"
    }
   ],
   "source": [
    "df3 = pd.read_csv('C://users//sameer//desktop//datasets//fb.csv', parse_dates = True,\n",
    "                 index_col = 'Date')\n",
    "df3"
   ]
  },
  {
   "cell_type": "code",
   "execution_count": 204,
   "metadata": {},
   "outputs": [
    {
     "data": {
      "text/plain": [
       "DatetimeIndex(['2017-08-15', '2017-08-16', '2017-08-17', '2017-08-18',\n",
       "               '2017-08-21', '2017-08-22', '2017-08-23', '2017-08-24',\n",
       "               '2017-08-25', '2017-08-28'],\n",
       "              dtype='datetime64[ns]', name='Date', freq=None)"
      ]
     },
     "execution_count": 204,
     "metadata": {},
     "output_type": "execute_result"
    }
   ],
   "source": [
    "df3.index"
   ]
  },
  {
   "cell_type": "code",
   "execution_count": 205,
   "metadata": {},
   "outputs": [
    {
     "data": {
      "text/html": [
       "<div>\n",
       "<style scoped>\n",
       "    .dataframe tbody tr th:only-of-type {\n",
       "        vertical-align: middle;\n",
       "    }\n",
       "\n",
       "    .dataframe tbody tr th {\n",
       "        vertical-align: top;\n",
       "    }\n",
       "\n",
       "    .dataframe thead th {\n",
       "        text-align: right;\n",
       "    }\n",
       "</style>\n",
       "<table border=\"1\" class=\"dataframe\">\n",
       "  <thead>\n",
       "    <tr style=\"text-align: right;\">\n",
       "      <th></th>\n",
       "      <th>Price</th>\n",
       "      <th>Previous_price</th>\n",
       "    </tr>\n",
       "    <tr>\n",
       "      <th>Date</th>\n",
       "      <th></th>\n",
       "      <th></th>\n",
       "    </tr>\n",
       "  </thead>\n",
       "  <tbody>\n",
       "    <tr>\n",
       "      <th>2017-08-15</th>\n",
       "      <td>171.00</td>\n",
       "      <td>NaN</td>\n",
       "    </tr>\n",
       "    <tr>\n",
       "      <th>2017-08-16</th>\n",
       "      <td>170.00</td>\n",
       "      <td>171.00</td>\n",
       "    </tr>\n",
       "    <tr>\n",
       "      <th>2017-08-17</th>\n",
       "      <td>166.91</td>\n",
       "      <td>170.00</td>\n",
       "    </tr>\n",
       "    <tr>\n",
       "      <th>2017-08-18</th>\n",
       "      <td>167.41</td>\n",
       "      <td>166.91</td>\n",
       "    </tr>\n",
       "    <tr>\n",
       "      <th>2017-08-21</th>\n",
       "      <td>167.78</td>\n",
       "      <td>167.41</td>\n",
       "    </tr>\n",
       "    <tr>\n",
       "      <th>2017-08-22</th>\n",
       "      <td>169.64</td>\n",
       "      <td>167.78</td>\n",
       "    </tr>\n",
       "    <tr>\n",
       "      <th>2017-08-23</th>\n",
       "      <td>168.71</td>\n",
       "      <td>169.64</td>\n",
       "    </tr>\n",
       "    <tr>\n",
       "      <th>2017-08-24</th>\n",
       "      <td>167.74</td>\n",
       "      <td>168.71</td>\n",
       "    </tr>\n",
       "    <tr>\n",
       "      <th>2017-08-25</th>\n",
       "      <td>166.32</td>\n",
       "      <td>167.74</td>\n",
       "    </tr>\n",
       "    <tr>\n",
       "      <th>2017-08-28</th>\n",
       "      <td>167.24</td>\n",
       "      <td>166.32</td>\n",
       "    </tr>\n",
       "  </tbody>\n",
       "</table>\n",
       "</div>"
      ],
      "text/plain": [
       "             Price  Previous_price\n",
       "Date                              \n",
       "2017-08-15  171.00             NaN\n",
       "2017-08-16  170.00          171.00\n",
       "2017-08-17  166.91          170.00\n",
       "2017-08-18  167.41          166.91\n",
       "2017-08-21  167.78          167.41\n",
       "2017-08-22  169.64          167.78\n",
       "2017-08-23  168.71          169.64\n",
       "2017-08-24  167.74          168.71\n",
       "2017-08-25  166.32          167.74\n",
       "2017-08-28  167.24          166.32"
      ]
     },
     "execution_count": 205,
     "metadata": {},
     "output_type": "execute_result"
    }
   ],
   "source": [
    "df3['Previous_price'] = df3['Price'].shift(1)\n",
    "df3"
   ]
  },
  {
   "cell_type": "code",
   "execution_count": 207,
   "metadata": {},
   "outputs": [
    {
     "data": {
      "text/html": [
       "<div>\n",
       "<style scoped>\n",
       "    .dataframe tbody tr th:only-of-type {\n",
       "        vertical-align: middle;\n",
       "    }\n",
       "\n",
       "    .dataframe tbody tr th {\n",
       "        vertical-align: top;\n",
       "    }\n",
       "\n",
       "    .dataframe thead th {\n",
       "        text-align: right;\n",
       "    }\n",
       "</style>\n",
       "<table border=\"1\" class=\"dataframe\">\n",
       "  <thead>\n",
       "    <tr style=\"text-align: right;\">\n",
       "      <th></th>\n",
       "      <th>Price</th>\n",
       "      <th>Previous_price</th>\n",
       "      <th>5 day % return</th>\n",
       "    </tr>\n",
       "    <tr>\n",
       "      <th>Date</th>\n",
       "      <th></th>\n",
       "      <th></th>\n",
       "      <th></th>\n",
       "    </tr>\n",
       "  </thead>\n",
       "  <tbody>\n",
       "    <tr>\n",
       "      <th>2017-08-15</th>\n",
       "      <td>171.00</td>\n",
       "      <td>NaN</td>\n",
       "      <td>NaN</td>\n",
       "    </tr>\n",
       "    <tr>\n",
       "      <th>2017-08-16</th>\n",
       "      <td>170.00</td>\n",
       "      <td>171.00</td>\n",
       "      <td>NaN</td>\n",
       "    </tr>\n",
       "    <tr>\n",
       "      <th>2017-08-17</th>\n",
       "      <td>166.91</td>\n",
       "      <td>170.00</td>\n",
       "      <td>NaN</td>\n",
       "    </tr>\n",
       "    <tr>\n",
       "      <th>2017-08-18</th>\n",
       "      <td>167.41</td>\n",
       "      <td>166.91</td>\n",
       "      <td>NaN</td>\n",
       "    </tr>\n",
       "    <tr>\n",
       "      <th>2017-08-21</th>\n",
       "      <td>167.78</td>\n",
       "      <td>167.41</td>\n",
       "      <td>NaN</td>\n",
       "    </tr>\n",
       "    <tr>\n",
       "      <th>2017-08-22</th>\n",
       "      <td>169.64</td>\n",
       "      <td>167.78</td>\n",
       "      <td>-0.795322</td>\n",
       "    </tr>\n",
       "    <tr>\n",
       "      <th>2017-08-23</th>\n",
       "      <td>168.71</td>\n",
       "      <td>169.64</td>\n",
       "      <td>-0.758824</td>\n",
       "    </tr>\n",
       "    <tr>\n",
       "      <th>2017-08-24</th>\n",
       "      <td>167.74</td>\n",
       "      <td>168.71</td>\n",
       "      <td>0.497274</td>\n",
       "    </tr>\n",
       "    <tr>\n",
       "      <th>2017-08-25</th>\n",
       "      <td>166.32</td>\n",
       "      <td>167.74</td>\n",
       "      <td>-0.651096</td>\n",
       "    </tr>\n",
       "    <tr>\n",
       "      <th>2017-08-28</th>\n",
       "      <td>167.24</td>\n",
       "      <td>166.32</td>\n",
       "      <td>-0.321850</td>\n",
       "    </tr>\n",
       "  </tbody>\n",
       "</table>\n",
       "</div>"
      ],
      "text/plain": [
       "             Price  Previous_price  5 day % return\n",
       "Date                                              \n",
       "2017-08-15  171.00             NaN             NaN\n",
       "2017-08-16  170.00          171.00             NaN\n",
       "2017-08-17  166.91          170.00             NaN\n",
       "2017-08-18  167.41          166.91             NaN\n",
       "2017-08-21  167.78          167.41             NaN\n",
       "2017-08-22  169.64          167.78       -0.795322\n",
       "2017-08-23  168.71          169.64       -0.758824\n",
       "2017-08-24  167.74          168.71        0.497274\n",
       "2017-08-25  166.32          167.74       -0.651096\n",
       "2017-08-28  167.24          166.32       -0.321850"
      ]
     },
     "execution_count": 207,
     "metadata": {},
     "output_type": "execute_result"
    }
   ],
   "source": [
    "df3['5 day % return'] = ((df3['Price'] - df3['Price'].shift(5))*100)/df3['Price'].shift(5)\n",
    "df3"
   ]
  },
  {
   "cell_type": "code",
   "execution_count": 208,
   "metadata": {},
   "outputs": [],
   "source": [
    "df3 = df3['Price']"
   ]
  },
  {
   "cell_type": "code",
   "execution_count": 209,
   "metadata": {},
   "outputs": [],
   "source": [
    "# Shifting dates require frequency of date time stamp ( eg - B, M, H)"
   ]
  },
  {
   "cell_type": "code",
   "execution_count": 212,
   "metadata": {},
   "outputs": [
    {
     "data": {
      "text/plain": [
       "DatetimeIndex(['2017-08-15', '2017-08-16', '2017-08-17', '2017-08-18',\n",
       "               '2017-08-21', '2017-08-22', '2017-08-23', '2017-08-24',\n",
       "               '2017-08-25', '2017-08-28'],\n",
       "              dtype='datetime64[ns]', name='Date', freq=None)"
      ]
     },
     "execution_count": 212,
     "metadata": {},
     "output_type": "execute_result"
    }
   ],
   "source": [
    "df3.index"
   ]
  },
  {
   "cell_type": "code",
   "execution_count": 213,
   "metadata": {},
   "outputs": [
    {
     "data": {
      "text/plain": [
       "DatetimeIndex(['2017-08-15', '2017-08-16', '2017-08-17', '2017-08-18',\n",
       "               '2017-08-21', '2017-08-22', '2017-08-23', '2017-08-24',\n",
       "               '2017-08-25', '2017-08-28'],\n",
       "              dtype='datetime64[ns]', freq='B')"
      ]
     },
     "execution_count": 213,
     "metadata": {},
     "output_type": "execute_result"
    }
   ],
   "source": [
    "df3.index = pd.date_range(start = '2017-08-15', periods = 10, freq = 'B')\n",
    "df3.index"
   ]
  },
  {
   "cell_type": "code",
   "execution_count": 217,
   "metadata": {},
   "outputs": [
    {
     "data": {
      "text/plain": [
       "2017-08-16    171.00\n",
       "2017-08-17    170.00\n",
       "2017-08-18    166.91\n",
       "2017-08-21    167.41\n",
       "2017-08-22    167.78\n",
       "2017-08-23    169.64\n",
       "2017-08-24    168.71\n",
       "2017-08-25    167.74\n",
       "2017-08-28    166.32\n",
       "2017-08-29    167.24\n",
       "Freq: B, Name: Price, dtype: float64"
      ]
     },
     "execution_count": 217,
     "metadata": {},
     "output_type": "execute_result"
    }
   ],
   "source": [
    "df4 = df3.tshift(1)\n",
    "df4"
   ]
  },
  {
   "cell_type": "code",
   "execution_count": 218,
   "metadata": {},
   "outputs": [
    {
     "data": {
      "text/plain": [
       "2017-08-15    171.00\n",
       "2017-08-16    170.00\n",
       "2017-08-17    166.91\n",
       "2017-08-18    167.41\n",
       "2017-08-21    167.78\n",
       "2017-08-22    169.64\n",
       "2017-08-23    168.71\n",
       "2017-08-24    167.74\n",
       "2017-08-25    166.32\n",
       "2017-08-28    167.24\n",
       "Freq: B, Name: Price, dtype: float64"
      ]
     },
     "execution_count": 218,
     "metadata": {},
     "output_type": "execute_result"
    }
   ],
   "source": [
    "df3"
   ]
  },
  {
   "cell_type": "code",
   "execution_count": 220,
   "metadata": {},
   "outputs": [
    {
     "data": {
      "text/plain": [
       "2017-08-14    171.00\n",
       "2017-08-15    170.00\n",
       "2017-08-16    166.91\n",
       "2017-08-17    167.41\n",
       "2017-08-18    167.78\n",
       "2017-08-21    169.64\n",
       "2017-08-22    168.71\n",
       "2017-08-23    167.74\n",
       "2017-08-24    166.32\n",
       "2017-08-25    167.24\n",
       "Freq: B, Name: Price, dtype: float64"
      ]
     },
     "execution_count": 220,
     "metadata": {},
     "output_type": "execute_result"
    }
   ],
   "source": [
    "df5 = df3.tshift(-1)\n",
    "df5"
   ]
  },
  {
   "cell_type": "code",
   "execution_count": 8,
   "metadata": {},
   "outputs": [
    {
     "data": {
      "text/plain": [
       "2020-01-01 00:00:00    0\n",
       "2020-01-01 01:00:00    1\n",
       "2020-01-01 02:00:00    2\n",
       "2020-01-01 03:00:00    3\n",
       "2020-01-01 04:00:00    4\n",
       "2020-01-01 05:00:00    5\n",
       "2020-01-01 06:00:00    6\n",
       "2020-01-01 07:00:00    7\n",
       "2020-01-01 08:00:00    8\n",
       "2020-01-01 09:00:00    9\n",
       "Freq: H, dtype: int64"
      ]
     },
     "execution_count": 8,
     "metadata": {},
     "output_type": "execute_result"
    }
   ],
   "source": [
    "import pandas as pd\n",
    "import numpy as np\n",
    "dt = pd.date_range(start = '01/01/2020',periods = 10, freq = 'H')\n",
    "s = pd.Series(range(0,len(dt)),dt)\n",
    "s"
   ]
  },
  {
   "cell_type": "code",
   "execution_count": 10,
   "metadata": {},
   "outputs": [
    {
     "data": {
      "text/plain": [
       "2020-01-01 02:00:00    0.5\n",
       "2020-01-01 04:00:00    2.5\n",
       "2020-01-01 06:00:00    4.5\n",
       "2020-01-01 08:00:00    6.5\n",
       "2020-01-01 10:00:00    8.5\n",
       "Freq: 2H, dtype: float64"
      ]
     },
     "execution_count": 10,
     "metadata": {},
     "output_type": "execute_result"
    }
   ],
   "source": [
    "c1 = s.resample('2H', label = 'right').mean()\n",
    "c1"
   ]
  },
  {
   "cell_type": "code",
   "execution_count": 18,
   "metadata": {},
   "outputs": [
    {
     "data": {
      "text/plain": [
       "2020-01-01 00:45:00    0.0\n",
       "2020-01-01 01:30:00    1.0\n",
       "2020-01-01 02:15:00    2.0\n",
       "2020-01-01 03:00:00    NaN\n",
       "2020-01-01 03:45:00    3.0\n",
       "2020-01-01 04:30:00    4.0\n",
       "2020-01-01 05:15:00    5.0\n",
       "2020-01-01 06:00:00    NaN\n",
       "2020-01-01 06:45:00    6.0\n",
       "2020-01-01 07:30:00    7.0\n",
       "2020-01-01 08:15:00    8.0\n",
       "2020-01-01 09:00:00    NaN\n",
       "2020-01-01 09:45:00    9.0\n",
       "Freq: 45T, dtype: float64"
      ]
     },
     "execution_count": 18,
     "metadata": {},
     "output_type": "execute_result"
    }
   ],
   "source": [
    "c2 = s.resample('45min', label = 'right').mean()\n",
    "c2"
   ]
  },
  {
   "cell_type": "code",
   "execution_count": 21,
   "metadata": {},
   "outputs": [
    {
     "data": {
      "text/plain": [
       "2020-01-01 00:00:00    0\n",
       "2020-01-01 00:45:00    0\n",
       "2020-01-01 01:30:00    1\n",
       "2020-01-01 02:15:00    2\n",
       "2020-01-01 03:00:00    3\n",
       "2020-01-01 03:45:00    3\n",
       "2020-01-01 04:30:00    4\n",
       "2020-01-01 05:15:00    5\n",
       "2020-01-01 06:00:00    6\n",
       "2020-01-01 06:45:00    6\n",
       "2020-01-01 07:30:00    7\n",
       "2020-01-01 08:15:00    8\n",
       "2020-01-01 09:00:00    9\n",
       "Freq: 45T, dtype: int64"
      ]
     },
     "execution_count": 21,
     "metadata": {},
     "output_type": "execute_result"
    }
   ],
   "source": [
    "c3 = s.asfreq('45min', method = 'ffill') # Resonates new frequency to old and gives values that are next\n",
    "c3"
   ]
  },
  {
   "cell_type": "code",
   "execution_count": 22,
   "metadata": {},
   "outputs": [
    {
     "data": {
      "text/plain": [
       "2020-01-01 00:00:00    0\n",
       "2020-01-01 00:45:00    1\n",
       "2020-01-01 01:30:00    2\n",
       "2020-01-01 02:15:00    3\n",
       "2020-01-01 03:00:00    3\n",
       "2020-01-01 03:45:00    4\n",
       "2020-01-01 04:30:00    5\n",
       "2020-01-01 05:15:00    6\n",
       "2020-01-01 06:00:00    6\n",
       "2020-01-01 06:45:00    7\n",
       "2020-01-01 07:30:00    8\n",
       "2020-01-01 08:15:00    9\n",
       "2020-01-01 09:00:00    9\n",
       "Freq: 45T, dtype: int64"
      ]
     },
     "execution_count": 22,
     "metadata": {},
     "output_type": "execute_result"
    }
   ],
   "source": [
    "c4 = s.asfreq('45min', method = 'bfill')\n",
    "c4"
   ]
  },
  {
   "cell_type": "code",
   "execution_count": 38,
   "metadata": {},
   "outputs": [
    {
     "data": {
      "text/plain": [
       "2020-01-01 00:00:00     0\n",
       "2020-01-01 05:00:00     1\n",
       "2020-01-01 10:00:00     2\n",
       "2020-01-01 15:00:00     3\n",
       "2020-01-01 20:00:00     4\n",
       "2020-01-02 01:00:00     5\n",
       "2020-01-02 06:00:00     6\n",
       "2020-01-02 11:00:00     7\n",
       "2020-01-02 16:00:00     8\n",
       "2020-01-02 21:00:00     9\n",
       "2020-01-03 02:00:00    10\n",
       "2020-01-03 07:00:00    11\n",
       "2020-01-03 12:00:00    12\n",
       "2020-01-03 17:00:00    13\n",
       "2020-01-03 22:00:00    14\n",
       "Freq: 5H, dtype: int64"
      ]
     },
     "execution_count": 38,
     "metadata": {},
     "output_type": "execute_result"
    }
   ],
   "source": [
    "dtn = pd.date_range('01/01/2020',periods = 15, freq = '5H')\n",
    "s = pd.Series(range(0,len(dtn)),dtn)\n",
    "s"
   ]
  },
  {
   "cell_type": "code",
   "execution_count": 40,
   "metadata": {},
   "outputs": [
    {
     "data": {
      "text/plain": [
       "2020-01-01 00:00:00     0.0\n",
       "2020-01-01 00:45:00     0.0\n",
       "2020-01-01 01:30:00     0.0\n",
       "2020-01-01 02:15:00     0.0\n",
       "2020-01-01 03:00:00     0.0\n",
       "2020-01-01 03:45:00     0.0\n",
       "2020-01-01 04:30:00     NaN\n",
       "2020-01-01 05:15:00     NaN\n",
       "2020-01-01 06:00:00     NaN\n",
       "2020-01-01 06:45:00     NaN\n",
       "2020-01-01 07:30:00     NaN\n",
       "2020-01-01 08:15:00     NaN\n",
       "2020-01-01 09:00:00     NaN\n",
       "2020-01-01 09:45:00     NaN\n",
       "2020-01-01 10:30:00     NaN\n",
       "2020-01-01 11:15:00     NaN\n",
       "2020-01-01 12:00:00     NaN\n",
       "2020-01-01 12:45:00     NaN\n",
       "2020-01-01 13:30:00     NaN\n",
       "2020-01-01 14:15:00     NaN\n",
       "2020-01-01 15:00:00     3.0\n",
       "2020-01-01 15:45:00     3.0\n",
       "2020-01-01 16:30:00     3.0\n",
       "2020-01-01 17:15:00     3.0\n",
       "2020-01-01 18:00:00     3.0\n",
       "2020-01-01 18:45:00     3.0\n",
       "2020-01-01 19:30:00     NaN\n",
       "2020-01-01 20:15:00     NaN\n",
       "2020-01-01 21:00:00     NaN\n",
       "2020-01-01 21:45:00     NaN\n",
       "                       ... \n",
       "2020-01-03 00:00:00     9.0\n",
       "2020-01-03 00:45:00     9.0\n",
       "2020-01-03 01:30:00     NaN\n",
       "2020-01-03 02:15:00     NaN\n",
       "2020-01-03 03:00:00     NaN\n",
       "2020-01-03 03:45:00     NaN\n",
       "2020-01-03 04:30:00     NaN\n",
       "2020-01-03 05:15:00     NaN\n",
       "2020-01-03 06:00:00     NaN\n",
       "2020-01-03 06:45:00     NaN\n",
       "2020-01-03 07:30:00     NaN\n",
       "2020-01-03 08:15:00     NaN\n",
       "2020-01-03 09:00:00     NaN\n",
       "2020-01-03 09:45:00     NaN\n",
       "2020-01-03 10:30:00     NaN\n",
       "2020-01-03 11:15:00     NaN\n",
       "2020-01-03 12:00:00    12.0\n",
       "2020-01-03 12:45:00    12.0\n",
       "2020-01-03 13:30:00    12.0\n",
       "2020-01-03 14:15:00    12.0\n",
       "2020-01-03 15:00:00    12.0\n",
       "2020-01-03 15:45:00    12.0\n",
       "2020-01-03 16:30:00     NaN\n",
       "2020-01-03 17:15:00     NaN\n",
       "2020-01-03 18:00:00     NaN\n",
       "2020-01-03 18:45:00     NaN\n",
       "2020-01-03 19:30:00     NaN\n",
       "2020-01-03 20:15:00     NaN\n",
       "2020-01-03 21:00:00     NaN\n",
       "2020-01-03 21:45:00     NaN\n",
       "Freq: 45T, Length: 94, dtype: float64"
      ]
     },
     "execution_count": 40,
     "metadata": {},
     "output_type": "execute_result"
    }
   ],
   "source": [
    "nc = s.asfreq('45min', method = None).fillna(method = 'ffill', limit = 5)\n",
    "nc \n",
    "# makes higher frequency and fill nan values upto 5 data points by 'ffill' near the matched frequency point"
   ]
  },
  {
   "cell_type": "code",
   "execution_count": 54,
   "metadata": {},
   "outputs": [],
   "source": [
    "import matplotlib.pyplot as plt\n",
    "%matplotlib inline"
   ]
  },
  {
   "cell_type": "code",
   "execution_count": 42,
   "metadata": {},
   "outputs": [
    {
     "data": {
      "text/html": [
       "<div>\n",
       "<style scoped>\n",
       "    .dataframe tbody tr th:only-of-type {\n",
       "        vertical-align: middle;\n",
       "    }\n",
       "\n",
       "    .dataframe tbody tr th {\n",
       "        vertical-align: top;\n",
       "    }\n",
       "\n",
       "    .dataframe thead th {\n",
       "        text-align: right;\n",
       "    }\n",
       "</style>\n",
       "<table border=\"1\" class=\"dataframe\">\n",
       "  <thead>\n",
       "    <tr style=\"text-align: right;\">\n",
       "      <th></th>\n",
       "      <th>0</th>\n",
       "      <th>1</th>\n",
       "      <th>2</th>\n",
       "    </tr>\n",
       "  </thead>\n",
       "  <tbody>\n",
       "    <tr>\n",
       "      <th>2020-01-20</th>\n",
       "      <td>-0.303216</td>\n",
       "      <td>-0.334597</td>\n",
       "      <td>1.148176</td>\n",
       "    </tr>\n",
       "    <tr>\n",
       "      <th>2020-01-21</th>\n",
       "      <td>0.827441</td>\n",
       "      <td>0.708800</td>\n",
       "      <td>-1.108938</td>\n",
       "    </tr>\n",
       "    <tr>\n",
       "      <th>2020-01-22</th>\n",
       "      <td>-1.977163</td>\n",
       "      <td>0.200975</td>\n",
       "      <td>2.187257</td>\n",
       "    </tr>\n",
       "    <tr>\n",
       "      <th>2020-01-23</th>\n",
       "      <td>0.883304</td>\n",
       "      <td>-0.456301</td>\n",
       "      <td>-0.796704</td>\n",
       "    </tr>\n",
       "    <tr>\n",
       "      <th>2020-01-24</th>\n",
       "      <td>0.794930</td>\n",
       "      <td>0.529708</td>\n",
       "      <td>0.049687</td>\n",
       "    </tr>\n",
       "  </tbody>\n",
       "</table>\n",
       "</div>"
      ],
      "text/plain": [
       "                   0         1         2\n",
       "2020-01-20 -0.303216 -0.334597  1.148176\n",
       "2020-01-21  0.827441  0.708800 -1.108938\n",
       "2020-01-22 -1.977163  0.200975  2.187257\n",
       "2020-01-23  0.883304 -0.456301 -0.796704\n",
       "2020-01-24  0.794930  0.529708  0.049687"
      ]
     },
     "execution_count": 42,
     "metadata": {},
     "output_type": "execute_result"
    }
   ],
   "source": [
    "data_frame = pd.DataFrame(np.random.randn(100,3), index = pd.date_range(start = '20/01/2020', freq = 'D',\n",
    "                                                                       periods = 100))\n",
    "data_frame.head()"
   ]
  },
  {
   "cell_type": "code",
   "execution_count": 47,
   "metadata": {},
   "outputs": [],
   "source": [
    "data_frame.columns = ['A','B','C']"
   ]
  },
  {
   "cell_type": "code",
   "execution_count": 48,
   "metadata": {},
   "outputs": [
    {
     "data": {
      "text/html": [
       "<div>\n",
       "<style scoped>\n",
       "    .dataframe tbody tr th:only-of-type {\n",
       "        vertical-align: middle;\n",
       "    }\n",
       "\n",
       "    .dataframe tbody tr th {\n",
       "        vertical-align: top;\n",
       "    }\n",
       "\n",
       "    .dataframe thead th {\n",
       "        text-align: right;\n",
       "    }\n",
       "</style>\n",
       "<table border=\"1\" class=\"dataframe\">\n",
       "  <thead>\n",
       "    <tr style=\"text-align: right;\">\n",
       "      <th></th>\n",
       "      <th>A</th>\n",
       "      <th>B</th>\n",
       "      <th>C</th>\n",
       "    </tr>\n",
       "  </thead>\n",
       "  <tbody>\n",
       "    <tr>\n",
       "      <th>2020-04-24</th>\n",
       "      <td>1.287228</td>\n",
       "      <td>-0.658683</td>\n",
       "      <td>-1.418434</td>\n",
       "    </tr>\n",
       "    <tr>\n",
       "      <th>2020-04-25</th>\n",
       "      <td>-0.143052</td>\n",
       "      <td>-0.416263</td>\n",
       "      <td>-0.234114</td>\n",
       "    </tr>\n",
       "    <tr>\n",
       "      <th>2020-04-26</th>\n",
       "      <td>-0.889986</td>\n",
       "      <td>-0.830329</td>\n",
       "      <td>1.098442</td>\n",
       "    </tr>\n",
       "    <tr>\n",
       "      <th>2020-04-27</th>\n",
       "      <td>0.840833</td>\n",
       "      <td>-0.940754</td>\n",
       "      <td>-1.756658</td>\n",
       "    </tr>\n",
       "    <tr>\n",
       "      <th>2020-04-28</th>\n",
       "      <td>-0.857068</td>\n",
       "      <td>-0.025921</td>\n",
       "      <td>0.733691</td>\n",
       "    </tr>\n",
       "  </tbody>\n",
       "</table>\n",
       "</div>"
      ],
      "text/plain": [
       "                   A         B         C\n",
       "2020-04-24  1.287228 -0.658683 -1.418434\n",
       "2020-04-25 -0.143052 -0.416263 -0.234114\n",
       "2020-04-26 -0.889986 -0.830329  1.098442\n",
       "2020-04-27  0.840833 -0.940754 -1.756658\n",
       "2020-04-28 -0.857068 -0.025921  0.733691"
      ]
     },
     "execution_count": 48,
     "metadata": {},
     "output_type": "execute_result"
    }
   ],
   "source": [
    "data_frame.tail()"
   ]
  },
  {
   "cell_type": "code",
   "execution_count": 49,
   "metadata": {},
   "outputs": [
    {
     "data": {
      "text/plain": [
       "Rolling [window=10,center=False,axis=0]"
      ]
     },
     "execution_count": 49,
     "metadata": {},
     "output_type": "execute_result"
    }
   ],
   "source": [
    "r = data_frame.rolling(window = 10)\n",
    "r"
   ]
  },
  {
   "cell_type": "code",
   "execution_count": 60,
   "metadata": {},
   "outputs": [
    {
     "data": {
      "text/plain": [
       "[<matplotlib.lines.Line2D at 0x1da24ec0c50>]"
      ]
     },
     "execution_count": 60,
     "metadata": {},
     "output_type": "execute_result"
    },
    {
     "data": {
      "image/png": "[encoded data removed]",
      "text/plain": [
       "<Figure size 432x288 with 1 Axes>"
      ]
     },
     "metadata": {
      "needs_background": "light"
     },
     "output_type": "display_data"
    }
   ],
   "source": [
    "plt.plot(data_frame['A'], color = 'red')\n",
    "plt.plot(r.mean()['A'], color = 'green')"
   ]
  },
  {
   "cell_type": "code",
   "execution_count": 56,
   "metadata": {},
   "outputs": [
    {
     "data": {
      "text/plain": [
       "[<matplotlib.lines.Line2D at 0x1da23b9af60>]"
      ]
     },
     "execution_count": 56,
     "metadata": {},
     "output_type": "execute_result"
    },
    {
     "data": {
      "image/png": "[encoded data removed]",
      "text/plain": [
       "<Figure size 432x288 with 1 Axes>"
      ]
     },
     "metadata": {
      "needs_background": "light"
     },
     "output_type": "display_data"
    }
   ],
   "source": [
    "plt.plot(data_frame['A'], color = 'red')\n",
    "plt.plot(r.min()['A'], color = 'green')"
   ]
  },
  {
   "cell_type": "code",
   "execution_count": 70,
   "metadata": {},
   "outputs": [
    {
     "data": {
      "text/plain": [
       "[<matplotlib.lines.Line2D at 0x1da23ca2e10>]"
      ]
     },
     "execution_count": 70,
     "metadata": {},
     "output_type": "execute_result"
    },
    {
     "data": {
      "image/png": "[encoded data removed]",
      "text/plain": [
       "<Figure size 432x288 with 1 Axes>"
      ]
     },
     "metadata": {
      "needs_background": "light"
     },
     "output_type": "display_data"
    }
   ],
   "source": [
    "plt.plot(data_frame['A'], color = 'red')\n",
    "plt.plot(r.quantile(.50)['A'], color = 'green')"
   ]
  },
  {
   "cell_type": "code",
   "execution_count": 78,
   "metadata": {},
   "outputs": [
    {
     "name": "stderr",
     "output_type": "stream",
     "text": [
      "C:\\Users\\sameer\\Anaconda3\\lib\\site-packages\\ipykernel_launcher.py:2: FutureWarning: Currently, 'apply' passes the values as ndarrays to the applied function. In the future, this will change to passing it as Series objects. You need to specify 'raw=True' to keep the current behaviour, and you can pass 'raw=False' to silence this warning\n",
      "  \n"
     ]
    },
    {
     "data": {
      "text/html": [
       "<div>\n",
       "<style scoped>\n",
       "    .dataframe tbody tr th:only-of-type {\n",
       "        vertical-align: middle;\n",
       "    }\n",
       "\n",
       "    .dataframe tbody tr th {\n",
       "        vertical-align: top;\n",
       "    }\n",
       "\n",
       "    .dataframe thead th {\n",
       "        text-align: right;\n",
       "    }\n",
       "</style>\n",
       "<table border=\"1\" class=\"dataframe\">\n",
       "  <thead>\n",
       "    <tr style=\"text-align: right;\">\n",
       "      <th></th>\n",
       "      <th>A</th>\n",
       "      <th>B</th>\n",
       "      <th>C</th>\n",
       "    </tr>\n",
       "  </thead>\n",
       "  <tbody>\n",
       "    <tr>\n",
       "      <th>2020-01-20</th>\n",
       "      <td>NaN</td>\n",
       "      <td>NaN</td>\n",
       "      <td>NaN</td>\n",
       "    </tr>\n",
       "    <tr>\n",
       "      <th>2020-01-21</th>\n",
       "      <td>NaN</td>\n",
       "      <td>NaN</td>\n",
       "      <td>NaN</td>\n",
       "    </tr>\n",
       "    <tr>\n",
       "      <th>2020-01-22</th>\n",
       "      <td>NaN</td>\n",
       "      <td>NaN</td>\n",
       "      <td>NaN</td>\n",
       "    </tr>\n",
       "    <tr>\n",
       "      <th>2020-01-23</th>\n",
       "      <td>NaN</td>\n",
       "      <td>NaN</td>\n",
       "      <td>NaN</td>\n",
       "    </tr>\n",
       "    <tr>\n",
       "      <th>2020-01-24</th>\n",
       "      <td>NaN</td>\n",
       "      <td>NaN</td>\n",
       "      <td>NaN</td>\n",
       "    </tr>\n",
       "    <tr>\n",
       "      <th>2020-01-25</th>\n",
       "      <td>NaN</td>\n",
       "      <td>NaN</td>\n",
       "      <td>NaN</td>\n",
       "    </tr>\n",
       "    <tr>\n",
       "      <th>2020-01-26</th>\n",
       "      <td>NaN</td>\n",
       "      <td>NaN</td>\n",
       "      <td>NaN</td>\n",
       "    </tr>\n",
       "    <tr>\n",
       "      <th>2020-01-27</th>\n",
       "      <td>NaN</td>\n",
       "      <td>NaN</td>\n",
       "      <td>NaN</td>\n",
       "    </tr>\n",
       "    <tr>\n",
       "      <th>2020-01-28</th>\n",
       "      <td>NaN</td>\n",
       "      <td>NaN</td>\n",
       "      <td>NaN</td>\n",
       "    </tr>\n",
       "    <tr>\n",
       "      <th>2020-01-29</th>\n",
       "      <td>2.199759</td>\n",
       "      <td>0.100819</td>\n",
       "      <td>0.171210</td>\n",
       "    </tr>\n",
       "    <tr>\n",
       "      <th>2020-01-30</th>\n",
       "      <td>0.223854</td>\n",
       "      <td>0.044753</td>\n",
       "      <td>-4.771863</td>\n",
       "    </tr>\n",
       "    <tr>\n",
       "      <th>2020-01-31</th>\n",
       "      <td>-1.688327</td>\n",
       "      <td>-1.039367</td>\n",
       "      <td>-0.227865</td>\n",
       "    </tr>\n",
       "    <tr>\n",
       "      <th>2020-02-01</th>\n",
       "      <td>0.742260</td>\n",
       "      <td>0.951396</td>\n",
       "      <td>-0.805916</td>\n",
       "    </tr>\n",
       "    <tr>\n",
       "      <th>2020-02-02</th>\n",
       "      <td>0.433636</td>\n",
       "      <td>1.058917</td>\n",
       "      <td>-4.973443</td>\n",
       "    </tr>\n",
       "    <tr>\n",
       "      <th>2020-02-03</th>\n",
       "      <td>2.279167</td>\n",
       "      <td>2.351547</td>\n",
       "      <td>2.267778</td>\n",
       "    </tr>\n",
       "  </tbody>\n",
       "</table>\n",
       "</div>"
      ],
      "text/plain": [
       "                   A         B         C\n",
       "2020-01-20       NaN       NaN       NaN\n",
       "2020-01-21       NaN       NaN       NaN\n",
       "2020-01-22       NaN       NaN       NaN\n",
       "2020-01-23       NaN       NaN       NaN\n",
       "2020-01-24       NaN       NaN       NaN\n",
       "2020-01-25       NaN       NaN       NaN\n",
       "2020-01-26       NaN       NaN       NaN\n",
       "2020-01-27       NaN       NaN       NaN\n",
       "2020-01-28       NaN       NaN       NaN\n",
       "2020-01-29  2.199759  0.100819  0.171210\n",
       "2020-01-30  0.223854  0.044753 -4.771863\n",
       "2020-01-31 -1.688327 -1.039367 -0.227865\n",
       "2020-02-01  0.742260  0.951396 -0.805916\n",
       "2020-02-02  0.433636  1.058917 -4.973443\n",
       "2020-02-03  2.279167  2.351547  2.267778"
      ]
     },
     "execution_count": 78,
     "metadata": {},
     "output_type": "execute_result"
    }
   ],
   "source": [
    "# Custom rolling function\n",
    "new_Data = data_frame.rolling(window = 10, center = False).apply(lambda x: (x[1]+x[2]+x[3])/(x[5]+x[6]+x[9]))\n",
    "new_Data.head(15)"
   ]
  },
  {
   "cell_type": "code",
   "execution_count": 79,
   "metadata": {},
   "outputs": [
    {
     "data": {
      "text/html": [
       "<div>\n",
       "<style scoped>\n",
       "    .dataframe tbody tr th:only-of-type {\n",
       "        vertical-align: middle;\n",
       "    }\n",
       "\n",
       "    .dataframe tbody tr th {\n",
       "        vertical-align: top;\n",
       "    }\n",
       "\n",
       "    .dataframe thead th {\n",
       "        text-align: right;\n",
       "    }\n",
       "</style>\n",
       "<table border=\"1\" class=\"dataframe\">\n",
       "  <thead>\n",
       "    <tr style=\"text-align: right;\">\n",
       "      <th></th>\n",
       "      <th>A</th>\n",
       "      <th>B</th>\n",
       "      <th>C</th>\n",
       "    </tr>\n",
       "  </thead>\n",
       "  <tbody>\n",
       "    <tr>\n",
       "      <th>2020-01-20</th>\n",
       "      <td>-0.303216</td>\n",
       "      <td>-0.334597</td>\n",
       "      <td>1.148176</td>\n",
       "    </tr>\n",
       "    <tr>\n",
       "      <th>2020-01-21</th>\n",
       "      <td>0.827441</td>\n",
       "      <td>0.708800</td>\n",
       "      <td>-1.108938</td>\n",
       "    </tr>\n",
       "    <tr>\n",
       "      <th>2020-01-22</th>\n",
       "      <td>-1.977163</td>\n",
       "      <td>0.200975</td>\n",
       "      <td>2.187257</td>\n",
       "    </tr>\n",
       "    <tr>\n",
       "      <th>2020-01-23</th>\n",
       "      <td>0.883304</td>\n",
       "      <td>-0.456301</td>\n",
       "      <td>-0.796704</td>\n",
       "    </tr>\n",
       "    <tr>\n",
       "      <th>2020-01-24</th>\n",
       "      <td>0.794930</td>\n",
       "      <td>0.529708</td>\n",
       "      <td>0.049687</td>\n",
       "    </tr>\n",
       "    <tr>\n",
       "      <th>2020-01-25</th>\n",
       "      <td>0.005866</td>\n",
       "      <td>-0.418990</td>\n",
       "      <td>1.352757</td>\n",
       "    </tr>\n",
       "    <tr>\n",
       "      <th>2020-01-26</th>\n",
       "      <td>-0.106367</td>\n",
       "      <td>1.841958</td>\n",
       "      <td>0.682128</td>\n",
       "    </tr>\n",
       "    <tr>\n",
       "      <th>2020-01-27</th>\n",
       "      <td>-0.504097</td>\n",
       "      <td>2.703289</td>\n",
       "      <td>-0.382939</td>\n",
       "    </tr>\n",
       "    <tr>\n",
       "      <th>2020-01-28</th>\n",
       "      <td>-0.400696</td>\n",
       "      <td>-1.655662</td>\n",
       "      <td>-1.660206</td>\n",
       "    </tr>\n",
       "    <tr>\n",
       "      <th>2020-01-29</th>\n",
       "      <td>-0.020612</td>\n",
       "      <td>3.074949</td>\n",
       "      <td>-0.390035</td>\n",
       "    </tr>\n",
       "    <tr>\n",
       "      <th>2020-01-30</th>\n",
       "      <td>-0.724913</td>\n",
       "      <td>1.585802</td>\n",
       "      <td>-0.601008</td>\n",
       "    </tr>\n",
       "    <tr>\n",
       "      <th>2020-01-31</th>\n",
       "      <td>-0.092704</td>\n",
       "      <td>-0.715133</td>\n",
       "      <td>-0.615182</td>\n",
       "    </tr>\n",
       "    <tr>\n",
       "      <th>2020-02-01</th>\n",
       "      <td>1.356867</td>\n",
       "      <td>0.633145</td>\n",
       "      <td>-0.536345</td>\n",
       "    </tr>\n",
       "    <tr>\n",
       "      <th>2020-02-02</th>\n",
       "      <td>-0.648728</td>\n",
       "      <td>-0.764077</td>\n",
       "      <td>0.658889</td>\n",
       "    </tr>\n",
       "    <tr>\n",
       "      <th>2020-02-03</th>\n",
       "      <td>0.373963</td>\n",
       "      <td>0.358132</td>\n",
       "      <td>0.616035</td>\n",
       "    </tr>\n",
       "  </tbody>\n",
       "</table>\n",
       "</div>"
      ],
      "text/plain": [
       "                   A         B         C\n",
       "2020-01-20 -0.303216 -0.334597  1.148176\n",
       "2020-01-21  0.827441  0.708800 -1.108938\n",
       "2020-01-22 -1.977163  0.200975  2.187257\n",
       "2020-01-23  0.883304 -0.456301 -0.796704\n",
       "2020-01-24  0.794930  0.529708  0.049687\n",
       "2020-01-25  0.005866 -0.418990  1.352757\n",
       "2020-01-26 -0.106367  1.841958  0.682128\n",
       "2020-01-27 -0.504097  2.703289 -0.382939\n",
       "2020-01-28 -0.400696 -1.655662 -1.660206\n",
       "2020-01-29 -0.020612  3.074949 -0.390035\n",
       "2020-01-30 -0.724913  1.585802 -0.601008\n",
       "2020-01-31 -0.092704 -0.715133 -0.615182\n",
       "2020-02-01  1.356867  0.633145 -0.536345\n",
       "2020-02-02 -0.648728 -0.764077  0.658889\n",
       "2020-02-03  0.373963  0.358132  0.616035"
      ]
     },
     "execution_count": 79,
     "metadata": {},
     "output_type": "execute_result"
    }
   ],
   "source": [
    "data_frame.head(15)"
   ]
  },
  {
   "cell_type": "code",
   "execution_count": 81,
   "metadata": {},
   "outputs": [
    {
     "data": {
      "text/plain": [
       "[<matplotlib.lines.Line2D at 0x1da25ad5da0>]"
      ]
     },
     "execution_count": 81,
     "metadata": {},
     "output_type": "execute_result"
    },
    {
     "data": {
      "image/png": "[encoded data removed]",
      "text/plain": [
       "<Figure size 432x288 with 1 Axes>"
      ]
     },
     "metadata": {
      "needs_background": "light"
     },
     "output_type": "display_data"
    }
   ],
   "source": [
    "plt.plot(data_frame['A'], color = 'red')\n",
    "plt.plot(new_Data['A'], color = 'black')"
   ]
  },
  {
   "cell_type": "code",
   "execution_count": 82,
   "metadata": {},
   "outputs": [],
   "source": [
    "#functions to identify correlationship between data points\n",
    "# Autocorelation function ACF\n",
    "# Different points in time segmented evenly spaced and find a possible structure in it\n",
    "# Partial autocorelation function PACF\n",
    "# Uses a smaller version of autocorelation and does not show repetation of the same structure. If however\n",
    "# another trend is present, we observe that trend with another PAC"
   ]
  },
  {
   "cell_type": "code",
   "execution_count": 83,
   "metadata": {},
   "outputs": [],
   "source": [
    "# Model used for time series analysis\n",
    "# It requires -\n",
    "# Series to be staionary i.e, no trend and no seasonality\n",
    "# Ways to remove them- difference, log transformation, rolling window, linear regression\n",
    "# Test to check stationary\n",
    "# Dickey fuller test"
   ]
  },
  {
   "cell_type": "code",
   "execution_count": 84,
   "metadata": {},
   "outputs": [],
   "source": [
    "# Forecasting through ARIMA models need stationary process (statical units to be constant)\n",
    "# It includes 2 processes-\n",
    "# Moving average process -> x = mean + error terms\n",
    "# X(t) = ERROR(t) + ERROR(t-1)\n",
    "# Auto regressive process-\n",
    "# Value at particular time depends upon value on previous time\n",
    "# X(t) = Function-X(t-1) + Error\n",
    "# ARIMA - Auto Regressive Differencing Moving Average"
   ]
  },
  {
   "cell_type": "code",
   "execution_count": null,
   "metadata": {},
   "outputs": [],
   "source": [
    "# Use PACF for Auto regressive model\n",
    "# Use ACF for moving average model"
   ]
  }
 ],
 "metadata": {
  "kernelspec": {
   "display_name": "Python 3",
   "language": "python",
   "name": "python3"
  },
  "language_info": {
   "codemirror_mode": {
    "name": "ipython",
    "version": 3
   },
   "file_extension": ".py",
   "mimetype": "text/x-python",
   "name": "python",
   "nbconvert_exporter": "python",
   "pygments_lexer": "ipython3",
   "version": "3.7.3"
  }
 },
 "nbformat": 4,
 "nbformat_minor": 2
}

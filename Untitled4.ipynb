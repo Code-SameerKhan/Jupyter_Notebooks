{
 "cells": [
  {
   "cell_type": "code",
   "execution_count": 1,
   "id": "acquired-circuit",
   "metadata": {},
   "outputs": [
    {
     "name": "stdout",
     "output_type": "stream",
     "text": [
      "[1, 2]\n"
     ]
    }
   ],
   "source": [
    "nums = [2,7,11,15]\n",
    "target = 18\n",
    "d = {}\n",
    "for i, n in enumerate(nums):\n",
    "    m = target - n\n",
    "    if m in d:\n",
    "        print([d[m], i])\n",
    "    d[n] = i"
   ]
  },
  {
   "cell_type": "code",
   "execution_count": 2,
   "id": "authentic-recognition",
   "metadata": {},
   "outputs": [],
   "source": [
    "class Node:\n",
    "    def __init__(self, data=None, next=None):\n",
    "        self.data = data\n",
    "        self.next = next\n",
    "class LinkedList:\n",
    "    def __init__(self):\n",
    "        self.head = None\n",
    "    \n",
    "    def print(self):\n",
    "        if self.head is None:\n",
    "            print('Empty Linked List')\n",
    "            return\n",
    "        itr = self.head\n",
    "        llist = ''\n",
    "        while itr:\n",
    "            llist += str(itr.data) + '-->' if itr.next else str(itr.data)\n",
    "            itr = itr.next\n",
    "        print(llist)\n",
    "    \n",
    "    def get_length(self):\n",
    "        count = 0\n",
    "        itr = self.head\n",
    "        while itr:\n",
    "            count += 1\n",
    "            itr = itr.next\n",
    "        return count\n",
    "    \n",
    "    def insert_at_beg(self):\n",
    "        node = Node(data,self.head)\n",
    "        self.head = node\n",
    "        \n",
    "    def insert_at_end(self,data):\n",
    "        if self.head is None:\n",
    "            self.head = Node(data,None)\n",
    "            return\n",
    "        itr = self.head\n",
    "        while itr.next:\n",
    "            itr = itr.next\n",
    "        itr.next = Node(data,None)\n",
    "    \n",
    "    def insert_at(self, index, data):\n",
    "        if index<0 or index>self.get_length():\n",
    "            raise Exception(\"Invalid Index\")\n",
    "\n",
    "        if index==0:\n",
    "            self.insert_at_begining(data)\n",
    "            return\n",
    "\n",
    "        count = 0\n",
    "        itr = self.head\n",
    "        while itr:\n",
    "            if count == index - 1:\n",
    "                node = Node(data, itr.next)\n",
    "                itr.next = node\n",
    "                break\n",
    "\n",
    "            itr = itr.next\n",
    "            count += 1\n",
    "        \n",
    "    def insert_values(self,data_list):\n",
    "        self.head = None\n",
    "        for data in data_list:\n",
    "            self.insert_at_end(data)"
   ]
  },
  {
   "cell_type": "code",
   "execution_count": 3,
   "id": "defensive-relay",
   "metadata": {},
   "outputs": [
    {
     "name": "stdout",
     "output_type": "stream",
     "text": [
      "banana-->mango-->grapes-->orange\n",
      "banana-->blueberry-->mango-->grapes-->orange\n"
     ]
    }
   ],
   "source": [
    "ll = LinkedList()\n",
    "ll.insert_values([\"banana\",\"mango\",\"grapes\",\"orange\"])\n",
    "ll.print()\n",
    "ll.insert_at(1,\"blueberry\")\n",
    "ll.print()"
   ]
  },
  {
   "cell_type": "code",
   "execution_count": 4,
   "id": "honey-behavior",
   "metadata": {},
   "outputs": [],
   "source": [
    "class ListNode:\n",
    "    def __init__(self, val=0, next=None):\n",
    "        self.val = val\n",
    "        self.next = next\n",
    "class Solution:\n",
    "    def mergeTwoLists(self, l1: ListNode, l2: ListNode) -> ListNode:\n",
    "        dummy = temp = ListNode(0)\n",
    "        while l1 != None and l2 != None:\n",
    "            if l1.val < l2.val:\n",
    "                temp.next = l1\n",
    "                l1 = l1.next\n",
    "            else:\n",
    "                temp.next = l2\n",
    "                l2 = l2.next\n",
    "            temp = temp.next\n",
    "        temp.next = l1 or l2\n",
    "        return dummy.next"
   ]
  },
  {
   "cell_type": "code",
   "execution_count": 5,
   "id": "stable-muscle",
   "metadata": {},
   "outputs": [
    {
     "data": {
      "text/plain": [
       "False"
      ]
     },
     "execution_count": 5,
     "metadata": {},
     "output_type": "execute_result"
    }
   ],
   "source": [
    "def validMountainArray(arr):\n",
    "        mid = len(arr)//2\n",
    "        for i in range(0,mid):\n",
    "            if arr[i] >= arr[i+1]:\n",
    "                return False\n",
    "        for i in range(mid,len(arr)+1):\n",
    "            if arr[i] < arr[i+1]:\n",
    "                return False\n",
    "        return True\n",
    "\n",
    "validMountainArray(arr = [0,3,2,1])"
   ]
  },
  {
   "cell_type": "code",
   "execution_count": 6,
   "id": "another-lancaster",
   "metadata": {},
   "outputs": [
    {
     "name": "stdout",
     "output_type": "stream",
     "text": [
      "32.0\n"
     ]
    }
   ],
   "source": [
    "n = [10, 40, 30, 50, 20]\n",
    "m = [1, 2, 3, 4, 5]\n",
    "sum1 = 0\n",
    "for i,j in zip(n,m):\n",
    "    sum1 = sum1 + (i*j)\n",
    "print(round(sum1/sum(m),2))"
   ]
  },
  {
   "cell_type": "code",
   "execution_count": 7,
   "id": "visible-password",
   "metadata": {},
   "outputs": [
    {
     "name": "stdout",
     "output_type": "stream",
     "text": [
      "\n"
     ]
    },
    {
     "ename": "ValueError",
     "evalue": "invalid literal for int() with base 10: ''",
     "output_type": "error",
     "traceback": [
      "\u001b[1;31m---------------------------------------------------------------------------\u001b[0m",
      "\u001b[1;31mValueError\u001b[0m                                Traceback (most recent call last)",
      "\u001b[1;32m<ipython-input-7-e721943397fb>\u001b[0m in \u001b[0;36m<module>\u001b[1;34m\u001b[0m\n\u001b[1;32m----> 1\u001b[1;33m \u001b[0mn\u001b[0m \u001b[1;33m=\u001b[0m \u001b[0mint\u001b[0m\u001b[1;33m(\u001b[0m\u001b[0minput\u001b[0m\u001b[1;33m(\u001b[0m\u001b[1;33m)\u001b[0m\u001b[1;33m)\u001b[0m\u001b[1;33m\u001b[0m\u001b[1;33m\u001b[0m\u001b[0m\n\u001b[0m\u001b[0;32m      2\u001b[0m \u001b[0mli\u001b[0m \u001b[1;33m=\u001b[0m \u001b[0mlist\u001b[0m\u001b[1;33m(\u001b[0m\u001b[0mmap\u001b[0m\u001b[1;33m(\u001b[0m\u001b[0mint\u001b[0m\u001b[1;33m,\u001b[0m\u001b[0minput\u001b[0m\u001b[1;33m(\u001b[0m\u001b[1;33m)\u001b[0m\u001b[1;33m.\u001b[0m\u001b[0msplit\u001b[0m\u001b[1;33m(\u001b[0m\u001b[1;34m' '\u001b[0m\u001b[1;33m)\u001b[0m\u001b[1;33m)\u001b[0m\u001b[1;33m)\u001b[0m\u001b[1;33m\u001b[0m\u001b[1;33m\u001b[0m\u001b[0m\n\u001b[0;32m      3\u001b[0m \u001b[0mli\u001b[0m \u001b[1;33m=\u001b[0m \u001b[0msorted\u001b[0m\u001b[1;33m(\u001b[0m\u001b[0mli\u001b[0m\u001b[1;33m)\u001b[0m\u001b[1;33m\u001b[0m\u001b[1;33m\u001b[0m\u001b[0m\n\u001b[0;32m      4\u001b[0m \u001b[0mmean\u001b[0m \u001b[1;33m=\u001b[0m \u001b[0msum\u001b[0m\u001b[1;33m(\u001b[0m\u001b[0mli\u001b[0m\u001b[1;33m)\u001b[0m\u001b[1;33m/\u001b[0m\u001b[0mn\u001b[0m\u001b[1;33m\u001b[0m\u001b[1;33m\u001b[0m\u001b[0m\n\u001b[0;32m      5\u001b[0m \u001b[1;32mif\u001b[0m \u001b[0mn\u001b[0m\u001b[1;33m%\u001b[0m\u001b[1;36m2\u001b[0m\u001b[1;33m!=\u001b[0m\u001b[1;36m0\u001b[0m\u001b[1;33m:\u001b[0m\u001b[1;33m\u001b[0m\u001b[1;33m\u001b[0m\u001b[0m\n",
      "\u001b[1;31mValueError\u001b[0m: invalid literal for int() with base 10: ''"
     ]
    }
   ],
   "source": [
    "n = int(input())\n",
    "li = list(map(int,input().split(' ')))\n",
    "li = sorted(li)\n",
    "mean = sum(li)/n\n",
    "if n%2!=0:\n",
    "    median = li[n//2]\n",
    "else:\n",
    "    median = ((li[n//2] + li[n//2-1])/2)\n",
    "from statistics import mode\n",
    "print(mean)\n",
    "print()\n",
    "print(li)\n",
    "print(li[n//2])\n",
    "print(li[n//2-1])\n",
    "print()\n",
    "print(median)\n",
    "try:\n",
    "    mo = mode(li)\n",
    "    print(mo)\n",
    "except:\n",
    "    print(li[0])"
   ]
  },
  {
   "cell_type": "code",
   "execution_count": null,
   "id": "clear-fluid",
   "metadata": {},
   "outputs": [],
   "source": [
    "val = [1,2,3]\n",
    "freq = [3,2,1]\n",
    "for i,j in zip(val,freq):\n",
    "    for n in range(j):\n",
    "        arr.append(i)\n",
    "arr = sorted(arr)\n",
    "n = len(arr)\n",
    "\n",
    "if n%2 != 0:\n",
    "    q2 = arr[n//2]\n",
    "else:\n",
    "    q2 = (arr[n//2]+arr[n//2-1])/2\n",
    "lw = arr[:arr.index(q2)]\n",
    "lu = arr[arr.index(q2)+1:]\n",
    "if len(lw)%2!=0:\n",
    "    q3 = lw[len(lw)//2]\n",
    "else:\n",
    "    q3 = (lw[len(lw)//2]+lw[len(lw)//2-1])/2\n",
    "if len(lu)%2!=0:\n",
    "    q4 = lu[len(lu)//2]\n",
    "else:\n",
    "    q4 = (lu[len(lu)//2]+lu[len(lu)//2-1])/2\n",
    "print(lw)\n",
    "print(q3)\n",
    "print(q2)\n",
    "print(lu)\n",
    "print(q4)"
   ]
  },
  {
   "cell_type": "code",
   "execution_count": null,
   "id": "exceptional-paper",
   "metadata": {},
   "outputs": [],
   "source": [
    "from statistics import stdev\n",
    "ar = [10, 40, 30, 50, 20]\n",
    "mean = stdev(ar)\n",
    "mean"
   ]
  },
  {
   "cell_type": "code",
   "execution_count": null,
   "id": "received-course",
   "metadata": {},
   "outputs": [],
   "source": [
    "val = [1,2,3]\n",
    "freq = [3,2,1]\n",
    "arr = []\n",
    "for i,j in zip(val,freq):\n",
    "    for n in range(j):\n",
    "        arr.append(i)\n",
    "arr"
   ]
  },
  {
   "cell_type": "code",
   "execution_count": null,
   "id": "special-prototype",
   "metadata": {},
   "outputs": [],
   "source": [
    "arr = [73,67,38,33]\n",
    "li = []\n",
    "for a in arr:\n",
    "    c = a + (5 - a) % 5\n",
    "    if a < 38:\n",
    "        li.append(a)\n",
    "    elif (c - a) < 3:\n",
    "        li.append(c)\n",
    "    else:\n",
    "        li.append(a)\n",
    "li\n"
   ]
  },
  {
   "cell_type": "code",
   "execution_count": null,
   "id": "sustainable-garbage",
   "metadata": {},
   "outputs": [],
   "source": [
    "# LCM\n",
    "x = int(input())\n",
    "y = int(input())\n",
    "if x > y:\n",
    "    lcm = x\n",
    "    hcf_range = x\n",
    "else:\n",
    "    lcm = y\n",
    "    hcf_range = y\n",
    "while(True):\n",
    "    if (lcm % x == 0) and (lcm % y == 0):\n",
    "        break\n",
    "    lcm += 1\n",
    "for i in range(1,hcf_range):\n",
    "    if (x % i == 0) and (y % i == 0):\n",
    "        hcf = i\n",
    "lcm, hcf"
   ]
  },
  {
   "cell_type": "code",
   "execution_count": null,
   "id": "pleased-southeast",
   "metadata": {},
   "outputs": [],
   "source": [
    "#!/bin/python3\n",
    "\n",
    "import math\n",
    "import os\n",
    "import random\n",
    "import re\n",
    "import sys\n",
    "\n",
    "#\n",
    "# Complete the 'getTotalX' function below.\n",
    "#\n",
    "# The function is expected to return an INTEGER.\n",
    "# The function accepts following parameters:\n",
    "#  1. INTEGER_ARRAY a\n",
    "#  2. INTEGER_ARRAY b\n",
    "#\n",
    "\n",
    "def getTotalX(a, b):\n",
    "    if len(a) or len(b) == 1:\n",
    "        return 1\n",
    "    global lcm, hcf\n",
    "    def find_lcm(x1, x2):\n",
    "        if x1 > x2:\n",
    "            lcm = x1\n",
    "        else:\n",
    "            lcm = x2\n",
    "        while(True):\n",
    "            if ((lcm)% x1 ==0) and ((lcm)% x2 ==0):\n",
    "                break\n",
    "            lcm += 1\n",
    "        return lcm\n",
    "        \n",
    "    def find_hcf(x,y):\n",
    "        while(y):\n",
    "            x, y = y, x % y\n",
    "        return x\n",
    "   \n",
    "    l1 = a[0]\n",
    "    l2 = a[1]\n",
    "    lcm = find_lcm(l1,l2)\n",
    "    for i in range(2,len(a)):\n",
    "        lcm = find_lcm(lcm,a[i])\n",
    "    \n",
    "    h1 = b[0]\n",
    "    h2 = b[1]\n",
    "    hcf = find_hcf(h1,h2)\n",
    "    for j in range(2,len(b)):\n",
    "        hcf = find_hcf(hcf,b[j])\n",
    "    \n",
    "    counter = 0\n",
    "    for i in range(lcm,hcf+1,lcm):\n",
    "        if hcf % i == 0:\n",
    "            counter += 1\n",
    "    print(counter)\n",
    "\n",
    "first_multiple_input = input().rstrip().split()\n",
    "\n",
    "n = int(first_multiple_input[0])\n",
    "\n",
    "m = int(first_multiple_input[1])\n",
    "\n",
    "arr = list(map(int, input().rstrip().split()))\n",
    "\n",
    "brr = list(map(int, input().rstrip().split()))\n",
    "\n",
    "total = getTotalX(arr, brr)"
   ]
  },
  {
   "cell_type": "code",
   "execution_count": null,
   "id": "everyday-fraction",
   "metadata": {},
   "outputs": [],
   "source": [
    "def find_hcf(x,y):\n",
    "    while(y):\n",
    "        x, y = y, x % y\n",
    "    return x\n",
    "l= [16,32,96]\n",
    "num1=l[0]\n",
    "num2=l[1]\n",
    "gcd=find_hcf(num1,num2)\n",
    "  \n",
    "for i in range(2,len(l)):\n",
    "    gcd=find_hcf(gcd,l[i]) \n",
    "print(gcd)"
   ]
  },
  {
   "cell_type": "code",
   "execution_count": null,
   "id": "still-crystal",
   "metadata": {},
   "outputs": [],
   "source": [
    "import statistics as st\n",
    "x = map(float,input().split())\n",
    "x_mean = st.mean(x)\n",
    "x_mean"
   ]
  },
  {
   "cell_type": "code",
   "execution_count": null,
   "id": "identified-hungarian",
   "metadata": {},
   "outputs": [],
   "source": [
    "n = int(input())\n",
    "x = list(map(float,input().split()))\n",
    "y = list(map(float,input().split()))\n",
    "\n",
    "diff = [(x.index(x[i]) - y.index(y[i]))**2 for i in range(n)]\n",
    "spearman = 1 - 6 * sum(diff)/(n*(n**2-1))\n",
    "spearman"
   ]
  },
  {
   "cell_type": "code",
   "execution_count": null,
   "id": "military-tactics",
   "metadata": {},
   "outputs": [],
   "source": [
    "import statistics as st\n",
    "x,y = [], []\n",
    "for i,j in zip(range(5),range(5)):\n",
    "    i,j = map(int,input().split())\n",
    "    x.append(i)\n",
    "    y.append(j)\n",
    "mean_x = sum(x)/len(x)\n",
    "mean_y = sum(y)/len(y)\n",
    "std_x = st.stdev(x)\n",
    "std_y = st.stdev(y)\n",
    "sum1 = 0\n",
    "for i in range(len(x)):\n",
    "    sum1 += ((x[i] - mean_x) * (y[i] - mean_y))\n",
    "pearson = sum1/(len(x)*std_x*std_y)\n",
    "b = pearson*(std_y/std_x)\n",
    "a = mean_y-(b*mean_x)\n",
    "\n",
    "x_new = int(input())\n",
    "y_new = a + b * x_new\n",
    "print(format(y_new,'.3f'))"
   ]
  },
  {
   "cell_type": "code",
   "execution_count": null,
   "id": "convinced-drinking",
   "metadata": {},
   "outputs": [],
   "source": [
    "n = 4\n",
    "events = [25, -30, 70, -10]\n",
    "sum1 = 50\n",
    "for i in range(n):\n",
    "    sum1 += events[i]\n",
    "    if sum1 > 100:\n",
    "        sum1 = 100\n",
    "sum1"
   ]
  },
  {
   "cell_type": "code",
   "execution_count": 14,
   "id": "structural-agriculture",
   "metadata": {},
   "outputs": [
    {
     "data": {
      "text/plain": [
       "[2, 2, 0, 3, 1]"
      ]
     },
     "execution_count": 14,
     "metadata": {},
     "output_type": "execute_result"
    }
   ],
   "source": [
    "dic = ['hack','a','rank','khac','ackh','kran','rankhacker','a','ab','ba','stairs','raits']\n",
    "q = ['a','nark','bs','hack','stair']\n",
    "dic = [sorted(i) for i in dic]\n",
    "q= [sorted(j) for j in q]\n",
    "D = [''.join(i) for i in dic]\n",
    "Q = [''.join(j) for j in q]\n",
    "li = []\n",
    "for i in Q:\n",
    "    counter = 0\n",
    "    for j in D:\n",
    "        if (i == j):\n",
    "            counter += 1\n",
    "    li.append(counter)\n",
    "li"
   ]
  },
  {
   "cell_type": "code",
   "execution_count": 29,
   "id": "written-utility",
   "metadata": {},
   "outputs": [
    {
     "data": {
      "text/plain": [
       "'erqii'"
      ]
     },
     "execution_count": 29,
     "metadata": {},
     "output_type": "execute_result"
    }
   ],
   "source": [
    "s = 'caberqiitefg'\n",
    "k = 5\n",
    "v = 'aeiou'\n",
    "dic = {}\n",
    "for i in range(len(s)-k):\n",
    "    count = 0\n",
    "    for j in s[i:i+k]:\n",
    "        if j in v:\n",
    "            count += 1\n",
    "    dic[s[i:i+k]] = count\n",
    "keys = list(dic.keys())\n",
    "values = list(dic.values())\n",
    "m = max(values)\n",
    "o = keys[m]\n",
    "o"
   ]
  },
  {
   "cell_type": "code",
   "execution_count": 37,
   "id": "distributed-philip",
   "metadata": {},
   "outputs": [
    {
     "data": {
      "text/plain": [
       "8"
      ]
     },
     "execution_count": 37,
     "metadata": {},
     "output_type": "execute_result"
    }
   ],
   "source": [
    "a = [5,9,4,3,8,2]\n",
    "b = [9,8,1,10,1,4]\n",
    "a,b = sorted(a),sorted(b)\n",
    "cost = 0\n",
    "if len(a) == len(b):\n",
    "    for i in range(len(a)):\n",
    "        if a[i] > b[i]:\n",
    "            cost += a[i] - b[i]\n",
    "        else:\n",
    "            cost += b[i] - a[i]\n",
    "cost"
   ]
  },
  {
   "cell_type": "code",
   "execution_count": 26,
   "id": "shared-decline",
   "metadata": {},
   "outputs": [
    {
     "name": "stdout",
     "output_type": "stream",
     "text": [
      "2 5\n",
      "5 7 10\n",
      "6 6 20\n",
      "7 4 60\n",
      "8 5 40\n",
      "9 6 50\n",
      "1\n",
      "5 5\n",
      "29.40\n"
     ]
    }
   ],
   "source": [
    "# Multivariable linear regression\n",
    "import numpy as np\n",
    "n_x, n = map(int,input().split())\n",
    "\n",
    "features = []\n",
    "ys = []\n",
    "\n",
    "for i in range(n):\n",
    "    inputs = list(map(float,input().split()))\n",
    "    features.append(inputs[:n_x])\n",
    "    ys.append(inputs[n_x:][0])\n",
    "for i in range(n):\n",
    "    features[i].insert(0,1)\n",
    "\n",
    "features = np.array(features)\n",
    "ys = np.array([ys]).T\n",
    "\n",
    "b = np.dot(np.dot(np.linalg.inv(np.dot(np.transpose(features),features)),np.transpose(features)),ys)\n",
    "\n",
    "n_q = int(input())\n",
    "queries = []\n",
    "for i in range(n_q):\n",
    "    queries.append(list(map(float,input().split())))\n",
    "for i in range(n_q):\n",
    "    queries[i].insert(0,1)\n",
    "    cal = np.dot(queries[i],b)\n",
    "    print(format(cal[0],'.2f'))"
   ]
  },
  {
   "cell_type": "code",
   "execution_count": 53,
   "id": "disturbed-residence",
   "metadata": {},
   "outputs": [
    {
     "name": "stdout",
     "output_type": "stream",
     "text": [
      "4\n",
      "2 2 1 1\n",
      "[1, 2] [2, 2]\n",
      "2\n",
      "1\n"
     ]
    }
   ],
   "source": [
    "def migratoryBirds(arr):\n",
    "    l = len(arr)\n",
    "    s = set()\n",
    "    for i in arr:\n",
    "        if i not in s:\n",
    "            s.add(i)\n",
    "    s = list(s)\n",
    "    counter = {}\n",
    "    for i in range(len(s)):\n",
    "        count = 0\n",
    "        for j in arr:\n",
    "            if j == s[i]:\n",
    "                count += 1\n",
    "        counter[s[i]] = count\n",
    "    key = list(counter.keys())\n",
    "    value = list(counter.values())\n",
    "    m = max(value)\n",
    "    print(key,value)\n",
    "    print(m)\n",
    "    print(key[value.index(m)])\n",
    "\n",
    "arr_count = int(input().strip())\n",
    "arr = list(map(int, input().rstrip().split()))\n",
    "result = migratoryBirds(arr)"
   ]
  },
  {
   "cell_type": "code",
   "execution_count": 17,
   "id": "designed-summit",
   "metadata": {},
   "outputs": [
    {
     "name": "stdout",
     "output_type": "stream",
     "text": [
      "9\n",
      "10 20 20 10 10 30 50 10 20\n",
      "3\n"
     ]
    }
   ],
   "source": [
    "def sockMerchant(n, ar):\n",
    "    s = set(ar)\n",
    "    pair = 0\n",
    "    for i in s:\n",
    "        pair += ar.count(i)//2\n",
    "    print(pair)\n",
    "n = int(input().strip())\n",
    "ar = list(map(int, input().rstrip().split()))\n",
    "result = sockMerchant(n, ar)"
   ]
  },
  {
   "cell_type": "code",
   "execution_count": 23,
   "id": "strategic-cassette",
   "metadata": {},
   "outputs": [
    {
     "name": "stdout",
     "output_type": "stream",
     "text": [
      "6\n",
      "2\n",
      "2 2\n",
      "2\n"
     ]
    }
   ],
   "source": [
    "def pageCount(n, p):\n",
    "    ar = [i for i in range(n-1)]\n",
    "    rev_ar = ar[::-1]\n",
    "    min1 = ar[p]\n",
    "    min2 = rev_ar[p]\n",
    "    print(min1,min2)\n",
    "    if min1 < min2:\n",
    "        print(min1)\n",
    "    else:\n",
    "        print(min2)\n",
    "\n",
    "n = int(input().strip())\n",
    "p = int(input().strip())\n",
    "\n",
    "result = pageCount(n, p)"
   ]
  },
  {
   "cell_type": "code",
   "execution_count": 76,
   "id": "strong-debut",
   "metadata": {},
   "outputs": [
    {
     "name": "stdout",
     "output_type": "stream",
     "text": [
      "fl\n"
     ]
    }
   ],
   "source": [
    "#strs = [\"dog\",\"racecar\",\"car\"]\n",
    "strs = [\"flower\",\"flight\",\"flow\"]\n",
    "#strs = [\"cir\",\"car\"]\n",
    "prefix = strs[0]\n",
    "for i in range(1,len(strs)):\n",
    "    li = []\n",
    "    for j,k in zip(prefix,strs[i]):\n",
    "        if j == k:\n",
    "            li.append(j)\n",
    "        else:\n",
    "            break\n",
    "    prefix = \"\".join(li)\n",
    "if len(prefix) > 0:\n",
    "    print(prefix)\n",
    "else:\n",
    "    print('\"\"')"
   ]
  },
  {
   "cell_type": "code",
   "execution_count": 2,
   "id": "circular-overhead",
   "metadata": {},
   "outputs": [
    {
     "data": {
      "text/plain": [
       "'uoiea'"
      ]
     },
     "execution_count": 2,
     "metadata": {},
     "output_type": "execute_result"
    }
   ],
   "source": [
    "s = 'aeiou'\n",
    "l = [i for i in s]\n",
    "l = l[::-1]\n",
    "j = ''.join(l)\n",
    "j"
   ]
  },
  {
   "cell_type": "code",
   "execution_count": null,
   "id": "refined-morgan",
   "metadata": {},
   "outputs": [],
   "source": []
  }
 ],
 "metadata": {
  "kernelspec": {
   "display_name": "Python 3",
   "language": "python",
   "name": "python3"
  },
  "language_info": {
   "codemirror_mode": {
    "name": "ipython",
    "version": 3
   },
   "file_extension": ".py",
   "mimetype": "text/x-python",
   "name": "python",
   "nbconvert_exporter": "python",
   "pygments_lexer": "ipython3",
   "version": "3.7.10"
  }
 },
 "nbformat": 4,
 "nbformat_minor": 5
}

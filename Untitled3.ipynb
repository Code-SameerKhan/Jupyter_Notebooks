{
 "cells": [
  {
   "cell_type": "code",
   "execution_count": 14,
   "id": "compact-satin",
   "metadata": {},
   "outputs": [
    {
     "name": "stdout",
     "output_type": "stream",
     "text": [
      "3\n",
      "11 2 4\n",
      "4 5 6\n",
      "10 8 -12\n",
      "15\n"
     ]
    }
   ],
   "source": [
    "import numpy as np\n",
    "def diagonalDifference(arr):\n",
    "    i = 0\n",
    "    sum1 = 0\n",
    "    j = len(arr)\n",
    "    sum2 = 0\n",
    "    for array in arr:\n",
    "        sum1 = sum1 + array[i]\n",
    "        i = i+1\n",
    "        sum2 = sum2 + array[j-1]\n",
    "        j = j-1\n",
    "    print(abs(sum1-sum2))\n",
    "\n",
    "n = int(input().strip())\n",
    "\n",
    "arr = []\n",
    "\n",
    "for _ in range(n):\n",
    "    arr.append(list(map(int, input().rstrip().split())))\n",
    "\n",
    "result = diagonalDifference(arr)"
   ]
  },
  {
   "cell_type": "code",
   "execution_count": 56,
   "id": "vocal-governor",
   "metadata": {},
   "outputs": [
    {
     "name": "stdout",
     "output_type": "stream",
     "text": [
      "3\n",
      "1000000007\n",
      "Prime\n",
      "100000003\n",
      "Not prime\n",
      "1000003\n",
      "Prime\n"
     ]
    }
   ],
   "source": [
    "def prime(s):\n",
    "    if s == 1:\n",
    "        print('Not prime')\n",
    "        return\n",
    "    elif s % 2 ==0  and s > 2:\n",
    "        print('Not Prime')\n",
    "        return\n",
    "    else:\n",
    "        for i in range(3, int(s**(1/2))+1, 2):\n",
    "            if s%i == 0:\n",
    "                print('Not prime')\n",
    "                return\n",
    "    print('Prime')\n",
    "    return\n",
    "for _ in range(int(input())):\n",
    "    s = int(input())\n",
    "    prime(s)"
   ]
  },
  {
   "cell_type": "code",
   "execution_count": 38,
   "id": "southern-contribution",
   "metadata": {},
   "outputs": [
    {
     "name": "stdout",
     "output_type": "stream",
     "text": [
      "1\n",
      "1\n",
      "1\n",
      "1\n",
      "[]\n"
     ]
    }
   ],
   "source": [
    "from collections import Counter\n",
    "def missingNumbers(arr, brr):\n",
    "    a = Counter(arr)\n",
    "    b = Counter(brr)\n",
    "    print(sorted((b - a).keys()))\n",
    "if __name__ == '__main__':\n",
    "    n = int(input().strip())\n",
    "    arr = list(map(int, input().rstrip().split()))\n",
    "    m = int(input().strip())\n",
    "    brr = list(map(int, input().rstrip().split()))\n",
    "    result = missingNumbers(arr, brr)"
   ]
  },
  {
   "cell_type": "code",
   "execution_count": 37,
   "id": "offshore-canada",
   "metadata": {},
   "outputs": [
    {
     "data": {
      "text/plain": [
       "[1, 2]"
      ]
     },
     "execution_count": 37,
     "metadata": {},
     "output_type": "execute_result"
    }
   ],
   "source": [
    "nums = [1,1,2]\n",
    "new = []\n",
    "nums[:] = sorted(set(nums))\n",
    "nums"
   ]
  },
  {
   "cell_type": "code",
   "execution_count": 15,
   "id": "inappropriate-channels",
   "metadata": {},
   "outputs": [
    {
     "data": {
      "text/plain": [
       "'aeinosw'"
      ]
     },
     "execution_count": 15,
     "metadata": {},
     "output_type": "execute_result"
    }
   ],
   "source": [
    "s = 'asnoiwe'\n",
    "s = list(s)\n",
    "for i in range(len(s)):\n",
    "    for j in range(0,len(s)-i-1):\n",
    "        if s[j] > s[j+1]:\n",
    "            s[j],s[j+1] = s[j+1],s[j]\n",
    "s = ''.join(s)\n",
    "s"
   ]
  },
  {
   "cell_type": "code",
   "execution_count": 27,
   "id": "systematic-spending",
   "metadata": {},
   "outputs": [
    {
     "data": {
      "text/plain": [
       "'a,snoi.we'"
      ]
     },
     "execution_count": 27,
     "metadata": {},
     "output_type": "execute_result"
    }
   ],
   "source": [
    "s = 'a.snoi,we'\n",
    "li = []\n",
    "for i in s:\n",
    "    if i == '.':\n",
    "        i = ','\n",
    "    elif i == ',':\n",
    "        i = '.'\n",
    "    li.append(i)\n",
    "st = ''.join(li)\n",
    "st"
   ]
  },
  {
   "cell_type": "code",
   "execution_count": 28,
   "id": "final-prophet",
   "metadata": {},
   "outputs": [
    {
     "data": {
      "text/plain": [
       "'a,snoi.we'"
      ]
     },
     "execution_count": 28,
     "metadata": {},
     "output_type": "execute_result"
    }
   ],
   "source": [
    "s = 'a.snoi,we'\n",
    "st = ''\n",
    "for i in s:\n",
    "    if i == '.':\n",
    "        i = ','\n",
    "    elif i == ',':\n",
    "        i = '.'\n",
    "    st += i\n",
    "st"
   ]
  },
  {
   "cell_type": "code",
   "execution_count": 32,
   "id": "rapid-terrorist",
   "metadata": {},
   "outputs": [
    {
     "name": "stdout",
     "output_type": "stream",
     "text": [
      "    *\n",
      "    **\n",
      "    ***\n",
      "    ****\n",
      "    *****\n"
     ]
    }
   ],
   "source": [
    "n = 5\n",
    "for i in range(1,n+1):\n",
    "    print((n-1)*' '+i*'*')"
   ]
  },
  {
   "cell_type": "code",
   "execution_count": 6,
   "id": "brief-private",
   "metadata": {},
   "outputs": [
    {
     "name": "stdout",
     "output_type": "stream",
     "text": [
      "['Alice', 'Bear', 'Charlton', 'Daman']\n",
      "['Alice', 'Bear', 'Charlton', 'Daman']\n",
      "['Amir', 'Bob', 'Charlton', 'Daman']\n"
     ]
    }
   ],
   "source": [
    "names1 = ['Amir', 'Bear', 'Charlton', 'Daman']\n",
    "names2 = names1\n",
    "names3 = names1[:]\n",
    "\n",
    "names2[0] = 'Alice'\n",
    "names3[1] = 'Bob'\n",
    "\n",
    "sum = 0\n",
    "for ls in (names1, names2, names3):\n",
    "    if ls[0] == 'Alice':\n",
    "        sum += 1\n",
    "    elif ls[1] == 'Bob':\n",
    "        sum += 10\n",
    "\n",
    "print(names1)\n",
    "print(names2)\n",
    "print(names3)"
   ]
  },
  {
   "cell_type": "code",
   "execution_count": 7,
   "id": "extra-orleans",
   "metadata": {},
   "outputs": [
    {
     "data": {
      "text/plain": [
       "[1, 2, 3, 1, 2, 3]"
      ]
     },
     "execution_count": 7,
     "metadata": {},
     "output_type": "execute_result"
    }
   ],
   "source": [
    "l = [1,2,3]\n",
    "l*2"
   ]
  },
  {
   "cell_type": "code",
   "execution_count": 9,
   "id": "computational-walker",
   "metadata": {},
   "outputs": [
    {
     "name": "stdout",
     "output_type": "stream",
     "text": [
      "45\n",
      "54\n"
     ]
    }
   ],
   "source": [
    "n = int(input(''))\n",
    "reverse = 0\n",
    "while n>0:\n",
    "    dig = n%10\n",
    "    reverse = reverse*10 + dig\n",
    "    n = n//10\n",
    "print(reverse)"
   ]
  },
  {
   "cell_type": "code",
   "execution_count": 24,
   "id": "environmental-portrait",
   "metadata": {},
   "outputs": [
    {
     "name": "stdout",
     "output_type": "stream",
     "text": [
      "23\n",
      "Prime\n"
     ]
    }
   ],
   "source": [
    "n=int(input(''))\n",
    "condition = 'Prime'\n",
    "for i in range(2,n):\n",
    "    if n%i ==0:\n",
    "        condition = 'Not Prime'\n",
    "        break\n",
    "print(condition)"
   ]
  },
  {
   "cell_type": "code",
   "execution_count": 46,
   "id": "piano-default",
   "metadata": {},
   "outputs": [
    {
     "name": "stdout",
     "output_type": "stream",
     "text": [
      "54\n",
      "54 189\n",
      "Not Armstrong\n"
     ]
    }
   ],
   "source": [
    "m = int(input(''))\n",
    "n = m\n",
    "l = []\n",
    "while n>0:\n",
    "    d = n%10\n",
    "    l.append(d)\n",
    "    n = n//10\n",
    "sum1 = 0\n",
    "for i in l:\n",
    "    i = i**3\n",
    "    sum1 = sum1+i\n",
    "print(m,sum1)\n",
    "if sum1 == m:\n",
    "    print('Armstrong')\n",
    "else:\n",
    "    print('Not Armstrong')"
   ]
  },
  {
   "cell_type": "code",
   "execution_count": 55,
   "id": "analyzed-startup",
   "metadata": {},
   "outputs": [
    {
     "name": "stdout",
     "output_type": "stream",
     "text": [
      "8128\n",
      "Perfect number\n"
     ]
    }
   ],
   "source": [
    "n = int(input(''))\n",
    "sum1 = 0\n",
    "for i in range(1,n):\n",
    "    if n%i == 0:\n",
    "        sum1 += i\n",
    "if sum1 == n:\n",
    "    print('Perfect number')\n",
    "else:\n",
    "    print('Not perfect')"
   ]
  },
  {
   "cell_type": "code",
   "execution_count": null,
   "id": "wired-correction",
   "metadata": {},
   "outputs": [],
   "source": [
    "n = int(input(''))\n",
    "m = n\n",
    "l = []\n",
    "while m>0:\n",
    "    m = m%10\n",
    "    l.append(m)\n",
    "    m = m//10\n",
    "for i in l:\n",
    "    fac = 1\n",
    "    for j in range(i):\n",
    "        fac = fac*j"
   ]
  },
  {
   "cell_type": "code",
   "execution_count": 70,
   "id": "preliminary-introduction",
   "metadata": {},
   "outputs": [
    {
     "name": "stdout",
     "output_type": "stream",
     "text": [
      "2\n"
     ]
    }
   ],
   "source": [
    "li = []\n",
    "for i in range(3-2,8):\n",
    "    for j in range(i+1,8+1):\n",
    "        if (i&j) < 3:\n",
    "            li.append(i&j)\n",
    "if len(li) > 0:\n",
    "    print(max(li))\n",
    "else:\n",
    "    print(0)"
   ]
  },
  {
   "cell_type": "code",
   "execution_count": 92,
   "id": "norwegian-doctor",
   "metadata": {},
   "outputs": [
    {
     "name": "stdout",
     "output_type": "stream",
     "text": [
      "8 0b1000\n",
      "5 0b101\n",
      "3\n"
     ]
    }
   ],
   "source": [
    "print(8,bin(8))\n",
    "print(5,bin(5))\n",
    "print(1|2)\n",
    "#print(int(0b101))"
   ]
  },
  {
   "cell_type": "code",
   "execution_count": null,
   "id": "informed-discipline",
   "metadata": {},
   "outputs": [],
   "source": []
  }
 ],
 "metadata": {
  "kernelspec": {
   "display_name": "Python 3",
   "language": "python",
   "name": "python3"
  },
  "language_info": {
   "codemirror_mode": {
    "name": "ipython",
    "version": 3
   },
   "file_extension": ".py",
   "mimetype": "text/x-python",
   "name": "python",
   "nbconvert_exporter": "python",
   "pygments_lexer": "ipython3",
   "version": "3.7.10"
  }
 },
 "nbformat": 4,
 "nbformat_minor": 5
}

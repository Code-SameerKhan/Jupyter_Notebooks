{
 "cells": [
  {
   "cell_type": "code",
   "execution_count": null,
   "metadata": {},
   "outputs": [],
   "source": [
    "a = int(input())\n",
    "b = int(input())\n",
    "c = int(input())\n",
    "if b<a and c<a:\n",
    "    print(a)\n",
    "elif a<b and c<b:\n",
    "    print (b)\n",
    "elif a<c and b<c:\n",
    "    print(c)"
   ]
  },
  {
   "cell_type": "code",
   "execution_count": null,
   "metadata": {},
   "outputs": [],
   "source": [
    "a = int(input())\n",
    "f=1\n",
    "for i in range(a,0,-1):\n",
    "    f = f * i\n",
    "print(f)"
   ]
  },
  {
   "cell_type": "code",
   "execution_count": null,
   "metadata": {},
   "outputs": [],
   "source": [
    "a= int(input())\n",
    "sum = 0\n",
    "if a%2==0:\n",
    "    for i in range(0,a,2):\n",
    "        sum = sum + i\n",
    "    print(sum)\n",
    "else:\n",
    "    for i in range(0,a-1,2):\n",
    "        sum = sum + i\n",
    "    print(sum)"
   ]
  },
  {
   "cell_type": "code",
   "execution_count": null,
   "metadata": {},
   "outputs": [],
   "source": [
    "a = int(input())\n",
    "sum = 0\n",
    "for i in range(a+1):\n",
    "    if i%2==0:\n",
    "        sum = sum+i\n",
    "print(sum)"
   ]
  },
  {
   "cell_type": "code",
   "execution_count": null,
   "metadata": {},
   "outputs": [],
   "source": [
    "a = int(input())\n",
    "sum = 0\n",
    "for i in range(2,a):\n",
    "    if a%i==0:\n",
    "        sum = sum + i\n",
    "if sum == 0:\n",
    "    print('prime')\n",
    "else:\n",
    "    print('composite')"
   ]
  },
  {
   "cell_type": "code",
   "execution_count": null,
   "metadata": {
    "scrolled": true
   },
   "outputs": [],
   "source": [
    "a = int(input())\n",
    "for i in range(2,a):\n",
    "    if a%i==0:\n",
    "        print(\"composite\")\n",
    "        break\n",
    "else:\n",
    "    print(\"Prime\")"
   ]
  },
  {
   "cell_type": "code",
   "execution_count": null,
   "metadata": {},
   "outputs": [],
   "source": [
    "u_r = int(input('Enter upper range '))\n",
    "l_r = int(input('Enter lower range '))\n",
    "sum = 0\n",
    "for i in range(l_r,u_r+1):\n",
    "    if i==1:\n",
    "        continue\n",
    "    for j in range(2,i):\n",
    "        if i%j==0:\n",
    "            break\n",
    "    else:\n",
    "        sum = sum + i\n",
    "print(sum)"
   ]
  },
  {
   "cell_type": "code",
   "execution_count": 1,
   "metadata": {},
   "outputs": [
    {
     "name": "stdout",
     "output_type": "stream",
     "text": [
      "Length of fibbonaci series 9\n",
      "0,1,1,2,3,5,8,13,21,"
     ]
    }
   ],
   "source": [
    "num = int(input('Length of fibbonaci series '))\n",
    "a = 0\n",
    "b = 1\n",
    "print(a,end=',')\n",
    "print(b,end=',')\n",
    "for i in range(num-2):\n",
    "    c = a+b\n",
    "    print(c,end=',')\n",
    "    a = b\n",
    "    b = c"
   ]
  },
  {
   "cell_type": "code",
   "execution_count": 1,
   "metadata": {},
   "outputs": [
    {
     "name": "stdout",
     "output_type": "stream",
     "text": [
      "\n",
      "i=  1 j=  0 | \n",
      "i=  2 j=  0 | i=  2 j=  1 | \n",
      "i=  3 j=  0 | i=  3 j=  1 | i=  3 j=  2 | \n",
      "i=  4 j=  0 | i=  4 j=  1 | i=  4 j=  2 | i=  4 j=  3 | \n"
     ]
    }
   ],
   "source": [
    "for i in range(5):\n",
    "#    print('i = ',i)\n",
    "    for j in range(i):\n",
    "        print('i= ',i,'j= ',j, end =' | ')\n",
    "#        print('*',end= '')\n",
    "    print()"
   ]
  },
  {
   "cell_type": "code",
   "execution_count": null,
   "metadata": {},
   "outputs": [],
   "source": [
    "for i in range(5,0,-1):\n",
    "    for j in range(i):\n",
    "        print('*',end='')\n",
    "    print()"
   ]
  },
  {
   "cell_type": "code",
   "execution_count": null,
   "metadata": {},
   "outputs": [],
   "source": [
    "for i in range(5):\n",
    "    for j in range(4-i):\n",
    "        print(' ',end='')\n",
    "    for k in range(i+1):\n",
    "        print('*',end ='')\n",
    "    for l in range(i):\n",
    "        print('*',end ='')\n",
    "    print()"
   ]
  },
  {
   "cell_type": "code",
   "execution_count": null,
   "metadata": {},
   "outputs": [],
   "source": [
    "for i in range(5):\n",
    "    for j in range(4-i):\n",
    "        print(' ',end='')\n",
    "    for k in range(i+1):\n",
    "        print('*', end='')\n",
    "    print()"
   ]
  },
  {
   "cell_type": "code",
   "execution_count": null,
   "metadata": {},
   "outputs": [],
   "source": [
    "for i in range(5):\n",
    "    for j in range(i+1):\n",
    "        print('*',end='')\n",
    "    for k in range(i):\n",
    "        print(' ',end='')\n",
    "    print()"
   ]
  },
  {
   "cell_type": "code",
   "execution_count": null,
   "metadata": {},
   "outputs": [],
   "source": [
    "for i in range(5,0,-1):\n",
    "    for j in range(5-i):\n",
    "        print(' ',end='')\n",
    "    for k in range(i):\n",
    "        print('*',end='')\n",
    "    for l in range(i-1):\n",
    "        print('*',end='')\n",
    "    print()"
   ]
  },
  {
   "cell_type": "code",
   "execution_count": null,
   "metadata": {},
   "outputs": [],
   "source": [
    "for i in range(5,0,-1):\n",
    "    for j in range(5-i):\n",
    "        print(' ',end='')\n",
    "    for k in range(2*(i-1)+1):\n",
    "        print('*',end='')\n",
    "    print()"
   ]
  },
  {
   "cell_type": "code",
   "execution_count": null,
   "metadata": {},
   "outputs": [],
   "source": [
    "for numbers in [5,2,5,2,2]:\n",
    "    for j in range (numbers):\n",
    "        print('X',end='')\n",
    "    print()"
   ]
  },
  {
   "cell_type": "code",
   "execution_count": null,
   "metadata": {},
   "outputs": [],
   "source": [
    "numbers = [2,9,5,7,6]\n",
    "max = numbers[0]\n",
    "for number in numbers:\n",
    "    if number>max:\n",
    "        max = number\n",
    "print(max)"
   ]
  },
  {
   "cell_type": "code",
   "execution_count": null,
   "metadata": {},
   "outputs": [],
   "source": [
    "for i in range(1,10):\n",
    "    if i <=5:\n",
    "        print((5-i)*' ',((2*i)-1)*'*')\n",
    "    else:\n",
    "        print((i-5)*' ',((10-i)*2-1)*'*')"
   ]
  },
  {
   "cell_type": "code",
   "execution_count": null,
   "metadata": {},
   "outputs": [],
   "source": [
    "num = True\n",
    "while num:\n",
    "    i = int(input())\n",
    "    for a in range(2,i):\n",
    "        if i%a==0:\n",
    "            break\n",
    "    else:\n",
    "        num = False\n",
    "print(\"Number is prime\")"
   ]
  },
  {
   "cell_type": "code",
   "execution_count": null,
   "metadata": {},
   "outputs": [],
   "source": [
    "a = 1\n",
    "count = 0\n",
    "while count < 5:\n",
    "    num = a\n",
    "    arm = 0\n",
    "    while num>0:\n",
    "        dig = num%10\n",
    "        arm = arm + dig**3\n",
    "        num = num//10\n",
    "    if arm == a:\n",
    "        print(a)\n",
    "        count = count + 1   \n",
    "    a = a+1"
   ]
  },
  {
   "cell_type": "code",
   "execution_count": null,
   "metadata": {},
   "outputs": [],
   "source": [
    "num = int(input())\n",
    "a = 0\n",
    "while num >0:\n",
    "    dig = num%10\n",
    "    a = a*10+dig\n",
    "    num = num//10\n",
    "print(a)    "
   ]
  },
  {
   "cell_type": "code",
   "execution_count": null,
   "metadata": {},
   "outputs": [],
   "source": [
    "li = [34,14.5,'Hello','Techstack',True]\n",
    "print(li)\n",
    "print(li[2])\n",
    "li[-2]"
   ]
  },
  {
   "cell_type": "code",
   "execution_count": null,
   "metadata": {},
   "outputs": [],
   "source": [
    "li1 = [i**2 for i in range(10)]\n",
    "print(li1)\n",
    "type(li)"
   ]
  },
  {
   "cell_type": "code",
   "execution_count": null,
   "metadata": {},
   "outputs": [],
   "source": [
    "li = [32,5,'Hello',9.6,56]\n",
    "li1 = [5,9.7,'Techstack',8]\n",
    "li[1] = li1\n",
    "li"
   ]
  },
  {
   "cell_type": "code",
   "execution_count": null,
   "metadata": {},
   "outputs": [],
   "source": [
    "li =j [6,8.7,'Hello',0.5,12,7,'Techstack']\n",
    "li[2:4]"
   ]
  },
  {
   "cell_type": "code",
   "execution_count": null,
   "metadata": {},
   "outputs": [],
   "source": [
    "li = [3,6,'kite',98.6]\n",
    "li.append('b')\n",
    "li"
   ]
  },
  {
   "cell_type": "code",
   "execution_count": null,
   "metadata": {},
   "outputs": [],
   "source": [
    "li = ['post',6,8.7,'Hello',56,3]\n",
    "li.insert(3,'str')\n",
    "li"
   ]
  },
  {
   "cell_type": "code",
   "execution_count": null,
   "metadata": {},
   "outputs": [],
   "source": [
    "li = [2,67,'Goat',90.7]\n",
    "li.pop()\n",
    "print(li)"
   ]
  },
  {
   "cell_type": "code",
   "execution_count": null,
   "metadata": {},
   "outputs": [],
   "source": [
    "li = [6,45,7,234,6,9,90,43]\n",
    "sorted(li)"
   ]
  },
  {
   "cell_type": "code",
   "execution_count": null,
   "metadata": {},
   "outputs": [],
   "source": [
    "li =[5,76,3,64,334]\n",
    "sorted(li,reverse = True)"
   ]
  },
  {
   "cell_type": "code",
   "execution_count": null,
   "metadata": {},
   "outputs": [],
   "source": [
    "tp = (1,5,645,34,21,23,6)\n",
    "len(tp)"
   ]
  },
  {
   "cell_type": "code",
   "execution_count": null,
   "metadata": {},
   "outputs": [],
   "source": [
    "tp =(4,5345,22,54,45,7,8,4,2)\n",
    "print(tp)"
   ]
  },
  {
   "cell_type": "code",
   "execution_count": null,
   "metadata": {},
   "outputs": [],
   "source": [
    "tp = (5,7,2,1,5,7,4,3,14)\n",
    "sorted(tp)"
   ]
  },
  {
   "cell_type": "code",
   "execution_count": null,
   "metadata": {},
   "outputs": [],
   "source": [
    "tp = (5,23,8,3,2,6,7,9,878)\n",
    "tp = list(tp)\n",
    "tp"
   ]
  },
  {
   "cell_type": "code",
   "execution_count": null,
   "metadata": {},
   "outputs": [],
   "source": [
    "li = [2,5,5,78,97,3]\n",
    "for i in range (len(li)):\n",
    "    for j in range(i):\n",
    "        if li[j] > li[i]:\n",
    "            li[i],li[j] = li[j],li[i]\n",
    "print(li)"
   ]
  },
  {
   "cell_type": "code",
   "execution_count": null,
   "metadata": {},
   "outputs": [],
   "source": [
    "li = [2,56,6,700,23,5,6,8,154]\n",
    "a = li[0]\n",
    "for i in li:\n",
    "    if i > a:\n",
    "        a = i\n",
    "print(a)"
   ]
  },
  {
   "cell_type": "code",
   "execution_count": null,
   "metadata": {},
   "outputs": [],
   "source": [
    "dc = {1:'3',2:'Hello',3:'True',False:['a',5,True],1:'c',True:'Techstack'}\n",
    "dc"
   ]
  },
  {
   "cell_type": "code",
   "execution_count": null,
   "metadata": {},
   "outputs": [],
   "source": [
    "dc = {1:'Hello',2:'c',False:'Techstack'}\n",
    "dc[False] = ['a','b','c']\n",
    "dc"
   ]
  },
  {
   "cell_type": "code",
   "execution_count": null,
   "metadata": {},
   "outputs": [],
   "source": [
    "dc = {1:'1',2:'Techstack',3:'True', False:['a','3','False']}\n",
    "dc[5] = [1,2,3]\n",
    "dc"
   ]
  },
  {
   "cell_type": "code",
   "execution_count": null,
   "metadata": {},
   "outputs": [],
   "source": [
    "dc = {1:'a',2:'Hello',False:'Hi','kind':'Ant'}\n",
    "dc['d'] = {'a':'1',2:'False',3:['a',1,True,'Hello']}\n",
    "dc"
   ]
  },
  {
   "cell_type": "code",
   "execution_count": null,
   "metadata": {},
   "outputs": [],
   "source": [
    "dc = {'Hi':'Techstack',1:'2',False:'45',5:['a',1,True],4:'Tree'}\n",
    "del dc[4]\n",
    "dc\n",
    "print(dc.keys())"
   ]
  },
  {
   "cell_type": "code",
   "execution_count": 16,
   "metadata": {},
   "outputs": [
    {
     "name": "stdout",
     "output_type": "stream",
     "text": [
      "1\n",
      "2\n",
      "False\n"
     ]
    }
   ],
   "source": [
    "dc = {1:'Hello',2:'Tree',False:'2'}\n",
    "for i in dc:\n",
    "    print(i)"
   ]
  },
  {
   "cell_type": "code",
   "execution_count": 15,
   "metadata": {},
   "outputs": [
    {
     "name": "stdout",
     "output_type": "stream",
     "text": [
      "(1, '5')\n",
      "(2, 'Hello')\n",
      "(3, 'True')\n"
     ]
    }
   ],
   "source": [
    "dc = {1:'5',2:'Hello',3:'True'}\n",
    "for i in dc.items():\n",
    "    print(i)"
   ]
  },
  {
   "cell_type": "code",
   "execution_count": 17,
   "metadata": {},
   "outputs": [
    {
     "name": "stdout",
     "output_type": "stream",
     "text": [
      "Techstack\n",
      "2\n",
      "Tree\n"
     ]
    }
   ],
   "source": [
    "dc = {1:'Techstack',2:'2',False:'Tree'}\n",
    "for i in dc.values():\n",
    "    print(i)"
   ]
  },
  {
   "cell_type": "code",
   "execution_count": null,
   "metadata": {},
   "outputs": [],
   "source": [
    "dc = {2:'5',1:'Hello',True:'Techstack'}\n",
    "key = list(dc.keys())\n",
    "value = list(dc.values())\n",
    "#key\n",
    "value"
   ]
  },
  {
   "cell_type": "code",
   "execution_count": null,
   "metadata": {},
   "outputs": [],
   "source": [
    "def demo():\n",
    "    a = int(input())\n",
    "    b = int(input())\n",
    "    c = a**3\n",
    "    d = b+3\n",
    "    return [c,d]\n",
    "demo()"
   ]
  },
  {
   "cell_type": "code",
   "execution_count": null,
   "metadata": {},
   "outputs": [],
   "source": [
    "def add(a,b):\n",
    "    x = a+b\n",
    "    return (x)\n",
    "def sub(a,b):\n",
    "    x = a-b\n",
    "    return (x)\n",
    "def mul(a,b):\n",
    "    x = a*b\n",
    "    return (x)\n",
    "def div(a,b):\n",
    "    x = a/b\n",
    "    return (x)\n",
    "print('Calculator')\n",
    "a = int(input('Enter the first number '))\n",
    "b = int(input('Enter the second number '))\n",
    "op = input('Enter the operation ')\n",
    "if op == '+':\n",
    "    print(add(a,b))\n",
    "elif op =='-':\n",
    "    print(sub(a,b))\n",
    "elif op =='*':\n",
    "    print(mul(a,b))\n",
    "elif op == '/':\n",
    "    print(div(a,b))\n",
    "else:\n",
    "    print('Error')"
   ]
  },
  {
   "cell_type": "code",
   "execution_count": null,
   "metadata": {},
   "outputs": [],
   "source": [
    "def oddeven(a):\n",
    "    if a%2==0:\n",
    "        print('Even')\n",
    "    else:\n",
    "        print('Odd')\n",
    "    return (a)\n",
    "def prime(a):\n",
    "    for i in range(2,a):\n",
    "        if a%i==0:\n",
    "            print('Composite')\n",
    "            break\n",
    "    else:\n",
    "        print('Prime')\n",
    "    return(a)\n",
    "def main():\n",
    "    a = int(input('Enter the number '))\n",
    "    op = int(input('''Enter the operation\n",
    "    Enter 1 for checking odd or even\n",
    "    Enter 2 for checking the number for prime \n",
    "    '''))\n",
    "    if op == 1:\n",
    "        return (oddeven(a))\n",
    "    elif op ==2:\n",
    "        return prime(a)\n",
    "    else:\n",
    "        print('Enter correct option')\n",
    "main()"
   ]
  },
  {
   "cell_type": "code",
   "execution_count": null,
   "metadata": {},
   "outputs": [],
   "source": [
    "def to_cel(a):\n",
    "    x = (a-32)/1.8\n",
    "    print(x)\n",
    "    return a\n",
    "def to_fah(a):\n",
    "    x = a*1.8+32\n",
    "    print(x)\n",
    "    return a\n",
    "def main():\n",
    "    temp = int(input('Enter 1 to convert to Celsius or 2 for Fahrenheit '))\n",
    "    a = int(input('Enter the temperature '))\n",
    "    if temp==1:\n",
    "        return to_cel(a)\n",
    "    elif temp==2:\n",
    "        return to_fah(a)\n",
    "    else:\n",
    "        print('Wrong input')\n",
    "main()"
   ]
  },
  {
   "cell_type": "code",
   "execution_count": null,
   "metadata": {},
   "outputs": [],
   "source": [
    "def greatest(a,b,c):\n",
    "        #if b<a and c<a:\n",
    "         #   print(a)\n",
    "        #elif a<b and c<b:\n",
    "         #   print (b)\n",
    "        #else:\n",
    "         #   print(c)\n",
    "        li = [a,b,c]\n",
    "        a = li[0]\n",
    "        for i in li:\n",
    "            if i > a:\n",
    "                a = i\n",
    "        print(a)\n",
    "def main():\n",
    "    print('Enter 3 numbers ')\n",
    "    a = int(input('A = '))\n",
    "    b = int(input('B = '))\n",
    "    c = int(input('C = '))\n",
    "    return greatest(a,b,c)\n",
    "main()"
   ]
  },
  {
   "cell_type": "code",
   "execution_count": null,
   "metadata": {},
   "outputs": [],
   "source": [
    "def sum_num(a):\n",
    "    li = []\n",
    "    for i in range(0,a):\n",
    "        b = int(input('' ))\n",
    "        li.append(b)\n",
    "    print (li)\n",
    "    s = 0\n",
    "    for i in li:\n",
    "        s = s + i\n",
    "    print(s)\n",
    "def main():\n",
    "    a = int(input('Enter the number of elements you want sum of '))\n",
    "    return sum_num(a)\n",
    "main()"
   ]
  },
  {
   "cell_type": "code",
   "execution_count": null,
   "metadata": {},
   "outputs": [],
   "source": [
    "def mul_num(a):\n",
    "    li = []\n",
    "    for i in range(0,a):\n",
    "        b = int(input('' ))\n",
    "        li.append(b)\n",
    "    print (li)\n",
    "    s = 1\n",
    "    for i in li:\n",
    "        s = s * i\n",
    "    print(s)\n",
    "def main():\n",
    "    a = int(input('Enter the number of elements you want product of '))\n",
    "    return mul_num(a)\n",
    "main()"
   ]
  },
  {
   "cell_type": "code",
   "execution_count": 3,
   "metadata": {},
   "outputs": [
    {
     "name": "stdout",
     "output_type": "stream",
     "text": [
      "Enter the year to determine leap or not 2004\n",
      "True\n"
     ]
    }
   ],
   "source": [
    "def is_leap(year):\n",
    "    if year%4==0:\n",
    "        if year%100==0:\n",
    "            if year%400==0:\n",
    "                return True\n",
    "            else:\n",
    "                return False\n",
    "        else:\n",
    "            return True\n",
    "    else:\n",
    "        return False\n",
    "year = int(input('Enter the year to determine leap or not '))\n",
    "print(is_leap(year))"
   ]
  },
  {
   "cell_type": "code",
   "execution_count": null,
   "metadata": {},
   "outputs": [],
   "source": [
    "def rev(s):\n",
    "    x = s[::-1]\n",
    "    return x\n",
    "def main():\n",
    "    s = str(input('Enter the string '))\n",
    "    return rev(s)\n",
    "main()"
   ]
  },
  {
   "cell_type": "code",
   "execution_count": null,
   "metadata": {},
   "outputs": [],
   "source": [
    "def fac(a):\n",
    "    x = 1\n",
    "    for i in range (a,1,-1):\n",
    "        x = i*x\n",
    "        i= i-1\n",
    "    print (x)\n",
    "def main():\n",
    "    a = int(input(\"Enter the number for it's factorial \" ))\n",
    "    return fac(a)\n",
    "main()"
   ]
  },
  {
   "cell_type": "code",
   "execution_count": null,
   "metadata": {},
   "outputs": [],
   "source": [
    "def cube(a):\n",
    "    return a**3\n",
    "a = 8\n",
    "g = lambda x:(x**3)\n",
    "print(g(a))\n",
    "cube(a)"
   ]
  },
  {
   "cell_type": "code",
   "execution_count": null,
   "metadata": {},
   "outputs": [],
   "source": [
    "fn = lambda x,y:(x+y, ((x**2)+(y**2)))\n",
    "fn(4,5)"
   ]
  },
  {
   "cell_type": "code",
   "execution_count": null,
   "metadata": {},
   "outputs": [],
   "source": [
    "x = int(input(''))\n",
    "y = int(input(''))\n",
    "fn = lambda x,y:(x**2+y**2+(2*x*y))\n",
    "fn(x,y)"
   ]
  },
  {
   "cell_type": "code",
   "execution_count": null,
   "metadata": {},
   "outputs": [],
   "source": [
    "li = [2,4,5,46,51,78,9,75,3,44,9]\n",
    "fn = list(filter(lambda x:(x%2!=0),li))\n",
    "print(fn)"
   ]
  },
  {
   "cell_type": "code",
   "execution_count": null,
   "metadata": {},
   "outputs": [],
   "source": [
    "li = [34,6,35,7,34,2,4,6,8,9]\n",
    "fn = list(map(lambda x:(x**2),li))\n",
    "print(fn)"
   ]
  },
  {
   "cell_type": "code",
   "execution_count": null,
   "metadata": {},
   "outputs": [],
   "source": [
    "a = int(input('Enter the number of elements for fist list  '))\n",
    "li1 = []\n",
    "for i in range(0,a):\n",
    "    b = int(input('' ))\n",
    "    li1.append(b)\n",
    "print (li1)\n",
    "y = int(input('Enter the number of elements for second list '))\n",
    "li2 = []\n",
    "for i in range(0,y):\n",
    "    c = int(input('' ))\n",
    "    li2.append(c)\n",
    "print (li2)\n",
    "fn = list(map(lambda x, y: x**2+y**2+2*x*y, li1, li2))\n",
    "print('Final list')\n",
    "print(fn)"
   ]
  },
  {
   "cell_type": "code",
   "execution_count": 2,
   "metadata": {},
   "outputs": [
    {
     "name": "stdout",
     "output_type": "stream",
     "text": [
      "5\n",
      "5\n",
      "-1\n",
      "2\n",
      "2\n",
      "-1\n"
     ]
    }
   ],
   "source": [
    "str1 = \"this is really a string example....wow!!!\"\n",
    "str2 = \"is\"\n",
    "print (str1.rfind(str2))\n",
    "print (str1.rfind(str2, 0, 10))\n",
    "print (str1.rfind(str2, 10, 0))\n",
    "print (str1.find(str2))\n",
    "print (str1.find(str2, 0, 10))\n",
    "print (str1.find(str2, 10, 0))"
   ]
  },
  {
   "cell_type": "code",
   "execution_count": null,
   "metadata": {},
   "outputs": [],
   "source": [
    "n = int(input(''))\n",
    "ar = []\n",
    "for i in range(0,n):\n",
    "    b = int(input()) \n",
    "    ar.append(b)\n",
    "    k = max(ar)\n",
    "s = 0\n",
    "for j in range(0,k):\n",
    "    if j>s and k>j:\n",
    "        s = j\n",
    "print(s)"
   ]
  },
  {
   "cell_type": "code",
   "execution_count": null,
   "metadata": {},
   "outputs": [],
   "source": [
    "a = [1, 2, 3, 4, 5] \n",
    "for x in range(len(a)): \n",
    "    print (a[x],end=' ')"
   ]
  },
  {
   "cell_type": "code",
   "execution_count": null,
   "metadata": {},
   "outputs": [],
   "source": [
    "li = []\n",
    "a = int(input('No. of elements ? '))\n",
    "for i in range(a):\n",
    "    b = int(input())\n",
    "    li.append(b)\n",
    "for i in range(a):\n",
    "    for j in range(i):\n",
    "        if li[i] > li[j]:\n",
    "            li[i],li[j] = li[j],li[i]\n",
    "print(li)"
   ]
  },
  {
   "cell_type": "code",
   "execution_count": null,
   "metadata": {},
   "outputs": [],
   "source": [
    "#sorting of items in a list\n",
    "li = []\n",
    "x = 0\n",
    "a = int(input('No. of elements ? '))\n",
    "for i in range(a):\n",
    "    b = int(input())\n",
    "    li.append(b)\n",
    "for j in range(len(li)):\n",
    "    for k in range(j):\n",
    "        if li[j] > li[i]:\n",
    "            li[j],li[i] = li[i],li[j]\n",
    "print(li)"
   ]
  },
  {
   "cell_type": "code",
   "execution_count": null,
   "metadata": {},
   "outputs": [],
   "source": [
    "def area_square(s):\n",
    "    x = s*s\n",
    "    print(x)\n",
    "def area_rectangle(l,b):\n",
    "    x = 2*(l+b)\n",
    "    print(x)\n",
    "def area_triangle(b,h):\n",
    "    x = 0.5*b*h\n",
    "    print(x)\n",
    "def area_circle(r):\n",
    "    x = 3.14*r*r\n",
    "    print(x)\n",
    "def main():\n",
    "    a = int(input('''Enter 1 for area of Square\n",
    "Enter 2 for area of Rectangle\n",
    "Enter 3 for area of Triangle\n",
    "Enter 4 for area of circle\n",
    "'''))\n",
    "    if a == 1:\n",
    "        s = int(input('Enter the side of the square '))\n",
    "        return area_square(s)\n",
    "    elif a == 2:\n",
    "        l = int(input('Enter the length of the rectangle '))\n",
    "        b = int(input('Enter the breadth if the rectangle '))\n",
    "        return area_rectangle(l,b)\n",
    "    elif a == 3:\n",
    "        b = int(input('Enter the base of the triangle '))\n",
    "        h = int(input('Enter the height of the triangle '))\n",
    "        return area_triangle(b,h)\n",
    "    elif a == 4:\n",
    "        r = int(input('Enter the radius of the circle '))\n",
    "        return area_circle(r)\n",
    "    else:\n",
    "        print('Wrong input')\n",
    "main()"
   ]
  },
  {
   "cell_type": "code",
   "execution_count": null,
   "metadata": {},
   "outputs": [],
   "source": [
    "def vol_square(s):\n",
    "    x = s*s*s\n",
    "    print(x)\n",
    "def vol_rectangle(l,b,h):\n",
    "    x = l*b*h\n",
    "    print(x)\n",
    "def vol_cone(r,h):\n",
    "    x = 3.14*r*r*h\n",
    "    print(x)\n",
    "def vol_sphere(r):\n",
    "    x = 4/3*3.14*r*r*r\n",
    "    print(x)\n",
    "def main():\n",
    "    a = int(input('''Enter 1 for Volume if Cube\n",
    "Enter 2 for Volume of Cuboid\n",
    "Enter 3 for Volume of Cone\n",
    "Enter 4 for Volume of Sphere\n",
    "'''))\n",
    "    if a == 1:\n",
    "        s = int(input('Enter the side of the cube '))\n",
    "        return vol_square(s)\n",
    "    elif a == 2:\n",
    "        l = int(input('Enter the length of the cuboid '))\n",
    "        b = int(input('Enter the breadth if the cuboid '))\n",
    "        h = int(input('Enter the height of the cuboid '))\n",
    "        return vol_rectangle(l,b,h)\n",
    "    elif a == 3:\n",
    "        b = int(input('Enter the base radius of cone '))\n",
    "        h = int(input('Enter the height of the cone '))\n",
    "        return vol_cone(r,h)\n",
    "    elif a == 4:\n",
    "        r = int(input('Enter the radius of the sphere '))\n",
    "        return vol_sphere(r)\n",
    "    else:\n",
    "        print('Wrong input')\n",
    "main()"
   ]
  },
  {
   "cell_type": "code",
   "execution_count": null,
   "metadata": {},
   "outputs": [],
   "source": [
    "x = int(input(''))\n",
    "fn = lambda x:(x+x**2+x**3)\n",
    "fn(x)"
   ]
  },
  {
   "cell_type": "code",
   "execution_count": null,
   "metadata": {},
   "outputs": [],
   "source": [
    "sum_ = 0\n",
    "for i in range(1,100):\n",
    "    if i == 1:\n",
    "        continue\n",
    "    for j in range(2,i):\n",
    "        if i%j== 0:\n",
    "            break\n",
    "    else:\n",
    "        sum_ = sum_ + i\n",
    "print(sum_)"
   ]
  },
  {
   "cell_type": "code",
   "execution_count": null,
   "metadata": {},
   "outputs": [],
   "source": [
    "li = []\n",
    "a = int(input('No. of buildings ? '))\n",
    "for i in range(a):\n",
    "    b = int(input(''))\n",
    "    li.append(b)\n",
    "li = sorted(li)\n",
    "print(li)\n",
    "print('Smallest',li[0],li[1],li[2])\n",
    "print('Largest',li[-1],li[-2],li[-3])"
   ]
  },
  {
   "cell_type": "code",
   "execution_count": 8,
   "metadata": {},
   "outputs": [
    {
     "name": "stdout",
     "output_type": "stream",
     "text": [
      "2\n",
      "343 232 12\n",
      "[343, 232, 12]\n",
      "232\n"
     ]
    }
   ],
   "source": [
    "n = int(input(''))\n",
    "arr =list(map(int, input().split(\" \")))\n",
    "print(arr)\n",
    "k = max(arr)\n",
    "for i in range(0,n):\n",
    "    if max(arr) == k:   \n",
    "        arr.remove(max(arr))\n",
    "arr.sort(reverse=True)\n",
    "print(arr[0])"
   ]
  },
  {
   "cell_type": "code",
   "execution_count": 1,
   "metadata": {},
   "outputs": [
    {
     "name": "stdout",
     "output_type": "stream",
     "text": [
      "[11, 5, 9] [11, 5, 9]\n",
      "[11, 5, 9] [5, 6, 7]\n"
     ]
    }
   ],
   "source": [
    "l1 = [10,20,30,60] #user defined data like lists, tuples. Values change pass by reference\n",
    "l2 = [11,5,9]\n",
    "l1 = l2\n",
    "print(l1,l2)\n",
    "#l2[2] = 100\n",
    "l2 = [5,6,7]\n",
    "print(l1,l2)"
   ]
  },
  {
   "cell_type": "code",
   "execution_count": null,
   "metadata": {},
   "outputs": [],
   "source": [
    "a = 10 #primitive data like integer, float. Values change pass by value\n",
    "b = 90\n",
    "a = b\n",
    "print(a,b)\n",
    "b = 'tech'\n",
    "print(a,b)"
   ]
  },
  {
   "cell_type": "code",
   "execution_count": null,
   "metadata": {},
   "outputs": [],
   "source": [
    "n = int(input(''))\n",
    "a = []\n",
    "for i in range(n):\n",
    "    b = int(input(''))\n",
    "    a.append(b)\n",
    "print(a)\n",
    "s = 0\n",
    "for j in (a):\n",
    "    s= s+j**2\n",
    "    j = j+1\n",
    "print(s)"
   ]
  },
  {
   "cell_type": "code",
   "execution_count": null,
   "metadata": {},
   "outputs": [],
   "source": [
    "l1 = [3,4,5,9,7,8,6]\n",
    "l2 = [45,2,3,1,5,6]\n",
    "l3 = []\n",
    "for i in(l1):\n",
    "    for j in(l2):\n",
    "        if i == j:\n",
    "            l3.append(i)\n",
    "print(l3)"
   ]
  },
  {
   "cell_type": "code",
   "execution_count": null,
   "metadata": {},
   "outputs": [],
   "source": [
    "n = int(input('Enter the year '))\n",
    "if n%4!=0 or n%100==0 and n%400!=0:\n",
    "    print(False)\n",
    "else:\n",
    "    print(True)"
   ]
  },
  {
   "cell_type": "code",
   "execution_count": null,
   "metadata": {},
   "outputs": [],
   "source": [
    "n = input('')\n",
    "a = ''\n",
    "for i in range(len(n)):\n",
    "    if i == ' ':\n",
    "        pass\n",
    "    print(i, end ='')\n",
    "        # a = this is my string\n",
    "        # thisismystring"
   ]
  },
  {
   "cell_type": "code",
   "execution_count": null,
   "metadata": {},
   "outputs": [],
   "source": [
    "n = input('enter a line')\n",
    "#print(n)\n",
    "for i in n:\n",
    "    if i == \" \":\n",
    "        continue\n",
    "    print(i, end = \"\")"
   ]
  },
  {
   "cell_type": "code",
   "execution_count": null,
   "metadata": {},
   "outputs": [],
   "source": [
    "li = [2,45,23,6,4,5,7,8,84]\n",
    "n = int(input('Enter the number '))\n",
    "for i in li:\n",
    "    if i == n:\n",
    "        print(True)\n",
    "        break\n",
    "else:\n",
    "    print(False)"
   ]
  },
  {
   "cell_type": "code",
   "execution_count": null,
   "metadata": {},
   "outputs": [],
   "source": [
    "li = [2,45,23,6,4,5,7,8,84]\n",
    "n = int(input('Enter the number '))\n",
    "for i in li:\n",
    "    if i == n:\n",
    "        print(i,li.index(i))\n",
    "        break\n",
    "else:\n",
    "    print(False)"
   ]
  },
  {
   "cell_type": "code",
   "execution_count": null,
   "metadata": {},
   "outputs": [],
   "source": [
    "n = int(input('no of elements in list '))\n",
    "li = []\n",
    "for i in range(n):\n",
    "    b = input(' ')\n",
    "    li.append(b)\n",
    "item = input('Element to remove ')\n",
    "number = int(input('Instance to remove '))\n",
    "count = 0\n",
    "li1 = []\n",
    "for j in li:\n",
    "    if (j == item):\n",
    "        count = count + 1\n",
    "        if count != number:\n",
    "            li1.append(j)\n",
    "    else:\n",
    "        li1.append(j)\n",
    "lst = li1 \n",
    "if count == 0: \n",
    "    print(\"Item not found\") \n",
    "else: \n",
    "    print(\"Updated list is: \", lst)"
   ]
  },
  {
   "cell_type": "code",
   "execution_count": null,
   "metadata": {},
   "outputs": [],
   "source": [
    "li = [2,3,5,5,2,3,6,89,4,6,9]\n",
    "li.sort()\n",
    "print(li)"
   ]
  },
  {
   "cell_type": "code",
   "execution_count": null,
   "metadata": {},
   "outputs": [],
   "source": [
    "li = [3,63,4,3,85,2,5]\n",
    "li = sorted(li)\n",
    "print(li)"
   ]
  },
  {
   "cell_type": "code",
   "execution_count": null,
   "metadata": {},
   "outputs": [],
   "source": [
    "a = 'badcefhgijk'\n",
    "a = sorted(a,reverse = True)\n",
    "print(a)"
   ]
  },
  {
   "cell_type": "code",
   "execution_count": null,
   "metadata": {},
   "outputs": [],
   "source": [
    "li = [(15,8),(6,2),(8,10)] #make this program #binary search in python algo\n",
    "for i in range(len(li)):\n",
    "    li[i]=list(li[i])\n",
    "for j in li:\n",
    "    for k in j:\n",
    "        if "
   ]
  },
  {
   "cell_type": "code",
   "execution_count": null,
   "metadata": {},
   "outputs": [],
   "source": [
    "#sum of 2 list in 3rd list\n",
    "l1 = [[2,3],\n",
    "      [4,5]]\n",
    "l2 = [[6,7],\n",
    "      [8,9]]\n",
    "l3 = [[l1[0][0]+l2[0][0],l1[0][1]+l2[0][1]],\n",
    "      [l1[1][0]+l2[1][0],l1[1][1]+l2[1][1]]]\n",
    "l3"
   ]
  },
  {
   "cell_type": "code",
   "execution_count": null,
   "metadata": {},
   "outputs": [],
   "source": [
    "# User defined Nested List\n",
    "n = int(input('Number of elements in list 1 '))\n",
    "m = int(input('Number of elements in list 2 '))\n",
    "l1 = []\n",
    "for i in range(n):\n",
    "    l2 = []\n",
    "    for j in range(m):\n",
    "        b = int(input(''))\n",
    "        l2.append(b)\n",
    "    a = l2\n",
    "    l1.append(a)\n",
    "print(l1)"
   ]
  },
  {
   "cell_type": "code",
   "execution_count": null,
   "metadata": {},
   "outputs": [],
   "source": [
    "#Sorting without function\n",
    "li = []\n",
    "a = int(input('Number of elements in a list ? '))\n",
    "for i in range(a):\n",
    "    b = int(input(''))\n",
    "    li.append(b)\n",
    "for j in range(len(li)):\n",
    "    for k in range(j):\n",
    "        if li[k] > li [j]:\n",
    "            li[k],li[j] = li[j],li[k]\n",
    "print(li)"
   ]
  },
  {
   "cell_type": "code",
   "execution_count": null,
   "metadata": {},
   "outputs": [],
   "source": [
    "#list comprehession\n",
    "li = [5,6,3,4,6,7]\n",
    "l2 = [i for i in li if (i%2!=0)] # variable->loop->condition\n",
    "l2"
   ]
  },
  {
   "cell_type": "code",
   "execution_count": null,
   "metadata": {},
   "outputs": [],
   "source": [
    "#list comprehenssion\n",
    "l1 = [(6,7),(8,9),(2,3)]\n",
    "l2 = [list(i) for i in l1 ]\n",
    "l2"
   ]
  },
  {
   "cell_type": "code",
   "execution_count": null,
   "metadata": {},
   "outputs": [],
   "source": [
    "t1 = (8,7)\n",
    "print(type(t1))"
   ]
  },
  {
   "cell_type": "code",
   "execution_count": null,
   "metadata": {},
   "outputs": [],
   "source": [
    "t2 = 1,2,5,7,3,2\n",
    "print(type(t2))"
   ]
  },
  {
   "cell_type": "code",
   "execution_count": null,
   "metadata": {},
   "outputs": [],
   "source": [
    "t1 = (5,23.7,'python',[2,3,4,5,6])\n",
    "t1[3][1]= 100\n",
    "print(t1)"
   ]
  },
  {
   "cell_type": "code",
   "execution_count": null,
   "metadata": {},
   "outputs": [],
   "source": [
    "t1 = ((4,5,6),(7,8))\n",
    "t1.index((4,5,6))"
   ]
  },
  {
   "cell_type": "code",
   "execution_count": null,
   "metadata": {},
   "outputs": [],
   "source": [
    "t1 = (32,3,5,2,4) #empty tuple cannot add values\n",
    "n = int(input(''))\n",
    "for i in t1:\n",
    "    if n == i:\n",
    "        print(True)\n",
    "    else:\n",
    "        print(False)"
   ]
  },
  {
   "cell_type": "code",
   "execution_count": null,
   "metadata": {},
   "outputs": [],
   "source": [
    "#splitting strings according to an argument\n",
    "s = 'jkwfkbwewf idwfdfgh'\n",
    "s.split('wf',3)"
   ]
  },
  {
   "cell_type": "code",
   "execution_count": null,
   "metadata": {},
   "outputs": [],
   "source": [
    "#joining elements of list in string\n",
    "l1 = ['hi','python','hello']\n",
    "s = ''.join(l1)\n",
    "s"
   ]
  },
  {
   "cell_type": "code",
   "execution_count": null,
   "metadata": {},
   "outputs": [],
   "source": [
    "l = ['is','bye','this','bye','try','hey']\n",
    "s = ''.join(l[1:4:2])\n",
    "s"
   ]
  },
  {
   "cell_type": "code",
   "execution_count": null,
   "metadata": {},
   "outputs": [],
   "source": [
    "#replacing string element\n",
    "l = 'ysjikoyupo'\n",
    "b = l.replace('ys','ah')\n",
    "print(b)"
   ]
  },
  {
   "cell_type": "code",
   "execution_count": null,
   "metadata": {},
   "outputs": [],
   "source": [
    "#user inputs strings, tell no. of substring, print it\n",
    "#print longest substring"
   ]
  },
  {
   "cell_type": "code",
   "execution_count": null,
   "metadata": {},
   "outputs": [],
   "source": [
    "#list rotation\n",
    "ar = []\n",
    "n = int(input('Number of elements in the list '))\n",
    "for i in range(n):\n",
    "    b = int(input(''))\n",
    "    ar.append(b)\n",
    "print(ar)\n",
    "m = int(input('Enter the number of elements to be rotated '))\n",
    "li = ar[m:]+ ar[:m]\n",
    "print(li)"
   ]
  },
  {
   "cell_type": "code",
   "execution_count": null,
   "metadata": {},
   "outputs": [],
   "source": [
    "a1 = []\n",
    "m = int(input('Enter the number of elements you want to move from front to back of list '))\n",
    "for j in range(m):#2\n",
    "    for k in range(len(ar)):\n",
    "        a1.append(ar[k])\n",
    "a1"
   ]
  },
  {
   "cell_type": "code",
   "execution_count": null,
   "metadata": {},
   "outputs": [],
   "source": [
    "#binary seaching in an array\n",
    "ar = []\n",
    "n = int(input('Number of elements in the list '))\n",
    "for i in range(n):\n",
    "    b = int(input(''))\n",
    "    ar.append(b)\n",
    "ar.sort()\n",
    "key = int(input('Enter the element to search '))\n",
    "found = False\n",
    "low = 0\n",
    "high = len(ar)-1\n",
    "while low <= high and not found:\n",
    "    mid = (low+high)//2\n",
    "    if key == ar[mid]:\n",
    "        found = True\n",
    "    elif key < ar[mid]:\n",
    "        high = mid-1\n",
    "    else:\n",
    "        low = mid+1\n",
    "if found == True:\n",
    "    print('Element present')\n",
    "else:\n",
    "    print('Element not present')"
   ]
  },
  {
   "cell_type": "code",
   "execution_count": null,
   "metadata": {},
   "outputs": [],
   "source": [
    "#random number generate\n",
    "import random\n",
    "a = random.randint(1,1000)\n",
    "print(a)"
   ]
  },
  {
   "cell_type": "code",
   "execution_count": null,
   "metadata": {},
   "outputs": [],
   "source": [
    "#random dice\n",
    "import random\n",
    "condition = True\n",
    "while condition:\n",
    "    a = input(\"Enter 'y' to throw dice else press any other key to exit \")\n",
    "    if a == 'y':\n",
    "        number = random.randint(1,6)\n",
    "        print('Your number is ',number)\n",
    "    else:\n",
    "        condition = False\n",
    "        print('Exit')"
   ]
  },
  {
   "cell_type": "code",
   "execution_count": null,
   "metadata": {},
   "outputs": [],
   "source": [
    "#random string generate\n",
    "import random\n",
    "newstr = \"\".join([random.choice('abcd') for i in range(100)])\n",
    "print(newstr)\n",
    "len(newstr)"
   ]
  },
  {
   "cell_type": "code",
   "execution_count": null,
   "metadata": {},
   "outputs": [],
   "source": [
    "#change space to _ and remove special character\n",
    "column_name = ['name','roll number','class$','batch**','father name*']\n"
   ]
  },
  {
   "cell_type": "code",
   "execution_count": null,
   "metadata": {},
   "outputs": [],
   "source": [
    "d = {1:'a',2:'6',True:'y','a':'k'}\n",
    "print(d)"
   ]
  },
  {
   "cell_type": "code",
   "execution_count": null,
   "metadata": {},
   "outputs": [],
   "source": [
    "#dictionary of lists of list\n",
    "li=[[2,'3'],[3,'5']]\n",
    "li = dict(li)\n",
    "print(li)\n",
    "li[2]"
   ]
  },
  {
   "cell_type": "code",
   "execution_count": 2,
   "metadata": {},
   "outputs": [
    {
     "name": "stdout",
     "output_type": "stream",
     "text": [
      "dict_keys([1, 2, 3, 4])\n",
      "dict_values(['a', 'b', 'c', '5'])\n",
      "dict_items([(1, 'a'), (2, 'b'), (3, 'c'), (4, '5')])\n"
     ]
    }
   ],
   "source": [
    "d1= {1:'a',2:'b',3:'c',4:'5'}\n",
    "print(d1.keys())\n",
    "print(d1.values())\n",
    "print(d1.items())"
   ]
  },
  {
   "cell_type": "code",
   "execution_count": null,
   "metadata": {},
   "outputs": [],
   "source": [
    "di = {1:'a',2:'h',3:'t',4:'6'}\n",
    "for i in di.values():\n",
    "    print(i)"
   ]
  },
  {
   "cell_type": "code",
   "execution_count": null,
   "metadata": {},
   "outputs": [],
   "source": [
    "#user defined dictionary\n",
    "a = int(input('Enter the number of elements of dictionary '))\n",
    "di = {}\n",
    "for i in range(a):\n",
    "    b = int(input('Enter the key '))\n",
    "    c = input('Enter the values ')\n",
    "    di[b] = c\n",
    "print(di)"
   ]
  },
  {
   "cell_type": "code",
   "execution_count": null,
   "metadata": {},
   "outputs": [],
   "source": [
    "#do this by while loop\n",
    "a = int(input('Enter the number of elements of dictionary '))\n",
    "di = {}\n",
    "condition = True\n",
    "while condition:\n",
    "    b = int(input('Enter the keys or press 0 to exit '))\n",
    "    if b ==0:\n",
    "        break\n",
    "    c = input('Enter the values ')\n",
    "    di[b] = c\n",
    "print(di)"
   ]
  },
  {
   "cell_type": "code",
   "execution_count": null,
   "metadata": {},
   "outputs": [],
   "source": [
    "#dictionary values in list\n",
    "di = {}\n",
    "condition = True\n",
    "while condition:\n",
    "    li = []\n",
    "    b = int(input('Enter the keys or press 0 to exit '))\n",
    "    if b ==0:\n",
    "        break\n",
    "    c = int(input('Enter the number of values '))\n",
    "    for i in range(c):\n",
    "        d = input('')\n",
    "        li.append(d)\n",
    "        di[b] = li\n",
    "print(di)"
   ]
  },
  {
   "cell_type": "code",
   "execution_count": null,
   "metadata": {},
   "outputs": [],
   "source": [
    "n = int(input(''))\n",
    "li = []\n",
    "for i in range(n):\n",
    "    l1 = []\n",
    "    a = input('')\n",
    "    b = float(input(''))\n",
    "    l1.append(a)\n",
    "    l1.append(b)\n",
    "    li.append(l1)\n",
    "li = sorted(li)\n",
    "print(li)"
   ]
  },
  {
   "cell_type": "code",
   "execution_count": null,
   "metadata": {},
   "outputs": [],
   "source": [
    "game = {}\n",
    "condition = True\n",
    "while condition:\n",
    "    li = []\n",
    "    team_name = input(\"Enter the team name or press 'e' to exit \")\n",
    "    if team_name =='e':\n",
    "        break\n",
    "    else:\n",
    "        number_of_games = int(input('Enter number of games '))\n",
    "        number_of_wins = int(input('Enter number of wins '))\n",
    "        number_of_losses = int(input('Enter number of losses '))\n",
    "        li.append(number_of_games)\n",
    "        li.append(number_of_wins)\n",
    "        li.append(number_of_losses)\n",
    "        game[team_name] = li\n",
    "game"
   ]
  },
  {
   "cell_type": "code",
   "execution_count": null,
   "metadata": {},
   "outputs": [],
   "source": [
    "di = {}\n",
    "b = input('Enter the first key ')\n",
    "c = input('Enter the second key ')\n",
    "d = input('Enter the third key ')\n",
    "condition = True\n",
    "while condition:\n",
    "    d1 = {}\n",
    "    number = int(input('Enter the serial number or press 0 to exit '))\n",
    "    if number ==0:\n",
    "        break\n",
    "    name = input('Enter the name ')\n",
    "    roll = int(input('Enter the roll number '))\n",
    "    classroom = input('Enter the class of student ')\n",
    "    d1[b] = name\n",
    "    d1[c] = roll\n",
    "    d1[d] = classroom\n",
    "    di[number] = d1\n",
    "print(di)"
   ]
  },
  {
   "cell_type": "code",
   "execution_count": 18,
   "metadata": {},
   "outputs": [
    {
     "name": "stdout",
     "output_type": "stream",
     "text": [
      "Enter the serial number or press 0 to exit 1\n",
      "Enter the name sam\n",
      "Enter the roll number 23\n",
      "Enter the class of student 3\n",
      "Enter the serial number or press 0 to exit 0\n",
      "{1: {'name': 'sam', 'roll': 23, 'classroom': '3'}}\n",
      "data 1\n",
      "name = sam\n",
      "roll = 23\n",
      "classroom = 3\n",
      "\n"
     ]
    }
   ],
   "source": [
    "#user defined dictionary\n",
    "di = {}\n",
    "condition = True\n",
    "while condition:\n",
    "    d1 = {}\n",
    "    number = int(input('Enter the serial number or press 0 to exit '))\n",
    "    if number ==0:\n",
    "        break\n",
    "    d1['name'] =input('Enter the name ')\n",
    "    d1['roll'] =int(input('Enter the roll number '))\n",
    "    d1['classroom'] =input('Enter the class of student ')\n",
    "    di[number] = d1\n",
    "print(di)\n",
    "for i, j  in di.items():\n",
    "    print(\"data\", i)\n",
    "    for k, l in j.items():\n",
    "        print(k, \"=\", l)\n",
    "    print()"
   ]
  },
  {
   "cell_type": "code",
   "execution_count": null,
   "metadata": {},
   "outputs": [],
   "source": [
    "di = {1:'hi',3:'hello',4:'tom',5:'jack',7:'not',8:'got'}\n",
    "#del di[5][7]\n",
    "#print(di)\n",
    "#di = sorted(di.items())\n",
    "#print(di)\n",
    "a = int(input('Enter the search item '))\n",
    "for i,j in di.items():\n",
    "    x = 0\n",
    "        if a == i:\n",
    "            x = x+1\n",
    "            print('Found', j)\n",
    "if x == 0:\n",
    "    print('Not found')\n",
    "        "
   ]
  },
  {
   "cell_type": "code",
   "execution_count": null,
   "metadata": {},
   "outputs": [],
   "source": [
    "di = {1:'hi',3:'hello',4:'tom',5:'jack',7:'not',8:'got'}\n",
    "#del di[5][7]\n",
    "#print(di)\n",
    "#di = sorted(di.items())\n",
    "#print(di)\n",
    "a = int(input('Enter the search item '))\n",
    "for i,j in di.items():\n",
    "    if a == i:\n",
    "        print('Found', j)\n",
    "        break\n",
    "else:\n",
    "    print('Not found')"
   ]
  },
  {
   "cell_type": "code",
   "execution_count": null,
   "metadata": {},
   "outputs": [],
   "source": [
    "di = {i:i**2 for i in range(10)}\n",
    "print(di)"
   ]
  },
  {
   "cell_type": "code",
   "execution_count": null,
   "metadata": {},
   "outputs": [],
   "source": [
    "#printing sum of values in a dictionary\n",
    "di = {1:2,'a':4,5:4}\n",
    "s = 0\n",
    "for i in di:\n",
    "    s = s + di[i]\n",
    "print(s)"
   ]
  },
  {
   "cell_type": "code",
   "execution_count": null,
   "metadata": {},
   "outputs": [],
   "source": [
    "#empty sets are defined by set functions\n",
    "# used for finding unique values, finding intersection\n",
    "a = set()\n",
    "a"
   ]
  },
  {
   "cell_type": "code",
   "execution_count": null,
   "metadata": {},
   "outputs": [],
   "source": [
    "set_ = {76,5.0,5,5,2,'d',1,3,2,'t','a',True}\n",
    "di={}\n",
    "for i in li:\n",
    "    di[i] = \"f\"\n",
    "di.keys()\n",
    "set_.add(69)\n",
    "print(set_)"
   ]
  },
  {
   "cell_type": "code",
   "execution_count": null,
   "metadata": {},
   "outputs": [],
   "source": [
    "s = {3,2,1,3,4,3}\n",
    "s.update([2,3,4,6,8,9,9])\n",
    "s"
   ]
  },
  {
   "cell_type": "code",
   "execution_count": null,
   "metadata": {},
   "outputs": [],
   "source": [
    "#user enter values, if integer append set if anything else, break\n",
    "a = set()\n",
    "b = input('Press enter to continue or any character to exit ')\n",
    "while True:\n",
    "    if (len(b)) > 0:\n",
    "        break\n",
    "    c = int(input('Enter any number or press 0 to exit '))\n",
    "    if c == 0:\n",
    "        break\n",
    "    a.add(c)\n",
    "print(a)"
   ]
  },
  {
   "cell_type": "code",
   "execution_count": null,
   "metadata": {},
   "outputs": [],
   "source": [
    "#finding commmon elements in the list\n",
    "l1 = [1,2,3,4,5,6,6,6]\n",
    "l2 = [67,9,9,7,6,54,8,32,3,5,34,7]\n",
    "for i in l1:\n",
    "    if i in l2:\n",
    "        print(i)\n",
    "#print(li)"
   ]
  },
  {
   "cell_type": "code",
   "execution_count": null,
   "metadata": {},
   "outputs": [],
   "source": [
    "#union of lists\n",
    "l1 = [1,2,3,4,5,6,6,6]\n",
    "l2 = [67,9,9,7,6,54,8,32,3,5,34,7]\n",
    "l3 = l1 + l2\n",
    "l4 = []\n",
    "for i in l3:\n",
    "    if i not in l4:\n",
    "        l4.append(i)\n",
    "l4"
   ]
  },
  {
   "cell_type": "code",
   "execution_count": null,
   "metadata": {},
   "outputs": [],
   "source": [
    "#union of sets\n",
    "l1 = {1,2,3,4,5,5,3}\n",
    "l2 = {4,5,2,6,7,8,3}\n",
    "l1 | l2\n",
    "#print(l1.union(l2))"
   ]
  },
  {
   "cell_type": "code",
   "execution_count": null,
   "metadata": {},
   "outputs": [],
   "source": [
    "# intersection of sets\n",
    "l1 = {12,4,34,346,47,78,3,2,14,5,3,634,23}\n",
    "l2 = {645,568,342,3,8,54,23,56,56,3,3,2,4,4,45,2}\n",
    "l1 & l2\n",
    "#print(li.intersection(l2))"
   ]
  },
  {
   "cell_type": "code",
   "execution_count": null,
   "metadata": {},
   "outputs": [],
   "source": [
    "#function addition of 2 numbers\n",
    "def f_name():\n",
    "    a = int(input('Enter first number '))\n",
    "    b = int(input('Enter second number '))\n",
    "    c = a + b\n",
    "    print('sum is',c)\n",
    "f_name()"
   ]
  },
  {
   "cell_type": "code",
   "execution_count": null,
   "metadata": {},
   "outputs": [],
   "source": [
    "a = 10\n",
    "def f1():\n",
    "    print('name')\n",
    "f1()\n",
    "b = 14\n",
    "print(a,b)\n",
    "f1()"
   ]
  },
  {
   "cell_type": "code",
   "execution_count": null,
   "metadata": {},
   "outputs": [],
   "source": [
    "# Type of arguments: 1: default 2: positional 3: keyword 4:arbitrary 4(a): *args 4(b): **kargs"
   ]
  },
  {
   "cell_type": "code",
   "execution_count": null,
   "metadata": {},
   "outputs": [],
   "source": [
    "def f1(a,b):\n",
    "    print(a,b)\n",
    "f1(10)\n",
    "#f1(10,6)"
   ]
  },
  {
   "cell_type": "code",
   "execution_count": null,
   "metadata": {},
   "outputs": [],
   "source": [
    "def f1(a,b=3,c=1,d):\n",
    "    print(a,b,c,d)\n",
    "f1(2,9)"
   ]
  },
  {
   "cell_type": "code",
   "execution_count": null,
   "metadata": {},
   "outputs": [],
   "source": [
    "def f1(a,d,b=3,c=1):\n",
    "    print(a,b,c,d)\n",
    "f1(2,9,7,8)"
   ]
  },
  {
   "cell_type": "code",
   "execution_count": null,
   "metadata": {},
   "outputs": [],
   "source": [
    "def f1(a,b,c,d,e,f,g):\n",
    "    print(a,b,c,d,e,f,g)\n",
    "f1(a=4,d=8,c=7,b=2,g=6,e=10,f=11)"
   ]
  },
  {
   "cell_type": "code",
   "execution_count": null,
   "metadata": {},
   "outputs": [],
   "source": [
    "def f1(a, b, c):\n",
    "    print(a, b, c)\n",
    "f1(12, 5, 6)\n",
    "f1(c = 9, a = 8, b = 67)"
   ]
  },
  {
   "cell_type": "code",
   "execution_count": null,
   "metadata": {},
   "outputs": [],
   "source": [
    "#function to determine even number\n",
    "def f(li):\n",
    "    l1 = []\n",
    "    for i in li:\n",
    "        if i%2==0:\n",
    "            l1.append(i)\n",
    "    print(l1)\n",
    "li = []\n",
    "n = int(input('Enter the number of elements for list '))\n",
    "for i in range(n):\n",
    "    b = int(input(''))\n",
    "    li.append(b)\n",
    "f(li)"
   ]
  },
  {
   "cell_type": "code",
   "execution_count": null,
   "metadata": {},
   "outputs": [],
   "source": [
    "#printing number of variable called in a function\n",
    "def f(*n):\n",
    "    for i in n:\n",
    "        print(i,end=' ')\n",
    "f(1,2,3,4,5,6,7,8)"
   ]
  },
  {
   "cell_type": "code",
   "execution_count": null,
   "metadata": {},
   "outputs": [],
   "source": [
    "def f(li):\n",
    "    sum1 = 0\n",
    "    for i in li:\n",
    "        sum1 = sum1 +(i**2)\n",
    "    print(sum1)\n",
    "li = []\n",
    "n = int(input('Enter the number of integers '))\n",
    "for j in range(n):\n",
    "    b = int(input(''))\n",
    "    li.append(b)\n",
    "f(li)"
   ]
  },
  {
   "cell_type": "code",
   "execution_count": null,
   "metadata": {},
   "outputs": [],
   "source": [
    "def f(*n):\n",
    "    sum1 = 0\n",
    "    for i in n:\n",
    "        sum1 = sum1 + (i**2)\n",
    "    print(sum1)\n",
    "f(1,2,3,4,5,6,7)"
   ]
  },
  {
   "cell_type": "code",
   "execution_count": null,
   "metadata": {},
   "outputs": [],
   "source": [
    "#keyword argument functions (specifically for dictionary)\n",
    "def f1(**n):\n",
    "    for i in n:\n",
    "        print(i)\n",
    "f1(name='python',subject='data science')"
   ]
  },
  {
   "cell_type": "code",
   "execution_count": null,
   "metadata": {},
   "outputs": [],
   "source": [
    "d1 = {'1':'2','2':'3','3':'4'}\n",
    "def f1(**d1):\n",
    "    for i in d1:\n",
    "        print(i)\n",
    "f1(**d1)"
   ]
  },
  {
   "cell_type": "code",
   "execution_count": null,
   "metadata": {},
   "outputs": [],
   "source": [
    "#variable asked to update before assigning value inside the function\n",
    "a = 5\n",
    "def f1():\n",
    "    a = a+5\n",
    "    print(a)\n",
    "f1()\n",
    "print(a)"
   ]
  },
  {
   "cell_type": "code",
   "execution_count": null,
   "metadata": {},
   "outputs": [],
   "source": [
    "#nested functions\n",
    "x = 5\n",
    "def f1():\n",
    "    y = 2\n",
    "    #print(y)\n",
    "    def f2():\n",
    "        z = 3\n",
    "        print(z) #f2() is not been called so does not print 3\n",
    "f1()\n",
    "print(x)"
   ]
  },
  {
   "cell_type": "code",
   "execution_count": 2,
   "metadata": {},
   "outputs": [
    {
     "name": "stdout",
     "output_type": "stream",
     "text": [
      "2 3\n",
      "2 3 2\n"
     ]
    }
   ],
   "source": [
    "a = 2                  # global variable\n",
    "def f1():\n",
    "    b = 3              # non local variable\n",
    "    print(a,b)\n",
    "    def f2():\n",
    "        c = 2          # local variable\n",
    "        print(a,b,c)\n",
    "    f2()\n",
    "f1()"
   ]
  },
  {
   "cell_type": "code",
   "execution_count": 1,
   "metadata": {},
   "outputs": [
    {
     "name": "stdout",
     "output_type": "stream",
     "text": [
      "5\n",
      "7\n",
      "12\n",
      "7\n",
      "9\n",
      "12\n"
     ]
    }
   ],
   "source": [
    "# changing value of global variable and non local variable\n",
    "a = 5\n",
    "print(a)\n",
    "def f1():\n",
    "    global a\n",
    "    a = a+2\n",
    "    b = 10\n",
    "    print(a)\n",
    "    def f2():\n",
    "        nonlocal b\n",
    "        b = b+2\n",
    "        print(b)\n",
    "    f2()\n",
    "f1()\n",
    "print(a)\n",
    "f1()"
   ]
  },
  {
   "cell_type": "code",
   "execution_count": null,
   "metadata": {},
   "outputs": [],
   "source": [
    "a = 5\n",
    "def f1():\n",
    "    b = 3\n",
    "    def f2():\n",
    "        nonlocal b\n",
    "        b = b+2\n",
    "    return b\n",
    "    f2()\n",
    "f1()"
   ]
  },
  {
   "cell_type": "code",
   "execution_count": null,
   "metadata": {},
   "outputs": [],
   "source": [
    "#program to print second lowest student's name in an order in list of students\n",
    "n = int(input('Enter number of students '))\n",
    "li = []\n",
    "for i in range(n):\n",
    "    l1 = []\n",
    "    b = input('Enter the name ')\n",
    "    c = float(input('Enter the marks '))\n",
    "    l1.append(c)\n",
    "    l1.append(b)\n",
    "    li.append(l1)\n",
    "li = sorted(li)\n",
    "s = li[0][0]\n",
    "j=0\n",
    "for i in range(len(li)):\n",
    "    for j in range(len(li[j])):\n",
    "        if li[j][0] == s:\n",
    "            li.remove(li[j])\n",
    "print(li)\n",
    "for i in range(len(li)):\n",
    "    if li[i][0] == li[0][0]:\n",
    "        print(li[i][1])"
   ]
  },
  {
   "cell_type": "code",
   "execution_count": null,
   "metadata": {},
   "outputs": [],
   "source": [
    "def f(li):\n",
    "    tp = tuple(li)\n",
    "    a,b,c = tp\n",
    "    return a,b,c\n",
    "li = [1,2,3]\n",
    "f(li)"
   ]
  },
  {
   "cell_type": "code",
   "execution_count": null,
   "metadata": {},
   "outputs": [],
   "source": [
    "#finding factorial using recursion function\n",
    "def f(n):\n",
    "    if n==1:\n",
    "        return n\n",
    "    else:\n",
    "        return (n*f(n-1))\n",
    "n = int(input(''))\n",
    "f(n)"
   ]
  },
  {
   "cell_type": "code",
   "execution_count": null,
   "metadata": {},
   "outputs": [],
   "source": [
    "def f(li):\n",
    "    for i in li:\n",
    "        if type(i) == int:\n",
    "            print(i)\n",
    "        else:\n",
    "            f(i)\n",
    "li = [5,[10,[40,50,[60]]]]\n",
    "f(li)"
   ]
  },
  {
   "cell_type": "code",
   "execution_count": null,
   "metadata": {},
   "outputs": [],
   "source": [
    "def f1():\n",
    "    '''This function does bla bla bla'''\n",
    "f1.__doc__"
   ]
  },
  {
   "cell_type": "code",
   "execution_count": null,
   "metadata": {},
   "outputs": [],
   "source": [
    "#lambda fuctions\n",
    "lambda argument:expression\n",
    "a = lambda x,y:(x**2)+y\n",
    "a(30,10)"
   ]
  },
  {
   "cell_type": "code",
   "execution_count": null,
   "metadata": {},
   "outputs": [],
   "source": [
    "a = list(map(lambda x:(x**2),[1,2,3,4,5,6])) #Lambda function using map\n",
    "a"
   ]
  },
  {
   "cell_type": "code",
   "execution_count": null,
   "metadata": {},
   "outputs": [],
   "source": [
    "a = list(filter(lambda x:(x%2==0),[1,2,3,4,5,6,7,8,9,10])) #Lambda function using filter\n",
    "a\n"
   ]
  },
  {
   "cell_type": "code",
   "execution_count": null,
   "metadata": {},
   "outputs": [],
   "source": [
    "from functools import * #Lambda function using reduce after importing from 'functools' library\n",
    "# from functools import reduce\n",
    "# import functools --> functools.reduce\n",
    "li = [1,2,3,4,5,6,7,8,9,10]\n",
    "a = reduce(lambda x,y:x+y,li)\n",
    "a"
   ]
  },
  {
   "cell_type": "code",
   "execution_count": null,
   "metadata": {},
   "outputs": [],
   "source": [
    "a = list(map(lambda x:(x**2),(filter(lambda y:(y%2==0),[1,2,3,4,5,6,7,8,9,10]))))\n",
    "a"
   ]
  },
  {
   "cell_type": "code",
   "execution_count": null,
   "metadata": {},
   "outputs": [],
   "source": [
    "li = [(1,2),('',''),(),(8,9),(12,13),(),(),(\"\",\"\")]\n",
    "a = list(filter(lambda x:(x!=()),li))\n",
    "a"
   ]
  },
  {
   "cell_type": "code",
   "execution_count": null,
   "metadata": {},
   "outputs": [],
   "source": [
    "#filtering through list comprehension\n",
    "li = [(1,2),('',''),(),(8,9),(12,13),(),(),(\"\",\"\")]\n",
    "a = [i for i in li if(i!=())]\n",
    "a"
   ]
  },
  {
   "cell_type": "code",
   "execution_count": null,
   "metadata": {},
   "outputs": [],
   "source": [
    "def f1():\n",
    "    def f2():\n",
    "        a = 10\n",
    "        return a\n",
    "    return f2\n",
    "f1()\n",
    "x = f1\n",
    "x()"
   ]
  },
  {
   "cell_type": "code",
   "execution_count": null,
   "metadata": {},
   "outputs": [],
   "source": [
    "#closures only in nested functions\n",
    "def f1():\n",
    "    def f2():\n",
    "        a = 10\n",
    "        return a\n",
    "    return f2\n",
    "y = f1()\n",
    "y()"
   ]
  },
  {
   "cell_type": "code",
   "execution_count": null,
   "metadata": {},
   "outputs": [],
   "source": [
    "def f1(a):\n",
    "    def f2(b):\n",
    "        return a*b\n",
    "    return f2\n",
    "x = f1\n",
    "y = x(20)\n",
    "y(10)"
   ]
  },
  {
   "cell_type": "code",
   "execution_count": null,
   "metadata": {},
   "outputs": [],
   "source": [
    "def f1(a):\n",
    "    def f2(b):\n",
    "        return a*b\n",
    "    return f2\n",
    "x = f1\n",
    "x(13)(10)"
   ]
  },
  {
   "cell_type": "code",
   "execution_count": 20,
   "metadata": {},
   "outputs": [
    {
     "name": "stdout",
     "output_type": "stream",
     "text": [
      "50\n",
      "60\n",
      "1000\n"
     ]
    }
   ],
   "source": [
    "def f1(a):\n",
    "    def f2(b):\n",
    "        return a*b\n",
    "    return f2\n",
    "x = f1(10)\n",
    "y = f1(20)\n",
    "print(x(5))\n",
    "print(y(3))\n",
    "print(y(x(5)))"
   ]
  },
  {
   "cell_type": "code",
   "execution_count": 4,
   "metadata": {},
   "outputs": [
    {
     "data": {
      "text/plain": [
       "0.0"
      ]
     },
     "execution_count": 4,
     "metadata": {},
     "output_type": "execute_result"
    }
   ],
   "source": [
    "import time\n",
    "import random\n",
    "def f1(a):\n",
    "    l2 = []\n",
    "    for i in a:\n",
    "        l2.append(i**2)\n",
    "        return l2\n",
    "li = [random.randint(1,10000) for i in range(10000)]\n",
    "t1 = time.time()\n",
    "f1(li)\n",
    "t2 = time.time()\n",
    "t2- t1"
   ]
  },
  {
   "cell_type": "code",
   "execution_count": 2,
   "metadata": {},
   "outputs": [
    {
     "data": {
      "text/plain": [
       "0.0"
      ]
     },
     "execution_count": 2,
     "metadata": {},
     "output_type": "execute_result"
    }
   ],
   "source": [
    "import time\n",
    "def f1():\n",
    "    l1 = [1,2,3,4,5,6,7]\n",
    "    l2 = [9,8,7,6,5,4,3]\n",
    "    l3 = [l1[i]+l2[i] for i in range(len(l1))]\n",
    "    return l3\n",
    "t1 = time.time()\n",
    "f1()\n",
    "t2 = time.time()\n",
    "t2-t1"
   ]
  },
  {
   "cell_type": "code",
   "execution_count": 1,
   "metadata": {},
   "outputs": [
    {
     "name": "stdout",
     "output_type": "stream",
     "text": [
      "f1 takes time =  0.0\n"
     ]
    },
    {
     "data": {
      "text/plain": [
       "[2025, 16, 484, 529]"
      ]
     },
     "execution_count": 1,
     "metadata": {},
     "output_type": "execute_result"
    }
   ],
   "source": [
    "#decorators (uses functions as arguments)\n",
    "import time\n",
    "def cal_time(func):\n",
    "    def inner(*args,**kargs):\n",
    "        t1 = time.time()\n",
    "        result = func(*args, **kargs)\n",
    "        t2 = time.time()\n",
    "        print(func.__name__, \"takes time = \", t2-t1)\n",
    "        return result\n",
    "    return inner   \n",
    "@cal_time\n",
    "def f1(a):\n",
    "    b = list(map(lambda x:x**2,a))\n",
    "    return (b)\n",
    "a = [45, 4, 22, 23]\n",
    "f1(a)"
   ]
  },
  {
   "cell_type": "code",
   "execution_count": 22,
   "metadata": {},
   "outputs": [
    {
     "data": {
      "text/plain": [
       "60"
      ]
     },
     "execution_count": 22,
     "metadata": {},
     "output_type": "execute_result"
    }
   ],
   "source": [
    "def f1():\n",
    "    a = 10\n",
    "    def f2():\n",
    "        b = a + 20\n",
    "        c = 30 + b\n",
    "        return c\n",
    "    return f2\n",
    "y = f1()\n",
    "y()"
   ]
  },
  {
   "cell_type": "code",
   "execution_count": 18,
   "metadata": {},
   "outputs": [
    {
     "name": "stdout",
     "output_type": "stream",
     "text": [
      "[4, 5, 6, 7, 8, 9]\n",
      "[2, 3, 4, 5, 6, 7, 8, 9]\n",
      "[4, 4, 6, 12]\n",
      "[4, 2, 4, 6, 3, 2, 12, 3, 1]\n"
     ]
    },
    {
     "data": {
      "text/plain": [
       "([4, 4, 6, 12], [4, 2, 4, 6, 3, 2, 12, 3, 1])"
      ]
     },
     "execution_count": 18,
     "metadata": {},
     "output_type": "execute_result"
    }
   ],
   "source": [
    "def ar(func):\n",
    "    def ai(*args,**kargs):\n",
    "        x = list(filter(lambda x:(x>3),*args))\n",
    "        print(x)\n",
    "        y = func(*args,**kargs)\n",
    "        return x,y\n",
    "    return ai\n",
    "@ar\n",
    "def f1(l1):\n",
    "    print(l1)\n",
    "    return l1\n",
    "@ar\n",
    "def f2(l2):\n",
    "    print(l2)\n",
    "f2([2,3,4,5,6,7,8,9])\n",
    "f1([4,2,4,6,3,2,12,3,1])"
   ]
  },
  {
   "cell_type": "code",
   "execution_count": 1,
   "metadata": {},
   "outputs": [
    {
     "name": "stdout",
     "output_type": "stream",
     "text": [
      "4\n",
      "sam\n",
      "23\n",
      "adam\n",
      "21\n",
      "mab\n",
      "22\n",
      "cob\n",
      "22\n",
      "cob\n",
      "mab\n"
     ]
    }
   ],
   "source": [
    "# printing second lowest student in a list\n",
    "def second(student_list):\n",
    "    s_list = []\n",
    "    for student in student_list:\n",
    "        s_list.append(student[1])\n",
    "    sorted_stud = sorted(s_list)\n",
    "    lowest = sorted_stud[0]\n",
    "    for second_low in sorted_stud:\n",
    "        if second_low != lowest:\n",
    "            lowest = second_low\n",
    "            break\n",
    "    names = []\n",
    "    for student in student_list:\n",
    "        if student[1] == lowest:\n",
    "            names.append(student[0])\n",
    "    sorted_name = sorted(names)\n",
    "    for name in sorted_name:\n",
    "        print(name)\n",
    "number_of_student = int(input(''))\n",
    "student_list=[]\n",
    "for student in range(number_of_student):\n",
    "    stud = [input(''),float(input(''))]\n",
    "    student_list.append(stud)\n",
    "second(student_list)"
   ]
  },
  {
   "cell_type": "code",
   "execution_count": 13,
   "metadata": {},
   "outputs": [
    {
     "name": "stdout",
     "output_type": "stream",
     "text": [
      "2\n",
      "sam 43 23 23\n",
      "asf 23 34 23\n",
      "[43.0, 23.0, 23.0, 23.0, 34.0, 23.0]\n"
     ]
    }
   ],
   "source": [
    "n = int(input(''))\n",
    "dic1 = {}\n",
    "for i in range(n):\n",
    "    dic2 = {}\n",
    "    li = []\n",
    "    line = input().split()\n",
    "    dic2['name'] = line[0]\n",
    "    dic2['marks1'] = line[1]\n",
    "    dic2['marks2'] = line[2]\n",
    "    dic2['marks3'] = line[3]\n",
    "    dic1['1'] = dic['name']\n",
    "    dic1['2'] = [float(dic2['marks1']),float(dic2['marks2']),float(dic3['marks3'])]"
   ]
  },
  {
   "cell_type": "code",
   "execution_count": null,
   "metadata": {},
   "outputs": [],
   "source": []
  }
 ],
 "metadata": {
  "kernelspec": {
   "display_name": "Python 3",
   "language": "python",
   "name": "python3"
  },
  "language_info": {
   "codemirror_mode": {
    "name": "ipython",
    "version": 3
   },
   "file_extension": ".py",
   "mimetype": "text/x-python",
   "name": "python",
   "nbconvert_exporter": "python",
   "pygments_lexer": "ipython3",
   "version": "3.7.10"
  }
 },
 "nbformat": 4,
 "nbformat_minor": 2
}

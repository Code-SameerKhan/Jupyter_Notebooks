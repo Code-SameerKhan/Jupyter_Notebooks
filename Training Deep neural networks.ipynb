{
 "cells": [
  {
   "cell_type": "code",
   "execution_count": 1,
   "id": "afraid-selling",
   "metadata": {},
   "outputs": [],
   "source": [
    "import tensorflow as tf\n",
    "from tensorflow import keras"
   ]
  },
  {
   "cell_type": "code",
   "execution_count": 35,
   "id": "suburban-profession",
   "metadata": {},
   "outputs": [],
   "source": [
    "from tensorflow.keras.datasets import cifar10\n",
    "(X_full, y_full), (X_test, y_test) = cifar10.load_data()"
   ]
  },
  {
   "cell_type": "code",
   "execution_count": 36,
   "id": "historical-catering",
   "metadata": {},
   "outputs": [
    {
     "name": "stdout",
     "output_type": "stream",
     "text": [
      "(50000, 32, 32, 3)\n",
      "(10000, 32, 32, 3)\n"
     ]
    }
   ],
   "source": [
    "print(X_full.shape)\n",
    "print(X_test.shape)"
   ]
  },
  {
   "cell_type": "code",
   "execution_count": 15,
   "id": "digital-zealand",
   "metadata": {},
   "outputs": [],
   "source": [
    "import matplotlib.pyplot as plt\n",
    "%matplotlib inline"
   ]
  },
  {
   "cell_type": "code",
   "execution_count": 37,
   "id": "exterior-alexandria",
   "metadata": {},
   "outputs": [
    {
     "data": {
      "text/plain": [
       "<matplotlib.image.AxesImage at 0x1f7ca3784c8>"
      ]
     },
     "execution_count": 37,
     "metadata": {},
     "output_type": "execute_result"
    },
    {
     "data": {
      "image/png": "[encoded data removed]",
      "text/plain": [
       "<Figure size 432x288 with 1 Axes>"
      ]
     },
     "metadata": {
      "needs_background": "light"
     },
     "output_type": "display_data"
    }
   ],
   "source": [
    "plt.imshow(X_train[0])"
   ]
  },
  {
   "cell_type": "markdown",
   "id": "opposed-impression",
   "metadata": {},
   "source": [
    "*Dense Neural Network*"
   ]
  },
  {
   "cell_type": "code",
   "execution_count": 30,
   "id": "false-justice",
   "metadata": {
    "scrolled": true
   },
   "outputs": [],
   "source": [
    "model = keras.models.Sequential()\n",
    "model.add(keras.layers.Flatten(input_shape = [32,32,3]))\n",
    "for _ in range(20):\n",
    "    model.add(keras.layers.Dense(100, activation='elu',kernel_initializer= 'he_normal'))"
   ]
  },
  {
   "cell_type": "code",
   "execution_count": 31,
   "id": "assumed-basics",
   "metadata": {},
   "outputs": [],
   "source": [
    "model.add(keras.layers.Dense(10, activation='softmax'))"
   ]
  },
  {
   "cell_type": "code",
   "execution_count": 33,
   "id": "conditional-leone",
   "metadata": {},
   "outputs": [],
   "source": [
    "optimizer = keras.optimizers.Nadam(learning_rate = 5e-5)"
   ]
  },
  {
   "cell_type": "code",
   "execution_count": 45,
   "id": "civil-modem",
   "metadata": {},
   "outputs": [],
   "source": [
    "model.compile(optimizer=optimizer,\n",
    "             loss = 'sparse_categorical_crossentropy',\n",
    "             metrics=['accuracy'])"
   ]
  },
  {
   "cell_type": "code",
   "execution_count": 41,
   "id": "helpful-tuning",
   "metadata": {},
   "outputs": [],
   "source": [
    "from sklearn.model_selection import train_test_split\n",
    "X_train, X_valid, y_train, y_valid = train_test_split(X_full, y_full,test_size=0.1, random_state=42)"
   ]
  },
  {
   "cell_type": "code",
   "execution_count": 42,
   "id": "shaped-thanks",
   "metadata": {},
   "outputs": [
    {
     "name": "stdout",
     "output_type": "stream",
     "text": [
      "(45000, 32, 32, 3)\n",
      "(5000, 32, 32, 3)\n",
      "(45000, 1)\n",
      "(5000, 1)\n"
     ]
    }
   ],
   "source": [
    "print(X_train.shape)\n",
    "print(X_valid.shape)\n",
    "print(y_train.shape)\n",
    "print(y_valid.shape)"
   ]
  },
  {
   "cell_type": "code",
   "execution_count": 43,
   "id": "protective-documentary",
   "metadata": {},
   "outputs": [],
   "source": [
    "early_stopping_cb = keras.callbacks.EarlyStopping(patience=20)\n",
    "model_checkpoint_cb = keras.callbacks.ModelCheckpoint('my_keras_model.h5', save_best_only=True)\n",
    "callbacks = [early_stopping_cb, model_checkpoint_cb]"
   ]
  },
  {
   "cell_type": "code",
   "execution_count": 46,
   "id": "consecutive-bulgarian",
   "metadata": {},
   "outputs": [
    {
     "name": "stdout",
     "output_type": "stream",
     "text": [
      "Epoch 1/100\n",
      "1407/1407 [==============================] - 30s 17ms/step - loss: 8.1622 - accuracy: 0.1606 - val_loss: 2.2250 - val_accuracy: 0.2082\n",
      "Epoch 2/100\n",
      "1407/1407 [==============================] - 24s 17ms/step - loss: 2.0969 - accuracy: 0.2380 - val_loss: 2.1075 - val_accuracy: 0.2352\n",
      "Epoch 3/100\n",
      "1407/1407 [==============================] - 24s 17ms/step - loss: 1.9725 - accuracy: 0.2803 - val_loss: 2.0585 - val_accuracy: 0.2650\n",
      "Epoch 4/100\n",
      "1407/1407 [==============================] - 24s 17ms/step - loss: 1.8936 - accuracy: 0.3117 - val_loss: 1.9492 - val_accuracy: 0.2858\n",
      "Epoch 5/100\n",
      "1407/1407 [==============================] - 24s 17ms/step - loss: 1.8289 - accuracy: 0.3358 - val_loss: 1.8921 - val_accuracy: 0.3090\n",
      "Epoch 6/100\n",
      "1407/1407 [==============================] - 25s 18ms/step - loss: 1.7776 - accuracy: 0.3566 - val_loss: 1.8093 - val_accuracy: 0.3430\n",
      "Epoch 7/100\n",
      "1407/1407 [==============================] - 24s 17ms/step - loss: 1.7306 - accuracy: 0.3714 - val_loss: 1.8192 - val_accuracy: 0.3410\n",
      "Epoch 8/100\n",
      "1407/1407 [==============================] - 24s 17ms/step - loss: 1.6892 - accuracy: 0.3897 - val_loss: 1.7176 - val_accuracy: 0.3808\n",
      "Epoch 9/100\n",
      "1407/1407 [==============================] - 25s 18ms/step - loss: 1.6564 - accuracy: 0.3984 - val_loss: 1.7513 - val_accuracy: 0.3736\n",
      "Epoch 10/100\n",
      "1407/1407 [==============================] - 24s 17ms/step - loss: 1.6198 - accuracy: 0.4138 - val_loss: 1.6510 - val_accuracy: 0.4030\n",
      "Epoch 11/100\n",
      "1407/1407 [==============================] - 24s 17ms/step - loss: 1.5953 - accuracy: 0.4232 - val_loss: 1.6744 - val_accuracy: 0.3870\n",
      "Epoch 12/100\n",
      "1407/1407 [==============================] - 24s 17ms/step - loss: 1.5686 - accuracy: 0.4336 - val_loss: 1.6771 - val_accuracy: 0.3978\n",
      "Epoch 13/100\n",
      "1407/1407 [==============================] - 24s 17ms/step - loss: 1.5509 - accuracy: 0.4392 - val_loss: 1.6555 - val_accuracy: 0.4066\n",
      "Epoch 14/100\n",
      "1407/1407 [==============================] - 24s 17ms/step - loss: 1.5334 - accuracy: 0.4460 - val_loss: 1.6424 - val_accuracy: 0.3984\n",
      "Epoch 15/100\n",
      "1407/1407 [==============================] - 24s 17ms/step - loss: 1.5123 - accuracy: 0.4534 - val_loss: 1.6227 - val_accuracy: 0.4116\n",
      "Epoch 16/100\n",
      "1407/1407 [==============================] - 24s 17ms/step - loss: 1.4985 - accuracy: 0.4596 - val_loss: 1.6292 - val_accuracy: 0.4096\n",
      "Epoch 17/100\n",
      "1407/1407 [==============================] - 25s 17ms/step - loss: 1.4807 - accuracy: 0.4646 - val_loss: 1.6092 - val_accuracy: 0.4236\n",
      "Epoch 18/100\n",
      "1407/1407 [==============================] - 24s 17ms/step - loss: 1.4657 - accuracy: 0.4735 - val_loss: 1.6235 - val_accuracy: 0.4146\n",
      "Epoch 19/100\n",
      "1407/1407 [==============================] - 25s 18ms/step - loss: 1.4554 - accuracy: 0.4759 - val_loss: 1.5649 - val_accuracy: 0.4404\n",
      "Epoch 20/100\n",
      "1407/1407 [==============================] - 24s 17ms/step - loss: 1.4389 - accuracy: 0.4840 - val_loss: 1.6557 - val_accuracy: 0.4218\n",
      "Epoch 21/100\n",
      "1407/1407 [==============================] - 23s 17ms/step - loss: 1.4296 - accuracy: 0.4854 - val_loss: 1.5811 - val_accuracy: 0.4326\n",
      "Epoch 22/100\n",
      "1407/1407 [==============================] - 24s 17ms/step - loss: 1.4133 - accuracy: 0.4924 - val_loss: 1.5481 - val_accuracy: 0.4466\n",
      "Epoch 23/100\n",
      "1407/1407 [==============================] - 25s 18ms/step - loss: 1.3998 - accuracy: 0.4971 - val_loss: 1.5693 - val_accuracy: 0.4444\n",
      "Epoch 24/100\n",
      "1407/1407 [==============================] - 24s 17ms/step - loss: 1.3883 - accuracy: 0.5005 - val_loss: 1.5437 - val_accuracy: 0.4438\n",
      "Epoch 25/100\n",
      "1407/1407 [==============================] - 26s 19ms/step - loss: 1.3780 - accuracy: 0.5026 - val_loss: 1.5438 - val_accuracy: 0.4514\n",
      "Epoch 26/100\n",
      "1407/1407 [==============================] - 26s 18ms/step - loss: 1.3660 - accuracy: 0.5094 - val_loss: 1.5479 - val_accuracy: 0.4490\n",
      "Epoch 27/100\n",
      "1407/1407 [==============================] - 26s 19ms/step - loss: 1.3551 - accuracy: 0.5134 - val_loss: 1.5380 - val_accuracy: 0.4570\n",
      "Epoch 28/100\n",
      "1407/1407 [==============================] - 28s 20ms/step - loss: 1.3475 - accuracy: 0.5152 - val_loss: 1.5696 - val_accuracy: 0.4450\n",
      "Epoch 29/100\n",
      "1407/1407 [==============================] - 40s 29ms/step - loss: 1.3368 - accuracy: 0.5182 - val_loss: 1.5541 - val_accuracy: 0.4540\n",
      "Epoch 30/100\n",
      "1407/1407 [==============================] - 32s 23ms/step - loss: 1.3228 - accuracy: 0.5230 - val_loss: 1.5826 - val_accuracy: 0.4456\n",
      "Epoch 31/100\n",
      "1407/1407 [==============================] - 27s 19ms/step - loss: 1.3198 - accuracy: 0.5248 - val_loss: 1.5458 - val_accuracy: 0.4528\n",
      "Epoch 32/100\n",
      "1407/1407 [==============================] - 25s 18ms/step - loss: 1.3100 - accuracy: 0.5303 - val_loss: 1.5600 - val_accuracy: 0.4534\n",
      "Epoch 33/100\n",
      "1407/1407 [==============================] - 24s 17ms/step - loss: 1.2988 - accuracy: 0.5319 - val_loss: 1.5248 - val_accuracy: 0.4630\n",
      "Epoch 34/100\n",
      "1407/1407 [==============================] - 24s 17ms/step - loss: 1.2867 - accuracy: 0.5379 - val_loss: 1.5636 - val_accuracy: 0.4484\n",
      "Epoch 35/100\n",
      "1407/1407 [==============================] - 24s 17ms/step - loss: 1.2810 - accuracy: 0.5366 - val_loss: 1.5381 - val_accuracy: 0.4624\n",
      "Epoch 36/100\n",
      "1407/1407 [==============================] - 24s 17ms/step - loss: 1.2683 - accuracy: 0.5440 - val_loss: 1.5661 - val_accuracy: 0.4510\n",
      "Epoch 37/100\n",
      "1407/1407 [==============================] - 24s 17ms/step - loss: 1.2675 - accuracy: 0.5464 - val_loss: 1.5997 - val_accuracy: 0.4508\n",
      "Epoch 38/100\n",
      "1407/1407 [==============================] - 24s 17ms/step - loss: 1.2526 - accuracy: 0.5482 - val_loss: 1.5573 - val_accuracy: 0.4558\n",
      "Epoch 39/100\n",
      "1407/1407 [==============================] - 24s 17ms/step - loss: 1.2465 - accuracy: 0.5513 - val_loss: 1.5607 - val_accuracy: 0.4578\n",
      "Epoch 40/100\n",
      "1407/1407 [==============================] - 24s 17ms/step - loss: 1.2387 - accuracy: 0.5537 - val_loss: 1.5239 - val_accuracy: 0.4652\n",
      "Epoch 41/100\n",
      "1407/1407 [==============================] - 24s 17ms/step - loss: 1.2291 - accuracy: 0.5582 - val_loss: 1.5636 - val_accuracy: 0.4606\n",
      "Epoch 42/100\n",
      "1407/1407 [==============================] - 24s 17ms/step - loss: 1.2213 - accuracy: 0.5603 - val_loss: 1.5236 - val_accuracy: 0.4652\n",
      "Epoch 43/100\n",
      "1407/1407 [==============================] - 24s 17ms/step - loss: 1.2152 - accuracy: 0.5627 - val_loss: 1.6106 - val_accuracy: 0.4506\n",
      "Epoch 44/100\n",
      "1407/1407 [==============================] - 24s 17ms/step - loss: 1.2030 - accuracy: 0.5670 - val_loss: 1.6199 - val_accuracy: 0.4584\n",
      "Epoch 45/100\n",
      "1407/1407 [==============================] - 27s 19ms/step - loss: 1.1975 - accuracy: 0.5694 - val_loss: 1.5861 - val_accuracy: 0.4568\n",
      "Epoch 46/100\n",
      "1407/1407 [==============================] - 25s 17ms/step - loss: 1.1889 - accuracy: 0.5724 - val_loss: 1.6222 - val_accuracy: 0.4534\n",
      "Epoch 47/100\n",
      "1407/1407 [==============================] - 26s 19ms/step - loss: 1.1871 - accuracy: 0.5715 - val_loss: 1.5762 - val_accuracy: 0.4610\n",
      "Epoch 48/100\n",
      "1407/1407 [==============================] - 27s 19ms/step - loss: 1.1738 - accuracy: 0.5772 - val_loss: 1.5724 - val_accuracy: 0.4638\n",
      "Epoch 49/100\n",
      "1407/1407 [==============================] - 25s 18ms/step - loss: 1.1675 - accuracy: 0.5809 - val_loss: 1.6498 - val_accuracy: 0.4544\n",
      "Epoch 50/100\n",
      "1407/1407 [==============================] - 24s 17ms/step - loss: 1.1601 - accuracy: 0.5803 - val_loss: 1.5876 - val_accuracy: 0.4614\n",
      "Epoch 51/100\n",
      "1407/1407 [==============================] - 24s 17ms/step - loss: 1.1525 - accuracy: 0.5856 - val_loss: 1.5871 - val_accuracy: 0.4676\n",
      "Epoch 52/100\n",
      "1407/1407 [==============================] - 24s 17ms/step - loss: 1.1506 - accuracy: 0.5867 - val_loss: 1.6248 - val_accuracy: 0.4524\n",
      "Epoch 53/100\n",
      "1407/1407 [==============================] - 24s 17ms/step - loss: 1.1394 - accuracy: 0.5893 - val_loss: 1.5757 - val_accuracy: 0.4704\n",
      "Epoch 54/100\n",
      "1407/1407 [==============================] - 26s 18ms/step - loss: 1.1299 - accuracy: 0.5945 - val_loss: 1.5675 - val_accuracy: 0.4662\n",
      "Epoch 55/100\n",
      "1407/1407 [==============================] - 26s 18ms/step - loss: 1.1237 - accuracy: 0.5946 - val_loss: 1.5979 - val_accuracy: 0.4644\n",
      "Epoch 56/100\n"
     ]
    },
    {
     "name": "stdout",
     "output_type": "stream",
     "text": [
      "1407/1407 [==============================] - 24s 17ms/step - loss: 1.1147 - accuracy: 0.5987 - val_loss: 1.6355 - val_accuracy: 0.4686\n",
      "Epoch 57/100\n",
      "1407/1407 [==============================] - 25s 18ms/step - loss: 1.1069 - accuracy: 0.6013 - val_loss: 1.6473 - val_accuracy: 0.4522\n",
      "Epoch 58/100\n",
      "1407/1407 [==============================] - 24s 17ms/step - loss: 1.1056 - accuracy: 0.6017 - val_loss: 1.6377 - val_accuracy: 0.4686\n",
      "Epoch 59/100\n",
      "1407/1407 [==============================] - 24s 17ms/step - loss: 1.0966 - accuracy: 0.6056 - val_loss: 1.6375 - val_accuracy: 0.4714\n",
      "Epoch 60/100\n",
      "1407/1407 [==============================] - 24s 17ms/step - loss: 1.0895 - accuracy: 0.6072 - val_loss: 1.6159 - val_accuracy: 0.4704\n",
      "Epoch 61/100\n",
      "1407/1407 [==============================] - 24s 17ms/step - loss: 1.0816 - accuracy: 0.6108 - val_loss: 1.6519 - val_accuracy: 0.4612\n",
      "Epoch 62/100\n",
      "1407/1407 [==============================] - 24s 17ms/step - loss: 1.0749 - accuracy: 0.6128 - val_loss: 1.6126 - val_accuracy: 0.4734\n"
     ]
    },
    {
     "data": {
      "text/plain": [
       "<tensorflow.python.keras.callbacks.History at 0x1f79de74408>"
      ]
     },
     "execution_count": 46,
     "metadata": {},
     "output_type": "execute_result"
    }
   ],
   "source": [
    "model.fit(X_train, y_train, epochs=100, validation_data=(X_valid, y_valid), callbacks=callbacks)"
   ]
  },
  {
   "cell_type": "code",
   "execution_count": 48,
   "id": "foster-impression",
   "metadata": {},
   "outputs": [
    {
     "name": "stdout",
     "output_type": "stream",
     "text": [
      "157/157 [==============================] - 1s 5ms/step - loss: 1.6126 - accuracy: 0.4734\n"
     ]
    }
   ],
   "source": [
    "history_1 = model.evaluate(X_valid,y_valid)"
   ]
  },
  {
   "cell_type": "code",
   "execution_count": 50,
   "id": "recent-emission",
   "metadata": {},
   "outputs": [],
   "source": [
    "import numpy as np\n",
    "keras.backend.clear_session()\n",
    "tf.random.set_seed(42)\n",
    "np.random.seed(42)"
   ]
  },
  {
   "cell_type": "markdown",
   "id": "sufficient-viewer",
   "metadata": {},
   "source": [
    "*With Batch normalization*"
   ]
  },
  {
   "cell_type": "markdown",
   "id": "cardiac-underground",
   "metadata": {},
   "source": [
    "*With HE kernel initiaiizer and ELU activation*"
   ]
  },
  {
   "cell_type": "code",
   "execution_count": 51,
   "id": "sunrise-species",
   "metadata": {},
   "outputs": [],
   "source": [
    "model = keras.models.Sequential()\n",
    "model.add(keras.layers.Flatten(input_shape = [32,32,3]))\n",
    "model.add(keras.layers.BatchNormalization())\n",
    "\n",
    "for _ in range(20):\n",
    "    model.add(keras.layers.Dense(100, kernel_initializer = 'he_normal'))\n",
    "    model.add(keras.layers.BatchNormalization())\n",
    "    model.add(keras.layers.Activation('elu'))\n",
    "model.add(keras.layers.Dense(10, activation='softmax'))\n",
    "\n",
    "optimizer = keras.optimizers.Nadam(learning_rate=5e-4)\n",
    "model.compile(optimizer=optimizer,\n",
    "             loss = 'sparse_categorical_crossentropy',\n",
    "             metrics = ['accuracy'])"
   ]
  },
  {
   "cell_type": "code",
   "execution_count": 52,
   "id": "monetary-pleasure",
   "metadata": {},
   "outputs": [],
   "source": [
    "early_stopping_cb = keras.callbacks.EarlyStopping(patience=20)\n",
    "model_checkpoints_cb = keras.callbacks.ModelCheckpoint('my_cifar10_bn_model.h5',save_best_only=True)\n",
    "callbacks = [early_stopping_cb, model_checkpoints_cb]"
   ]
  },
  {
   "cell_type": "code",
   "execution_count": 53,
   "id": "fallen-telescope",
   "metadata": {},
   "outputs": [
    {
     "name": "stdout",
     "output_type": "stream",
     "text": [
      "Epoch 1/100\n",
      "1407/1407 [==============================] - 53s 26ms/step - loss: 1.8367 - accuracy: 0.3453 - val_loss: 1.6974 - val_accuracy: 0.3906\n",
      "Epoch 2/100\n",
      "1407/1407 [==============================] - 36s 26ms/step - loss: 1.6605 - accuracy: 0.4080 - val_loss: 1.5916 - val_accuracy: 0.4290\n",
      "Epoch 3/100\n",
      "1407/1407 [==============================] - 41s 29ms/step - loss: 1.5979 - accuracy: 0.4303 - val_loss: 1.5447 - val_accuracy: 0.4416\n",
      "Epoch 4/100\n",
      "1407/1407 [==============================] - 40s 29ms/step - loss: 1.5448 - accuracy: 0.4514 - val_loss: 1.4928 - val_accuracy: 0.4586\n",
      "Epoch 5/100\n",
      "1407/1407 [==============================] - 36s 26ms/step - loss: 1.5020 - accuracy: 0.4646 - val_loss: 1.4670 - val_accuracy: 0.4706\n",
      "Epoch 6/100\n",
      "1407/1407 [==============================] - 36s 26ms/step - loss: 1.4667 - accuracy: 0.4758 - val_loss: 1.4761 - val_accuracy: 0.4734\n",
      "Epoch 7/100\n",
      "1407/1407 [==============================] - 36s 26ms/step - loss: 1.4266 - accuracy: 0.4916 - val_loss: 1.4329 - val_accuracy: 0.4924\n",
      "Epoch 8/100\n",
      "1407/1407 [==============================] - 39s 27ms/step - loss: 1.4069 - accuracy: 0.4985 - val_loss: 1.4446 - val_accuracy: 0.4764\n",
      "Epoch 9/100\n",
      "1407/1407 [==============================] - 39s 27ms/step - loss: 1.3782 - accuracy: 0.5113 - val_loss: 1.3777 - val_accuracy: 0.5034\n",
      "Epoch 10/100\n",
      "1407/1407 [==============================] - 37s 26ms/step - loss: 1.3552 - accuracy: 0.5212 - val_loss: 1.4085 - val_accuracy: 0.5054\n",
      "Epoch 11/100\n",
      "1407/1407 [==============================] - 37s 26ms/step - loss: 1.3359 - accuracy: 0.5266 - val_loss: 1.3908 - val_accuracy: 0.5082\n",
      "Epoch 12/100\n",
      "1407/1407 [==============================] - 36s 26ms/step - loss: 1.3135 - accuracy: 0.5354 - val_loss: 1.4184 - val_accuracy: 0.4974\n",
      "Epoch 13/100\n",
      "1407/1407 [==============================] - 36s 26ms/step - loss: 1.2984 - accuracy: 0.5401 - val_loss: 1.3704 - val_accuracy: 0.5112\n",
      "Epoch 14/100\n",
      "1407/1407 [==============================] - 36s 26ms/step - loss: 1.2788 - accuracy: 0.5478 - val_loss: 1.3809 - val_accuracy: 0.5100\n",
      "Epoch 15/100\n",
      "1407/1407 [==============================] - 36s 26ms/step - loss: 1.2611 - accuracy: 0.5536 - val_loss: 1.3723 - val_accuracy: 0.5120\n",
      "Epoch 16/100\n",
      "1407/1407 [==============================] - 36s 26ms/step - loss: 1.2396 - accuracy: 0.5644 - val_loss: 1.3834 - val_accuracy: 0.5172\n",
      "Epoch 17/100\n",
      "1407/1407 [==============================] - 38s 27ms/step - loss: 1.2296 - accuracy: 0.5661 - val_loss: 1.3684 - val_accuracy: 0.5174\n",
      "Epoch 18/100\n",
      "1407/1407 [==============================] - 38s 27ms/step - loss: 1.2164 - accuracy: 0.5737 - val_loss: 1.3796 - val_accuracy: 0.5146\n",
      "Epoch 19/100\n",
      "1407/1407 [==============================] - 38s 27ms/step - loss: 1.1960 - accuracy: 0.5777 - val_loss: 1.3901 - val_accuracy: 0.5106\n",
      "Epoch 20/100\n",
      "1407/1407 [==============================] - 42s 30ms/step - loss: 1.1849 - accuracy: 0.5799 - val_loss: 1.3590 - val_accuracy: 0.5256\n",
      "Epoch 21/100\n",
      "1407/1407 [==============================] - 37s 26ms/step - loss: 1.1788 - accuracy: 0.5831 - val_loss: 1.3744 - val_accuracy: 0.5200\n",
      "Epoch 22/100\n",
      "1407/1407 [==============================] - 37s 26ms/step - loss: 1.1564 - accuracy: 0.5935 - val_loss: 1.3644 - val_accuracy: 0.5142\n",
      "Epoch 23/100\n",
      "1407/1407 [==============================] - 37s 26ms/step - loss: 1.1486 - accuracy: 0.5960 - val_loss: 1.3892 - val_accuracy: 0.5208\n",
      "Epoch 24/100\n",
      "1407/1407 [==============================] - 36s 26ms/step - loss: 1.1314 - accuracy: 0.6007 - val_loss: 1.3963 - val_accuracy: 0.5120\n",
      "Epoch 25/100\n",
      "1407/1407 [==============================] - 36s 26ms/step - loss: 1.1222 - accuracy: 0.6040 - val_loss: 1.3660 - val_accuracy: 0.5288\n",
      "Epoch 26/100\n",
      "1407/1407 [==============================] - 38s 27ms/step - loss: 1.1158 - accuracy: 0.6069 - val_loss: 1.3505 - val_accuracy: 0.5346\n",
      "Epoch 27/100\n",
      "1407/1407 [==============================] - 42s 30ms/step - loss: 1.1049 - accuracy: 0.6110 - val_loss: 1.3752 - val_accuracy: 0.5214\n",
      "Epoch 28/100\n",
      "1407/1407 [==============================] - 50s 35ms/step - loss: 1.0872 - accuracy: 0.6174 - val_loss: 1.3748 - val_accuracy: 0.5166\n",
      "Epoch 29/100\n",
      "1407/1407 [==============================] - 47s 34ms/step - loss: 1.0704 - accuracy: 0.6231 - val_loss: 1.3787 - val_accuracy: 0.5258\n",
      "Epoch 30/100\n",
      "1407/1407 [==============================] - 40s 28ms/step - loss: 1.0657 - accuracy: 0.6235 - val_loss: 1.3667 - val_accuracy: 0.5288\n",
      "Epoch 31/100\n",
      "1407/1407 [==============================] - 36s 25ms/step - loss: 1.0515 - accuracy: 0.6258 - val_loss: 1.3527 - val_accuracy: 0.5328\n",
      "Epoch 32/100\n",
      "1407/1407 [==============================] - 36s 25ms/step - loss: 1.0462 - accuracy: 0.6312 - val_loss: 1.3694 - val_accuracy: 0.5364\n",
      "Epoch 33/100\n",
      "1407/1407 [==============================] - 36s 26ms/step - loss: 1.0320 - accuracy: 0.6341 - val_loss: 1.3802 - val_accuracy: 0.5214\n",
      "Epoch 34/100\n",
      "1407/1407 [==============================] - 38s 27ms/step - loss: 1.0239 - accuracy: 0.6402 - val_loss: 1.3925 - val_accuracy: 0.5276\n",
      "Epoch 35/100\n",
      "1407/1407 [==============================] - 41s 29ms/step - loss: 1.0159 - accuracy: 0.6427 - val_loss: 1.3972 - val_accuracy: 0.5306\n",
      "Epoch 36/100\n",
      "1407/1407 [==============================] - 37s 27ms/step - loss: 1.0067 - accuracy: 0.6451 - val_loss: 1.3934 - val_accuracy: 0.5296\n",
      "Epoch 37/100\n",
      "1407/1407 [==============================] - 36s 26ms/step - loss: 0.9920 - accuracy: 0.6509 - val_loss: 1.3865 - val_accuracy: 0.5304\n",
      "Epoch 38/100\n",
      "1407/1407 [==============================] - 37s 26ms/step - loss: 0.9853 - accuracy: 0.6537 - val_loss: 1.3688 - val_accuracy: 0.5366\n",
      "Epoch 39/100\n",
      "1407/1407 [==============================] - 36s 26ms/step - loss: 0.9801 - accuracy: 0.6544 - val_loss: 1.4065 - val_accuracy: 0.5222\n",
      "Epoch 40/100\n",
      "1407/1407 [==============================] - 36s 26ms/step - loss: 0.9675 - accuracy: 0.6606 - val_loss: 1.4027 - val_accuracy: 0.5200\n",
      "Epoch 41/100\n",
      "1407/1407 [==============================] - 36s 26ms/step - loss: 0.9669 - accuracy: 0.6584 - val_loss: 1.4224 - val_accuracy: 0.5200\n",
      "Epoch 42/100\n",
      "1407/1407 [==============================] - 36s 26ms/step - loss: 0.9495 - accuracy: 0.6666 - val_loss: 1.4367 - val_accuracy: 0.5178\n",
      "Epoch 43/100\n",
      "1407/1407 [==============================] - 36s 26ms/step - loss: 0.9461 - accuracy: 0.6644 - val_loss: 1.4141 - val_accuracy: 0.5188\n",
      "Epoch 44/100\n",
      "1407/1407 [==============================] - 37s 26ms/step - loss: 0.9388 - accuracy: 0.6705 - val_loss: 1.4463 - val_accuracy: 0.5236\n",
      "Epoch 45/100\n",
      "1407/1407 [==============================] - 36s 26ms/step - loss: 0.9342 - accuracy: 0.6686 - val_loss: 1.4577 - val_accuracy: 0.5224\n",
      "Epoch 46/100\n",
      "1407/1407 [==============================] - 36s 26ms/step - loss: 0.9222 - accuracy: 0.6742 - val_loss: 1.4399 - val_accuracy: 0.5230\n"
     ]
    },
    {
     "data": {
      "text/plain": [
       "<tensorflow.python.keras.callbacks.History at 0x1f77ea20348>"
      ]
     },
     "execution_count": 53,
     "metadata": {},
     "output_type": "execute_result"
    }
   ],
   "source": [
    "model.fit(X_train,y_train, epochs=100, validation_data=(X_valid, y_valid), callbacks=callbacks)"
   ]
  },
  {
   "cell_type": "code",
   "execution_count": 54,
   "id": "posted-baptist",
   "metadata": {},
   "outputs": [
    {
     "name": "stdout",
     "output_type": "stream",
     "text": [
      "157/157 [==============================] - 1s 6ms/step - loss: 1.4399 - accuracy: 0.5230\n"
     ]
    },
    {
     "data": {
      "text/plain": [
       "[1.4398589134216309, 0.5230000019073486]"
      ]
     },
     "execution_count": 54,
     "metadata": {},
     "output_type": "execute_result"
    }
   ],
   "source": [
    "model.evaluate(X_valid,y_valid)"
   ]
  },
  {
   "cell_type": "code",
   "execution_count": 55,
   "id": "overall-investing",
   "metadata": {},
   "outputs": [],
   "source": [
    "keras.backend.clear_session()\n",
    "tf.random.set_seed(42)\n",
    "np.random.seed(42)"
   ]
  },
  {
   "cell_type": "markdown",
   "id": "valued-findings",
   "metadata": {},
   "source": [
    "*With Lecun kernel intializer and SELU activation*"
   ]
  },
  {
   "cell_type": "code",
   "execution_count": 57,
   "id": "fresh-butter",
   "metadata": {},
   "outputs": [],
   "source": [
    "model = keras.models.Sequential()\n",
    "model.add(keras.layers.Flatten(input_shape=[32,32,3]))\n",
    "for _ in range(20):\n",
    "    model.add(keras.layers.Dense(100, \n",
    "                                 kernel_initializer = 'lecun_normal',\n",
    "                                 activation = 'selu'))\n",
    "model.add(keras.layers.Dense(10, activation='softmax'))\n",
    "\n",
    "optimizer = keras.optimizers.Nadam(learning_rate=7e-5)\n",
    "\n",
    "model.compile(optimizer=optimizer,\n",
    "             loss='sparse_categorical_crossentropy',\n",
    "             metrics = ['accuracy'])"
   ]
  },
  {
   "cell_type": "code",
   "execution_count": 59,
   "id": "valid-palace",
   "metadata": {},
   "outputs": [],
   "source": [
    "early_stopping_cb = keras.callbacks.EarlyStopping(patience=20)\n",
    "model_checkpoints_cb = keras.callbacks.ModelCheckpoint('my_cifar10_selu_model.h5',save_best_only=True)\n",
    "callbacks = [early_stopping_cb, model_checkpoints_cb]"
   ]
  },
  {
   "cell_type": "code",
   "execution_count": 60,
   "id": "instructional-conservation",
   "metadata": {},
   "outputs": [
    {
     "name": "stdout",
     "output_type": "stream",
     "text": [
      "Epoch 1/100\n",
      "1407/1407 [==============================] - 30s 18ms/step - loss: 1.9333 - accuracy: 0.2929 - val_loss: 1.8158 - val_accuracy: 0.3406\n",
      "Epoch 2/100\n",
      "1407/1407 [==============================] - 25s 18ms/step - loss: 1.7629 - accuracy: 0.3613 - val_loss: 1.7679 - val_accuracy: 0.3498\n",
      "Epoch 3/100\n",
      "1407/1407 [==============================] - 25s 18ms/step - loss: 1.6854 - accuracy: 0.3894 - val_loss: 1.8051 - val_accuracy: 0.3440\n",
      "Epoch 4/100\n",
      "1407/1407 [==============================] - 25s 18ms/step - loss: 1.6271 - accuracy: 0.4138 - val_loss: 1.6957 - val_accuracy: 0.3826\n",
      "Epoch 5/100\n",
      "1407/1407 [==============================] - 25s 18ms/step - loss: 1.5859 - accuracy: 0.4260 - val_loss: 1.6619 - val_accuracy: 0.3964\n",
      "Epoch 6/100\n",
      "1407/1407 [==============================] - 25s 18ms/step - loss: 1.5518 - accuracy: 0.4405 - val_loss: 1.6341 - val_accuracy: 0.4224\n",
      "Epoch 7/100\n",
      "1407/1407 [==============================] - 21s 15ms/step - loss: 1.5284 - accuracy: 0.4505 - val_loss: 1.6046 - val_accuracy: 0.4286\n",
      "Epoch 8/100\n",
      "1407/1407 [==============================] - 16s 12ms/step - loss: 1.5017 - accuracy: 0.4587 - val_loss: 1.6001 - val_accuracy: 0.4146\n",
      "Epoch 9/100\n",
      "1407/1407 [==============================] - 16s 12ms/step - loss: 1.4792 - accuracy: 0.4684 - val_loss: 1.5720 - val_accuracy: 0.4330\n",
      "Epoch 10/100\n",
      "1407/1407 [==============================] - 16s 12ms/step - loss: 1.4589 - accuracy: 0.4758 - val_loss: 1.5366 - val_accuracy: 0.4514\n",
      "Epoch 11/100\n",
      "1407/1407 [==============================] - 16s 12ms/step - loss: 1.4351 - accuracy: 0.4841 - val_loss: 1.5454 - val_accuracy: 0.4500\n",
      "Epoch 12/100\n",
      "1407/1407 [==============================] - 16s 12ms/step - loss: 1.4191 - accuracy: 0.4910 - val_loss: 1.5294 - val_accuracy: 0.4490\n",
      "Epoch 13/100\n",
      "1407/1407 [==============================] - 16s 12ms/step - loss: 1.3982 - accuracy: 0.4953 - val_loss: 1.5856 - val_accuracy: 0.4384\n",
      "Epoch 14/100\n",
      "1407/1407 [==============================] - 16s 12ms/step - loss: 1.3837 - accuracy: 0.5032 - val_loss: 1.5501 - val_accuracy: 0.4464\n",
      "Epoch 15/100\n",
      "1407/1407 [==============================] - 16s 12ms/step - loss: 1.3691 - accuracy: 0.5068 - val_loss: 1.5827 - val_accuracy: 0.4438\n",
      "Epoch 16/100\n",
      "1407/1407 [==============================] - 16s 12ms/step - loss: 1.3544 - accuracy: 0.5134 - val_loss: 1.5192 - val_accuracy: 0.4526\n",
      "Epoch 17/100\n",
      "1407/1407 [==============================] - 16s 12ms/step - loss: 1.3378 - accuracy: 0.5200 - val_loss: 1.4986 - val_accuracy: 0.4648\n",
      "Epoch 18/100\n",
      "1407/1407 [==============================] - 20s 14ms/step - loss: 1.3248 - accuracy: 0.5221 - val_loss: 1.4977 - val_accuracy: 0.4660\n",
      "Epoch 19/100\n",
      "1407/1407 [==============================] - 26s 18ms/step - loss: 1.3076 - accuracy: 0.5302 - val_loss: 1.5515 - val_accuracy: 0.4524\n",
      "Epoch 20/100\n",
      "1407/1407 [==============================] - 16s 12ms/step - loss: 1.2938 - accuracy: 0.5342 - val_loss: 1.4955 - val_accuracy: 0.4688\n",
      "Epoch 21/100\n",
      "1407/1407 [==============================] - 16s 12ms/step - loss: 1.2839 - accuracy: 0.5396 - val_loss: 1.4940 - val_accuracy: 0.4680\n",
      "Epoch 22/100\n",
      "1407/1407 [==============================] - 16s 12ms/step - loss: 1.2655 - accuracy: 0.5475 - val_loss: 1.5153 - val_accuracy: 0.4610\n",
      "Epoch 23/100\n",
      "1407/1407 [==============================] - 16s 12ms/step - loss: 1.2552 - accuracy: 0.5482 - val_loss: 1.5312 - val_accuracy: 0.4612\n",
      "Epoch 24/100\n",
      "1407/1407 [==============================] - 19s 14ms/step - loss: 1.2417 - accuracy: 0.5531 - val_loss: 1.5095 - val_accuracy: 0.4672\n",
      "Epoch 25/100\n",
      "1407/1407 [==============================] - 28s 20ms/step - loss: 1.2294 - accuracy: 0.5592 - val_loss: 1.5046 - val_accuracy: 0.4762\n",
      "Epoch 26/100\n",
      "1407/1407 [==============================] - 17s 12ms/step - loss: 1.2206 - accuracy: 0.5614 - val_loss: 1.4892 - val_accuracy: 0.4764\n",
      "Epoch 27/100\n",
      "1407/1407 [==============================] - 17s 12ms/step - loss: 1.2056 - accuracy: 0.5662 - val_loss: 1.5119 - val_accuracy: 0.4822\n",
      "Epoch 28/100\n",
      "1407/1407 [==============================] - 18s 13ms/step - loss: 1.1930 - accuracy: 0.5718 - val_loss: 1.5110 - val_accuracy: 0.4724\n",
      "Epoch 29/100\n",
      "1407/1407 [==============================] - 27s 19ms/step - loss: 1.1806 - accuracy: 0.5782 - val_loss: 1.5361 - val_accuracy: 0.4730\n",
      "Epoch 30/100\n",
      "1407/1407 [==============================] - 21s 15ms/step - loss: 1.1696 - accuracy: 0.5799 - val_loss: 1.5369 - val_accuracy: 0.4756\n",
      "Epoch 31/100\n",
      "1407/1407 [==============================] - 16s 11ms/step - loss: 1.1606 - accuracy: 0.5813 - val_loss: 1.5050 - val_accuracy: 0.4822\n",
      "Epoch 32/100\n",
      "1407/1407 [==============================] - 16s 12ms/step - loss: 1.1455 - accuracy: 0.5892 - val_loss: 1.5411 - val_accuracy: 0.4746\n",
      "Epoch 33/100\n",
      "1407/1407 [==============================] - 16s 12ms/step - loss: 1.1370 - accuracy: 0.5904 - val_loss: 1.5420 - val_accuracy: 0.4812\n",
      "Epoch 34/100\n",
      "1407/1407 [==============================] - 22s 16ms/step - loss: 1.1259 - accuracy: 0.5972 - val_loss: 1.4931 - val_accuracy: 0.4848\n",
      "Epoch 35/100\n",
      "1407/1407 [==============================] - 26s 18ms/step - loss: 1.1119 - accuracy: 0.6003 - val_loss: 1.5329 - val_accuracy: 0.4796\n",
      "Epoch 36/100\n",
      "1407/1407 [==============================] - 16s 12ms/step - loss: 1.1061 - accuracy: 0.6006 - val_loss: 1.5230 - val_accuracy: 0.4780\n",
      "Epoch 37/100\n",
      "1407/1407 [==============================] - 17s 12ms/step - loss: 1.0902 - accuracy: 0.6087 - val_loss: 1.5613 - val_accuracy: 0.4780\n",
      "Epoch 38/100\n",
      "1407/1407 [==============================] - 17s 12ms/step - loss: 1.0779 - accuracy: 0.6115 - val_loss: 1.5527 - val_accuracy: 0.4836\n",
      "Epoch 39/100\n",
      "1407/1407 [==============================] - 29s 20ms/step - loss: 1.0697 - accuracy: 0.6162 - val_loss: 1.5634 - val_accuracy: 0.4670\n",
      "Epoch 40/100\n",
      "1407/1407 [==============================] - 24s 17ms/step - loss: 1.0596 - accuracy: 0.6201 - val_loss: 1.5524 - val_accuracy: 0.4812\n",
      "Epoch 41/100\n",
      "1407/1407 [==============================] - 16s 11ms/step - loss: 1.0468 - accuracy: 0.6214 - val_loss: 1.5386 - val_accuracy: 0.4828\n",
      "Epoch 42/100\n",
      "1407/1407 [==============================] - 16s 12ms/step - loss: 1.0368 - accuracy: 0.6247 - val_loss: 1.6227 - val_accuracy: 0.4754\n",
      "Epoch 43/100\n",
      "1407/1407 [==============================] - 16s 12ms/step - loss: 1.0271 - accuracy: 0.6307 - val_loss: 1.5717 - val_accuracy: 0.4864\n",
      "Epoch 44/100\n",
      "1407/1407 [==============================] - 17s 12ms/step - loss: 1.0148 - accuracy: 0.6360 - val_loss: 1.5968 - val_accuracy: 0.4848\n",
      "Epoch 45/100\n",
      "1407/1407 [==============================] - 23s 16ms/step - loss: 1.0087 - accuracy: 0.6396 - val_loss: 1.5789 - val_accuracy: 0.4756\n",
      "Epoch 46/100\n",
      "1407/1407 [==============================] - 25s 18ms/step - loss: 0.9943 - accuracy: 0.6416 - val_loss: 1.6164 - val_accuracy: 0.4816\n"
     ]
    },
    {
     "data": {
      "text/plain": [
       "<tensorflow.python.keras.callbacks.History at 0x1f792f267c8>"
      ]
     },
     "execution_count": 60,
     "metadata": {},
     "output_type": "execute_result"
    }
   ],
   "source": [
    "model.fit(X_train, y_train, epochs=100, validation_data=(X_valid, y_valid), callbacks=callbacks)"
   ]
  },
  {
   "cell_type": "code",
   "execution_count": 61,
   "id": "collect-somerset",
   "metadata": {},
   "outputs": [
    {
     "name": "stdout",
     "output_type": "stream",
     "text": [
      "157/157 [==============================] - 1s 3ms/step - loss: 1.6164 - accuracy: 0.4816\n"
     ]
    },
    {
     "data": {
      "text/plain": [
       "[1.6164193153381348, 0.48159998655319214]"
      ]
     },
     "execution_count": 61,
     "metadata": {},
     "output_type": "execute_result"
    }
   ],
   "source": [
    "model.evaluate(X_valid,y_valid)"
   ]
  },
  {
   "cell_type": "code",
   "execution_count": 62,
   "id": "italian-membership",
   "metadata": {},
   "outputs": [],
   "source": [
    "keras.backend.clear_session()\n",
    "tf.random.set_seed(42)\n",
    "np.random.seed(42)"
   ]
  },
  {
   "cell_type": "markdown",
   "id": "aggregate-maple",
   "metadata": {},
   "source": [
    "*With Alpha Dropout*"
   ]
  },
  {
   "cell_type": "code",
   "execution_count": 64,
   "id": "qualified-garlic",
   "metadata": {},
   "outputs": [],
   "source": [
    "model = keras.models.Sequential()#\n",
    "model.add(keras.layers.Flatten(input_shape=[32,32,3]))\n",
    "for _ in range(20):\n",
    "    model.add(keras.layers.Dense(100, activation='selu', kernel_initializer = 'lecun_normal'))\n",
    "\n",
    "model.add(keras.layers.AlphaDropout(rate=0.1))\n",
    "model.add(keras.layers.Dense(10, activation='softmax'))\n",
    "\n",
    "optimizer = keras.optimizers.Nadam(5e-4)\n",
    "model.compile(optimizer=optimizer,\n",
    "             loss = 'sparse_categorical_crossentropy',\n",
    "             metrics = ['accuracy'])"
   ]
  },
  {
   "cell_type": "code",
   "execution_count": 65,
   "id": "stuffed-vulnerability",
   "metadata": {},
   "outputs": [],
   "source": [
    "early_stopping_cb = keras.callbacks.EarlyStopping(patience=20)\n",
    "model_checkpoints_cb = keras.callbacks.ModelCheckpoint('my_cifar10_alpha_dropout_model.h5',\n",
    "                                                       save_best_only=True)\n",
    "callbacks = [early_stopping_cb, model_checkpoints_cb]"
   ]
  },
  {
   "cell_type": "code",
   "execution_count": 70,
   "id": "musical-royalty",
   "metadata": {},
   "outputs": [
    {
     "name": "stdout",
     "output_type": "stream",
     "text": [
      "Epoch 1/100\n",
      "1407/1407 [==============================] - 28s 15ms/step - loss: 1.8338 - accuracy: 0.3112 - val_loss: 1.6896 - val_accuracy: 0.3974\n",
      "Epoch 2/100\n",
      "1407/1407 [==============================] - 20s 15ms/step - loss: 1.5826 - accuracy: 0.4234 - val_loss: 1.6344 - val_accuracy: 0.4248\n",
      "Epoch 3/100\n",
      "1407/1407 [==============================] - 19s 14ms/step - loss: 1.5030 - accuracy: 0.4575 - val_loss: 1.5918 - val_accuracy: 0.4310\n",
      "Epoch 4/100\n",
      "1407/1407 [==============================] - 19s 14ms/step - loss: 1.4566 - accuracy: 0.4743 - val_loss: 1.5780 - val_accuracy: 0.4464\n",
      "Epoch 5/100\n",
      "1407/1407 [==============================] - 19s 14ms/step - loss: 1.4186 - accuracy: 0.4896 - val_loss: 1.5595 - val_accuracy: 0.4556\n",
      "Epoch 6/100\n",
      "1407/1407 [==============================] - 19s 14ms/step - loss: 1.3824 - accuracy: 0.5033 - val_loss: 1.5269 - val_accuracy: 0.4608\n",
      "Epoch 7/100\n",
      "1407/1407 [==============================] - 19s 14ms/step - loss: 1.3492 - accuracy: 0.5168 - val_loss: 1.5429 - val_accuracy: 0.4752\n",
      "Epoch 8/100\n",
      "1407/1407 [==============================] - 19s 14ms/step - loss: 1.3237 - accuracy: 0.5227 - val_loss: 1.6207 - val_accuracy: 0.4604\n",
      "Epoch 9/100\n",
      "1407/1407 [==============================] - 19s 14ms/step - loss: 1.2983 - accuracy: 0.5359 - val_loss: 1.5371 - val_accuracy: 0.4824\n",
      "Epoch 10/100\n",
      "1407/1407 [==============================] - 19s 14ms/step - loss: 1.2704 - accuracy: 0.5456 - val_loss: 1.5360 - val_accuracy: 0.4754\n",
      "Epoch 11/100\n",
      "1407/1407 [==============================] - 19s 14ms/step - loss: 1.2747 - accuracy: 0.5466 - val_loss: 1.5521 - val_accuracy: 0.4740\n",
      "Epoch 12/100\n",
      "1407/1407 [==============================] - 29s 21ms/step - loss: 381.2714 - accuracy: 0.5165 - val_loss: 1.5978 - val_accuracy: 0.4552\n",
      "Epoch 13/100\n",
      "1407/1407 [==============================] - 21s 15ms/step - loss: 1.2926 - accuracy: 0.5358 - val_loss: 1.6066 - val_accuracy: 0.4648\n",
      "Epoch 14/100\n",
      "1407/1407 [==============================] - 19s 14ms/step - loss: 1.2516 - accuracy: 0.5533 - val_loss: 1.5436 - val_accuracy: 0.4740\n",
      "Epoch 15/100\n",
      "1407/1407 [==============================] - 19s 14ms/step - loss: 1.2270 - accuracy: 0.5639 - val_loss: 1.5620 - val_accuracy: 0.4808\n",
      "Epoch 16/100\n",
      "1407/1407 [==============================] - 19s 14ms/step - loss: 1.2142 - accuracy: 0.5684 - val_loss: 1.5383 - val_accuracy: 0.4820\n",
      "Epoch 17/100\n",
      "1407/1407 [==============================] - 19s 14ms/step - loss: 1.1935 - accuracy: 0.5747 - val_loss: 1.5578 - val_accuracy: 0.4762\n",
      "Epoch 18/100\n",
      "1407/1407 [==============================] - 26s 18ms/step - loss: 1.1777 - accuracy: 0.5805 - val_loss: 1.5610 - val_accuracy: 0.4884\n",
      "Epoch 19/100\n",
      "1407/1407 [==============================] - 25s 18ms/step - loss: 1.1677 - accuracy: 0.5838 - val_loss: 1.5723 - val_accuracy: 0.4740\n",
      "Epoch 20/100\n",
      "1407/1407 [==============================] - 19s 14ms/step - loss: 1.1539 - accuracy: 0.5864 - val_loss: 1.5775 - val_accuracy: 0.4838\n",
      "Epoch 21/100\n",
      "1407/1407 [==============================] - 19s 14ms/step - loss: 1.1408 - accuracy: 0.5938 - val_loss: 1.6080 - val_accuracy: 0.4782\n",
      "Epoch 22/100\n",
      "1407/1407 [==============================] - 19s 14ms/step - loss: 1.1280 - accuracy: 0.5988 - val_loss: 1.5667 - val_accuracy: 0.4872\n",
      "Epoch 23/100\n",
      "1407/1407 [==============================] - 19s 14ms/step - loss: 1.1190 - accuracy: 0.6027 - val_loss: 1.5695 - val_accuracy: 0.4898\n",
      "Epoch 24/100\n",
      "1407/1407 [==============================] - 20s 14ms/step - loss: 1.1092 - accuracy: 0.6063 - val_loss: 1.5904 - val_accuracy: 0.4882\n",
      "Epoch 25/100\n",
      "1407/1407 [==============================] - 29s 21ms/step - loss: 1.0981 - accuracy: 0.6101 - val_loss: 1.6142 - val_accuracy: 0.4892\n",
      "Epoch 26/100\n",
      "1407/1407 [==============================] - 20s 14ms/step - loss: 1.0883 - accuracy: 0.6134 - val_loss: 1.6028 - val_accuracy: 0.4808\n"
     ]
    },
    {
     "data": {
      "text/plain": [
       "<tensorflow.python.keras.callbacks.History at 0x1f7a0049448>"
      ]
     },
     "execution_count": 70,
     "metadata": {},
     "output_type": "execute_result"
    }
   ],
   "source": [
    "X_means = X_train.mean(axis = 0)\n",
    "X_stds = X_train.std(axis = 0)\n",
    "X_train_scaled = (X_train - X_means) / X_stds\n",
    "X_valid_scaled = (X_valid - X_means) / X_stds\n",
    "X_test_scaled = (X_test - X_means) / X_stds\n",
    "model.fit(X_train_scaled, y_train, epochs=100, validation_data=(X_valid_scaled, y_valid),\n",
    "          callbacks=callbacks)"
   ]
  },
  {
   "cell_type": "code",
   "execution_count": 77,
   "id": "informed-speaker",
   "metadata": {},
   "outputs": [
    {
     "name": "stdout",
     "output_type": "stream",
     "text": [
      "157/157 [==============================] - 3s 3ms/step - loss: 1.5269 - accuracy: 0.4608\n"
     ]
    },
    {
     "data": {
      "text/plain": [
       "[1.526917815208435, 0.4607999920845032]"
      ]
     },
     "execution_count": 77,
     "metadata": {},
     "output_type": "execute_result"
    }
   ],
   "source": [
    "model = keras.models.load_model(\"my_cifar10_alpha_dropout_model.h5\")\n",
    "model.evaluate(X_valid_scaled, y_valid)"
   ]
  },
  {
   "cell_type": "markdown",
   "id": "meaning-literacy",
   "metadata": {},
   "source": [
    "*With Monte Carlo Dropout*"
   ]
  },
  {
   "cell_type": "code",
   "execution_count": 84,
   "id": "german-accommodation",
   "metadata": {},
   "outputs": [],
   "source": [
    "class MCAlphaDropout(keras.layers.AlphaDropout):\n",
    "    def call(self, inputs):\n",
    "        return super().call(inputs, training=True)"
   ]
  },
  {
   "cell_type": "code",
   "execution_count": 85,
   "id": "finnish-health",
   "metadata": {},
   "outputs": [],
   "source": [
    "mc_model = keras.models.Sequential([\n",
    "    MCAlphaDropout(layer.rate) if isinstance(layer, keras.layers.AlphaDropout) else layer\n",
    "    for layer in model.layers\n",
    "])"
   ]
  },
  {
   "cell_type": "code",
   "execution_count": 86,
   "id": "sunrise-water",
   "metadata": {},
   "outputs": [],
   "source": [
    "def mc_dropout_predict_probas(mc_model, X, n_samples=10):\n",
    "    Y_probas = [mc_model.predict(X) for sample in range(n_samples)]\n",
    "    return np.mean(Y_probas, axis=0)\n",
    "\n",
    "def mc_dropout_predict_classes(mc_model, X, n_samples=10):\n",
    "    Y_probas = mc_dropout_predict_probas(mc_model, X, n_samples)\n",
    "    return np.argmax(Y_probas, axis=1)"
   ]
  },
  {
   "cell_type": "code",
   "execution_count": 87,
   "id": "developing-neighborhood",
   "metadata": {},
   "outputs": [
    {
     "data": {
      "text/plain": [
       "0.4618"
      ]
     },
     "execution_count": 87,
     "metadata": {},
     "output_type": "execute_result"
    }
   ],
   "source": [
    "keras.backend.clear_session()\n",
    "tf.random.set_seed(42)\n",
    "np.random.seed(42)\n",
    "\n",
    "y_pred = mc_dropout_predict_classes(mc_model, X_valid_scaled)\n",
    "accuracy = np.mean(y_pred == y_valid[:, 0])\n",
    "accuracy"
   ]
  },
  {
   "cell_type": "code",
   "execution_count": 88,
   "id": "bound-oklahoma",
   "metadata": {},
   "outputs": [],
   "source": [
    "keras.backend.clear_session()\n",
    "tf.random.set_seed(42)\n",
    "np.random.seed(42)"
   ]
  },
  {
   "cell_type": "markdown",
   "id": "worst-algorithm",
   "metadata": {},
   "source": [
    "*With 1 cycle Scheduling*"
   ]
  },
  {
   "cell_type": "code",
   "execution_count": 91,
   "id": "adapted-coverage",
   "metadata": {},
   "outputs": [],
   "source": [
    "model = keras.models.Sequential()\n",
    "model.add(keras.layers.Flatten(input_shape = [32,32,3]))\n",
    "for _ in range(20):\n",
    "    model.add(keras.layers.Dense(100, activation='selu',kernel_initializer = 'lecun_normal'))\n",
    "model.add(keras.layers.AlphaDropout(0.1))\n",
    "model.add(keras.layers.Dense(10, activation='softmax'))\n",
    "\n",
    "optimizer = keras.optimizers.SGD(learning_rate=1e-3)\n",
    "model.compile(optimizer=optimizer,\n",
    "             loss = 'sparse_categorical_crossentropy',\n",
    "             metrics = ['accuracy'])"
   ]
  },
  {
   "cell_type": "code",
   "execution_count": 97,
   "id": "convinced-reference",
   "metadata": {},
   "outputs": [],
   "source": [
    "import math\n",
    "K = keras.backend\n",
    "class ExponentialLearningRate(keras.callbacks.Callback):\n",
    "    def __init__(self, factor):\n",
    "        self.factor = factor\n",
    "        self.rates = []\n",
    "        self.losses = []\n",
    "        \n",
    "    def on_batch_end(self, batch, logs):\n",
    "        self.rates.append(K.get_value(self.model.optimizer.lr))\n",
    "        self.losses.append(logs['loss'])\n",
    "        K.set_value(self.model.optimizer.lr,self.model.optimizer.lr * self.factor)\n",
    "        \n",
    "def find_learning_rate(model, X, y, epochs = 1, batch_size = 32, min_rate = 10**-5, max_rate = 10):\n",
    "    init_weights = model.get_weights()\n",
    "    iterations = math.ceil(len(X)/batch_size) * epochs\n",
    "    factor = np.exp(np.log(max_rate / min_rate)/iterations)\n",
    "    init_lr = K.get_value(model.optimizer.lr)\n",
    "    K.set_value(model.optimizer.lr, min_rate)\n",
    "    exp_lr = ExponentialLearningRate(factor)\n",
    "    history = model.fit(X, y, epochs = epochs, batch_size=batch_size, callbacks=[exp_lr])\n",
    "    K.set_value(model.optimizer.lr,init_lr)\n",
    "    model.set_weights(init_weights)\n",
    "    return exp_lr.rates, exp_lr.losses\n",
    "\n",
    "def plot_lr_vs_loss(rates, losses):\n",
    "    plt.plot(rates,losses)\n",
    "    plt.gca().set_xscale('log')\n",
    "    plt.hlines(min(losses), min(rates), max(rates))\n",
    "    plt.axis([min(rates), max(rates), min(losses), (losses[0] + min(losses)) / 2])\n",
    "    plt.xlabel('Learning rate')\n",
    "    plt.ylabel('Loss')"
   ]
  },
  {
   "cell_type": "code",
   "execution_count": 98,
   "id": "increased-jacket",
   "metadata": {},
   "outputs": [
    {
     "name": "stdout",
     "output_type": "stream",
     "text": [
      "352/352 [==============================] - 12s 19ms/step - loss: nan - accuracy: 0.1423\n"
     ]
    },
    {
     "data": {
      "text/plain": [
       "(9.999999747378752e-06,\n",
       " 9.615227699279785,\n",
       " 2.6580049991607666,\n",
       " 3.9490813868386407)"
      ]
     },
     "execution_count": 98,
     "metadata": {},
     "output_type": "execute_result"
    },
    {
     "data": {
      "image/png": "[encoded data removed]",
      "text/plain": [
       "<Figure size 432x288 with 1 Axes>"
      ]
     },
     "metadata": {
      "needs_background": "light"
     },
     "output_type": "display_data"
    }
   ],
   "source": [
    "batch_size = 128\n",
    "rates, losses = find_learning_rate(model, X_train_scaled, y_train, epochs = 1, batch_size=batch_size)\n",
    "plot_lr_vs_loss(rates, losses)\n",
    "plt.axis([min(rates), max(rates), min(losses), (losses[0] + min(losses))/1.4])"
   ]
  },
  {
   "cell_type": "code",
   "execution_count": 99,
   "id": "thorough-registrar",
   "metadata": {},
   "outputs": [],
   "source": [
    "keras.backend.clear_session()\n",
    "tf.random.set_seed(42)\n",
    "np.random.seed(42)"
   ]
  },
  {
   "cell_type": "code",
   "execution_count": 101,
   "id": "reliable-orange",
   "metadata": {},
   "outputs": [],
   "source": [
    "model = keras.models.Sequential()\n",
    "model.add(keras.layers.Flatten(input_shape=[32,32,3]))\n",
    "for _ in range(20):\n",
    "    model.add(keras.layers.Dense(100, activation='selu',kernel_initializer = 'lecun_normal'))\n",
    "model.add(keras.layers.AlphaDropout(0.1))\n",
    "model.add(keras.layers.Dense(10, activation = 'softmax'))\n",
    "\n",
    "optimizer = keras.optimizers.SGD(learning_rate=1e-2)\n",
    "model.compile(optimizer = optimizer,\n",
    "             loss = 'sparse_categorical_crossentropy',\n",
    "             metrics = ['accuracy'])"
   ]
  },
  {
   "cell_type": "code",
   "execution_count": 102,
   "id": "aggressive-development",
   "metadata": {},
   "outputs": [],
   "source": [
    "class OneCycleScheduler(keras.callbacks.Callback):\n",
    "    def __init__(self, iterations, max_rate, start_rate=None,\n",
    "                 last_iterations=None, last_rate=None):\n",
    "        self.iterations = iterations\n",
    "        self.max_rate = max_rate\n",
    "        self.start_rate = start_rate or max_rate / 10\n",
    "        self.last_iterations = last_iterations or iterations // 10 + 1\n",
    "        self.half_iteration = (iterations - self.last_iterations) // 2\n",
    "        self.last_rate = last_rate or self.start_rate / 1000\n",
    "        self.iteration = 0\n",
    "    def _interpolate(self, iter1, iter2, rate1, rate2):\n",
    "        return ((rate2 - rate1) * (self.iteration - iter1)\n",
    "                / (iter2 - iter1) + rate1)\n",
    "    def on_batch_begin(self, batch, logs):\n",
    "        if self.iteration < self.half_iteration:\n",
    "            rate = self._interpolate(0, self.half_iteration, self.start_rate, self.max_rate)\n",
    "        elif self.iteration < 2 * self.half_iteration:\n",
    "            rate = self._interpolate(self.half_iteration, 2 * self.half_iteration,\n",
    "                                     self.max_rate, self.start_rate)\n",
    "        else:\n",
    "            rate = self._interpolate(2 * self.half_iteration, self.iterations,\n",
    "                                     self.start_rate, self.last_rate)\n",
    "        self.iteration += 1\n",
    "        K.set_value(self.model.optimizer.lr, rate)"
   ]
  },
  {
   "cell_type": "code",
   "execution_count": 103,
   "id": "tribal-drama",
   "metadata": {},
   "outputs": [
    {
     "name": "stdout",
     "output_type": "stream",
     "text": [
      "Epoch 1/15\n",
      "352/352 [==============================] - 16s 31ms/step - loss: 2.0439 - accuracy: 0.2918 - val_loss: 1.7744 - val_accuracy: 0.3786\n",
      "Epoch 2/15\n",
      "352/352 [==============================] - 10s 28ms/step - loss: 1.7483 - accuracy: 0.3791 - val_loss: 1.6994 - val_accuracy: 0.4004\n",
      "Epoch 3/15\n",
      "352/352 [==============================] - 10s 28ms/step - loss: 1.6185 - accuracy: 0.4260 - val_loss: 1.6647 - val_accuracy: 0.4112\n",
      "Epoch 4/15\n",
      "352/352 [==============================] - 10s 27ms/step - loss: 1.5492 - accuracy: 0.4490 - val_loss: 1.7295 - val_accuracy: 0.4124\n",
      "Epoch 5/15\n",
      "352/352 [==============================] - 10s 28ms/step - loss: 1.5000 - accuracy: 0.4678 - val_loss: 1.6196 - val_accuracy: 0.4308\n",
      "Epoch 6/15\n",
      "352/352 [==============================] - 10s 27ms/step - loss: 1.4581 - accuracy: 0.4829 - val_loss: 1.6732 - val_accuracy: 0.4446\n",
      "Epoch 7/15\n",
      "352/352 [==============================] - 10s 27ms/step - loss: 1.4211 - accuracy: 0.4955 - val_loss: 1.6135 - val_accuracy: 0.4490\n",
      "Epoch 8/15\n",
      "352/352 [==============================] - 10s 28ms/step - loss: 1.3568 - accuracy: 0.5187 - val_loss: 1.6728 - val_accuracy: 0.4442\n",
      "Epoch 9/15\n",
      "352/352 [==============================] - 10s 30ms/step - loss: 1.2788 - accuracy: 0.5481 - val_loss: 1.6004 - val_accuracy: 0.4718\n",
      "Epoch 10/15\n",
      "352/352 [==============================] - 10s 29ms/step - loss: 1.2052 - accuracy: 0.5722 - val_loss: 1.4997 - val_accuracy: 0.5008\n",
      "Epoch 11/15\n",
      "352/352 [==============================] - 10s 29ms/step - loss: 1.1364 - accuracy: 0.5954 - val_loss: 1.4975 - val_accuracy: 0.5018\n",
      "Epoch 12/15\n",
      "352/352 [==============================] - 11s 31ms/step - loss: 1.0652 - accuracy: 0.6201 - val_loss: 1.5623 - val_accuracy: 0.4990\n",
      "Epoch 13/15\n",
      "352/352 [==============================] - 11s 31ms/step - loss: 0.9939 - accuracy: 0.6451 - val_loss: 1.5675 - val_accuracy: 0.5052\n",
      "Epoch 14/15\n",
      "352/352 [==============================] - 10s 29ms/step - loss: 0.9281 - accuracy: 0.6681 - val_loss: 1.6148 - val_accuracy: 0.5058\n",
      "Epoch 15/15\n",
      "352/352 [==============================] - 10s 28ms/step - loss: 0.8861 - accuracy: 0.6851 - val_loss: 1.6296 - val_accuracy: 0.5130\n"
     ]
    }
   ],
   "source": [
    "n_epochs = 15\n",
    "onecycle = OneCycleScheduler(math.ceil(len(X_train_scaled)/batch_size) * n_epochs, max_rate=0.05 )\n",
    "history = model.fit(X_train_scaled, y_train, epochs=n_epochs, batch_size=batch_size,\n",
    "                    validation_data=(X_valid_scaled, y_valid),callbacks=[onecycle])"
   ]
  },
  {
   "cell_type": "code",
   "execution_count": null,
   "id": "material-monkey",
   "metadata": {},
   "outputs": [],
   "source": []
  }
 ],
 "metadata": {
  "kernelspec": {
   "display_name": "Python 3",
   "language": "python",
   "name": "python3"
  },
  "language_info": {
   "codemirror_mode": {
    "name": "ipython",
    "version": 3
   },
   "file_extension": ".py",
   "mimetype": "text/x-python",
   "name": "python",
   "nbconvert_exporter": "python",
   "pygments_lexer": "ipython3",
   "version": "3.7.10"
  }
 },
 "nbformat": 4,
 "nbformat_minor": 5
}
